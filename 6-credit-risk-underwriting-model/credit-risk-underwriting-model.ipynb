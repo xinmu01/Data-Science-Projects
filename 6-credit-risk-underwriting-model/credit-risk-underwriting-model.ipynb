{
 "cells": [
  {
   "cell_type": "markdown",
   "metadata": {},
   "source": [
    "# Credit Risk Underwriting Model"
   ]
  },
  {
   "cell_type": "markdown",
   "metadata": {},
   "source": [
    "\n",
    "In this project, I build a logistic regression model to explain why customers default (“Default”). The purpose of this project is not just to build a robust model, but also to explain – in non-mathematical terms – the intuition behind it. \n",
    "\n",
    "### Part 1. Key Summary: \n",
    "\n",
    "#### 1. How I chose the variables that go into the model?\n",
    "\n",
    "I used the recursive feature elimination Variable Selection technique and cross validation to select the variables. Basically, the process starts with the full model, and then delete 1 variable at once, and using cross validation to check the model performance (accuracy) when we deleting the variables. The best model is selected when the accurcy is maximum. \n",
    "\n",
    "#### 2. The relationship between each each variable and the model outcome?\n",
    "\n",
    "There are 7 variables selected in the final logistic regression model. 'Duration','Amount','InstallmentRatePercentage','Telephone' and 'ForeignWorker' have positive coefficients. This means the increase of these five factor values can increase the probabilty of defaults. 'Age' and 'NumberExistingCredits' have negative coefficients. This means the increase of these two facotr values can decrease the probability of defaults. The relationship between each variable and the model outcome makes sense.\n",
    "\n",
    "#### 3. Is the model accurate?\n",
    "\n",
    "My model has good performance on non-defaulters. However, my model cannot predict defaulters very well. Since we care more about predicting defaulters correctly, this model is not satisfactory. One main reason for it is the available variables are not enough to account for the default behaviors. Some loan attributes, such as FICO score, Debt-to-Income, and some macroeconomical variables, such as Unemployment Rate, Housing Price Index and Disposable Income Index should be considered when building model."
   ]
  },
  {
   "cell_type": "markdown",
   "metadata": {},
   "source": [
    "### Part 2. Modeling and Analysis "
   ]
  },
  {
   "cell_type": "markdown",
   "metadata": {},
   "source": [
    "#### Step 0 - Import Libries"
   ]
  },
  {
   "cell_type": "code",
   "execution_count": 1,
   "metadata": {},
   "outputs": [],
   "source": [
    "%matplotlib inline\n",
    "import pandas as pd\n",
    "import numpy as np\n",
    "import matplotlib.pyplot as plt\n",
    "import statsmodels.api as sm\n",
    "from sklearn.model_selection import train_test_split\n",
    "from sklearn.feature_selection import RFECV\n",
    "from sklearn.linear_model import LogisticRegressionCV\n",
    "from sklearn.linear_model import LogisticRegression\n",
    "from sklearn.metrics import roc_auc_score"
   ]
  },
  {
   "cell_type": "markdown",
   "metadata": {},
   "source": [
    "#### Step 1 - Load & Explore Data "
   ]
  },
  {
   "cell_type": "markdown",
   "metadata": {},
   "source": [
    "(1) Load data"
   ]
  },
  {
   "cell_type": "code",
   "execution_count": 3,
   "metadata": {},
   "outputs": [
    {
     "data": {
      "text/html": [
       "<div>\n",
       "<style scoped>\n",
       "    .dataframe tbody tr th:only-of-type {\n",
       "        vertical-align: middle;\n",
       "    }\n",
       "\n",
       "    .dataframe tbody tr th {\n",
       "        vertical-align: top;\n",
       "    }\n",
       "\n",
       "    .dataframe thead th {\n",
       "        text-align: right;\n",
       "    }\n",
       "</style>\n",
       "<table border=\"1\" class=\"dataframe\">\n",
       "  <thead>\n",
       "    <tr style=\"text-align: right;\">\n",
       "      <th></th>\n",
       "      <th>Duration</th>\n",
       "      <th>Amount</th>\n",
       "      <th>InstallmentRatePercentage</th>\n",
       "      <th>ResidenceDuration</th>\n",
       "      <th>Age</th>\n",
       "      <th>NumberExistingCredits</th>\n",
       "      <th>NumberPeopleMaintenance</th>\n",
       "      <th>Telephone</th>\n",
       "      <th>ForeignWorker</th>\n",
       "      <th>Default</th>\n",
       "    </tr>\n",
       "  </thead>\n",
       "  <tbody>\n",
       "    <tr>\n",
       "      <th>0</th>\n",
       "      <td>6</td>\n",
       "      <td>1169</td>\n",
       "      <td>4</td>\n",
       "      <td>4</td>\n",
       "      <td>67</td>\n",
       "      <td>2</td>\n",
       "      <td>1</td>\n",
       "      <td>0</td>\n",
       "      <td>1</td>\n",
       "      <td>0</td>\n",
       "    </tr>\n",
       "    <tr>\n",
       "      <th>1</th>\n",
       "      <td>48</td>\n",
       "      <td>5951</td>\n",
       "      <td>2</td>\n",
       "      <td>2</td>\n",
       "      <td>22</td>\n",
       "      <td>1</td>\n",
       "      <td>1</td>\n",
       "      <td>1</td>\n",
       "      <td>1</td>\n",
       "      <td>1</td>\n",
       "    </tr>\n",
       "    <tr>\n",
       "      <th>2</th>\n",
       "      <td>12</td>\n",
       "      <td>2096</td>\n",
       "      <td>2</td>\n",
       "      <td>3</td>\n",
       "      <td>49</td>\n",
       "      <td>1</td>\n",
       "      <td>2</td>\n",
       "      <td>1</td>\n",
       "      <td>1</td>\n",
       "      <td>0</td>\n",
       "    </tr>\n",
       "    <tr>\n",
       "      <th>3</th>\n",
       "      <td>42</td>\n",
       "      <td>7882</td>\n",
       "      <td>2</td>\n",
       "      <td>4</td>\n",
       "      <td>45</td>\n",
       "      <td>1</td>\n",
       "      <td>2</td>\n",
       "      <td>1</td>\n",
       "      <td>1</td>\n",
       "      <td>0</td>\n",
       "    </tr>\n",
       "    <tr>\n",
       "      <th>4</th>\n",
       "      <td>24</td>\n",
       "      <td>4870</td>\n",
       "      <td>3</td>\n",
       "      <td>4</td>\n",
       "      <td>53</td>\n",
       "      <td>2</td>\n",
       "      <td>2</td>\n",
       "      <td>1</td>\n",
       "      <td>1</td>\n",
       "      <td>1</td>\n",
       "    </tr>\n",
       "  </tbody>\n",
       "</table>\n",
       "</div>"
      ],
      "text/plain": [
       "   Duration  Amount  InstallmentRatePercentage  ResidenceDuration  Age  \\\n",
       "0         6    1169                          4                  4   67   \n",
       "1        48    5951                          2                  2   22   \n",
       "2        12    2096                          2                  3   49   \n",
       "3        42    7882                          2                  4   45   \n",
       "4        24    4870                          3                  4   53   \n",
       "\n",
       "   NumberExistingCredits  NumberPeopleMaintenance  Telephone  ForeignWorker  \\\n",
       "0                      2                        1          0              1   \n",
       "1                      1                        1          1              1   \n",
       "2                      1                        2          1              1   \n",
       "3                      1                        2          1              1   \n",
       "4                      2                        2          1              1   \n",
       "\n",
       "   Default  \n",
       "0        0  \n",
       "1        1  \n",
       "2        0  \n",
       "3        0  \n",
       "4        1  "
      ]
     },
     "metadata": {},
     "output_type": "display_data"
    },
    {
     "data": {
      "text/html": [
       "<div>\n",
       "<style scoped>\n",
       "    .dataframe tbody tr th:only-of-type {\n",
       "        vertical-align: middle;\n",
       "    }\n",
       "\n",
       "    .dataframe tbody tr th {\n",
       "        vertical-align: top;\n",
       "    }\n",
       "\n",
       "    .dataframe thead th {\n",
       "        text-align: right;\n",
       "    }\n",
       "</style>\n",
       "<table border=\"1\" class=\"dataframe\">\n",
       "  <thead>\n",
       "    <tr style=\"text-align: right;\">\n",
       "      <th></th>\n",
       "      <th>Duration</th>\n",
       "      <th>Amount</th>\n",
       "      <th>InstallmentRatePercentage</th>\n",
       "      <th>ResidenceDuration</th>\n",
       "      <th>Age</th>\n",
       "      <th>NumberExistingCredits</th>\n",
       "      <th>NumberPeopleMaintenance</th>\n",
       "      <th>Telephone</th>\n",
       "      <th>ForeignWorker</th>\n",
       "      <th>Default</th>\n",
       "    </tr>\n",
       "  </thead>\n",
       "  <tbody>\n",
       "    <tr>\n",
       "      <th>995</th>\n",
       "      <td>12</td>\n",
       "      <td>1736</td>\n",
       "      <td>3</td>\n",
       "      <td>4</td>\n",
       "      <td>31</td>\n",
       "      <td>1</td>\n",
       "      <td>1</td>\n",
       "      <td>1</td>\n",
       "      <td>1</td>\n",
       "      <td>0</td>\n",
       "    </tr>\n",
       "    <tr>\n",
       "      <th>996</th>\n",
       "      <td>30</td>\n",
       "      <td>3857</td>\n",
       "      <td>4</td>\n",
       "      <td>4</td>\n",
       "      <td>40</td>\n",
       "      <td>1</td>\n",
       "      <td>1</td>\n",
       "      <td>0</td>\n",
       "      <td>1</td>\n",
       "      <td>0</td>\n",
       "    </tr>\n",
       "    <tr>\n",
       "      <th>997</th>\n",
       "      <td>12</td>\n",
       "      <td>804</td>\n",
       "      <td>4</td>\n",
       "      <td>4</td>\n",
       "      <td>38</td>\n",
       "      <td>1</td>\n",
       "      <td>1</td>\n",
       "      <td>1</td>\n",
       "      <td>1</td>\n",
       "      <td>0</td>\n",
       "    </tr>\n",
       "    <tr>\n",
       "      <th>998</th>\n",
       "      <td>45</td>\n",
       "      <td>1845</td>\n",
       "      <td>4</td>\n",
       "      <td>4</td>\n",
       "      <td>23</td>\n",
       "      <td>1</td>\n",
       "      <td>1</td>\n",
       "      <td>0</td>\n",
       "      <td>1</td>\n",
       "      <td>1</td>\n",
       "    </tr>\n",
       "    <tr>\n",
       "      <th>999</th>\n",
       "      <td>45</td>\n",
       "      <td>4576</td>\n",
       "      <td>3</td>\n",
       "      <td>4</td>\n",
       "      <td>27</td>\n",
       "      <td>1</td>\n",
       "      <td>1</td>\n",
       "      <td>1</td>\n",
       "      <td>1</td>\n",
       "      <td>0</td>\n",
       "    </tr>\n",
       "  </tbody>\n",
       "</table>\n",
       "</div>"
      ],
      "text/plain": [
       "     Duration  Amount  InstallmentRatePercentage  ResidenceDuration  Age  \\\n",
       "995        12    1736                          3                  4   31   \n",
       "996        30    3857                          4                  4   40   \n",
       "997        12     804                          4                  4   38   \n",
       "998        45    1845                          4                  4   23   \n",
       "999        45    4576                          3                  4   27   \n",
       "\n",
       "     NumberExistingCredits  NumberPeopleMaintenance  Telephone  ForeignWorker  \\\n",
       "995                      1                        1          1              1   \n",
       "996                      1                        1          0              1   \n",
       "997                      1                        1          1              1   \n",
       "998                      1                        1          0              1   \n",
       "999                      1                        1          1              1   \n",
       "\n",
       "     Default  \n",
       "995        0  \n",
       "996        0  \n",
       "997        0  \n",
       "998        1  \n",
       "999        0  "
      ]
     },
     "metadata": {},
     "output_type": "display_data"
    },
    {
     "name": "stdout",
     "output_type": "stream",
     "text": [
      "Data has been sucessfully read in as a DataFrame\n"
     ]
    }
   ],
   "source": [
    "# Load Data\n",
    "data = pd.read_excel('data/data.xlsx',index_col = None)\n",
    "display(data.head(5))\n",
    "display(data.tail(5))\n",
    "print('Data has been sucessfully read in as a DataFrame')"
   ]
  },
  {
   "cell_type": "markdown",
   "metadata": {},
   "source": [
    "(2) Check dimension and index of total dataset"
   ]
  },
  {
   "cell_type": "code",
   "execution_count": 4,
   "metadata": {},
   "outputs": [
    {
     "name": "stdout",
     "output_type": "stream",
     "text": [
      "Shape of data: (1000, 10).\n",
      "\n",
      "Row Index: RangeIndex(start=0, stop=1000, step=1).\n",
      "\n",
      "Columns Name: Index(['Duration', 'Amount', 'InstallmentRatePercentage', 'ResidenceDuration',\n",
      "       'Age', 'NumberExistingCredits', 'NumberPeopleMaintenance', 'Telephone',\n",
      "       'ForeignWorker', 'Default'],\n",
      "      dtype='object').\n"
     ]
    }
   ],
   "source": [
    "print('Shape of data: {}.'.format(data.shape))\n",
    "print()\n",
    "print('Row Index: {}.'.format(data.index))\n",
    "print()\n",
    "print('Columns Name: {}.'.format(data.columns))"
   ]
  },
  {
   "cell_type": "markdown",
   "metadata": {},
   "source": [
    "(3) Check datatype of each column"
   ]
  },
  {
   "cell_type": "code",
   "execution_count": 5,
   "metadata": {},
   "outputs": [
    {
     "data": {
      "text/plain": [
       "Duration                     int64\n",
       "Amount                       int64\n",
       "InstallmentRatePercentage    int64\n",
       "ResidenceDuration            int64\n",
       "Age                          int64\n",
       "NumberExistingCredits        int64\n",
       "NumberPeopleMaintenance      int64\n",
       "Telephone                    int64\n",
       "ForeignWorker                int64\n",
       "Default                      int64\n",
       "dtype: object"
      ]
     },
     "metadata": {},
     "output_type": "display_data"
    }
   ],
   "source": [
    "display(data.dtypes)"
   ]
  },
  {
   "cell_type": "markdown",
   "metadata": {},
   "source": [
    "***Summary:*** \n",
    "\n",
    "All variables have integer data type."
   ]
  },
  {
   "cell_type": "markdown",
   "metadata": {},
   "source": [
    "(4) Check whether there are any missing values in the total dataset"
   ]
  },
  {
   "cell_type": "code",
   "execution_count": 6,
   "metadata": {},
   "outputs": [
    {
     "data": {
      "text/plain": [
       "Duration                     False\n",
       "Amount                       False\n",
       "InstallmentRatePercentage    False\n",
       "ResidenceDuration            False\n",
       "Age                          False\n",
       "NumberExistingCredits        False\n",
       "NumberPeopleMaintenance      False\n",
       "Telephone                    False\n",
       "ForeignWorker                False\n",
       "Default                      False\n",
       "dtype: bool"
      ]
     },
     "metadata": {},
     "output_type": "display_data"
    }
   ],
   "source": [
    "display(data.isnull().any())"
   ]
  },
  {
   "cell_type": "markdown",
   "metadata": {},
   "source": [
    "***Summary:***  There are no missing values in dataset."
   ]
  },
  {
   "cell_type": "markdown",
   "metadata": {},
   "source": [
    "###### So far, we have a big picture of the total dataset, the next we need to explore each vairables.\n",
    "\n",
    "###### (1) Explore Continuous Variables"
   ]
  },
  {
   "cell_type": "code",
   "execution_count": 7,
   "metadata": {},
   "outputs": [
    {
     "data": {
      "text/html": [
       "<div>\n",
       "<style scoped>\n",
       "    .dataframe tbody tr th:only-of-type {\n",
       "        vertical-align: middle;\n",
       "    }\n",
       "\n",
       "    .dataframe tbody tr th {\n",
       "        vertical-align: top;\n",
       "    }\n",
       "\n",
       "    .dataframe thead th {\n",
       "        text-align: right;\n",
       "    }\n",
       "</style>\n",
       "<table border=\"1\" class=\"dataframe\">\n",
       "  <thead>\n",
       "    <tr style=\"text-align: right;\">\n",
       "      <th></th>\n",
       "      <th>Duration</th>\n",
       "      <th>Amount</th>\n",
       "      <th>Age</th>\n",
       "    </tr>\n",
       "  </thead>\n",
       "  <tbody>\n",
       "    <tr>\n",
       "      <th>count</th>\n",
       "      <td>1000.000000</td>\n",
       "      <td>1000.000000</td>\n",
       "      <td>1000.000000</td>\n",
       "    </tr>\n",
       "    <tr>\n",
       "      <th>mean</th>\n",
       "      <td>20.903000</td>\n",
       "      <td>3271.258000</td>\n",
       "      <td>35.546000</td>\n",
       "    </tr>\n",
       "    <tr>\n",
       "      <th>std</th>\n",
       "      <td>12.058814</td>\n",
       "      <td>2822.736876</td>\n",
       "      <td>11.375469</td>\n",
       "    </tr>\n",
       "    <tr>\n",
       "      <th>min</th>\n",
       "      <td>4.000000</td>\n",
       "      <td>250.000000</td>\n",
       "      <td>19.000000</td>\n",
       "    </tr>\n",
       "    <tr>\n",
       "      <th>25%</th>\n",
       "      <td>12.000000</td>\n",
       "      <td>1365.500000</td>\n",
       "      <td>27.000000</td>\n",
       "    </tr>\n",
       "    <tr>\n",
       "      <th>50%</th>\n",
       "      <td>18.000000</td>\n",
       "      <td>2319.500000</td>\n",
       "      <td>33.000000</td>\n",
       "    </tr>\n",
       "    <tr>\n",
       "      <th>75%</th>\n",
       "      <td>24.000000</td>\n",
       "      <td>3972.250000</td>\n",
       "      <td>42.000000</td>\n",
       "    </tr>\n",
       "    <tr>\n",
       "      <th>max</th>\n",
       "      <td>72.000000</td>\n",
       "      <td>18424.000000</td>\n",
       "      <td>75.000000</td>\n",
       "    </tr>\n",
       "  </tbody>\n",
       "</table>\n",
       "</div>"
      ],
      "text/plain": [
       "          Duration        Amount          Age\n",
       "count  1000.000000   1000.000000  1000.000000\n",
       "mean     20.903000   3271.258000    35.546000\n",
       "std      12.058814   2822.736876    11.375469\n",
       "min       4.000000    250.000000    19.000000\n",
       "25%      12.000000   1365.500000    27.000000\n",
       "50%      18.000000   2319.500000    33.000000\n",
       "75%      24.000000   3972.250000    42.000000\n",
       "max      72.000000  18424.000000    75.000000"
      ]
     },
     "execution_count": 7,
     "metadata": {},
     "output_type": "execute_result"
    }
   ],
   "source": [
    "data[['Duration','Amount','Age']].describe()"
   ]
  },
  {
   "cell_type": "markdown",
   "metadata": {},
   "source": [
    "***Summary:***  The maximum, minimum and mean of these 3 continuous variables make sense.\n",
    "\n",
    "The next, check the distribution of each continuous variable."
   ]
  },
  {
   "cell_type": "code",
   "execution_count": 8,
   "metadata": {},
   "outputs": [],
   "source": [
    "def histogram_plot(var_name):\n",
    "    plt.hist(data[var_name])\n",
    "    plt.xlabel(var_name)\n",
    "    plt.ylabel('Counts')\n",
    "    plt.title(var_name + ' Distribution')\n",
    "    plt.show()"
   ]
  },
  {
   "cell_type": "code",
   "execution_count": 9,
   "metadata": {},
   "outputs": [
    {
     "data": {
      "image/png": "[encoded data removed]",
      "text/plain": [
       "<Figure size 432x288 with 1 Axes>"
      ]
     },
     "metadata": {
      "needs_background": "light"
     },
     "output_type": "display_data"
    },
    {
     "data": {
      "image/png": "[encoded data removed]",
      "text/plain": [
       "<Figure size 432x288 with 1 Axes>"
      ]
     },
     "metadata": {
      "needs_background": "light"
     },
     "output_type": "display_data"
    },
    {
     "data": {
      "image/png": "[encoded data removed]",
      "text/plain": [
       "<Figure size 432x288 with 1 Axes>"
      ]
     },
     "metadata": {
      "needs_background": "light"
     },
     "output_type": "display_data"
    }
   ],
   "source": [
    "histogram_plot('Duration')\n",
    "histogram_plot('Amount')\n",
    "histogram_plot('Age')"
   ]
  },
  {
   "cell_type": "markdown",
   "metadata": {},
   "source": [
    "***Summary*** The distribution of each continuous variable makes sense."
   ]
  },
  {
   "cell_type": "markdown",
   "metadata": {},
   "source": [
    "##### (2) Explore Categorial Variables\n",
    "\n",
    "Checking the distribution of each categorial variables."
   ]
  },
  {
   "cell_type": "code",
   "execution_count": 10,
   "metadata": {},
   "outputs": [
    {
     "data": {
      "text/plain": [
       "InstallmentRatePercentage    {4: 476, 2: 231, 3: 157, 1: 136}\n",
       "ResidenceDuration            {4: 413, 2: 308, 3: 149, 1: 130}\n",
       "NumberExistingCredits           {1: 633, 2: 333, 3: 28, 4: 6}\n",
       "NumberPeopleMaintenance                      {1: 845, 2: 155}\n",
       "Telephone                                    {1: 596, 0: 404}\n",
       "ForeignWorker                                 {1: 963, 0: 37}\n",
       "Default                                      {0: 700, 1: 300}\n",
       "dtype: object"
      ]
     },
     "execution_count": 10,
     "metadata": {},
     "output_type": "execute_result"
    }
   ],
   "source": [
    "#Display Distribution \n",
    "data[['InstallmentRatePercentage','ResidenceDuration',\n",
    "      'NumberExistingCredits','NumberPeopleMaintenance',\n",
    "      'Telephone','ForeignWorker','Default']].apply(lambda col: col.value_counts().to_dict())"
   ]
  },
  {
   "cell_type": "markdown",
   "metadata": {},
   "source": [
    "***Summary:***\n",
    "\n",
    "(1) For 'InstallmentRatePercentage', 'ResidenceDuration', 'NumberExistingCredits' and 'NumberPeopleMaintenance', they are ordered categorial variables. The distribution makes sense.\n",
    "\n",
    "(2) For 'Telephone' and 'ForeignWorker', they are Yes or No levels. The 1 and 0 coding is aligned with One-Hot coding. This coding can be directly used in logistic regresson modeling.\n",
    "\n",
    "(3) 'Default' is the dependent variables. It is a little bit unbalanced, but it is acceptable."
   ]
  },
  {
   "cell_type": "markdown",
   "metadata": {},
   "source": [
    "#### Step 2 - Build Logistic Regression Model "
   ]
  },
  {
   "cell_type": "markdown",
   "metadata": {},
   "source": [
    "##### 1. Generate Training and Testing Dataset "
   ]
  },
  {
   "cell_type": "markdown",
   "metadata": {},
   "source": [
    "(1) Beforing doing modeling, checking the correlation between each independent varialbes. "
   ]
  },
  {
   "cell_type": "code",
   "execution_count": 11,
   "metadata": {},
   "outputs": [
    {
     "data": {
      "text/html": [
       "<div>\n",
       "<style scoped>\n",
       "    .dataframe tbody tr th:only-of-type {\n",
       "        vertical-align: middle;\n",
       "    }\n",
       "\n",
       "    .dataframe tbody tr th {\n",
       "        vertical-align: top;\n",
       "    }\n",
       "\n",
       "    .dataframe thead th {\n",
       "        text-align: right;\n",
       "    }\n",
       "</style>\n",
       "<table border=\"1\" class=\"dataframe\">\n",
       "  <thead>\n",
       "    <tr style=\"text-align: right;\">\n",
       "      <th></th>\n",
       "      <th>Duration</th>\n",
       "      <th>Amount</th>\n",
       "      <th>InstallmentRatePercentage</th>\n",
       "      <th>ResidenceDuration</th>\n",
       "      <th>Age</th>\n",
       "      <th>NumberExistingCredits</th>\n",
       "      <th>NumberPeopleMaintenance</th>\n",
       "      <th>Telephone</th>\n",
       "      <th>ForeignWorker</th>\n",
       "    </tr>\n",
       "  </thead>\n",
       "  <tbody>\n",
       "    <tr>\n",
       "      <th>Duration</th>\n",
       "      <td>1.000000</td>\n",
       "      <td>0.624984</td>\n",
       "      <td>0.074749</td>\n",
       "      <td>0.034067</td>\n",
       "      <td>-0.036136</td>\n",
       "      <td>-0.011284</td>\n",
       "      <td>-0.023834</td>\n",
       "      <td>-0.164718</td>\n",
       "      <td>0.138196</td>\n",
       "    </tr>\n",
       "    <tr>\n",
       "      <th>Amount</th>\n",
       "      <td>0.624984</td>\n",
       "      <td>1.000000</td>\n",
       "      <td>-0.271316</td>\n",
       "      <td>0.028926</td>\n",
       "      <td>0.032716</td>\n",
       "      <td>0.020795</td>\n",
       "      <td>0.017142</td>\n",
       "      <td>-0.276995</td>\n",
       "      <td>0.050050</td>\n",
       "    </tr>\n",
       "    <tr>\n",
       "      <th>InstallmentRatePercentage</th>\n",
       "      <td>0.074749</td>\n",
       "      <td>-0.271316</td>\n",
       "      <td>1.000000</td>\n",
       "      <td>0.049302</td>\n",
       "      <td>0.058266</td>\n",
       "      <td>0.021669</td>\n",
       "      <td>-0.071207</td>\n",
       "      <td>-0.014413</td>\n",
       "      <td>0.090024</td>\n",
       "    </tr>\n",
       "    <tr>\n",
       "      <th>ResidenceDuration</th>\n",
       "      <td>0.034067</td>\n",
       "      <td>0.028926</td>\n",
       "      <td>0.049302</td>\n",
       "      <td>1.000000</td>\n",
       "      <td>0.266419</td>\n",
       "      <td>0.089625</td>\n",
       "      <td>0.042643</td>\n",
       "      <td>-0.095359</td>\n",
       "      <td>0.054097</td>\n",
       "    </tr>\n",
       "    <tr>\n",
       "      <th>Age</th>\n",
       "      <td>-0.036136</td>\n",
       "      <td>0.032716</td>\n",
       "      <td>0.058266</td>\n",
       "      <td>0.266419</td>\n",
       "      <td>1.000000</td>\n",
       "      <td>0.149254</td>\n",
       "      <td>0.118201</td>\n",
       "      <td>-0.145259</td>\n",
       "      <td>0.006151</td>\n",
       "    </tr>\n",
       "    <tr>\n",
       "      <th>NumberExistingCredits</th>\n",
       "      <td>-0.011284</td>\n",
       "      <td>0.020795</td>\n",
       "      <td>0.021669</td>\n",
       "      <td>0.089625</td>\n",
       "      <td>0.149254</td>\n",
       "      <td>1.000000</td>\n",
       "      <td>0.109667</td>\n",
       "      <td>-0.065553</td>\n",
       "      <td>0.009717</td>\n",
       "    </tr>\n",
       "    <tr>\n",
       "      <th>NumberPeopleMaintenance</th>\n",
       "      <td>-0.023834</td>\n",
       "      <td>0.017142</td>\n",
       "      <td>-0.071207</td>\n",
       "      <td>0.042643</td>\n",
       "      <td>0.118201</td>\n",
       "      <td>0.109667</td>\n",
       "      <td>1.000000</td>\n",
       "      <td>0.014753</td>\n",
       "      <td>-0.077071</td>\n",
       "    </tr>\n",
       "    <tr>\n",
       "      <th>Telephone</th>\n",
       "      <td>-0.164718</td>\n",
       "      <td>-0.276995</td>\n",
       "      <td>-0.014413</td>\n",
       "      <td>-0.095359</td>\n",
       "      <td>-0.145259</td>\n",
       "      <td>-0.065553</td>\n",
       "      <td>0.014753</td>\n",
       "      <td>1.000000</td>\n",
       "      <td>-0.107401</td>\n",
       "    </tr>\n",
       "    <tr>\n",
       "      <th>ForeignWorker</th>\n",
       "      <td>0.138196</td>\n",
       "      <td>0.050050</td>\n",
       "      <td>0.090024</td>\n",
       "      <td>0.054097</td>\n",
       "      <td>0.006151</td>\n",
       "      <td>0.009717</td>\n",
       "      <td>-0.077071</td>\n",
       "      <td>-0.107401</td>\n",
       "      <td>1.000000</td>\n",
       "    </tr>\n",
       "  </tbody>\n",
       "</table>\n",
       "</div>"
      ],
      "text/plain": [
       "                           Duration    Amount  InstallmentRatePercentage  \\\n",
       "Duration                   1.000000  0.624984                   0.074749   \n",
       "Amount                     0.624984  1.000000                  -0.271316   \n",
       "InstallmentRatePercentage  0.074749 -0.271316                   1.000000   \n",
       "ResidenceDuration          0.034067  0.028926                   0.049302   \n",
       "Age                       -0.036136  0.032716                   0.058266   \n",
       "NumberExistingCredits     -0.011284  0.020795                   0.021669   \n",
       "NumberPeopleMaintenance   -0.023834  0.017142                  -0.071207   \n",
       "Telephone                 -0.164718 -0.276995                  -0.014413   \n",
       "ForeignWorker              0.138196  0.050050                   0.090024   \n",
       "\n",
       "                           ResidenceDuration       Age  NumberExistingCredits  \\\n",
       "Duration                            0.034067 -0.036136              -0.011284   \n",
       "Amount                              0.028926  0.032716               0.020795   \n",
       "InstallmentRatePercentage           0.049302  0.058266               0.021669   \n",
       "ResidenceDuration                   1.000000  0.266419               0.089625   \n",
       "Age                                 0.266419  1.000000               0.149254   \n",
       "NumberExistingCredits               0.089625  0.149254               1.000000   \n",
       "NumberPeopleMaintenance             0.042643  0.118201               0.109667   \n",
       "Telephone                          -0.095359 -0.145259              -0.065553   \n",
       "ForeignWorker                       0.054097  0.006151               0.009717   \n",
       "\n",
       "                           NumberPeopleMaintenance  Telephone  ForeignWorker  \n",
       "Duration                                 -0.023834  -0.164718       0.138196  \n",
       "Amount                                    0.017142  -0.276995       0.050050  \n",
       "InstallmentRatePercentage                -0.071207  -0.014413       0.090024  \n",
       "ResidenceDuration                         0.042643  -0.095359       0.054097  \n",
       "Age                                       0.118201  -0.145259       0.006151  \n",
       "NumberExistingCredits                     0.109667  -0.065553       0.009717  \n",
       "NumberPeopleMaintenance                   1.000000   0.014753      -0.077071  \n",
       "Telephone                                 0.014753   1.000000      -0.107401  \n",
       "ForeignWorker                            -0.077071  -0.107401       1.000000  "
      ]
     },
     "execution_count": 11,
     "metadata": {},
     "output_type": "execute_result"
    }
   ],
   "source": [
    "data[[col for col in data.columns if col != 'Default']].corr()"
   ]
  },
  {
   "cell_type": "markdown",
   "metadata": {},
   "source": [
    "***Summary:***  There is no significant correlation, except for 'Duration' and 'Amount'."
   ]
  },
  {
   "cell_type": "markdown",
   "metadata": {},
   "source": [
    "(2) Since 'Amount' value is so huge compare to other variaibles, it is a good idea to do normailzation on each variable. "
   ]
  },
  {
   "cell_type": "code",
   "execution_count": 12,
   "metadata": {},
   "outputs": [],
   "source": [
    "data_normalized = data.apply(lambda col : (col-col.min())/(col.max()-col.min()))"
   ]
  },
  {
   "cell_type": "markdown",
   "metadata": {},
   "source": [
    "(3) Generate training and testing dataset."
   ]
  },
  {
   "cell_type": "code",
   "execution_count": 15,
   "metadata": {},
   "outputs": [],
   "source": [
    "data_train, data_test = train_test_split(data_normalized, test_size = 0.2, random_state = 12345)"
   ]
  },
  {
   "cell_type": "code",
   "execution_count": 18,
   "metadata": {},
   "outputs": [],
   "source": [
    "x_columns = [col for col in data.columns if col != 'Default']\n",
    "data_train_x = data_train[x_columns]\n",
    "data_train_y = data_train['Default']\n",
    "data_test_x = data_test[x_columns]\n",
    "data_test_y = data_test['Default']"
   ]
  },
  {
   "cell_type": "markdown",
   "metadata": {},
   "source": [
    "##### 2. Build Benchmark Model"
   ]
  },
  {
   "cell_type": "markdown",
   "metadata": {},
   "source": [
    "(1) Using all Variables. This is a benchmark model."
   ]
  },
  {
   "cell_type": "code",
   "execution_count": 21,
   "metadata": {},
   "outputs": [
    {
     "data": {
      "text/plain": [
       "LogisticRegression(C=1000000000.0, class_weight=None, dual=False,\n",
       "          fit_intercept=True, intercept_scaling=1, max_iter=1000,\n",
       "          multi_class='warn', n_jobs=None, penalty='l2', random_state=None,\n",
       "          solver='lbfgs', tol=0.0001, verbose=0, warm_start=False)"
      ]
     },
     "execution_count": 21,
     "metadata": {},
     "output_type": "execute_result"
    }
   ],
   "source": [
    "clf_bm = LogisticRegression(C= float(1e9),tol=0.0001, max_iter=1000,solver='lbfgs')\n",
    "clf_bm.fit(data_train_x.values, data_train_y.values)"
   ]
  },
  {
   "cell_type": "markdown",
   "metadata": {},
   "source": [
    "Checking Accuracy of training and testing data:"
   ]
  },
  {
   "cell_type": "code",
   "execution_count": 22,
   "metadata": {},
   "outputs": [
    {
     "name": "stdout",
     "output_type": "stream",
     "text": [
      "Training data accuracy: 0.71125\n",
      "Testing data accuracy: 0.71\n"
     ]
    }
   ],
   "source": [
    "print('Training data accuracy: {}'.format(clf_bm.score(data_train_x.values,data_train_y.values)))\n",
    "print('Testing data accuracy: {}'.format(clf_bm.score(data_test_x.values,data_test_y.values)))"
   ]
  },
  {
   "cell_type": "markdown",
   "metadata": {},
   "source": [
    "Calculate the AUC of the model."
   ]
  },
  {
   "cell_type": "code",
   "execution_count": 23,
   "metadata": {},
   "outputs": [],
   "source": [
    "data_train_y_pred_probability_bm = clf_bm.predict_proba(data_train_x.values)[:,1]\n",
    "data_test_y_pred_probability_bm = clf_bm.predict_proba(data_test_x.values)[:,1]"
   ]
  },
  {
   "cell_type": "code",
   "execution_count": 24,
   "metadata": {},
   "outputs": [
    {
     "name": "stdout",
     "output_type": "stream",
     "text": [
      "Trainging data AUC: 0.6683616565407532\n",
      "Testing data AUC: 0.6497970573313039\n"
     ]
    }
   ],
   "source": [
    "auc_train = roc_auc_score(y_true=data_train_y, y_score=data_train_y_pred_probability_bm)\n",
    "print('Trainging data AUC: {}'.format(auc_train))\n",
    "auc_test = roc_auc_score(y_true=data_test_y, y_score=data_test_y_pred_probability_bm)\n",
    "print('Testing data AUC: {}'.format(auc_test))"
   ]
  },
  {
   "cell_type": "markdown",
   "metadata": {},
   "source": [
    "***So far, the benchmark model looks Okay. We needs to check the significance of each variables.***\n",
    "\n",
    "Since sklearn LogisticRegression model does not provide statistics of each variables, I use another package 'statsmodels' to perform the statistical analysis."
   ]
  },
  {
   "cell_type": "code",
   "execution_count": 27,
   "metadata": {},
   "outputs": [
    {
     "name": "stdout",
     "output_type": "stream",
     "text": [
      "Optimization terminated successfully.\n",
      "         Current function value: 0.578041\n",
      "         Iterations 6\n"
     ]
    },
    {
     "data": {
      "text/html": [
       "<table class=\"simpletable\">\n",
       "<caption>Logit Regression Results</caption>\n",
       "<tr>\n",
       "  <th>Dep. Variable:</th>      <td>Default</td>     <th>  No. Observations:  </th>  <td>   800</td>  \n",
       "</tr>\n",
       "<tr>\n",
       "  <th>Model:</th>               <td>Logit</td>      <th>  Df Residuals:      </th>  <td>   790</td>  \n",
       "</tr>\n",
       "<tr>\n",
       "  <th>Method:</th>               <td>MLE</td>       <th>  Df Model:          </th>  <td>     9</td>  \n",
       "</tr>\n",
       "<tr>\n",
       "  <th>Date:</th>          <td>Sun, 12 Apr 2020</td> <th>  Pseudo R-squ.:     </th>  <td>0.06327</td> \n",
       "</tr>\n",
       "<tr>\n",
       "  <th>Time:</th>              <td>12:39:48</td>     <th>  Log-Likelihood:    </th> <td> -462.43</td> \n",
       "</tr>\n",
       "<tr>\n",
       "  <th>converged:</th>           <td>True</td>       <th>  LL-Null:           </th> <td> -493.67</td> \n",
       "</tr>\n",
       "<tr>\n",
       "  <th> </th>                      <td> </td>        <th>  LLR p-value:       </th> <td>4.465e-10</td>\n",
       "</tr>\n",
       "</table>\n",
       "<table class=\"simpletable\">\n",
       "<tr>\n",
       "              <td></td>                 <th>coef</th>     <th>std err</th>      <th>z</th>      <th>P>|z|</th>  <th>[0.025</th>    <th>0.975]</th>  \n",
       "</tr>\n",
       "<tr>\n",
       "  <th>const</th>                     <td>   -3.2676</td> <td>    0.800</td> <td>   -4.085</td> <td> 0.000</td> <td>   -4.835</td> <td>   -1.700</td>\n",
       "</tr>\n",
       "<tr>\n",
       "  <th>Duration</th>                  <td>    1.6740</td> <td>    0.587</td> <td>    2.854</td> <td> 0.004</td> <td>    0.524</td> <td>    2.824</td>\n",
       "</tr>\n",
       "<tr>\n",
       "  <th>Amount</th>                    <td>    1.6050</td> <td>    0.705</td> <td>    2.278</td> <td> 0.023</td> <td>    0.224</td> <td>    2.986</td>\n",
       "</tr>\n",
       "<tr>\n",
       "  <th>InstallmentRatePercentage</th> <td>    0.7195</td> <td>    0.245</td> <td>    2.938</td> <td> 0.003</td> <td>    0.240</td> <td>    1.199</td>\n",
       "</tr>\n",
       "<tr>\n",
       "  <th>ResidenceDuration</th>         <td>    0.1214</td> <td>    0.226</td> <td>    0.536</td> <td> 0.592</td> <td>   -0.322</td> <td>    0.565</td>\n",
       "</tr>\n",
       "<tr>\n",
       "  <th>Age</th>                       <td>   -1.1276</td> <td>    0.442</td> <td>   -2.553</td> <td> 0.011</td> <td>   -1.993</td> <td>   -0.262</td>\n",
       "</tr>\n",
       "<tr>\n",
       "  <th>NumberExistingCredits</th>     <td>   -0.6196</td> <td>    0.455</td> <td>   -1.362</td> <td> 0.173</td> <td>   -1.511</td> <td>    0.272</td>\n",
       "</tr>\n",
       "<tr>\n",
       "  <th>NumberPeopleMaintenance</th>   <td>    0.1894</td> <td>    0.227</td> <td>    0.836</td> <td> 0.403</td> <td>   -0.255</td> <td>    0.634</td>\n",
       "</tr>\n",
       "<tr>\n",
       "  <th>Telephone</th>                 <td>    0.4082</td> <td>    0.180</td> <td>    2.273</td> <td> 0.023</td> <td>    0.056</td> <td>    0.760</td>\n",
       "</tr>\n",
       "<tr>\n",
       "  <th>ForeignWorker</th>             <td>    1.3137</td> <td>    0.752</td> <td>    1.748</td> <td> 0.081</td> <td>   -0.160</td> <td>    2.787</td>\n",
       "</tr>\n",
       "</table>"
      ],
      "text/plain": [
       "<class 'statsmodels.iolib.summary.Summary'>\n",
       "\"\"\"\n",
       "                           Logit Regression Results                           \n",
       "==============================================================================\n",
       "Dep. Variable:                Default   No. Observations:                  800\n",
       "Model:                          Logit   Df Residuals:                      790\n",
       "Method:                           MLE   Df Model:                            9\n",
       "Date:                Sun, 12 Apr 2020   Pseudo R-squ.:                 0.06327\n",
       "Time:                        12:39:48   Log-Likelihood:                -462.43\n",
       "converged:                       True   LL-Null:                       -493.67\n",
       "                                        LLR p-value:                 4.465e-10\n",
       "=============================================================================================\n",
       "                                coef    std err          z      P>|z|      [0.025      0.975]\n",
       "---------------------------------------------------------------------------------------------\n",
       "const                        -3.2676      0.800     -4.085      0.000      -4.835      -1.700\n",
       "Duration                      1.6740      0.587      2.854      0.004       0.524       2.824\n",
       "Amount                        1.6050      0.705      2.278      0.023       0.224       2.986\n",
       "InstallmentRatePercentage     0.7195      0.245      2.938      0.003       0.240       1.199\n",
       "ResidenceDuration             0.1214      0.226      0.536      0.592      -0.322       0.565\n",
       "Age                          -1.1276      0.442     -2.553      0.011      -1.993      -0.262\n",
       "NumberExistingCredits        -0.6196      0.455     -1.362      0.173      -1.511       0.272\n",
       "NumberPeopleMaintenance       0.1894      0.227      0.836      0.403      -0.255       0.634\n",
       "Telephone                     0.4082      0.180      2.273      0.023       0.056       0.760\n",
       "ForeignWorker                 1.3137      0.752      1.748      0.081      -0.160       2.787\n",
       "=============================================================================================\n",
       "\"\"\""
      ]
     },
     "execution_count": 27,
     "metadata": {},
     "output_type": "execute_result"
    }
   ],
   "source": [
    "data_train_x_addingIntercept = sm.add_constant(data_train_x)\n",
    "logit = sm.Logit(data_train_y, data_train_x_addingIntercept)\n",
    "reg = logit.fit()\n",
    "reg.summary()"
   ]
  },
  {
   "cell_type": "markdown",
   "metadata": {},
   "source": [
    "***Summary:*** \n",
    "\n",
    "After checking the significance of each variable, I find a few variables are not significant if considering alpha as 0.05. The benchmark model needs to be modified using variable selection."
   ]
  },
  {
   "cell_type": "markdown",
   "metadata": {},
   "source": [
    "##### (2) Build Final Model\n",
    "\n",
    "Refine the benchmark model by performing recursive feature elimination Variable Selection and using cross validation to obtain the best model."
   ]
  },
  {
   "cell_type": "code",
   "execution_count": 28,
   "metadata": {},
   "outputs": [],
   "source": [
    "classifier = LogisticRegression(C= float(1e9),tol=0.0001, max_iter=1000, solver='lbfgs')\n",
    "clf_final = RFECV(classifier, step=1, cv=5, scoring='accuracy')\n",
    "clf_final = clf_final.fit(data_train_x, data_train_y)"
   ]
  },
  {
   "cell_type": "code",
   "execution_count": 29,
   "metadata": {},
   "outputs": [
    {
     "name": "stdout",
     "output_type": "stream",
     "text": [
      "Optimal number of features : 7\n"
     ]
    },
    {
     "data": {
      "image/png": "[encoded data removed]",
      "text/plain": [
       "<Figure size 432x288 with 1 Axes>"
      ]
     },
     "metadata": {
      "needs_background": "light"
     },
     "output_type": "display_data"
    }
   ],
   "source": [
    "print(\"Optimal number of features : %d\" % clf_final.n_features_)\n",
    "# Plot number of features VS. cross-validation scores\n",
    "plt.figure()\n",
    "plt.xlabel(\"Number of features selected\")\n",
    "plt.ylabel(\"Cross validation score (nb of correct classifications)\")\n",
    "plt.plot(range(1, len(clf_final.grid_scores_) + 1), clf_final.grid_scores_)\n",
    "plt.show()"
   ]
  },
  {
   "cell_type": "markdown",
   "metadata": {},
   "source": [
    "***Summary:***\n",
    "\n",
    "There are 7 varaibles are selected."
   ]
  },
  {
   "cell_type": "code",
   "execution_count": 30,
   "metadata": {},
   "outputs": [
    {
     "data": {
      "text/plain": [
       "Index(['Duration', 'Amount', 'InstallmentRatePercentage', 'Age',\n",
       "       'NumberExistingCredits', 'Telephone', 'ForeignWorker'],\n",
       "      dtype='object')"
      ]
     },
     "execution_count": 30,
     "metadata": {},
     "output_type": "execute_result"
    }
   ],
   "source": [
    "data_train_x.columns[clf_final.support_]"
   ]
  },
  {
   "cell_type": "markdown",
   "metadata": {},
   "source": [
    "***Checking the significance of final model's variables***"
   ]
  },
  {
   "cell_type": "code",
   "execution_count": 31,
   "metadata": {},
   "outputs": [
    {
     "name": "stdout",
     "output_type": "stream",
     "text": [
      "Optimization terminated successfully.\n",
      "         Current function value: 0.578640\n",
      "         Iterations 6\n"
     ]
    },
    {
     "data": {
      "text/html": [
       "<table class=\"simpletable\">\n",
       "<caption>Logit Regression Results</caption>\n",
       "<tr>\n",
       "  <th>Dep. Variable:</th>      <td>Default</td>     <th>  No. Observations:  </th>  <td>   800</td>  \n",
       "</tr>\n",
       "<tr>\n",
       "  <th>Model:</th>               <td>Logit</td>      <th>  Df Residuals:      </th>  <td>   792</td>  \n",
       "</tr>\n",
       "<tr>\n",
       "  <th>Method:</th>               <td>MLE</td>       <th>  Df Model:          </th>  <td>     7</td>  \n",
       "</tr>\n",
       "<tr>\n",
       "  <th>Date:</th>          <td>Sun, 12 Apr 2020</td> <th>  Pseudo R-squ.:     </th>  <td>0.06230</td> \n",
       "</tr>\n",
       "<tr>\n",
       "  <th>Time:</th>              <td>12:43:41</td>     <th>  Log-Likelihood:    </th> <td> -462.91</td> \n",
       "</tr>\n",
       "<tr>\n",
       "  <th>converged:</th>           <td>True</td>       <th>  LL-Null:           </th> <td> -493.67</td> \n",
       "</tr>\n",
       "<tr>\n",
       "  <th> </th>                      <td> </td>        <th>  LLR p-value:       </th> <td>7.526e-11</td>\n",
       "</tr>\n",
       "</table>\n",
       "<table class=\"simpletable\">\n",
       "<tr>\n",
       "              <td></td>                 <th>coef</th>     <th>std err</th>      <th>z</th>      <th>P>|z|</th>  <th>[0.025</th>    <th>0.975]</th>  \n",
       "</tr>\n",
       "<tr>\n",
       "  <th>const</th>                     <td>   -3.1858</td> <td>    0.795</td> <td>   -4.008</td> <td> 0.000</td> <td>   -4.744</td> <td>   -1.628</td>\n",
       "</tr>\n",
       "<tr>\n",
       "  <th>Duration</th>                  <td>    1.6907</td> <td>    0.585</td> <td>    2.888</td> <td> 0.004</td> <td>    0.543</td> <td>    2.838</td>\n",
       "</tr>\n",
       "<tr>\n",
       "  <th>Amount</th>                    <td>    1.5841</td> <td>    0.704</td> <td>    2.250</td> <td> 0.024</td> <td>    0.204</td> <td>    2.964</td>\n",
       "</tr>\n",
       "<tr>\n",
       "  <th>InstallmentRatePercentage</th> <td>    0.7028</td> <td>    0.244</td> <td>    2.884</td> <td> 0.004</td> <td>    0.225</td> <td>    1.180</td>\n",
       "</tr>\n",
       "<tr>\n",
       "  <th>Age</th>                       <td>   -1.0341</td> <td>    0.423</td> <td>   -2.443</td> <td> 0.015</td> <td>   -1.864</td> <td>   -0.204</td>\n",
       "</tr>\n",
       "<tr>\n",
       "  <th>NumberExistingCredits</th>     <td>   -0.5837</td> <td>    0.453</td> <td>   -1.288</td> <td> 0.198</td> <td>   -1.472</td> <td>    0.305</td>\n",
       "</tr>\n",
       "<tr>\n",
       "  <th>Telephone</th>                 <td>    0.4008</td> <td>    0.179</td> <td>    2.239</td> <td> 0.025</td> <td>    0.050</td> <td>    0.752</td>\n",
       "</tr>\n",
       "<tr>\n",
       "  <th>ForeignWorker</th>             <td>    1.3176</td> <td>    0.751</td> <td>    1.754</td> <td> 0.079</td> <td>   -0.155</td> <td>    2.790</td>\n",
       "</tr>\n",
       "</table>"
      ],
      "text/plain": [
       "<class 'statsmodels.iolib.summary.Summary'>\n",
       "\"\"\"\n",
       "                           Logit Regression Results                           \n",
       "==============================================================================\n",
       "Dep. Variable:                Default   No. Observations:                  800\n",
       "Model:                          Logit   Df Residuals:                      792\n",
       "Method:                           MLE   Df Model:                            7\n",
       "Date:                Sun, 12 Apr 2020   Pseudo R-squ.:                 0.06230\n",
       "Time:                        12:43:41   Log-Likelihood:                -462.91\n",
       "converged:                       True   LL-Null:                       -493.67\n",
       "                                        LLR p-value:                 7.526e-11\n",
       "=============================================================================================\n",
       "                                coef    std err          z      P>|z|      [0.025      0.975]\n",
       "---------------------------------------------------------------------------------------------\n",
       "const                        -3.1858      0.795     -4.008      0.000      -4.744      -1.628\n",
       "Duration                      1.6907      0.585      2.888      0.004       0.543       2.838\n",
       "Amount                        1.5841      0.704      2.250      0.024       0.204       2.964\n",
       "InstallmentRatePercentage     0.7028      0.244      2.884      0.004       0.225       1.180\n",
       "Age                          -1.0341      0.423     -2.443      0.015      -1.864      -0.204\n",
       "NumberExistingCredits        -0.5837      0.453     -1.288      0.198      -1.472       0.305\n",
       "Telephone                     0.4008      0.179      2.239      0.025       0.050       0.752\n",
       "ForeignWorker                 1.3176      0.751      1.754      0.079      -0.155       2.790\n",
       "=============================================================================================\n",
       "\"\"\""
      ]
     },
     "execution_count": 31,
     "metadata": {},
     "output_type": "execute_result"
    }
   ],
   "source": [
    "data_train_x_select = data_train_x[data_train_x.columns[clf_final.support_]]\n",
    "data_train_x_addingInte_select = sm.add_constant(data_train_x_select)\n",
    "logit_select = sm.Logit(data_train_y, data_train_x_addingInte_select)\n",
    "reg_select = logit_select.fit()\n",
    "reg_select.summary()"
   ]
  },
  {
   "cell_type": "markdown",
   "metadata": {},
   "source": [
    "***There are still two variables that are not significant if considering alpha is 0.05.*** "
   ]
  },
  {
   "cell_type": "markdown",
   "metadata": {},
   "source": [
    "Checking Model Performance of final model on Training and Testing data."
   ]
  },
  {
   "cell_type": "code",
   "execution_count": 32,
   "metadata": {},
   "outputs": [
    {
     "name": "stdout",
     "output_type": "stream",
     "text": [
      "Training data accuracy: 0.7075\n",
      "Testing data accuracy: 0.72\n"
     ]
    }
   ],
   "source": [
    "print('Training data accuracy: {}'.format(clf_final.score(data_train_x.values,data_train_y.values)))\n",
    "print('Testing data accuracy: {}'.format(clf_final.score(data_test_x.values,data_test_y.values)))"
   ]
  },
  {
   "cell_type": "markdown",
   "metadata": {},
   "source": [
    "***Summary:*** \n",
    "\n",
    "By performing variable selection, some non-significant variables are removed. This prevents the overfitting, and it turns out the testing accuracy is improved."
   ]
  },
  {
   "cell_type": "code",
   "execution_count": 33,
   "metadata": {},
   "outputs": [
    {
     "name": "stdout",
     "output_type": "stream",
     "text": [
      "Trainging data AUC: 0.6675104927944586\n",
      "Testing data AUC: 0.6470065956367326\n"
     ]
    }
   ],
   "source": [
    "data_train_y_pred_probability_final = clf_final.predict_proba(data_train_x.values)[:,1]\n",
    "data_test_y_pred_probability_final = clf_final.predict_proba(data_test_x.values)[:,1]\n",
    "\n",
    "auc_train_final = roc_auc_score(y_true=data_train_y, y_score=data_train_y_pred_probability_final)\n",
    "print('Trainging data AUC: {}'.format(auc_train_final))\n",
    "auc_test_final = roc_auc_score(y_true=data_test_y, y_score=data_test_y_pred_probability_final)\n",
    "print('Testing data AUC: {}'.format(auc_test_final))"
   ]
  },
  {
   "cell_type": "markdown",
   "metadata": {},
   "source": [
    "***Summary:***\n",
    "\n",
    "The AUC is comparable to the benchmark model."
   ]
  },
  {
   "cell_type": "markdown",
   "metadata": {},
   "source": [
    "***Note:***\n",
    "\n",
    "The overall accuracy cannot gurantee that the model perform well for each class. Need to check the model performance on each class: Defaulters and non-Defaulters."
   ]
  },
  {
   "cell_type": "code",
   "execution_count": 36,
   "metadata": {},
   "outputs": [
    {
     "name": "stdout",
     "output_type": "stream",
     "text": [
      "Test Dataset: True Positive Rate of Final Model: 0.09259259259259259\n",
      "Test Dataset: True Negative Rate of Final Model: 0.952054794520548\n"
     ]
    }
   ],
   "source": [
    "default_subsetting = (data_test_y == 1.0).values\n",
    "non_default_subsetting = (data_test_y == 0.0).values\n",
    "\n",
    "data_train_y_prediction_final = clf_final.predict(data_train_x.values)\n",
    "data_test_y_prediction_final = clf_final.predict(data_test_x.values)\n",
    "\n",
    "print('Test Dataset: True Positive Rate of Final Model: {}'.\n",
    "      format((data_test_y_prediction_final[default_subsetting] == \n",
    "              data_test_y.values[default_subsetting]).mean()))\n",
    "\n",
    "print('Test Dataset: True Negative Rate of Final Model: {}'.\n",
    "      format((data_test_y_prediction_final[non_default_subsetting] == \n",
    "              data_test_y.values[non_default_subsetting]).mean()))"
   ]
  },
  {
   "cell_type": "markdown",
   "metadata": {},
   "source": [
    "***Conclusion***\n",
    "\n",
    "As we can see, the model has good performance on non-defaulters. However, the model cannot predict defaulters well. Since we care more about predicting defaulters correctly, this model is not satisfactory. One main reason for this is the available variables can not well account for the default behaviors. Some loan attributes, such FICO score, Debt-to-Income, and some macroeconomical variables, such as Unemployment Rate, Housing Price Index and Disposable Income Index should be considered when building the model.  "
   ]
  },
  {
   "cell_type": "markdown",
   "metadata": {},
   "source": [
    "***Further Checking Overfitting***\n",
    "\n",
    "Two popular Regularization techniques -- Ridge and Lasso are quickly explored here. By performing cross-validation and these two techniques, the overfitting can be further reduced. "
   ]
  },
  {
   "cell_type": "markdown",
   "metadata": {},
   "source": [
    "(1) Lasso"
   ]
  },
  {
   "cell_type": "code",
   "execution_count": 40,
   "metadata": {},
   "outputs": [],
   "source": [
    "data_train_x_select = data_train_x[data_train_x.columns[clf_final.support_]]\n",
    "data_test_x_select = data_test_x[data_test_x.columns[clf_final.support_]]"
   ]
  },
  {
   "cell_type": "code",
   "execution_count": 41,
   "metadata": {},
   "outputs": [
    {
     "data": {
      "text/plain": [
       "LogisticRegressionCV(Cs=10, class_weight=None, cv=5, dual=False,\n",
       "           fit_intercept=True, intercept_scaling=1.0, max_iter=100,\n",
       "           multi_class='warn', n_jobs=None, penalty='l1',\n",
       "           random_state=12345, refit=True, scoring=None, solver='saga',\n",
       "           tol=0.0001, verbose=0)"
      ]
     },
     "execution_count": 41,
     "metadata": {},
     "output_type": "execute_result"
    }
   ],
   "source": [
    "clf_lasso = LogisticRegressionCV(Cs=10, fit_intercept=True, cv=5, penalty='l1', \n",
    "                                 solver='saga', tol=0.0001, max_iter=100, refit=True, random_state=12345)\n",
    "clf_lasso.fit(data_train_x_select, data_train_y)"
   ]
  },
  {
   "cell_type": "code",
   "execution_count": 42,
   "metadata": {},
   "outputs": [
    {
     "data": {
      "text/plain": [
       "array([[ 1.69080972,  1.581892  ,  0.70224699, -1.03303185, -0.58255231,\n",
       "         0.40034416,  1.31453674]])"
      ]
     },
     "execution_count": 42,
     "metadata": {},
     "output_type": "execute_result"
    }
   ],
   "source": [
    "clf_lasso.coef_ "
   ]
  },
  {
   "cell_type": "code",
   "execution_count": 43,
   "metadata": {},
   "outputs": [
    {
     "name": "stdout",
     "output_type": "stream",
     "text": [
      "Lasso Training data accuracy: 0.7075\n",
      "Lasso Testing data accuracy: 0.72\n"
     ]
    }
   ],
   "source": [
    "print('Lasso Training data accuracy: {}'.format(clf_lasso.score(data_train_x_select.values,data_train_y.values)))\n",
    "print('Lasso Testing data accuracy: {}'.format(clf_lasso.score(data_test_x_select.values,data_test_y.values)))"
   ]
  },
  {
   "cell_type": "code",
   "execution_count": 44,
   "metadata": {},
   "outputs": [
    {
     "name": "stdout",
     "output_type": "stream",
     "text": [
      "Lasso Trainging data AUC: 0.6674444542279356\n",
      "Lasso Testing data AUC: 0.6470065956367326\n"
     ]
    }
   ],
   "source": [
    "data_train_y_pred_probability_lasso = clf_lasso.predict_proba(data_train_x_select.values)[:,1]\n",
    "data_test_y_pred_probability_lasso = clf_lasso.predict_proba(data_test_x_select.values)[:,1]\n",
    "\n",
    "auc_train_lasso = roc_auc_score(y_true=data_train_y, y_score=data_train_y_pred_probability_lasso)\n",
    "print('Lasso Trainging data AUC: {}'.format(auc_train_lasso))\n",
    "auc_test_lasso = roc_auc_score(y_true=data_test_y, y_score=data_test_y_pred_probability_lasso)\n",
    "print('Lasso Testing data AUC: {}'.format(auc_test_lasso))"
   ]
  },
  {
   "cell_type": "code",
   "execution_count": 45,
   "metadata": {},
   "outputs": [
    {
     "name": "stdout",
     "output_type": "stream",
     "text": [
      "Test Dataset: True Positive Rate of Lasso Model: 0.09259259259259259\n",
      "Test Dataset: True Negative Rate of Lasso Model: 0.952054794520548\n"
     ]
    }
   ],
   "source": [
    "data_train_y_prediction_lasso = clf_lasso.predict(data_train_x_select.values)\n",
    "data_test_y_prediction_lasso = clf_lasso.predict(data_test_x_select.values)\n",
    "\n",
    "print('Test Dataset: True Positive Rate of Lasso Model: {}'.\n",
    "      format((data_test_y_prediction_lasso[default_subsetting] == \n",
    "              data_test_y.values[default_subsetting]).mean()))\n",
    "\n",
    "print('Test Dataset: True Negative Rate of Lasso Model: {}'.\n",
    "      format((data_test_y_prediction_lasso[non_default_subsetting] == \n",
    "              data_test_y.values[non_default_subsetting]).mean()))"
   ]
  },
  {
   "cell_type": "markdown",
   "metadata": {},
   "source": [
    "(2) Ridge"
   ]
  },
  {
   "cell_type": "code",
   "execution_count": 46,
   "metadata": {},
   "outputs": [
    {
     "data": {
      "text/plain": [
       "LogisticRegressionCV(Cs=10, class_weight=None, cv=5, dual=False,\n",
       "           fit_intercept=True, intercept_scaling=1.0, max_iter=100,\n",
       "           multi_class='warn', n_jobs=None, penalty='l2',\n",
       "           random_state=12345, refit=True, scoring=None, solver='saga',\n",
       "           tol=0.0001, verbose=0)"
      ]
     },
     "execution_count": 46,
     "metadata": {},
     "output_type": "execute_result"
    }
   ],
   "source": [
    "clf_ridge = LogisticRegressionCV(Cs=10, fit_intercept=True, cv=5, penalty='l2', \n",
    "                                 solver='saga', tol=0.0001, max_iter=100, refit=True, random_state=12345)\n",
    "clf_ridge.fit(data_train_x_select, data_train_y)"
   ]
  },
  {
   "cell_type": "code",
   "execution_count": 47,
   "metadata": {},
   "outputs": [
    {
     "data": {
      "text/plain": [
       "array([[ 1.69027605,  1.58135017,  0.70224636, -1.03287897, -0.58304813,\n",
       "         0.40033466,  1.31286319]])"
      ]
     },
     "execution_count": 47,
     "metadata": {},
     "output_type": "execute_result"
    }
   ],
   "source": [
    "clf_ridge.coef_ "
   ]
  },
  {
   "cell_type": "code",
   "execution_count": 48,
   "metadata": {},
   "outputs": [
    {
     "name": "stdout",
     "output_type": "stream",
     "text": [
      "Ridge Training data accuracy: 0.7075\n",
      "Ridge Testing data accuracy: 0.72\n"
     ]
    }
   ],
   "source": [
    "print('Ridge Training data accuracy: {}'.format(clf_ridge.score(data_train_x_select.values,data_train_y.values)))\n",
    "print('Ridge Testing data accuracy: {}'.format(clf_ridge.score(data_test_x_select.values,data_test_y.values)))"
   ]
  },
  {
   "cell_type": "code",
   "execution_count": 49,
   "metadata": {},
   "outputs": [
    {
     "name": "stdout",
     "output_type": "stream",
     "text": [
      "Ridge Trainging data AUC: 0.6674517918464383\n",
      "Ridge Testing data AUC: 0.6470065956367326\n"
     ]
    }
   ],
   "source": [
    "data_train_y_pred_probability_ridge = clf_ridge.predict_proba(data_train_x_select.values)[:,1]\n",
    "data_test_y_pred_probability_ridge = clf_ridge.predict_proba(data_test_x_select.values)[:,1]\n",
    "\n",
    "auc_train_ridge = roc_auc_score(y_true=data_train_y, y_score=data_train_y_pred_probability_ridge)\n",
    "print('Ridge Trainging data AUC: {}'.format(auc_train_ridge))\n",
    "auc_test_ridge = roc_auc_score(y_true=data_test_y, y_score=data_test_y_pred_probability_ridge)\n",
    "print('Ridge Testing data AUC: {}'.format(auc_test_ridge))"
   ]
  },
  {
   "cell_type": "code",
   "execution_count": 50,
   "metadata": {},
   "outputs": [
    {
     "name": "stdout",
     "output_type": "stream",
     "text": [
      "Test Dataset: True Positive Rate of Ridge Model: 0.09259259259259259\n",
      "Test Dataset: True Negative Rate of Ridge Model: 0.952054794520548\n"
     ]
    }
   ],
   "source": [
    "data_train_y_prediction_ridge = clf_ridge.predict(data_train_x_select.values)\n",
    "data_test_y_prediction_ridge = clf_ridge.predict(data_test_x_select.values)\n",
    "\n",
    "print('Test Dataset: True Positive Rate of Ridge Model: {}'.\n",
    "      format((data_test_y_prediction_ridge[default_subsetting] == \n",
    "              data_test_y.values[default_subsetting]).mean()))\n",
    "\n",
    "print('Test Dataset: True Negative Rate of Ridge Model: {}'.\n",
    "      format((data_test_y_prediction_ridge[non_default_subsetting] == \n",
    "              data_test_y.values[non_default_subsetting]).mean()))"
   ]
  },
  {
   "cell_type": "markdown",
   "metadata": {},
   "source": [
    "***Conclusion***\n",
    "\n",
    "The Lasso and Ridge Regularization cannot further improve model's performance. So the Final Model I selected does not have overfitting problem. "
   ]
  },
  {
   "cell_type": "code",
   "execution_count": null,
   "metadata": {
    "collapsed": true
   },
   "outputs": [],
   "source": []
  }
 ],
 "metadata": {
  "kernelspec": {
   "display_name": "Python 3",
   "language": "python",
   "name": "python3"
  },
  "language_info": {
   "codemirror_mode": {
    "name": "ipython",
    "version": 3
   },
   "file_extension": ".py",
   "mimetype": "text/x-python",
   "name": "python",
   "nbconvert_exporter": "python",
   "pygments_lexer": "ipython3",
   "version": "3.7.1"
  }
 },
 "nbformat": 4,
 "nbformat_minor": 1
}
