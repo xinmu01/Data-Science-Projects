{
 "cells": [
  {
   "cell_type": "markdown",
   "metadata": {},
   "source": [
    "# Parsing XML data format using Python \n",
    "\n",
    "XML data format is a very common data format for data tranfer via internet. In data science projects, it is very often to deal with XML data. In this Python notebook, I explore and summarize some common method to parse XML data using python. "
   ]
  },
  {
   "cell_type": "markdown",
   "metadata": {},
   "source": [
    "### 1. Parse XML as element tree \n",
    "In this method, the whole xml file is read into the memory and saved as a tree."
   ]
  },
  {
   "cell_type": "code",
   "execution_count": 1,
   "metadata": {},
   "outputs": [],
   "source": [
    "import xml.etree.cElementTree as ET\n",
    "import pprint"
   ]
  },
  {
   "cell_type": "code",
   "execution_count": 11,
   "metadata": {},
   "outputs": [
    {
     "name": "stdout",
     "output_type": "stream",
     "text": [
      "The root is:\n",
      "art\n"
     ]
    }
   ],
   "source": [
    "tree = ET.parse(\"data/exampleResearchArticle.xml\") \n",
    "## This is document oriented xml file. This means the tag has specific name, and not many open tag.\n",
    "\n",
    "root = tree.getroot() ## This is a element class\n",
    "\n",
    "print (\"The root is:\")\n",
    "print (root.tag)\n"
   ]
  },
  {
   "cell_type": "code",
   "execution_count": 12,
   "metadata": {},
   "outputs": [
    {
     "name": "stdout",
     "output_type": "stream",
     "text": [
      "Children of root:\n",
      "ui\n",
      "ji\n",
      "fm\n",
      "bdy\n",
      "bm\n"
     ]
    }
   ],
   "source": [
    "print (\"Children of root:\")\n",
    "for child in root:\n",
    "    print (child.tag)  ## tag is an attribute"
   ]
  },
  {
   "cell_type": "code",
   "execution_count": 15,
   "metadata": {},
   "outputs": [
    {
     "name": "stdout",
     "output_type": "stream",
     "text": [
      "Grand Children of root: \n",
      "dochead\n",
      "bibl\n",
      "history\n",
      "cpyrt\n",
      "kwdg\n",
      "abs\n",
      "sec\n",
      "sec\n",
      "sec\n",
      "sec\n",
      "sec\n",
      "sec\n",
      "sec\n",
      "refgrp\n",
      "sec\n"
     ]
    }
   ],
   "source": [
    "print (\"Grand Children of root: \")\n",
    "for child in root:\n",
    "    for grandchild in child:\n",
    "        print (grandchild.tag)  ## tag is an attribute"
   ]
  },
  {
   "cell_type": "code",
   "execution_count": 17,
   "metadata": {},
   "outputs": [
    {
     "name": "stdout",
     "output_type": "stream",
     "text": [
      "Tile:\n",
      "<class 'xml.etree.ElementTree.Element'>\n",
      "Standardization of the functional syndesmosis widening by dynamic U.S examination\n"
     ]
    }
   ],
   "source": [
    "print (\"Tile:\")\n",
    "title = root.find(\"./fm/bibl/title/p\") ## This is xpath expression. Find something mathches this expression\n",
    "print (type(title))\n",
    "print (title.text)"
   ]
  },
  {
   "cell_type": "code",
   "execution_count": 22,
   "metadata": {},
   "outputs": [
    {
     "name": "stdout",
     "output_type": "stream",
     "text": [
      "<class 'xml.etree.ElementTree.Element'>\n",
      "Standardization of the functional syndesmosis widening by dynamic U.S examination\n"
     ]
    }
   ],
   "source": [
    "title = root.find(\"./fm/bibl/title\")\n",
    "print(type(title))\n",
    "\n",
    "for i in title:\n",
    "    print(i.text)"
   ]
  },
  {
   "cell_type": "code",
   "execution_count": 23,
   "metadata": {},
   "outputs": [
    {
     "name": "stdout",
     "output_type": "stream",
     "text": [
      "omer@extremegate.com\n",
      "mcarmont@hotmail.com\n",
      "laver17@gmail.com\n",
      "nyska@internet-zahav.net\n",
      "kammarh@gmail.com\n",
      "gideon.mann.md@gmail.com\n",
      "barns.nz@gmail.com\n",
      "eukots@gmail.com\n"
     ]
    }
   ],
   "source": [
    "email = root.findall(\"./fm/bibl/aug/au/email\")\n",
    "for i in email:\n",
    "    print (i.text)"
   ]
  },
  {
   "cell_type": "code",
   "execution_count": 29,
   "metadata": {},
   "outputs": [
    {
     "name": "stdout",
     "output_type": "stream",
     "text": [
      "{'insr': [{'iid': 'I1'}]}\n",
      "{'insr': [{'iid': 'I2'}]}\n",
      "{'insr': [{'iid': 'I3'}, {'iid': 'I4'}]}\n",
      "{'insr': [{'iid': 'I3'}]}\n",
      "{'insr': [{'iid': 'I8'}]}\n",
      "{'insr': [{'iid': 'I3'}, {'iid': 'I5'}]}\n",
      "{'insr': [{'iid': 'I6'}]}\n",
      "{'insr': [{'iid': 'I7'}]}\n"
     ]
    }
   ],
   "source": [
    "## Print out all the information of all the authors, put each author's information in a dictionary\n",
    "## Put all the authors in a list\n",
    "\n",
    "author_list = []\n",
    "\n",
    "author_element = root.findall(\"./fm/bibl/aug/au\")\n",
    "for author in author_element:\n",
    "    author_dict = {}\n",
    "    for i in author:\n",
    "        if i.tag == 'insr' and i.tag not in author_dict:\n",
    "            author_dict[i.tag]=[i.attrib]\n",
    "        elif i.tag == 'insr' and i.tag in author_dict:\n",
    "            author_dict[i.tag].extend([i.attrib])\n",
    "    author_list.append(author_dict)\n",
    "    \n",
    "for i in author_list:\n",
    "    pprint.pprint(i) "
   ]
  },
  {
   "cell_type": "code",
   "execution_count": 34,
   "metadata": {},
   "outputs": [
    {
     "name": "stdout",
     "output_type": "stream",
     "text": [
      "The test passed!\n"
     ]
    }
   ],
   "source": [
    "#!/usr/bin/env python\n",
    "# Extract data from xml on authors of an article and add it to a list, one item for an author.\n",
    "# The tags for first name, surname and email map directly to the dictionary keys.\n",
    "\n",
    "import xml.etree.ElementTree as ET\n",
    "\n",
    "article_file = \"data/exampleResearchArticle.xml\"\n",
    "\n",
    "def get_root(fname):\n",
    "    tree = ET.parse(fname)\n",
    "    return tree.getroot()\n",
    "\n",
    "def get_authors(root):\n",
    "    authors = []\n",
    "    for author in root.findall('./fm/bibl/aug/au'):\n",
    "        data = {\n",
    "                \"fnm\": None,\n",
    "                \"snm\": None,\n",
    "                \"email\": None\n",
    "        }\n",
    "\n",
    "        firstname = author.find('./fnm')\n",
    "        lastname = author.find('./snm')\n",
    "        email = author.find('./email')\n",
    "        \n",
    "        data['fnm'] = firstname.text\n",
    "        data['snm'] = lastname.text\n",
    "        data['email'] = email.text\n",
    " \n",
    "        authors.append(data)\n",
    "\n",
    "    return authors\n",
    "\n",
    "def test():\n",
    "    solution = [{'fnm': 'Omer', 'snm': 'Mei-Dan', 'email': 'omer@extremegate.com'}, {'fnm': 'Mike', 'snm': 'Carmont', 'email': 'mcarmont@hotmail.com'}, {'fnm': 'Lior', 'snm': 'Laver', 'email': 'laver17@gmail.com'}, {'fnm': 'Meir', 'snm': 'Nyska', 'email': 'nyska@internet-zahav.net'}, {'fnm': 'Hagay', 'snm': 'Kammar', 'email': 'kammarh@gmail.com'}, {'fnm': 'Gideon', 'snm': 'Mann', 'email': 'gideon.mann.md@gmail.com'}, {'fnm': 'Barnaby', 'snm': 'Clarck', 'email': 'barns.nz@gmail.com'}, {'fnm': 'Eugene', 'snm': 'Kots', 'email': 'eukots@gmail.com'}]\n",
    "    \n",
    "    root = get_root(article_file)\n",
    "    data = get_authors(root)\n",
    "\n",
    "    assert data[0] == solution[0]\n",
    "    assert data[1][\"fnm\"] == solution[1][\"fnm\"]\n",
    "    assert data[1][\"snm\"] == solution[1][\"snm\"]\n",
    "    \n",
    "    print(\"The test passed!\")\n",
    "\n",
    "test()"
   ]
  },
  {
   "cell_type": "code",
   "execution_count": 37,
   "metadata": {},
   "outputs": [],
   "source": [
    "#!/usr/bin/env python\n",
    "# Extract data from xml on authors of an article and add it to a list, one item for an author.\n",
    "# The tags for first name, surname and email map directly to the dictionary keys.\n",
    "# Extract the attributes from the \"insr\" tag and add them to the list for the dictionary key \"insr\".\n",
    "\n",
    "import xml.etree.ElementTree as ET\n",
    "\n",
    "article_file = \"data/exampleResearchArticle.xml\"\n",
    "\n",
    "def get_root(fname):\n",
    "    tree = ET.parse(fname)\n",
    "    return tree.getroot()\n",
    "\n",
    "def get_authors(root):\n",
    "    authors = []\n",
    "    for author in root.findall('./fm/bibl/aug/au'):\n",
    "        data = {\n",
    "                \"fnm\": None,\n",
    "                \"snm\": None,\n",
    "                \"email\": None,\n",
    "                \"insr\": []\n",
    "        }\n",
    "\n",
    "        \n",
    "        data['fnm'] = author.find('./fnm').text\n",
    "        \n",
    "        data['snm'] = author.find('./snm').text\n",
    "        \n",
    "        data['email'] = author.find('./email').text\n",
    "        \n",
    "        insr = author.findall('./insr')\n",
    "        for i in insr:\n",
    "            data['insr'].append(i.attrib['iid'])\n",
    "\n",
    "        authors.append(data)\n",
    "\n",
    "    return authors"
   ]
  },
  {
   "cell_type": "code",
   "execution_count": 39,
   "metadata": {},
   "outputs": [
    {
     "name": "stdout",
     "output_type": "stream",
     "text": [
      "[{'email': 'omer@extremegate.com',\n",
      "  'fnm': 'Omer',\n",
      "  'insr': ['I1'],\n",
      "  'snm': 'Mei-Dan'},\n",
      " {'email': 'mcarmont@hotmail.com',\n",
      "  'fnm': 'Mike',\n",
      "  'insr': ['I2'],\n",
      "  'snm': 'Carmont'},\n",
      " {'email': 'laver17@gmail.com',\n",
      "  'fnm': 'Lior',\n",
      "  'insr': ['I3', 'I4'],\n",
      "  'snm': 'Laver'},\n",
      " {'email': 'nyska@internet-zahav.net',\n",
      "  'fnm': 'Meir',\n",
      "  'insr': ['I3'],\n",
      "  'snm': 'Nyska'},\n",
      " {'email': 'kammarh@gmail.com',\n",
      "  'fnm': 'Hagay',\n",
      "  'insr': ['I8'],\n",
      "  'snm': 'Kammar'},\n",
      " {'email': 'gideon.mann.md@gmail.com',\n",
      "  'fnm': 'Gideon',\n",
      "  'insr': ['I3', 'I5'],\n",
      "  'snm': 'Mann'},\n",
      " {'email': 'barns.nz@gmail.com',\n",
      "  'fnm': 'Barnaby',\n",
      "  'insr': ['I6'],\n",
      "  'snm': 'Clarck'},\n",
      " {'email': 'eukots@gmail.com', 'fnm': 'Eugene', 'insr': ['I7'], 'snm': 'Kots'}]\n"
     ]
    }
   ],
   "source": [
    "root = get_root(article_file)\n",
    "pprint.pprint(get_authors(root))"
   ]
  },
  {
   "cell_type": "code",
   "execution_count": null,
   "metadata": {
    "collapsed": true
   },
   "outputs": [],
   "source": []
  }
 ],
 "metadata": {
  "kernelspec": {
   "display_name": "Python 3",
   "language": "python",
   "name": "python3"
  },
  "language_info": {
   "codemirror_mode": {
    "name": "ipython",
    "version": 3
   },
   "file_extension": ".py",
   "mimetype": "text/x-python",
   "name": "python",
   "nbconvert_exporter": "python",
   "pygments_lexer": "ipython3",
   "version": "3.7.1"
  }
 },
 "nbformat": 4,
 "nbformat_minor": 1
}
