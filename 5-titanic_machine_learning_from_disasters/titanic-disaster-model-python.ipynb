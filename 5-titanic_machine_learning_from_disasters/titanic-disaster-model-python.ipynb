{
 "cells": [
  {
   "cell_type": "code",
   "execution_count": 1,
   "metadata": {},
   "outputs": [],
   "source": [
    "import pandas as pd\n",
    "import numpy as np\n",
    "import csv as csv\n",
    "from sklearn.ensemble import RandomForestClassifier"
   ]
  },
  {
   "cell_type": "code",
   "execution_count": 23,
   "metadata": {},
   "outputs": [],
   "source": [
    "# Data cleanup\n",
    "# TRAIN DATA\n",
    "train_df = pd.read_csv('data/train.csv', header=0)        # Load the train file into a dataframe"
   ]
  },
  {
   "cell_type": "code",
   "execution_count": 24,
   "metadata": {},
   "outputs": [
    {
     "data": {
      "text/html": [
       "<div>\n",
       "<style scoped>\n",
       "    .dataframe tbody tr th:only-of-type {\n",
       "        vertical-align: middle;\n",
       "    }\n",
       "\n",
       "    .dataframe tbody tr th {\n",
       "        vertical-align: top;\n",
       "    }\n",
       "\n",
       "    .dataframe thead th {\n",
       "        text-align: right;\n",
       "    }\n",
       "</style>\n",
       "<table border=\"1\" class=\"dataframe\">\n",
       "  <thead>\n",
       "    <tr style=\"text-align: right;\">\n",
       "      <th></th>\n",
       "      <th>PassengerId</th>\n",
       "      <th>Survived</th>\n",
       "      <th>Pclass</th>\n",
       "      <th>Name</th>\n",
       "      <th>Sex</th>\n",
       "      <th>Age</th>\n",
       "      <th>SibSp</th>\n",
       "      <th>Parch</th>\n",
       "      <th>Ticket</th>\n",
       "      <th>Fare</th>\n",
       "      <th>Cabin</th>\n",
       "      <th>Embarked</th>\n",
       "    </tr>\n",
       "  </thead>\n",
       "  <tbody>\n",
       "    <tr>\n",
       "      <th>0</th>\n",
       "      <td>1</td>\n",
       "      <td>0</td>\n",
       "      <td>3</td>\n",
       "      <td>Braund, Mr. Owen Harris</td>\n",
       "      <td>male</td>\n",
       "      <td>22.0</td>\n",
       "      <td>1</td>\n",
       "      <td>0</td>\n",
       "      <td>A/5 21171</td>\n",
       "      <td>7.2500</td>\n",
       "      <td>NaN</td>\n",
       "      <td>S</td>\n",
       "    </tr>\n",
       "    <tr>\n",
       "      <th>1</th>\n",
       "      <td>2</td>\n",
       "      <td>1</td>\n",
       "      <td>1</td>\n",
       "      <td>Cumings, Mrs. John Bradley (Florence Briggs Th...</td>\n",
       "      <td>female</td>\n",
       "      <td>38.0</td>\n",
       "      <td>1</td>\n",
       "      <td>0</td>\n",
       "      <td>PC 17599</td>\n",
       "      <td>71.2833</td>\n",
       "      <td>C85</td>\n",
       "      <td>C</td>\n",
       "    </tr>\n",
       "    <tr>\n",
       "      <th>2</th>\n",
       "      <td>3</td>\n",
       "      <td>1</td>\n",
       "      <td>3</td>\n",
       "      <td>Heikkinen, Miss. Laina</td>\n",
       "      <td>female</td>\n",
       "      <td>26.0</td>\n",
       "      <td>0</td>\n",
       "      <td>0</td>\n",
       "      <td>STON/O2. 3101282</td>\n",
       "      <td>7.9250</td>\n",
       "      <td>NaN</td>\n",
       "      <td>S</td>\n",
       "    </tr>\n",
       "    <tr>\n",
       "      <th>3</th>\n",
       "      <td>4</td>\n",
       "      <td>1</td>\n",
       "      <td>1</td>\n",
       "      <td>Futrelle, Mrs. Jacques Heath (Lily May Peel)</td>\n",
       "      <td>female</td>\n",
       "      <td>35.0</td>\n",
       "      <td>1</td>\n",
       "      <td>0</td>\n",
       "      <td>113803</td>\n",
       "      <td>53.1000</td>\n",
       "      <td>C123</td>\n",
       "      <td>S</td>\n",
       "    </tr>\n",
       "    <tr>\n",
       "      <th>4</th>\n",
       "      <td>5</td>\n",
       "      <td>0</td>\n",
       "      <td>3</td>\n",
       "      <td>Allen, Mr. William Henry</td>\n",
       "      <td>male</td>\n",
       "      <td>35.0</td>\n",
       "      <td>0</td>\n",
       "      <td>0</td>\n",
       "      <td>373450</td>\n",
       "      <td>8.0500</td>\n",
       "      <td>NaN</td>\n",
       "      <td>S</td>\n",
       "    </tr>\n",
       "  </tbody>\n",
       "</table>\n",
       "</div>"
      ],
      "text/plain": [
       "   PassengerId  Survived  Pclass  \\\n",
       "0            1         0       3   \n",
       "1            2         1       1   \n",
       "2            3         1       3   \n",
       "3            4         1       1   \n",
       "4            5         0       3   \n",
       "\n",
       "                                                Name     Sex   Age  SibSp  \\\n",
       "0                            Braund, Mr. Owen Harris    male  22.0      1   \n",
       "1  Cumings, Mrs. John Bradley (Florence Briggs Th...  female  38.0      1   \n",
       "2                             Heikkinen, Miss. Laina  female  26.0      0   \n",
       "3       Futrelle, Mrs. Jacques Heath (Lily May Peel)  female  35.0      1   \n",
       "4                           Allen, Mr. William Henry    male  35.0      0   \n",
       "\n",
       "   Parch            Ticket     Fare Cabin Embarked  \n",
       "0      0         A/5 21171   7.2500   NaN        S  \n",
       "1      0          PC 17599  71.2833   C85        C  \n",
       "2      0  STON/O2. 3101282   7.9250   NaN        S  \n",
       "3      0            113803  53.1000  C123        S  \n",
       "4      0            373450   8.0500   NaN        S  "
      ]
     },
     "metadata": {},
     "output_type": "display_data"
    },
    {
     "data": {
      "text/plain": [
       "(891, 12)"
      ]
     },
     "metadata": {},
     "output_type": "display_data"
    }
   ],
   "source": [
    "display(train_df.head())\n",
    "display(train_df.shape)"
   ]
  },
  {
   "cell_type": "code",
   "execution_count": 25,
   "metadata": {},
   "outputs": [],
   "source": [
    "# I need to convert all strings to integer.\n",
    "# I need to fill in the missing values of the data and make it complete.\n",
    "\n",
    "# female = 0, Male = 1\n",
    "train_df['Gender'] = train_df['Sex'].map( {'female': 0, 'male': 1} ).astype(int)"
   ]
  },
  {
   "cell_type": "code",
   "execution_count": 26,
   "metadata": {},
   "outputs": [
    {
     "name": "stderr",
     "output_type": "stream",
     "text": [
      "C:\\Users\\Xin\\Anaconda3\\lib\\site-packages\\ipykernel_launcher.py:3: SettingWithCopyWarning: \n",
      "A value is trying to be set on a copy of a slice from a DataFrame\n",
      "\n",
      "See the caveats in the documentation: http://pandas.pydata.org/pandas-docs/stable/indexing.html#indexing-view-versus-copy\n",
      "  This is separate from the ipykernel package so we can avoid doing imports until\n"
     ]
    }
   ],
   "source": [
    "# All missing Embarked -> just make them embark from most common place\n",
    "if len(train_df.Embarked[train_df.Embarked.isnull()]) > 0:\n",
    "    train_df.Embarked[train_df.Embarked.isnull()] = train_df.Embarked.dropna().mode().values[0]\n",
    "\n",
    "Ports = list(enumerate(np.unique(train_df['Embarked'])))    # determine all values of Embarked,\n",
    "Ports_dict = {name : i for i, name in Ports}              # set up a dictionary in the form  Ports : index\n",
    "train_df.Embarked = train_df.Embarked.map(lambda x: Ports_dict[x]).astype(int)     # Convert all Embark strings to int"
   ]
  },
  {
   "cell_type": "code",
   "execution_count": 27,
   "metadata": {},
   "outputs": [],
   "source": [
    "# All the ages with no data -> make the median of all Ages\n",
    "median_age = train_df['Age'].dropna().median()\n",
    "if len(train_df.Age[ train_df.Age.isnull() ]) > 0:\n",
    "    train_df.loc[(train_df.Age.isnull()), 'Age'] = median_age"
   ]
  },
  {
   "cell_type": "code",
   "execution_count": 28,
   "metadata": {},
   "outputs": [],
   "source": [
    "# Remove the Name column, Cabin, Ticket, and Sex (since I copied and filled it to Gender)\n",
    "train_df = train_df.drop(['Name', 'Sex', 'Ticket', 'Cabin', 'PassengerId'], axis=1) "
   ]
  },
  {
   "cell_type": "code",
   "execution_count": 29,
   "metadata": {},
   "outputs": [
    {
     "data": {
      "text/html": [
       "<div>\n",
       "<style scoped>\n",
       "    .dataframe tbody tr th:only-of-type {\n",
       "        vertical-align: middle;\n",
       "    }\n",
       "\n",
       "    .dataframe tbody tr th {\n",
       "        vertical-align: top;\n",
       "    }\n",
       "\n",
       "    .dataframe thead th {\n",
       "        text-align: right;\n",
       "    }\n",
       "</style>\n",
       "<table border=\"1\" class=\"dataframe\">\n",
       "  <thead>\n",
       "    <tr style=\"text-align: right;\">\n",
       "      <th></th>\n",
       "      <th>Survived</th>\n",
       "      <th>Pclass</th>\n",
       "      <th>Age</th>\n",
       "      <th>SibSp</th>\n",
       "      <th>Parch</th>\n",
       "      <th>Fare</th>\n",
       "      <th>Embarked</th>\n",
       "      <th>Gender</th>\n",
       "    </tr>\n",
       "  </thead>\n",
       "  <tbody>\n",
       "    <tr>\n",
       "      <th>0</th>\n",
       "      <td>0</td>\n",
       "      <td>3</td>\n",
       "      <td>22.0</td>\n",
       "      <td>1</td>\n",
       "      <td>0</td>\n",
       "      <td>7.2500</td>\n",
       "      <td>2</td>\n",
       "      <td>1</td>\n",
       "    </tr>\n",
       "    <tr>\n",
       "      <th>1</th>\n",
       "      <td>1</td>\n",
       "      <td>1</td>\n",
       "      <td>38.0</td>\n",
       "      <td>1</td>\n",
       "      <td>0</td>\n",
       "      <td>71.2833</td>\n",
       "      <td>0</td>\n",
       "      <td>0</td>\n",
       "    </tr>\n",
       "    <tr>\n",
       "      <th>2</th>\n",
       "      <td>1</td>\n",
       "      <td>3</td>\n",
       "      <td>26.0</td>\n",
       "      <td>0</td>\n",
       "      <td>0</td>\n",
       "      <td>7.9250</td>\n",
       "      <td>2</td>\n",
       "      <td>0</td>\n",
       "    </tr>\n",
       "    <tr>\n",
       "      <th>3</th>\n",
       "      <td>1</td>\n",
       "      <td>1</td>\n",
       "      <td>35.0</td>\n",
       "      <td>1</td>\n",
       "      <td>0</td>\n",
       "      <td>53.1000</td>\n",
       "      <td>2</td>\n",
       "      <td>0</td>\n",
       "    </tr>\n",
       "    <tr>\n",
       "      <th>4</th>\n",
       "      <td>0</td>\n",
       "      <td>3</td>\n",
       "      <td>35.0</td>\n",
       "      <td>0</td>\n",
       "      <td>0</td>\n",
       "      <td>8.0500</td>\n",
       "      <td>2</td>\n",
       "      <td>1</td>\n",
       "    </tr>\n",
       "  </tbody>\n",
       "</table>\n",
       "</div>"
      ],
      "text/plain": [
       "   Survived  Pclass   Age  SibSp  Parch     Fare  Embarked  Gender\n",
       "0         0       3  22.0      1      0   7.2500         2       1\n",
       "1         1       1  38.0      1      0  71.2833         0       0\n",
       "2         1       3  26.0      0      0   7.9250         2       0\n",
       "3         1       1  35.0      1      0  53.1000         2       0\n",
       "4         0       3  35.0      0      0   8.0500         2       1"
      ]
     },
     "execution_count": 29,
     "metadata": {},
     "output_type": "execute_result"
    }
   ],
   "source": [
    "train_df.head()"
   ]
  },
  {
   "cell_type": "code",
   "execution_count": 30,
   "metadata": {},
   "outputs": [],
   "source": [
    "# TEST DATA\n",
    "test_df = pd.read_csv('data/test.csv', header=0)        # Load the test file into a dataframe\n",
    "\n",
    "# I need to do the same with the test data now, so that the columns are the same as the training data\n",
    "# I need to convert all strings to integer:\n",
    "# female = 0, Male = 1\n",
    "test_df['Gender'] = test_df['Sex'].map( {'female': 0, 'male': 1} ).astype(int)\n",
    "\n",
    "# Embarked from 'C', 'Q', 'S'\n",
    "# All missing Embarked -> just make them embark from most common place\n",
    "if len(test_df.Embarked[ test_df.Embarked.isnull() ]) > 0:\n",
    "    test_df.Embarked[ test_df.Embarked.isnull() ] = test_df.Embarked.dropna().mode().values[0]\n",
    "# Again convert all Embarked strings to int\n",
    "test_df.Embarked = test_df.Embarked.map(lambda x: Ports_dict[x]).astype(int)\n",
    "\n",
    "\n",
    "# All the ages with no data -> make the median of all Ages\n",
    "median_age = test_df['Age'].dropna().median()\n",
    "if len(test_df.Age[ test_df.Age.isnull() ]) > 0:\n",
    "    test_df.loc[ (test_df.Age.isnull()), 'Age'] = median_age\n",
    "\n",
    "# All the missing Fares -> assume median of their respective class\n",
    "if len(test_df.Fare[ test_df.Fare.isnull() ]) > 0:\n",
    "    median_fare = np.zeros(3)\n",
    "    for f in range(0,3):                                              # loop 0 to 2\n",
    "        median_fare[f] = test_df[ test_df.Pclass == f+1 ]['Fare'].dropna().median()\n",
    "    for f in range(0,3):                                              # loop 0 to 2\n",
    "        test_df.loc[ (test_df.Fare.isnull()) & (test_df.Pclass == f+1 ), 'Fare'] = median_fare[f]\n",
    "\n",
    "# Collect the test data's PassengerIds before dropping it\n",
    "ids = test_df['PassengerId'].values\n",
    "# Remove the Name column, Cabin, Ticket, and Sex (since I copied and filled it to Gender)\n",
    "test_df = test_df.drop(['Name', 'Sex', 'Ticket', 'Cabin', 'PassengerId'], axis=1)"
   ]
  },
  {
   "cell_type": "code",
   "execution_count": 32,
   "metadata": {},
   "outputs": [
    {
     "name": "stdout",
     "output_type": "stream",
     "text": [
      "Training...\n",
      "Predicting...\n",
      "Done.\n"
     ]
    }
   ],
   "source": [
    "# The data is now ready to go. So lets fit to the train, then predict to the test!\n",
    "# Convert back to a numpy array\n",
    "train_data = train_df.values\n",
    "test_data = test_df.values\n",
    "\n",
    "\n",
    "print ('Training...')\n",
    "forest = RandomForestClassifier(n_estimators=100)\n",
    "forest = forest.fit( train_data[0::,1::], train_data[0::,0] )\n",
    "\n",
    "print ('Predicting...')\n",
    "output = forest.predict(test_data).astype(int)\n",
    "\n",
    "\n",
    "predictions_file = open(\"data/myfirstforest.csv\", \"w\")\n",
    "open_file_object = csv.writer(predictions_file)\n",
    "open_file_object.writerow([\"PassengerId\",\"Survived\"])\n",
    "open_file_object.writerows(zip(ids, output))\n",
    "predictions_file.close()\n",
    "print ('Done.')\n"
   ]
  },
  {
   "cell_type": "code",
   "execution_count": 33,
   "metadata": {},
   "outputs": [
    {
     "data": {
      "text/plain": [
       "array([[ 3.    , 22.    ,  1.    , ...,  7.25  ,  2.    ,  1.    ],\n",
       "       [ 1.    , 38.    ,  1.    , ..., 71.2833,  0.    ,  0.    ],\n",
       "       [ 3.    , 26.    ,  0.    , ...,  7.925 ,  2.    ,  0.    ],\n",
       "       ...,\n",
       "       [ 3.    , 28.    ,  1.    , ..., 23.45  ,  2.    ,  0.    ],\n",
       "       [ 1.    , 26.    ,  0.    , ..., 30.    ,  0.    ,  1.    ],\n",
       "       [ 3.    , 32.    ,  0.    , ...,  7.75  ,  1.    ,  1.    ]])"
      ]
     },
     "execution_count": 33,
     "metadata": {},
     "output_type": "execute_result"
    }
   ],
   "source": [
    "train_data[0::,1::]"
   ]
  },
  {
   "cell_type": "code",
   "execution_count": 34,
   "metadata": {},
   "outputs": [
    {
     "data": {
      "text/plain": [
       "array([[ 0.    ,  3.    , 22.    , ...,  7.25  ,  2.    ,  1.    ],\n",
       "       [ 1.    ,  1.    , 38.    , ..., 71.2833,  0.    ,  0.    ],\n",
       "       [ 1.    ,  3.    , 26.    , ...,  7.925 ,  2.    ,  0.    ],\n",
       "       ...,\n",
       "       [ 0.    ,  3.    , 28.    , ..., 23.45  ,  2.    ,  0.    ],\n",
       "       [ 1.    ,  1.    , 26.    , ..., 30.    ,  0.    ,  1.    ],\n",
       "       [ 0.    ,  3.    , 32.    , ...,  7.75  ,  1.    ,  1.    ]])"
      ]
     },
     "execution_count": 34,
     "metadata": {},
     "output_type": "execute_result"
    }
   ],
   "source": [
    "train_data"
   ]
  },
  {
   "cell_type": "code",
   "execution_count": null,
   "metadata": {},
   "outputs": [],
   "source": []
  },
  {
   "cell_type": "code",
   "execution_count": 1,
   "metadata": {},
   "outputs": [],
   "source": [
    "import csv as csv\n",
    "import numpy as np"
   ]
  },
  {
   "cell_type": "code",
   "execution_count": 23,
   "metadata": {},
   "outputs": [],
   "source": [
    "csv_file_object = csv.reader(open('data/train.csv', 'r')) # Load in the csv file\n",
    "#csv.reader returns list of each row \n",
    "header = next(csv_file_object) # Skip the fist line as it is a header\n",
    "data=[]\n",
    "\n",
    "data = np.array(list(csv_file_object)) "
   ]
  },
  {
   "cell_type": "code",
   "execution_count": 55,
   "metadata": {},
   "outputs": [
    {
     "data": {
      "text/plain": [
       "array([ True,  True,  True,  True,  True,  True,  True,  True,  True,\n",
       "        True,  True,  True,  True])"
      ]
     },
     "execution_count": 55,
     "metadata": {},
     "output_type": "execute_result"
    }
   ],
   "source": [
    "data[:,0] == data[0::,0]"
   ]
  },
  {
   "cell_type": "code",
   "execution_count": 54,
   "metadata": {},
   "outputs": [
    {
     "data": {
      "text/plain": [
       "array(['a', 't', 'a', '/', 't', 'r', 'a', 'i', 'n', '.', 'c', 's', 'v'],\n",
       "      dtype='<U1')"
      ]
     },
     "execution_count": 54,
     "metadata": {},
     "output_type": "execute_result"
    }
   ],
   "source": [
    "data[0::,0]"
   ]
  },
  {
   "cell_type": "code",
   "execution_count": 28,
   "metadata": {},
   "outputs": [],
   "source": [
    "csv_file_object = csv.reader(open('data/train.csv', 'r'))\n",
    "header = next(csv_file_object) \n",
    "data=[] \n",
    "\n",
    "for row in csv_file_object: \n",
    "    data.append(row[0:]) \n",
    "data = np.array(data) "
   ]
  },
  {
   "cell_type": "code",
   "execution_count": 49,
   "metadata": {},
   "outputs": [],
   "source": [
    "csv_file_object = list(csv.DictReader(open('data/train.csv', 'r')))\n",
    "#csv.DictReader returns a list of OrderDict, 1 row by 1 row\n",
    "object1=csv_file_object[0]"
   ]
  },
  {
   "cell_type": "code",
   "execution_count": 51,
   "metadata": {},
   "outputs": [
    {
     "name": "stdout",
     "output_type": "stream",
     "text": [
      "PassengerId 1\n",
      "Survived 0\n",
      "Pclass 3\n",
      "Name Braund, Mr. Owen Harris\n",
      "Sex male\n",
      "Age 22\n",
      "SibSp 1\n",
      "Parch 0\n",
      "Ticket A/5 21171\n",
      "Fare 7.25\n",
      "Cabin \n",
      "Embarked S\n"
     ]
    }
   ],
   "source": [
    "for key, value in object1.items():\n",
    "    print(key, value)"
   ]
  },
  {
   "cell_type": "code",
   "execution_count": null,
   "metadata": {},
   "outputs": [],
   "source": [
    "\n",
    "# Now I have an array of 12 columns and 891 rows\n",
    "# I can access any element I want, so the entire first column would\n",
    "# be data[0::,0].astype(np.float) -- This means all of the rows (from start to end), in column 0\n",
    "# I have to add the .astype() command, because\n",
    "# when appending the rows, python thought it was a string - so needed to convert\n",
    "\n",
    "# Set some variables\n",
    "number_passengers = np.size(data[0::,1].astype(np.float))\n",
    "number_survived = np.sum(data[0::,1].astype(np.float))\n",
    "proportion_survivors = number_survived / number_passengers \n",
    "\n",
    "# I can now find the stats of all the women on board,\n",
    "# by making an array that lists True/False whether each row is female\n",
    "women_only_stats = data[0::,4] == \"female\" \t# This finds where all the women are\n",
    "men_only_stats = data[0::,4] != \"female\" \t# This finds where all the men are (note != means 'not equal')\n",
    "\n",
    "# I can now filter the whole data, to find statistics for just women, by just placing\n",
    "# women_only_stats as a \"mask\" on my full data -- Use it in place of the '0::' part of the array index. \n",
    "# You can test it by placing it there, and requesting column index [4], and the output should all read 'female'\n",
    "# e.g. try typing this:   data[women_only_stats,4]\n",
    "women_onboard = data[women_only_stats,1].astype(np.float)\n",
    "men_onboard = data[men_only_stats,1].astype(np.float)\n",
    "\n",
    "# and derive some statistics about them\n",
    "proportion_women_survived = np.sum(women_onboard) / np.size(women_onboard)\n",
    "proportion_men_survived = np.sum(men_onboard) / np.size(men_onboard)\n",
    "\n",
    "print 'Proportion of women who survived is %s' % proportion_women_survived\n",
    "print 'Proportion of men who survived is %s' % proportion_men_survived\n",
    "\n",
    "# Now that I have my indicator that women were much more likely to survive,\n",
    "# I am done with the training set.\n",
    "# Now I will read in the test file and write out my simplistic prediction:\n",
    "# if female, then model that she survived (1) \n",
    "# if male, then model that he did not survive (0)\n",
    "\n",
    "# First, read in test.csv\n",
    "test_file = open('test.csv', 'rb')\n",
    "test_file_object = csv.reader(test_file)\n",
    "header = test_file_object.next()\n",
    "\n",
    "# Also open the a new file so I can write to it. Call it something descriptive\n",
    "# Finally, loop through each row in the train file, and look in column index [3] (which is 'Sex')\n",
    "# Write out the PassengerId, and my prediction.\n",
    "\n",
    "predictions_file = open(\"gendermodel.csv\", \"wb\")\n",
    "predictions_file_object = csv.writer(predictions_file)\n",
    "predictions_file_object.writerow([\"PassengerId\", \"Survived\"])\t# write the column headers\n",
    "for row in test_file_object:\t\t\t\t\t\t\t\t\t# For each row in test file,\n",
    "    if row[3] == 'female':\t\t\t\t\t\t\t\t\t\t# is it a female, if yes then\n",
    "        predictions_file_object.writerow([row[0], \"1\"])\t\t\t# write the PassengerId, and predict 1\n",
    "    else:\t\t\t\t\t\t\t\t\t\t\t\t\t\t# or else if male,\n",
    "        predictions_file_object.writerow([row[0], \"0\"])\t\t\t# write the PassengerId, and predict 0.\n",
    "test_file.close()\t\t\t\t\t\t\t\t\t\t\t\t# Close out the files.\n",
    "predictions_file.close()\n",
    "\n"
   ]
  },
  {
   "cell_type": "code",
   "execution_count": null,
   "metadata": {},
   "outputs": [],
   "source": []
  },
  {
   "cell_type": "code",
   "execution_count": null,
   "metadata": {},
   "outputs": [],
   "source": []
  },
  {
   "cell_type": "code",
   "execution_count": null,
   "metadata": {},
   "outputs": [],
   "source": [
    "\"\"\" Now that the user can read in a file this creates a model which uses the price, class and gender\n",
    "Author : AstroDave\n",
    "Date : 18th September 2012\n",
    "Revised : 28 March 2014\n",
    "\n",
    "\"\"\"\n",
    "\n",
    "import csv as csv\n",
    "import numpy as np\n",
    "\n",
    "csv_file_object = csv.reader(open('train.csv', 'rb'))       # Load in the csv file\n",
    "header = csv_file_object.next()                             # Skip the fist line as it is a header\n",
    "data=[]                                                     # Create a variable to hold the data\n",
    "\n",
    "for row in csv_file_object:                 # Skip through each row in the csv file\n",
    "    data.append(row)                        # adding each row to the data variable\n",
    "data = np.array(data)                       # Then convert from a list to an array\n",
    "\n",
    "# In order to analyse the price column I need to bin up that data\n",
    "# here are my binning parameters, the problem we face is some of the fares are very large\n",
    "# So we can either have a lot of bins with nothing in them or we can just lose some\n",
    "# information by just considering that anythng over 39 is simply in the last bin.\n",
    "# So we add a ceiling\n",
    "fare_ceiling = 40\n",
    "# then modify the data in the Fare column to = 39, if it is greater or equal to the ceiling\n",
    "data[ data[0::,9].astype(np.float) >= fare_ceiling, 9 ] = fare_ceiling - 1.0\n",
    "\n",
    "fare_bracket_size = 10\n",
    "number_of_price_brackets = fare_ceiling / fare_bracket_size\n",
    "number_of_classes = 3                             # I know there were 1st, 2nd and 3rd classes on board.\n",
    "number_of_classes = len(np.unique(data[0::,2]))   # But it's better practice to calculate this from the Pclass directly:\n",
    "                                                  # just take the length of an array of UNIQUE values in column index 2\n",
    "\n",
    "\n",
    "# This reference matrix will show the proportion of survivors as a sorted table of\n",
    "# gender, class and ticket fare.\n",
    "# First initialize it with all zeros\n",
    "survival_table = np.zeros([2,number_of_classes,number_of_price_brackets],float)\n",
    "\n",
    "# I can now find the stats of all the women and men on board\n",
    "for i in xrange(number_of_classes):\n",
    "    for j in xrange(number_of_price_brackets):\n",
    "\n",
    "        women_only_stats = data[ (data[0::,4] == \"female\") \\\n",
    "                                 & (data[0::,2].astype(np.float) == i+1) \\\n",
    "                                 & (data[0:,9].astype(np.float) >= j*fare_bracket_size) \\\n",
    "                                 & (data[0:,9].astype(np.float) < (j+1)*fare_bracket_size), 1]\n",
    "\n",
    "        men_only_stats = data[ (data[0::,4] != \"female\") \\\n",
    "                                 & (data[0::,2].astype(np.float) == i+1) \\\n",
    "                                 & (data[0:,9].astype(np.float) >= j*fare_bracket_size) \\\n",
    "                                 & (data[0:,9].astype(np.float) < (j+1)*fare_bracket_size), 1]\n",
    "\n",
    "                                 #if i == 0 and j == 3:\n",
    "\n",
    "        survival_table[0,i,j] = np.mean(women_only_stats.astype(np.float))  # Female stats\n",
    "        survival_table[1,i,j] = np.mean(men_only_stats.astype(np.float))    # Male stats\n",
    "\n",
    "# Since in python if it tries to find the mean of an array with nothing in it\n",
    "# (such that the denominator is 0), then it returns nan, we can convert these to 0\n",
    "# by just saying where does the array not equal the array, and set these to 0.\n",
    "survival_table[ survival_table != survival_table ] = 0.\n",
    "\n",
    "# Now I have my proportion of survivors, simply round them such that if <0.5\n",
    "# I predict they dont surivive, and if >= 0.5 they do\n",
    "survival_table[ survival_table < 0.5 ] = 0\n",
    "survival_table[ survival_table >= 0.5 ] = 1\n",
    "\n",
    "# Now I have my indicator I can read in the test file and write out\n",
    "# if a women then survived(1) if a man then did not survived (0)\n",
    "# First read in test\n",
    "test_file = open('test.csv', 'rb')\n",
    "test_file_object = csv.reader(test_file)\n",
    "header = test_file_object.next()\n",
    "\n",
    "# Also open the a new file so I can write to it. \n",
    "predictions_file = open(\"genderclassmodel.csv\", \"wb\")\n",
    "predictions_file_object = csv.writer(predictions_file)\n",
    "predictions_file_object.writerow([\"PassengerId\", \"Survived\"])\n",
    "\n",
    "# First thing to do is bin up the price file\n",
    "for row in test_file_object:\n",
    "    for j in xrange(number_of_price_brackets):\n",
    "        # If there is no fare then place the price of the ticket according to class\n",
    "        try:\n",
    "            row[8] = float(row[8])    # No fare recorded will come up as a string so\n",
    "                                      # try to make it a float\n",
    "        except:                       # If fails then just bin the fare according to the class\n",
    "            bin_fare = 3 - float(row[1])\n",
    "            break                     # Break from the loop and move to the next row\n",
    "        if row[8] > fare_ceiling:     # Otherwise now test to see if it is higher\n",
    "                                      # than the fare ceiling we set earlier\n",
    "            bin_fare = number_of_price_brackets - 1\n",
    "            break                     # And then break to the next row\n",
    "\n",
    "        if row[8] >= j*fare_bracket_size\\\n",
    "            and row[8] < (j+1)*fare_bracket_size:     # If passed these tests then loop through\n",
    "                                                      # each bin until you find the right one\n",
    "                                                      # append it to the bin_fare\n",
    "                                                      # and move to the next loop\n",
    "            bin_fare = j\n",
    "            break\n",
    "        # Now I have the binned fare, passenger class, and whether female or male, we can\n",
    "        # just cross ref their details with our survival table\n",
    "    if row[3] == 'female':\n",
    "        predictions_file_object.writerow([row[0], \"%d\" % int(survival_table[ 0, float(row[1]) - 1, bin_fare ])])\n",
    "    else:\n",
    "        predictions_file_object.writerow([row[0], \"%d\" % int(survival_table[ 1, float(row[1]) - 1, bin_fare])])\n",
    "\n",
    "# Close out the files\n",
    "test_file.close()\n",
    "predictions_file.close()"
   ]
  }
 ],
 "metadata": {
  "kernelspec": {
   "display_name": "Python 3",
   "language": "python",
   "name": "python3"
  },
  "language_info": {
   "codemirror_mode": {
    "name": "ipython",
    "version": 3
   },
   "file_extension": ".py",
   "mimetype": "text/x-python",
   "name": "python",
   "nbconvert_exporter": "python",
   "pygments_lexer": "ipython3",
   "version": "3.7.1"
  }
 },
 "nbformat": 4,
 "nbformat_minor": 2
}
