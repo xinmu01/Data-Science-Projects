{
 "cells": [
  {
   "cell_type": "markdown",
   "metadata": {},
   "source": [
    "# Project 2. Investigate Titanic Dataset"
   ]
  },
  {
   "cell_type": "markdown",
   "metadata": {},
   "source": [
    "## 1. Introduction\n",
    "\n",
    "RMS Titanic was a British passenger liner that sank in the North Atlantic Ocean in the early morning of 15 April 1912, after colliding with an iceberg during her maiden voyage from Southampton to New York City. In this project, I investigated a dataset which contains the demographics and passenger information from 891 of the 2224 passengers and crew on board the Titanic.   "
   ]
  },
  {
   "cell_type": "markdown",
   "metadata": {},
   "source": [
    "## 2. Data Cleaning and Exploration"
   ]
  },
  {
   "cell_type": "markdown",
   "metadata": {},
   "source": [
    "### 2.1. Import all necessary tools and load the dataset"
   ]
  },
  {
   "cell_type": "code",
   "execution_count": 1,
   "metadata": {},
   "outputs": [
    {
     "name": "stdout",
     "output_type": "stream",
     "text": [
      "Populating the interactive namespace from numpy and matplotlib\n"
     ]
    }
   ],
   "source": [
    "### Import all necessary tools\n",
    "import numpy as np\n",
    "from scipy import stats\n",
    "import pandas as pd\n",
    "import matplotlib.pyplot as plt\n",
    "import seaborn as sns\n",
    "%pylab inline\n",
    "%matplotlib inline"
   ]
  },
  {
   "cell_type": "code",
   "execution_count": 2,
   "metadata": {
    "collapsed": true
   },
   "outputs": [],
   "source": [
    "### Load the Titanic dataset into ipython notebook\n",
    "datafile = 'titanic_data.csv'\n",
    "Titanic = pd.read_csv(datafile) ## By default, pd.read_csv takes the first line of the csv file as the header"
   ]
  },
  {
   "cell_type": "markdown",
   "metadata": {},
   "source": [
    "### 2.2. Examine the dataset and perform data cleaning "
   ]
  },
  {
   "cell_type": "markdown",
   "metadata": {},
   "source": [
    "#### 2.2.1. Examine the first 5 and last 5 examples in the dataset\n",
    "\n",
    "In this part, I examine the first and last 5 examples in the loaded dataset. By looking at the structure of the dataset, I can decide whether there are any data wrangling tasks I should perform. "
   ]
  },
  {
   "cell_type": "code",
   "execution_count": 3,
   "metadata": {},
   "outputs": [
    {
     "data": {
      "text/html": [
       "<div>\n",
       "<table border=\"1\" class=\"dataframe\">\n",
       "  <thead>\n",
       "    <tr style=\"text-align: right;\">\n",
       "      <th></th>\n",
       "      <th>PassengerId</th>\n",
       "      <th>Survived</th>\n",
       "      <th>Pclass</th>\n",
       "      <th>Name</th>\n",
       "      <th>Sex</th>\n",
       "      <th>Age</th>\n",
       "      <th>SibSp</th>\n",
       "      <th>Parch</th>\n",
       "      <th>Ticket</th>\n",
       "      <th>Fare</th>\n",
       "      <th>Cabin</th>\n",
       "      <th>Embarked</th>\n",
       "    </tr>\n",
       "  </thead>\n",
       "  <tbody>\n",
       "    <tr>\n",
       "      <th>0</th>\n",
       "      <td>1</td>\n",
       "      <td>0</td>\n",
       "      <td>3</td>\n",
       "      <td>Braund, Mr. Owen Harris</td>\n",
       "      <td>male</td>\n",
       "      <td>22.0</td>\n",
       "      <td>1</td>\n",
       "      <td>0</td>\n",
       "      <td>A/5 21171</td>\n",
       "      <td>7.2500</td>\n",
       "      <td>NaN</td>\n",
       "      <td>S</td>\n",
       "    </tr>\n",
       "    <tr>\n",
       "      <th>1</th>\n",
       "      <td>2</td>\n",
       "      <td>1</td>\n",
       "      <td>1</td>\n",
       "      <td>Cumings, Mrs. John Bradley (Florence Briggs Th...</td>\n",
       "      <td>female</td>\n",
       "      <td>38.0</td>\n",
       "      <td>1</td>\n",
       "      <td>0</td>\n",
       "      <td>PC 17599</td>\n",
       "      <td>71.2833</td>\n",
       "      <td>C85</td>\n",
       "      <td>C</td>\n",
       "    </tr>\n",
       "    <tr>\n",
       "      <th>2</th>\n",
       "      <td>3</td>\n",
       "      <td>1</td>\n",
       "      <td>3</td>\n",
       "      <td>Heikkinen, Miss. Laina</td>\n",
       "      <td>female</td>\n",
       "      <td>26.0</td>\n",
       "      <td>0</td>\n",
       "      <td>0</td>\n",
       "      <td>STON/O2. 3101282</td>\n",
       "      <td>7.9250</td>\n",
       "      <td>NaN</td>\n",
       "      <td>S</td>\n",
       "    </tr>\n",
       "    <tr>\n",
       "      <th>3</th>\n",
       "      <td>4</td>\n",
       "      <td>1</td>\n",
       "      <td>1</td>\n",
       "      <td>Futrelle, Mrs. Jacques Heath (Lily May Peel)</td>\n",
       "      <td>female</td>\n",
       "      <td>35.0</td>\n",
       "      <td>1</td>\n",
       "      <td>0</td>\n",
       "      <td>113803</td>\n",
       "      <td>53.1000</td>\n",
       "      <td>C123</td>\n",
       "      <td>S</td>\n",
       "    </tr>\n",
       "    <tr>\n",
       "      <th>4</th>\n",
       "      <td>5</td>\n",
       "      <td>0</td>\n",
       "      <td>3</td>\n",
       "      <td>Allen, Mr. William Henry</td>\n",
       "      <td>male</td>\n",
       "      <td>35.0</td>\n",
       "      <td>0</td>\n",
       "      <td>0</td>\n",
       "      <td>373450</td>\n",
       "      <td>8.0500</td>\n",
       "      <td>NaN</td>\n",
       "      <td>S</td>\n",
       "    </tr>\n",
       "  </tbody>\n",
       "</table>\n",
       "</div>"
      ],
      "text/plain": [
       "   PassengerId  Survived  Pclass  \\\n",
       "0            1         0       3   \n",
       "1            2         1       1   \n",
       "2            3         1       3   \n",
       "3            4         1       1   \n",
       "4            5         0       3   \n",
       "\n",
       "                                                Name     Sex   Age  SibSp  \\\n",
       "0                            Braund, Mr. Owen Harris    male  22.0      1   \n",
       "1  Cumings, Mrs. John Bradley (Florence Briggs Th...  female  38.0      1   \n",
       "2                             Heikkinen, Miss. Laina  female  26.0      0   \n",
       "3       Futrelle, Mrs. Jacques Heath (Lily May Peel)  female  35.0      1   \n",
       "4                           Allen, Mr. William Henry    male  35.0      0   \n",
       "\n",
       "   Parch            Ticket     Fare Cabin Embarked  \n",
       "0      0         A/5 21171   7.2500   NaN        S  \n",
       "1      0          PC 17599  71.2833   C85        C  \n",
       "2      0  STON/O2. 3101282   7.9250   NaN        S  \n",
       "3      0            113803  53.1000  C123        S  \n",
       "4      0            373450   8.0500   NaN        S  "
      ]
     },
     "metadata": {},
     "output_type": "display_data"
    },
    {
     "data": {
      "text/html": [
       "<div>\n",
       "<table border=\"1\" class=\"dataframe\">\n",
       "  <thead>\n",
       "    <tr style=\"text-align: right;\">\n",
       "      <th></th>\n",
       "      <th>PassengerId</th>\n",
       "      <th>Survived</th>\n",
       "      <th>Pclass</th>\n",
       "      <th>Name</th>\n",
       "      <th>Sex</th>\n",
       "      <th>Age</th>\n",
       "      <th>SibSp</th>\n",
       "      <th>Parch</th>\n",
       "      <th>Ticket</th>\n",
       "      <th>Fare</th>\n",
       "      <th>Cabin</th>\n",
       "      <th>Embarked</th>\n",
       "    </tr>\n",
       "  </thead>\n",
       "  <tbody>\n",
       "    <tr>\n",
       "      <th>886</th>\n",
       "      <td>887</td>\n",
       "      <td>0</td>\n",
       "      <td>2</td>\n",
       "      <td>Montvila, Rev. Juozas</td>\n",
       "      <td>male</td>\n",
       "      <td>27.0</td>\n",
       "      <td>0</td>\n",
       "      <td>0</td>\n",
       "      <td>211536</td>\n",
       "      <td>13.00</td>\n",
       "      <td>NaN</td>\n",
       "      <td>S</td>\n",
       "    </tr>\n",
       "    <tr>\n",
       "      <th>887</th>\n",
       "      <td>888</td>\n",
       "      <td>1</td>\n",
       "      <td>1</td>\n",
       "      <td>Graham, Miss. Margaret Edith</td>\n",
       "      <td>female</td>\n",
       "      <td>19.0</td>\n",
       "      <td>0</td>\n",
       "      <td>0</td>\n",
       "      <td>112053</td>\n",
       "      <td>30.00</td>\n",
       "      <td>B42</td>\n",
       "      <td>S</td>\n",
       "    </tr>\n",
       "    <tr>\n",
       "      <th>888</th>\n",
       "      <td>889</td>\n",
       "      <td>0</td>\n",
       "      <td>3</td>\n",
       "      <td>Johnston, Miss. Catherine Helen \"Carrie\"</td>\n",
       "      <td>female</td>\n",
       "      <td>NaN</td>\n",
       "      <td>1</td>\n",
       "      <td>2</td>\n",
       "      <td>W./C. 6607</td>\n",
       "      <td>23.45</td>\n",
       "      <td>NaN</td>\n",
       "      <td>S</td>\n",
       "    </tr>\n",
       "    <tr>\n",
       "      <th>889</th>\n",
       "      <td>890</td>\n",
       "      <td>1</td>\n",
       "      <td>1</td>\n",
       "      <td>Behr, Mr. Karl Howell</td>\n",
       "      <td>male</td>\n",
       "      <td>26.0</td>\n",
       "      <td>0</td>\n",
       "      <td>0</td>\n",
       "      <td>111369</td>\n",
       "      <td>30.00</td>\n",
       "      <td>C148</td>\n",
       "      <td>C</td>\n",
       "    </tr>\n",
       "    <tr>\n",
       "      <th>890</th>\n",
       "      <td>891</td>\n",
       "      <td>0</td>\n",
       "      <td>3</td>\n",
       "      <td>Dooley, Mr. Patrick</td>\n",
       "      <td>male</td>\n",
       "      <td>32.0</td>\n",
       "      <td>0</td>\n",
       "      <td>0</td>\n",
       "      <td>370376</td>\n",
       "      <td>7.75</td>\n",
       "      <td>NaN</td>\n",
       "      <td>Q</td>\n",
       "    </tr>\n",
       "  </tbody>\n",
       "</table>\n",
       "</div>"
      ],
      "text/plain": [
       "     PassengerId  Survived  Pclass                                      Name  \\\n",
       "886          887         0       2                     Montvila, Rev. Juozas   \n",
       "887          888         1       1              Graham, Miss. Margaret Edith   \n",
       "888          889         0       3  Johnston, Miss. Catherine Helen \"Carrie\"   \n",
       "889          890         1       1                     Behr, Mr. Karl Howell   \n",
       "890          891         0       3                       Dooley, Mr. Patrick   \n",
       "\n",
       "        Sex   Age  SibSp  Parch      Ticket   Fare Cabin Embarked  \n",
       "886    male  27.0      0      0      211536  13.00   NaN        S  \n",
       "887  female  19.0      0      0      112053  30.00   B42        S  \n",
       "888  female   NaN      1      2  W./C. 6607  23.45   NaN        S  \n",
       "889    male  26.0      0      0      111369  30.00  C148        C  \n",
       "890    male  32.0      0      0      370376   7.75   NaN        Q  "
      ]
     },
     "metadata": {},
     "output_type": "display_data"
    }
   ],
   "source": [
    "### Display the first and last 5 examples in the data set\n",
    "display (Titanic.head())\n",
    "display (Titanic.tail())"
   ]
  },
  {
   "cell_type": "markdown",
   "metadata": {},
   "source": [
    "#### Comments: \n",
    "The dataset has been corrretly loaded as a Pandas dataframe. There are 891 examples and 12 different attributes in the dataset. I found there are some 'NaN's in the dataframe, which means there are some missing values in the dataset. Some data cleaning process should be perform to deal with these missing values later in this project."
   ]
  },
  {
   "cell_type": "markdown",
   "metadata": {},
   "source": [
    "#### 2.2.2. Counts of each attribute"
   ]
  },
  {
   "cell_type": "code",
   "execution_count": 4,
   "metadata": {},
   "outputs": [
    {
     "data": {
      "text/plain": [
       "PassengerId    891\n",
       "Survived       891\n",
       "Pclass         891\n",
       "Name           891\n",
       "Sex            891\n",
       "Age            714\n",
       "SibSp          891\n",
       "Parch          891\n",
       "Ticket         891\n",
       "Fare           891\n",
       "Cabin          204\n",
       "Embarked       889\n",
       "dtype: int64"
      ]
     },
     "execution_count": 4,
     "metadata": {},
     "output_type": "execute_result"
    }
   ],
   "source": [
    "### Count the examples for each attribute\n",
    "Titanic.count()"
   ]
  },
  {
   "cell_type": "markdown",
   "metadata": {},
   "source": [
    "#### Comments:\n",
    "All of the attributes in the dataset have 891 examples except for 'Age', 'Cabin' and 'Embarked' attributes. There are 714, 204 and 889 examples for 'Age', 'Cabin' and 'Embarked'attributes, which means there are 177, 687 and 2 missing data for them respectively."
   ]
  },
  {
   "cell_type": "markdown",
   "metadata": {},
   "source": [
    "#### 2.2.3. Data type of each attribute\n",
    "\n",
    "In this part, I investigate the data type of each attribute. Sometimes, the default data type is not suitable for further data analysis. I need to convert them to the suitable data types. This process is data cleanning. "
   ]
  },
  {
   "cell_type": "code",
   "execution_count": 5,
   "metadata": {},
   "outputs": [
    {
     "data": {
      "text/plain": [
       "PassengerId      int64\n",
       "Survived         int64\n",
       "Pclass           int64\n",
       "Name            object\n",
       "Sex             object\n",
       "Age            float64\n",
       "SibSp            int64\n",
       "Parch            int64\n",
       "Ticket          object\n",
       "Fare           float64\n",
       "Cabin           object\n",
       "Embarked        object\n",
       "dtype: object"
      ]
     },
     "execution_count": 5,
     "metadata": {},
     "output_type": "execute_result"
    }
   ],
   "source": [
    "### Show the datatype of each attribute\n",
    "Titanic.dtypes"
   ]
  },
  {
   "cell_type": "markdown",
   "metadata": {},
   "source": [
    "#### Comments:\n",
    "The the data types of attributes 'PassengerId', 'Survived' and 'Pclass' are all int64, which is not suitable for further data analysis. I need to change them from integer type to string type."
   ]
  },
  {
   "cell_type": "markdown",
   "metadata": {},
   "source": [
    "#### 2.2.4. Change the data type of 'PassengerId', 'Survived' and 'Pclass' attributes -- Data Cleaning"
   ]
  },
  {
   "cell_type": "code",
   "execution_count": 6,
   "metadata": {},
   "outputs": [
    {
     "data": {
      "text/plain": [
       "PassengerId     object\n",
       "Survived        object\n",
       "Pclass          object\n",
       "Name            object\n",
       "Sex             object\n",
       "Age            float64\n",
       "SibSp            int64\n",
       "Parch            int64\n",
       "Ticket          object\n",
       "Fare           float64\n",
       "Cabin           object\n",
       "Embarked        object\n",
       "dtype: object"
      ]
     },
     "execution_count": 6,
     "metadata": {},
     "output_type": "execute_result"
    }
   ],
   "source": [
    "### Change the datatype of atrributes 'PassengerId','Survived' and 'Pclass' from integer to string \n",
    "Titanic['PassengerId'] = Titanic['PassengerId'].astype('str')\n",
    "Titanic['Survived'] = Titanic['Survived'].astype('str')\n",
    "Titanic['Pclass'] = Titanic['Pclass'].astype('str')\n",
    "Titanic.dtypes"
   ]
  },
  {
   "cell_type": "markdown",
   "metadata": {},
   "source": [
    "#### Comments:\n",
    "\n",
    "After this data cleaning process, now all the attributes have the suitable data types for the following data analysis."
   ]
  },
  {
   "cell_type": "markdown",
   "metadata": {},
   "source": [
    "### 2.3. Explore and analyze the Titanic dataset  "
   ]
  },
  {
   "cell_type": "markdown",
   "metadata": {},
   "source": [
    "#### 2.3.1. Investigate the categorical attributes"
   ]
  },
  {
   "cell_type": "markdown",
   "metadata": {},
   "source": [
    "In this part, I investigate the categorical attributes in the dataset: 'Survived', 'Pclass', 'Sex' and 'Embarked'. Some questions can be answered by exploring these categorical attributes. "
   ]
  },
  {
   "cell_type": "markdown",
   "metadata": {},
   "source": [
    "##### 2.3.1.1 In this dataset, how many people were survived from this horrible tragedy?\n",
    "\n",
    "By exmining the 'Survived' attribute, I find, for the total of 891 people in this dataset, there were 342 people who survived and 549 people who did not survive. The survivial rate was 38.38%."
   ]
  },
  {
   "cell_type": "code",
   "execution_count": 7,
   "metadata": {},
   "outputs": [
    {
     "data": {
      "text/plain": [
       "0    549\n",
       "1    342\n",
       "Name: Survived, dtype: int64"
      ]
     },
     "execution_count": 7,
     "metadata": {},
     "output_type": "execute_result"
    }
   ],
   "source": [
    "### Count the number of people who survived and not survived\n",
    "Titanic['Survived'].value_counts() "
   ]
  },
  {
   "cell_type": "code",
   "execution_count": 7,
   "metadata": {},
   "outputs": [
    {
     "data": {
      "text/plain": [
       "<matplotlib.text.Text at 0xbf6f4e0>"
      ]
     },
     "execution_count": 7,
     "metadata": {},
     "output_type": "execute_result"
    },
    {
     "data": {
      "image/png": "[encoded data removed]",
      "text/plain": [
       "<matplotlib.figure.Figure at 0xbda7630>"
      ]
     },
     "metadata": {},
     "output_type": "display_data"
    }
   ],
   "source": [
    "### Plot the pie chart to show how many people survived and how many did not survive\n",
    "labels = ['Survived', 'Not Survived']\n",
    "sizes = [342, 549]\n",
    "colors = ['red','blue']\n",
    "explode=(0.05, 0.0)\n",
    "\n",
    "patches, texts, autotexts = plt.pie(sizes, explode = explode, labels=labels, colors = colors, autopct='%1.2f%%', shadow=True, startangle=90)\n",
    "texts[0].set_fontsize(14)\n",
    "texts[1].set_fontsize(14)\n",
    "autotexts[0].set_fontsize(14)\n",
    "autotexts[1].set_fontsize(14)\n",
    "title('Survived and Not Survived',size =15, bbox={'facecolor':'0.8', 'pad':8})"
   ]
  },
  {
   "cell_type": "markdown",
   "metadata": {},
   "source": [
    "##### 2.3.1.2. How many people had the 1st, 2nd and 3rd class ticket, respectively?\n",
    "\n",
    "By examing the 'Pclass' attribute, I find there were 216 peole holding the 1st class ticket on board, 184 people holding the 2nd class ticket and 491 people holding the 3rd class ticket. To summarize, more than half of the people (55.11%) holdd the 3rd class tickets, and the percentage of people with the 1st and 2nd class tickets were 24.24% and 20.65% respectively.   "
   ]
  },
  {
   "cell_type": "code",
   "execution_count": 8,
   "metadata": {},
   "outputs": [
    {
     "data": {
      "text/plain": [
       "3    491\n",
       "1    216\n",
       "2    184\n",
       "Name: Pclass, dtype: int64"
      ]
     },
     "execution_count": 8,
     "metadata": {},
     "output_type": "execute_result"
    }
   ],
   "source": [
    "### Count the number of people with different class ticket \n",
    "Titanic['Pclass'].value_counts() "
   ]
  },
  {
   "cell_type": "code",
   "execution_count": 9,
   "metadata": {},
   "outputs": [
    {
     "data": {
      "text/plain": [
       "<matplotlib.text.Text at 0xc07c400>"
      ]
     },
     "execution_count": 9,
     "metadata": {},
     "output_type": "execute_result"
    },
    {
     "data": {
      "image/png": "[encoded data removed]",
      "text/plain": [
       "<matplotlib.figure.Figure at 0xbdecb70>"
      ]
     },
     "metadata": {},
     "output_type": "display_data"
    }
   ],
   "source": [
    "### Plot the pie chart to explore the people distribution with different ticket class.\n",
    "labels = ['1st Class', '2nd Class', '3rd Class']\n",
    "sizes = [216, 184, 491]\n",
    "colors = ['red','blue','yellow']\n",
    "explode=(0.02, 0.02, 0.02)\n",
    "\n",
    "patches, texts, autotexts = plt.pie(sizes, explode = explode, labels=labels, colors = colors, autopct='%1.2f%%', shadow=True, startangle=140)\n",
    "texts[0].set_fontsize(14)\n",
    "texts[1].set_fontsize(14)\n",
    "texts[2].set_fontsize(14)\n",
    "autotexts[0].set_fontsize(14)\n",
    "autotexts[1].set_fontsize(14)\n",
    "autotexts[2].set_fontsize(14)\n",
    "title('Different Ticket Classes',size =15, bbox={'facecolor':'0.8', 'pad':8})"
   ]
  },
  {
   "cell_type": "markdown",
   "metadata": {},
   "source": [
    "##### 2.3.1.3. Explore the 'Sex' and 'Embarked' attributes\n",
    "\n",
    "Using the same method as above, I find that:\n",
    "\n",
    "1. In the total of 891 people in the dataset, there were 577 male and 314 female.\n",
    "\n",
    "2. There were 644 people embarked from Southampton, 168 people embarked from Cherbourg, 77 people embarked from Queenstown, and 2 people associated with missing values for the 'Embarked' attribute. Since, this journey started from Southampton, it makes sense that more than 72% people embarked from Southampton. \n",
    "\n",
    "Data cleaning point of view: note that there are 2 missing values in the 'Embarked' attributes. Since this is a very small portion compared to the whole dataset, I just safely ignore these 2 missing values for this part of analysis."
   ]
  },
  {
   "cell_type": "code",
   "execution_count": 12,
   "metadata": {},
   "outputs": [
    {
     "data": {
      "text/plain": [
       "male      577\n",
       "female    314\n",
       "Name: Sex, dtype: int64"
      ]
     },
     "execution_count": 12,
     "metadata": {},
     "output_type": "execute_result"
    }
   ],
   "source": [
    "### Count the number of male and female people \n",
    "Titanic['Sex'].value_counts()"
   ]
  },
  {
   "cell_type": "code",
   "execution_count": 13,
   "metadata": {},
   "outputs": [
    {
     "data": {
      "text/plain": [
       "S    644\n",
       "C    168\n",
       "Q     77\n",
       "Name: Embarked, dtype: int64"
      ]
     },
     "execution_count": 13,
     "metadata": {},
     "output_type": "execute_result"
    }
   ],
   "source": [
    "### Count the number of people embarked from Southampton, Cherbourg and Queenstown respectively \n",
    "Titanic['Embarked'].value_counts()"
   ]
  },
  {
   "cell_type": "markdown",
   "metadata": {},
   "source": [
    "#### 2.3.2. Investigate the numeric attributes\n",
    "In this part, I investigate the numerical attributes in the Titanic dataset. "
   ]
  },
  {
   "cell_type": "markdown",
   "metadata": {},
   "source": [
    "##### 2.3.2.1. Statistics for each numeric attribute"
   ]
  },
  {
   "cell_type": "code",
   "execution_count": 14,
   "metadata": {},
   "outputs": [
    {
     "data": {
      "text/html": [
       "<div>\n",
       "<table border=\"1\" class=\"dataframe\">\n",
       "  <thead>\n",
       "    <tr style=\"text-align: right;\">\n",
       "      <th></th>\n",
       "      <th>Age</th>\n",
       "      <th>SibSp</th>\n",
       "      <th>Parch</th>\n",
       "      <th>Fare</th>\n",
       "    </tr>\n",
       "  </thead>\n",
       "  <tbody>\n",
       "    <tr>\n",
       "      <th>count</th>\n",
       "      <td>714.000000</td>\n",
       "      <td>891.000000</td>\n",
       "      <td>891.000000</td>\n",
       "      <td>891.000000</td>\n",
       "    </tr>\n",
       "    <tr>\n",
       "      <th>mean</th>\n",
       "      <td>29.699118</td>\n",
       "      <td>0.523008</td>\n",
       "      <td>0.381594</td>\n",
       "      <td>32.204208</td>\n",
       "    </tr>\n",
       "    <tr>\n",
       "      <th>std</th>\n",
       "      <td>14.526497</td>\n",
       "      <td>1.102743</td>\n",
       "      <td>0.806057</td>\n",
       "      <td>49.693429</td>\n",
       "    </tr>\n",
       "    <tr>\n",
       "      <th>min</th>\n",
       "      <td>0.420000</td>\n",
       "      <td>0.000000</td>\n",
       "      <td>0.000000</td>\n",
       "      <td>0.000000</td>\n",
       "    </tr>\n",
       "    <tr>\n",
       "      <th>25%</th>\n",
       "      <td>20.125000</td>\n",
       "      <td>0.000000</td>\n",
       "      <td>0.000000</td>\n",
       "      <td>7.910400</td>\n",
       "    </tr>\n",
       "    <tr>\n",
       "      <th>50%</th>\n",
       "      <td>28.000000</td>\n",
       "      <td>0.000000</td>\n",
       "      <td>0.000000</td>\n",
       "      <td>14.454200</td>\n",
       "    </tr>\n",
       "    <tr>\n",
       "      <th>75%</th>\n",
       "      <td>38.000000</td>\n",
       "      <td>1.000000</td>\n",
       "      <td>0.000000</td>\n",
       "      <td>31.000000</td>\n",
       "    </tr>\n",
       "    <tr>\n",
       "      <th>max</th>\n",
       "      <td>80.000000</td>\n",
       "      <td>8.000000</td>\n",
       "      <td>6.000000</td>\n",
       "      <td>512.329200</td>\n",
       "    </tr>\n",
       "  </tbody>\n",
       "</table>\n",
       "</div>"
      ],
      "text/plain": [
       "              Age       SibSp       Parch        Fare\n",
       "count  714.000000  891.000000  891.000000  891.000000\n",
       "mean    29.699118    0.523008    0.381594   32.204208\n",
       "std     14.526497    1.102743    0.806057   49.693429\n",
       "min      0.420000    0.000000    0.000000    0.000000\n",
       "25%     20.125000    0.000000    0.000000    7.910400\n",
       "50%     28.000000    0.000000    0.000000   14.454200\n",
       "75%     38.000000    1.000000    0.000000   31.000000\n",
       "max     80.000000    8.000000    6.000000  512.329200"
      ]
     },
     "execution_count": 14,
     "metadata": {},
     "output_type": "execute_result"
    }
   ],
   "source": [
    "### Calculate the descriptive statistics of each numeric attribute\n",
    "Titanic.describe()"
   ]
  },
  {
   "cell_type": "markdown",
   "metadata": {},
   "source": [
    "#### Comments:\n",
    "\n",
    "1. According to the statistics of 'Age' attribute, I find, for people on board, the average age was 29.70 years old, the median age was 28.00 years old and 75% of the people were under 38 years old.\n",
    "\n",
    "2. It seems like the passengers in Titanic did not like to travel with many accompanies. More than 75% of the passengers only had at most 1 sibling,spouse, parent or child with them on board. \n",
    "\n",
    "3. The fare of ticket had pretty large standard deviation (49.69 pounds). The minimum ticket price was 0 pounds(free ticket), and the maximum was 512.33 pounds. The median of the ticket price was 14.45 pounds, and 75% of the total tickets were cheaper than 31 pounds. Due to the very high maximum ticket price, the average ticket price was high -- 32.2 pounds, which was even higher than the 3rd quartile of the ticket fare.\n"
   ]
  },
  {
   "cell_type": "markdown",
   "metadata": {},
   "source": [
    "##### 2.3.2.2. For all the people in the dataset, what did the age distribution look like?\n",
    "\n",
    "The distribution of 'Age' attribute had more or less the bell shape. 66.9% of the people in the dataset were in the age range from 15 to 55 years old. "
   ]
  },
  {
   "cell_type": "code",
   "execution_count": 11,
   "metadata": {},
   "outputs": [
    {
     "data": {
      "text/plain": [
       "<matplotlib.text.Text at 0xbed3978>"
      ]
     },
     "execution_count": 11,
     "metadata": {},
     "output_type": "execute_result"
    },
    {
     "data": {
      "image/png": "[encoded data removed]",
      "text/plain": [
       "<matplotlib.figure.Figure at 0x4082eb8>"
      ]
     },
     "metadata": {},
     "output_type": "display_data"
    }
   ],
   "source": [
    "### Plot the distribution of Age attribute\n",
    "Titanic['Age'].hist(bins=np.arange(0, max(Titanic['Age']+5), 5),xlabelsize=15,ylabelsize=15)\n",
    "plt.ylabel('Number counts', size = 15)\n",
    "plt.xlabel('Age (in years)', size = 15)"
   ]
  },
  {
   "cell_type": "code",
   "execution_count": 15,
   "metadata": {
    "collapsed": true
   },
   "outputs": [],
   "source": [
    "## Define a function to calculate the percentage of the number of people \n",
    "## in a attribute range with respect to the total number of people\n",
    "\n",
    "def range_percentage(attribute, lb, ub):\n",
    "    count = 0\n",
    "    for i in Titanic[attribute]:\n",
    "        if i >= lb and i <= ub:\n",
    "            count += 1\n",
    "    return count/float(len(Titanic[attribute]))"
   ]
  },
  {
   "cell_type": "code",
   "execution_count": 20,
   "metadata": {},
   "outputs": [
    {
     "name": "stdout",
     "output_type": "stream",
     "text": [
      "The percentage of people whose age were in the rage of 15 to 55 years old was 0.6689. \n"
     ]
    }
   ],
   "source": [
    "### Calculate the ratio of people who were 15 to 55 years old over all people\n",
    "print \"The percentage of people whose age were in the rage of 15 to 55 years old was %0.4f. \" % range_percentage('Age', 15, 55)"
   ]
  },
  {
   "cell_type": "markdown",
   "metadata": {},
   "source": [
    "##### 2.3.2.3. What did the ticket fare distribution look like for the dataset?\n",
    "\n",
    "The ticket fare has a very skewed distribution. More than 94.1% people on board had the tickets which were under 100 pounds."
   ]
  },
  {
   "cell_type": "code",
   "execution_count": 21,
   "metadata": {},
   "outputs": [
    {
     "data": {
      "text/plain": [
       "<matplotlib.text.Text at 0xd2052b0>"
      ]
     },
     "execution_count": 21,
     "metadata": {},
     "output_type": "execute_result"
    },
    {
     "data": {
      "image/png": "[encoded data removed]",
      "text/plain": [
       "<matplotlib.figure.Figure at 0xcc34f60>"
      ]
     },
     "metadata": {},
     "output_type": "display_data"
    }
   ],
   "source": [
    "Titanic['Fare'].hist(bins = 20,xlabelsize=15,ylabelsize=15)\n",
    "plt.ylabel('Number counts', size = 15)\n",
    "plt.xlabel('Pansenger Fare (in Pounds)', size = 15)"
   ]
  },
  {
   "cell_type": "code",
   "execution_count": 22,
   "metadata": {},
   "outputs": [
    {
     "name": "stdout",
     "output_type": "stream",
     "text": [
      "The percentage of tickets whose value were smaller than 100 pounds was 0.9405. \n"
     ]
    }
   ],
   "source": [
    "print \"The percentage of tickets whose value were smaller than 100 pounds was %0.4f. \" % range_percentage('Fare', 0, 100)"
   ]
  },
  {
   "cell_type": "markdown",
   "metadata": {},
   "source": [
    "##### 2.3.2.4. Distribution of 'Accompany' attribute\n",
    "\n",
    "There were two attributes named 'Sibsp' and 'Parch' in the dataset. In fact, these two attributes gave the similar imformation: for a person, how many accompanies were with them on board. Therefore I combined these two attributes and name the combined attribute as 'Accompanies'. After this data cleaning process, the following analysis becomes easier."
   ]
  },
  {
   "cell_type": "code",
   "execution_count": 23,
   "metadata": {},
   "outputs": [
    {
     "data": {
      "text/plain": [
       "0     537\n",
       "1     161\n",
       "2     102\n",
       "3      29\n",
       "5      22\n",
       "4      15\n",
       "6      12\n",
       "10      7\n",
       "7       6\n",
       "Name: Accompanies, dtype: int64"
      ]
     },
     "execution_count": 23,
     "metadata": {},
     "output_type": "execute_result"
    }
   ],
   "source": [
    "## Combine the 'Sibsp' and 'Parch' attributes\n",
    "Titanic['Accompanies'] = Titanic['Parch']+Titanic['SibSp']\n",
    "Titanic['Accompanies'].value_counts()"
   ]
  },
  {
   "cell_type": "code",
   "execution_count": 24,
   "metadata": {},
   "outputs": [
    {
     "data": {
      "text/plain": [
       "<matplotlib.text.Text at 0xd53a1d0>"
      ]
     },
     "execution_count": 24,
     "metadata": {},
     "output_type": "execute_result"
    },
    {
     "data": {
      "image/png": "[encoded data removed]",
      "text/plain": [
       "<matplotlib.figure.Figure at 0xd21d240>"
      ]
     },
     "metadata": {},
     "output_type": "display_data"
    }
   ],
   "source": [
    "## Plot the distribution of 'Accompany' attribute\n",
    "Titanic['Accompanies'].hist(bins =np.arange(0, max(Titanic['Accompanies'])+2, 1), xlabelsize=15,ylabelsize=15)\n",
    "plt.ylabel('Number counts', size = 15)\n",
    "plt.xlabel('Number of Accompanies on Board', size = 15)"
   ]
  },
  {
   "cell_type": "code",
   "execution_count": 25,
   "metadata": {},
   "outputs": [
    {
     "name": "stdout",
     "output_type": "stream",
     "text": [
      "The percentage of people who had less than 3 accompanies on board was 0.9304. \n"
     ]
    }
   ],
   "source": [
    "print \"The percentage of people who had less than 3 accompanies on board was %0.4f. \" % range_percentage('Accompanies', 0, 3)"
   ]
  },
  {
   "cell_type": "markdown",
   "metadata": {},
   "source": [
    "#### Comments:\n",
    "\n",
    "The 'Accompany' attribute also has a very skewed distribution. More than 93.0% people on board had less than 3 accompanies with them."
   ]
  },
  {
   "cell_type": "markdown",
   "metadata": {},
   "source": [
    "#### 2.3.3.  Why there were some people could have free tickets on board?"
   ]
  },
  {
   "cell_type": "markdown",
   "metadata": {},
   "source": [
    "To answer this question, I simply print out the information of all the people with free tickets. "
   ]
  },
  {
   "cell_type": "code",
   "execution_count": 26,
   "metadata": {
    "scrolled": true
   },
   "outputs": [
    {
     "data": {
      "text/html": [
       "<div>\n",
       "<table border=\"1\" class=\"dataframe\">\n",
       "  <thead>\n",
       "    <tr style=\"text-align: right;\">\n",
       "      <th></th>\n",
       "      <th>PassengerId</th>\n",
       "      <th>Survived</th>\n",
       "      <th>Pclass</th>\n",
       "      <th>Name</th>\n",
       "      <th>Sex</th>\n",
       "      <th>Age</th>\n",
       "      <th>SibSp</th>\n",
       "      <th>Parch</th>\n",
       "      <th>Ticket</th>\n",
       "      <th>Fare</th>\n",
       "      <th>Cabin</th>\n",
       "      <th>Embarked</th>\n",
       "      <th>Accompanies</th>\n",
       "    </tr>\n",
       "  </thead>\n",
       "  <tbody>\n",
       "    <tr>\n",
       "      <th>179</th>\n",
       "      <td>180</td>\n",
       "      <td>0</td>\n",
       "      <td>3</td>\n",
       "      <td>Leonard, Mr. Lionel</td>\n",
       "      <td>male</td>\n",
       "      <td>36.0</td>\n",
       "      <td>0</td>\n",
       "      <td>0</td>\n",
       "      <td>LINE</td>\n",
       "      <td>0.0</td>\n",
       "      <td>NaN</td>\n",
       "      <td>S</td>\n",
       "      <td>0</td>\n",
       "    </tr>\n",
       "    <tr>\n",
       "      <th>263</th>\n",
       "      <td>264</td>\n",
       "      <td>0</td>\n",
       "      <td>1</td>\n",
       "      <td>Harrison, Mr. William</td>\n",
       "      <td>male</td>\n",
       "      <td>40.0</td>\n",
       "      <td>0</td>\n",
       "      <td>0</td>\n",
       "      <td>112059</td>\n",
       "      <td>0.0</td>\n",
       "      <td>B94</td>\n",
       "      <td>S</td>\n",
       "      <td>0</td>\n",
       "    </tr>\n",
       "    <tr>\n",
       "      <th>271</th>\n",
       "      <td>272</td>\n",
       "      <td>1</td>\n",
       "      <td>3</td>\n",
       "      <td>Tornquist, Mr. William Henry</td>\n",
       "      <td>male</td>\n",
       "      <td>25.0</td>\n",
       "      <td>0</td>\n",
       "      <td>0</td>\n",
       "      <td>LINE</td>\n",
       "      <td>0.0</td>\n",
       "      <td>NaN</td>\n",
       "      <td>S</td>\n",
       "      <td>0</td>\n",
       "    </tr>\n",
       "    <tr>\n",
       "      <th>277</th>\n",
       "      <td>278</td>\n",
       "      <td>0</td>\n",
       "      <td>2</td>\n",
       "      <td>Parkes, Mr. Francis \"Frank\"</td>\n",
       "      <td>male</td>\n",
       "      <td>NaN</td>\n",
       "      <td>0</td>\n",
       "      <td>0</td>\n",
       "      <td>239853</td>\n",
       "      <td>0.0</td>\n",
       "      <td>NaN</td>\n",
       "      <td>S</td>\n",
       "      <td>0</td>\n",
       "    </tr>\n",
       "    <tr>\n",
       "      <th>302</th>\n",
       "      <td>303</td>\n",
       "      <td>0</td>\n",
       "      <td>3</td>\n",
       "      <td>Johnson, Mr. William Cahoone Jr</td>\n",
       "      <td>male</td>\n",
       "      <td>19.0</td>\n",
       "      <td>0</td>\n",
       "      <td>0</td>\n",
       "      <td>LINE</td>\n",
       "      <td>0.0</td>\n",
       "      <td>NaN</td>\n",
       "      <td>S</td>\n",
       "      <td>0</td>\n",
       "    </tr>\n",
       "    <tr>\n",
       "      <th>413</th>\n",
       "      <td>414</td>\n",
       "      <td>0</td>\n",
       "      <td>2</td>\n",
       "      <td>Cunningham, Mr. Alfred Fleming</td>\n",
       "      <td>male</td>\n",
       "      <td>NaN</td>\n",
       "      <td>0</td>\n",
       "      <td>0</td>\n",
       "      <td>239853</td>\n",
       "      <td>0.0</td>\n",
       "      <td>NaN</td>\n",
       "      <td>S</td>\n",
       "      <td>0</td>\n",
       "    </tr>\n",
       "    <tr>\n",
       "      <th>466</th>\n",
       "      <td>467</td>\n",
       "      <td>0</td>\n",
       "      <td>2</td>\n",
       "      <td>Campbell, Mr. William</td>\n",
       "      <td>male</td>\n",
       "      <td>NaN</td>\n",
       "      <td>0</td>\n",
       "      <td>0</td>\n",
       "      <td>239853</td>\n",
       "      <td>0.0</td>\n",
       "      <td>NaN</td>\n",
       "      <td>S</td>\n",
       "      <td>0</td>\n",
       "    </tr>\n",
       "    <tr>\n",
       "      <th>481</th>\n",
       "      <td>482</td>\n",
       "      <td>0</td>\n",
       "      <td>2</td>\n",
       "      <td>Frost, Mr. Anthony Wood \"Archie\"</td>\n",
       "      <td>male</td>\n",
       "      <td>NaN</td>\n",
       "      <td>0</td>\n",
       "      <td>0</td>\n",
       "      <td>239854</td>\n",
       "      <td>0.0</td>\n",
       "      <td>NaN</td>\n",
       "      <td>S</td>\n",
       "      <td>0</td>\n",
       "    </tr>\n",
       "    <tr>\n",
       "      <th>597</th>\n",
       "      <td>598</td>\n",
       "      <td>0</td>\n",
       "      <td>3</td>\n",
       "      <td>Johnson, Mr. Alfred</td>\n",
       "      <td>male</td>\n",
       "      <td>49.0</td>\n",
       "      <td>0</td>\n",
       "      <td>0</td>\n",
       "      <td>LINE</td>\n",
       "      <td>0.0</td>\n",
       "      <td>NaN</td>\n",
       "      <td>S</td>\n",
       "      <td>0</td>\n",
       "    </tr>\n",
       "    <tr>\n",
       "      <th>633</th>\n",
       "      <td>634</td>\n",
       "      <td>0</td>\n",
       "      <td>1</td>\n",
       "      <td>Parr, Mr. William Henry Marsh</td>\n",
       "      <td>male</td>\n",
       "      <td>NaN</td>\n",
       "      <td>0</td>\n",
       "      <td>0</td>\n",
       "      <td>112052</td>\n",
       "      <td>0.0</td>\n",
       "      <td>NaN</td>\n",
       "      <td>S</td>\n",
       "      <td>0</td>\n",
       "    </tr>\n",
       "    <tr>\n",
       "      <th>674</th>\n",
       "      <td>675</td>\n",
       "      <td>0</td>\n",
       "      <td>2</td>\n",
       "      <td>Watson, Mr. Ennis Hastings</td>\n",
       "      <td>male</td>\n",
       "      <td>NaN</td>\n",
       "      <td>0</td>\n",
       "      <td>0</td>\n",
       "      <td>239856</td>\n",
       "      <td>0.0</td>\n",
       "      <td>NaN</td>\n",
       "      <td>S</td>\n",
       "      <td>0</td>\n",
       "    </tr>\n",
       "    <tr>\n",
       "      <th>732</th>\n",
       "      <td>733</td>\n",
       "      <td>0</td>\n",
       "      <td>2</td>\n",
       "      <td>Knight, Mr. Robert J</td>\n",
       "      <td>male</td>\n",
       "      <td>NaN</td>\n",
       "      <td>0</td>\n",
       "      <td>0</td>\n",
       "      <td>239855</td>\n",
       "      <td>0.0</td>\n",
       "      <td>NaN</td>\n",
       "      <td>S</td>\n",
       "      <td>0</td>\n",
       "    </tr>\n",
       "    <tr>\n",
       "      <th>806</th>\n",
       "      <td>807</td>\n",
       "      <td>0</td>\n",
       "      <td>1</td>\n",
       "      <td>Andrews, Mr. Thomas Jr</td>\n",
       "      <td>male</td>\n",
       "      <td>39.0</td>\n",
       "      <td>0</td>\n",
       "      <td>0</td>\n",
       "      <td>112050</td>\n",
       "      <td>0.0</td>\n",
       "      <td>A36</td>\n",
       "      <td>S</td>\n",
       "      <td>0</td>\n",
       "    </tr>\n",
       "    <tr>\n",
       "      <th>815</th>\n",
       "      <td>816</td>\n",
       "      <td>0</td>\n",
       "      <td>1</td>\n",
       "      <td>Fry, Mr. Richard</td>\n",
       "      <td>male</td>\n",
       "      <td>NaN</td>\n",
       "      <td>0</td>\n",
       "      <td>0</td>\n",
       "      <td>112058</td>\n",
       "      <td>0.0</td>\n",
       "      <td>B102</td>\n",
       "      <td>S</td>\n",
       "      <td>0</td>\n",
       "    </tr>\n",
       "    <tr>\n",
       "      <th>822</th>\n",
       "      <td>823</td>\n",
       "      <td>0</td>\n",
       "      <td>1</td>\n",
       "      <td>Reuchlin, Jonkheer. John George</td>\n",
       "      <td>male</td>\n",
       "      <td>38.0</td>\n",
       "      <td>0</td>\n",
       "      <td>0</td>\n",
       "      <td>19972</td>\n",
       "      <td>0.0</td>\n",
       "      <td>NaN</td>\n",
       "      <td>S</td>\n",
       "      <td>0</td>\n",
       "    </tr>\n",
       "  </tbody>\n",
       "</table>\n",
       "</div>"
      ],
      "text/plain": [
       "    PassengerId Survived Pclass                              Name   Sex   Age  \\\n",
       "179         180        0      3               Leonard, Mr. Lionel  male  36.0   \n",
       "263         264        0      1             Harrison, Mr. William  male  40.0   \n",
       "271         272        1      3      Tornquist, Mr. William Henry  male  25.0   \n",
       "277         278        0      2       Parkes, Mr. Francis \"Frank\"  male   NaN   \n",
       "302         303        0      3   Johnson, Mr. William Cahoone Jr  male  19.0   \n",
       "413         414        0      2    Cunningham, Mr. Alfred Fleming  male   NaN   \n",
       "466         467        0      2             Campbell, Mr. William  male   NaN   \n",
       "481         482        0      2  Frost, Mr. Anthony Wood \"Archie\"  male   NaN   \n",
       "597         598        0      3               Johnson, Mr. Alfred  male  49.0   \n",
       "633         634        0      1     Parr, Mr. William Henry Marsh  male   NaN   \n",
       "674         675        0      2        Watson, Mr. Ennis Hastings  male   NaN   \n",
       "732         733        0      2              Knight, Mr. Robert J  male   NaN   \n",
       "806         807        0      1            Andrews, Mr. Thomas Jr  male  39.0   \n",
       "815         816        0      1                  Fry, Mr. Richard  male   NaN   \n",
       "822         823        0      1   Reuchlin, Jonkheer. John George  male  38.0   \n",
       "\n",
       "     SibSp  Parch  Ticket  Fare Cabin Embarked  Accompanies  \n",
       "179      0      0    LINE   0.0   NaN        S            0  \n",
       "263      0      0  112059   0.0   B94        S            0  \n",
       "271      0      0    LINE   0.0   NaN        S            0  \n",
       "277      0      0  239853   0.0   NaN        S            0  \n",
       "302      0      0    LINE   0.0   NaN        S            0  \n",
       "413      0      0  239853   0.0   NaN        S            0  \n",
       "466      0      0  239853   0.0   NaN        S            0  \n",
       "481      0      0  239854   0.0   NaN        S            0  \n",
       "597      0      0    LINE   0.0   NaN        S            0  \n",
       "633      0      0  112052   0.0   NaN        S            0  \n",
       "674      0      0  239856   0.0   NaN        S            0  \n",
       "732      0      0  239855   0.0   NaN        S            0  \n",
       "806      0      0  112050   0.0   A36        S            0  \n",
       "815      0      0  112058   0.0  B102        S            0  \n",
       "822      0      0   19972   0.0   NaN        S            0  "
      ]
     },
     "metadata": {},
     "output_type": "display_data"
    }
   ],
   "source": [
    "display (Titanic [Titanic['Fare']==0])\n"
   ]
  },
  {
   "cell_type": "markdown",
   "metadata": {},
   "source": [
    "#### Comments:\n",
    "\n",
    "There were 15 people on board with free tickets, and they all embarked from Southampton. Since this trip started from Southampton, it is highly possible that these 15 people were crews of Titanic. All of these 15 people were male, and had no parents, children, siblings and spouses with them on board. These characteristics give me more confidence to tentatively conclude that these 15 people were crews on Titanic. \n",
    "\n",
    "Another possible reason, I guess, that there was some kind of lottery in Southampton for free tickets to Titanic, and these 15 'lucky' people won the lottery and got free tickets on board."
   ]
  },
  {
   "cell_type": "markdown",
   "metadata": {},
   "source": [
    "#### 2.3.4.  Who purchased the most expensive ticket?"
   ]
  },
  {
   "cell_type": "code",
   "execution_count": 27,
   "metadata": {},
   "outputs": [
    {
     "data": {
      "text/html": [
       "<div>\n",
       "<table border=\"1\" class=\"dataframe\">\n",
       "  <thead>\n",
       "    <tr style=\"text-align: right;\">\n",
       "      <th></th>\n",
       "      <th>PassengerId</th>\n",
       "      <th>Survived</th>\n",
       "      <th>Pclass</th>\n",
       "      <th>Name</th>\n",
       "      <th>Sex</th>\n",
       "      <th>Age</th>\n",
       "      <th>SibSp</th>\n",
       "      <th>Parch</th>\n",
       "      <th>Ticket</th>\n",
       "      <th>Fare</th>\n",
       "      <th>Cabin</th>\n",
       "      <th>Embarked</th>\n",
       "      <th>Accompanies</th>\n",
       "    </tr>\n",
       "  </thead>\n",
       "  <tbody>\n",
       "    <tr>\n",
       "      <th>258</th>\n",
       "      <td>259</td>\n",
       "      <td>1</td>\n",
       "      <td>1</td>\n",
       "      <td>Ward, Miss. Anna</td>\n",
       "      <td>female</td>\n",
       "      <td>35.0</td>\n",
       "      <td>0</td>\n",
       "      <td>0</td>\n",
       "      <td>PC 17755</td>\n",
       "      <td>512.3292</td>\n",
       "      <td>NaN</td>\n",
       "      <td>C</td>\n",
       "      <td>0</td>\n",
       "    </tr>\n",
       "    <tr>\n",
       "      <th>679</th>\n",
       "      <td>680</td>\n",
       "      <td>1</td>\n",
       "      <td>1</td>\n",
       "      <td>Cardeza, Mr. Thomas Drake Martinez</td>\n",
       "      <td>male</td>\n",
       "      <td>36.0</td>\n",
       "      <td>0</td>\n",
       "      <td>1</td>\n",
       "      <td>PC 17755</td>\n",
       "      <td>512.3292</td>\n",
       "      <td>B51 B53 B55</td>\n",
       "      <td>C</td>\n",
       "      <td>1</td>\n",
       "    </tr>\n",
       "    <tr>\n",
       "      <th>737</th>\n",
       "      <td>738</td>\n",
       "      <td>1</td>\n",
       "      <td>1</td>\n",
       "      <td>Lesurer, Mr. Gustave J</td>\n",
       "      <td>male</td>\n",
       "      <td>35.0</td>\n",
       "      <td>0</td>\n",
       "      <td>0</td>\n",
       "      <td>PC 17755</td>\n",
       "      <td>512.3292</td>\n",
       "      <td>B101</td>\n",
       "      <td>C</td>\n",
       "      <td>0</td>\n",
       "    </tr>\n",
       "  </tbody>\n",
       "</table>\n",
       "</div>"
      ],
      "text/plain": [
       "    PassengerId Survived Pclass                                Name     Sex  \\\n",
       "258         259        1      1                    Ward, Miss. Anna  female   \n",
       "679         680        1      1  Cardeza, Mr. Thomas Drake Martinez    male   \n",
       "737         738        1      1              Lesurer, Mr. Gustave J    male   \n",
       "\n",
       "      Age  SibSp  Parch    Ticket      Fare        Cabin Embarked  Accompanies  \n",
       "258  35.0      0      0  PC 17755  512.3292          NaN        C            0  \n",
       "679  36.0      0      1  PC 17755  512.3292  B51 B53 B55        C            1  \n",
       "737  35.0      0      0  PC 17755  512.3292         B101        C            0  "
      ]
     },
     "metadata": {},
     "output_type": "display_data"
    }
   ],
   "source": [
    "display (Titanic [Titanic['Fare']== max(Titanic['Fare'])])"
   ]
  },
  {
   "cell_type": "markdown",
   "metadata": {},
   "source": [
    "#### Comments:\n",
    "\n",
    "There were 3 people who shared the most expensive ticket, since they had the same ticket number. So the most expensive ticket was a group ticket.\n",
    "\n"
   ]
  },
  {
   "cell_type": "markdown",
   "metadata": {},
   "source": [
    "#### 2.3.5.  Are there any other group ticketes?\n",
    "\n",
    "  "
   ]
  },
  {
   "cell_type": "code",
   "execution_count": 16,
   "metadata": {},
   "outputs": [
    {
     "name": "stdout",
     "output_type": "stream",
     "text": [
      "681\n",
      "547\n"
     ]
    }
   ],
   "source": [
    "## Print the number of unique ticket\n",
    "print len(Titanic['Ticket'].value_counts())\n",
    "## Count the number of ticket which had only one owner\n",
    "count =0\n",
    "for i in Titanic['Ticket'].value_counts():\n",
    "    if i == 1:\n",
    "        count +=1\n",
    "print count\n"
   ]
  },
  {
   "cell_type": "markdown",
   "metadata": {},
   "source": [
    "Answer:\n",
    "There are only 681 unique tickets in the dataset, and there were 547 tickets that had one owners. This means there were 134 group tickets which were shared by 344 people. "
   ]
  },
  {
   "cell_type": "markdown",
   "metadata": {},
   "source": [
    "#### 2.3.6.  On average, how much was the most expensive ticket for one person?\n",
    "\n",
    "Since there were some group tickets, and in the original dataset, the people who had group tickets were counted as that they paid the total money. Therefore, in the 'Fare' column, some ticket fares were multiple counted. It is a good idea to split the group ticket fare by the number of people who shared it. I made a new attribute called \"Fare_each\" which gives the effective ticket fare paid by each person. For the group ticket, I divided its total fare by the number of people who shared it, and the averaged ticket fare was assigned to these people."
   ]
  },
  {
   "cell_type": "code",
   "execution_count": 28,
   "metadata": {},
   "outputs": [],
   "source": [
    "## Make the 'Fare_each' column\n",
    "Ticket_counts = Titanic['Ticket'].value_counts()\n",
    "Ticket_counts_dict = Ticket_counts.to_dict()\n",
    "Titanic['Fare_each'] = Titanic['Fare']\n",
    "\n",
    "for key in Ticket_counts_dict:\n",
    "    for i in range(len(Titanic)):\n",
    "        if Titanic.loc[i,'Ticket'] == key:\n",
    "            Titanic.loc[i,'Fare_each'] = Titanic.loc[i,'Fare_each']/int(Ticket_counts_dict[key])            \n",
    "            "
   ]
  },
  {
   "cell_type": "code",
   "execution_count": 29,
   "metadata": {},
   "outputs": [
    {
     "data": {
      "text/html": [
       "<div>\n",
       "<table border=\"1\" class=\"dataframe\">\n",
       "  <thead>\n",
       "    <tr style=\"text-align: right;\">\n",
       "      <th></th>\n",
       "      <th>PassengerId</th>\n",
       "      <th>Survived</th>\n",
       "      <th>Pclass</th>\n",
       "      <th>Name</th>\n",
       "      <th>Sex</th>\n",
       "      <th>Age</th>\n",
       "      <th>SibSp</th>\n",
       "      <th>Parch</th>\n",
       "      <th>Ticket</th>\n",
       "      <th>Fare</th>\n",
       "      <th>Cabin</th>\n",
       "      <th>Embarked</th>\n",
       "      <th>Accompanies</th>\n",
       "      <th>Fare_each</th>\n",
       "    </tr>\n",
       "  </thead>\n",
       "  <tbody>\n",
       "    <tr>\n",
       "      <th>258</th>\n",
       "      <td>259</td>\n",
       "      <td>1</td>\n",
       "      <td>1</td>\n",
       "      <td>Ward, Miss. Anna</td>\n",
       "      <td>female</td>\n",
       "      <td>35.0</td>\n",
       "      <td>0</td>\n",
       "      <td>0</td>\n",
       "      <td>PC 17755</td>\n",
       "      <td>512.3292</td>\n",
       "      <td>NaN</td>\n",
       "      <td>C</td>\n",
       "      <td>0</td>\n",
       "      <td>170.7764</td>\n",
       "    </tr>\n",
       "    <tr>\n",
       "      <th>679</th>\n",
       "      <td>680</td>\n",
       "      <td>1</td>\n",
       "      <td>1</td>\n",
       "      <td>Cardeza, Mr. Thomas Drake Martinez</td>\n",
       "      <td>male</td>\n",
       "      <td>36.0</td>\n",
       "      <td>0</td>\n",
       "      <td>1</td>\n",
       "      <td>PC 17755</td>\n",
       "      <td>512.3292</td>\n",
       "      <td>B51 B53 B55</td>\n",
       "      <td>C</td>\n",
       "      <td>1</td>\n",
       "      <td>170.7764</td>\n",
       "    </tr>\n",
       "    <tr>\n",
       "      <th>737</th>\n",
       "      <td>738</td>\n",
       "      <td>1</td>\n",
       "      <td>1</td>\n",
       "      <td>Lesurer, Mr. Gustave J</td>\n",
       "      <td>male</td>\n",
       "      <td>35.0</td>\n",
       "      <td>0</td>\n",
       "      <td>0</td>\n",
       "      <td>PC 17755</td>\n",
       "      <td>512.3292</td>\n",
       "      <td>B101</td>\n",
       "      <td>C</td>\n",
       "      <td>0</td>\n",
       "      <td>170.7764</td>\n",
       "    </tr>\n",
       "  </tbody>\n",
       "</table>\n",
       "</div>"
      ],
      "text/plain": [
       "    PassengerId Survived Pclass                                Name     Sex  \\\n",
       "258         259        1      1                    Ward, Miss. Anna  female   \n",
       "679         680        1      1  Cardeza, Mr. Thomas Drake Martinez    male   \n",
       "737         738        1      1              Lesurer, Mr. Gustave J    male   \n",
       "\n",
       "      Age  SibSp  Parch    Ticket      Fare        Cabin Embarked  \\\n",
       "258  35.0      0      0  PC 17755  512.3292          NaN        C   \n",
       "679  36.0      0      1  PC 17755  512.3292  B51 B53 B55        C   \n",
       "737  35.0      0      0  PC 17755  512.3292         B101        C   \n",
       "\n",
       "     Accompanies  Fare_each  \n",
       "258            0   170.7764  \n",
       "679            1   170.7764  \n",
       "737            0   170.7764  "
      ]
     },
     "execution_count": 29,
     "metadata": {},
     "output_type": "execute_result"
    }
   ],
   "source": [
    "Titanic[Titanic['Fare']==max(Titanic['Fare'])] ## test the result."
   ]
  },
  {
   "cell_type": "code",
   "execution_count": 30,
   "metadata": {},
   "outputs": [
    {
     "data": {
      "text/plain": [
       "221.7792"
      ]
     },
     "execution_count": 30,
     "metadata": {},
     "output_type": "execute_result"
    }
   ],
   "source": [
    "Titanic['Fare_each'].max()"
   ]
  },
  {
   "cell_type": "code",
   "execution_count": 31,
   "metadata": {},
   "outputs": [
    {
     "data": {
      "text/plain": [
       "<matplotlib.text.Text at 0xd857f98>"
      ]
     },
     "execution_count": 31,
     "metadata": {},
     "output_type": "execute_result"
    },
    {
     "data": {
      "image/png": "[encoded data removed]",
      "text/plain": [
       "<matplotlib.figure.Figure at 0xd557518>"
      ]
     },
     "metadata": {},
     "output_type": "display_data"
    }
   ],
   "source": [
    "Titanic['Fare_each'].hist(bins = 20,xlabelsize=15,ylabelsize=15)\n",
    "plt.ylabel('Number counts', size = 15)\n",
    "plt.xlabel('Pansenger Fare per Person (in Pounds)', size = 15)"
   ]
  },
  {
   "cell_type": "markdown",
   "metadata": {},
   "source": [
    "#### Comments: \n",
    "\n",
    "The most expensive ticket for each person was 221.8 pounds. The distribution of 'Fare_each' attribute was still very skewed. "
   ]
  },
  {
   "cell_type": "markdown",
   "metadata": {
    "collapsed": true
   },
   "source": [
    "### 2.4. Study the attributes which could influence the survivial rate on board"
   ]
  },
  {
   "cell_type": "markdown",
   "metadata": {},
   "source": [
    "From this Titanic dataset, the insight that I really want to get is what factors influenced the survivial rate on board. To answer this question, I study the relationship between 'Sruvived' and some other attributes. "
   ]
  },
  {
   "cell_type": "markdown",
   "metadata": {},
   "source": [
    "#### 2.4.1. Are women more likely to survive?\n",
    "\n"
   ]
  },
  {
   "cell_type": "code",
   "execution_count": 46,
   "metadata": {},
   "outputs": [
    {
     "data": {
      "text/plain": [
       "Survived  Sex   \n",
       "0         male      468\n",
       "          female     81\n",
       "1         female    233\n",
       "          male      109\n",
       "dtype: int64"
      ]
     },
     "execution_count": 46,
     "metadata": {},
     "output_type": "execute_result"
    }
   ],
   "source": [
    "Titanic.groupby('Survived')['Sex'].value_counts()"
   ]
  },
  {
   "cell_type": "code",
   "execution_count": 21,
   "metadata": {},
   "outputs": [
    {
     "data": {
      "text/html": [
       "<style>\n",
       "table {float:left}\n",
       "</style>"
      ],
      "text/plain": [
       "<IPython.core.display.HTML object>"
      ]
     },
     "metadata": {},
     "output_type": "display_data"
    }
   ],
   "source": [
    "%%html   ## Format the table in Markdown\n",
    "<style>\n",
    "table {float:left}\n",
    "</style>"
   ]
  },
  {
   "cell_type": "markdown",
   "metadata": {},
   "source": [
    "Relation talbe for 'Survived' and 'Sex' attributes:\n",
    "\n",
    "| | Male | Female         \n",
    "| :--: |:-: | :-:\n",
    "|Total| 577  | 314\n",
    "| Survived | 109 | 233\n",
    "| Not Survived | 468 | 81\n",
    "|Survival Rate|18.89%|74.20%"
   ]
  },
  {
   "cell_type": "markdown",
   "metadata": {},
   "source": [
    "#### Comments: \n",
    "There were 577 male on board, and only 109 male were survived. The survivial rate for male was 18.89%. However, there were 314 female on board, and 233 were survived. The survivial rate for female was 74.20%. From this dataset, tentatively speaking, women had more chance to survive."
   ]
  },
  {
   "cell_type": "markdown",
   "metadata": {},
   "source": [
    "#### 2.4.2. Does the passenge class influence survivial rate?"
   ]
  },
  {
   "cell_type": "code",
   "execution_count": 49,
   "metadata": {},
   "outputs": [
    {
     "data": {
      "text/plain": [
       "Survived  Pclass\n",
       "0         3         372\n",
       "          2          97\n",
       "          1          80\n",
       "1         1         136\n",
       "          3         119\n",
       "          2          87\n",
       "dtype: int64"
      ]
     },
     "execution_count": 49,
     "metadata": {},
     "output_type": "execute_result"
    }
   ],
   "source": [
    "Titanic.groupby('Survived')['Pclass'].value_counts()"
   ]
  },
  {
   "cell_type": "markdown",
   "metadata": {},
   "source": [
    "| | 1st Class | 2nd Class | 3rd Class         \n",
    "| :--: |:-:| :-: | :-:\n",
    "|Total| 216  | 184 | 491\n",
    "| Survived | 136 | 87 | 119\n",
    "| Not Survived | 80 | 97 | 372\n",
    "|Survival Rate|62.96%|47.28%|24.24%"
   ]
  },
  {
   "cell_type": "markdown",
   "metadata": {},
   "source": [
    "#### Comments: \n",
    "\n",
    "From the table above, we can see that the 1st Class had the highest survival rate, and the 3rd class had the lowest survivial rate. This data tentatively shows that the people with higer level class of tickets had higher chance to survive. "
   ]
  },
  {
   "cell_type": "markdown",
   "metadata": {},
   "source": [
    "#### 2.4.3. Were older peple more likely to survive?\n",
    "\n",
    "To answer this question, I investigate the relation between 'Survived' and 'Age' attributes in a statistical way. \n",
    "\n",
    "Data Cleaning: \n",
    "Noted that there are 177 missing values for the 'Age' attribute. I just deleted these examples for this part of analysis. \n",
    "\n",
    "I have another two alternative methods to deal with these missing values: 1.Using averaged age to replace the missing values; 2. Using some regression technique to estimate the missing values. Since these two methods could potentially bring some bias into the following analysis, I prefer not to use them. Also, since there are still 714 examples left for this analysis, I am confident with the results. "
   ]
  },
  {
   "cell_type": "code",
   "execution_count": 34,
   "metadata": {},
   "outputs": [
    {
     "data": {
      "text/plain": [
       "<matplotlib.text.Text at 0xdbc09b0>"
      ]
     },
     "execution_count": 34,
     "metadata": {},
     "output_type": "execute_result"
    },
    {
     "data": {
      "image/png": "[encoded data removed]",
      "text/plain": [
       "<matplotlib.figure.Figure at 0xd54e828>"
      ]
     },
     "metadata": {},
     "output_type": "display_data"
    }
   ],
   "source": [
    "Titanic_Survived_Age = Titanic [['Survived', 'Age']]\n",
    "Titanic_Survived_Age_NoMissingValues = Titanic_Survived_Age.dropna() ## delete the examples with missing values\n",
    "\n",
    "Age_Survived_yes = Titanic_Survived_Age_NoMissingValues['Age'][Titanic_Survived_Age_NoMissingValues['Survived']=='1'].values\n",
    "Age_Survived_no = Titanic_Survived_Age_NoMissingValues['Age'][Titanic_Survived_Age_NoMissingValues['Survived']=='0'].values\n",
    "\n",
    "Survived_Age = [Age_Survived_yes,Age_Survived_no] \n",
    "\n",
    "plt.boxplot(Survived_Age)\n",
    "axes = plt.gca()\n",
    "axes.set_ylim([-20,100])\n",
    "plt.xticks([1, 2], ['Survived', 'Not Survived'])\n",
    "plt.xlabel('', size = 15)\n",
    "plt.ylabel('Age (in years)',size = 15)"
   ]
  },
  {
   "cell_type": "markdown",
   "metadata": {},
   "source": [
    "From the box plot above, we can not observed significant age difference between survived people and not survived people. To further examine this result, I perform a hypothesis test on the age of survived and not survived people."
   ]
  },
  {
   "cell_type": "markdown",
   "metadata": {},
   "source": [
    "#### Perform a hypothesis test\n",
    "\n",
    "Null: The survived and not survived people had the same age;\n",
    "\n",
    "Alternative: The survived and not survived people had different same age."
   ]
  },
  {
   "cell_type": "code",
   "execution_count": 35,
   "metadata": {},
   "outputs": [
    {
     "data": {
      "text/plain": [
       "Ttest_indResult(statistic=-2.0666869462538102, pvalue=0.039124654013482488)"
      ]
     },
     "execution_count": 35,
     "metadata": {},
     "output_type": "execute_result"
    }
   ],
   "source": [
    "stats.ttest_ind(Age_Survived_yes, Age_Survived_no)"
   ]
  },
  {
   "cell_type": "markdown",
   "metadata": {},
   "source": [
    "#### Comments:\n",
    "I performed a two-direction t-test on the age of survived and not survived people. Since the p value is smaller than 5%, we can say the ages of survived and non-survived people were significantly different with a risk level of 5%. Since the t statistic here is negative, I can tenatively say that the youger people have more chance to survive."
   ]
  },
  {
   "cell_type": "markdown",
   "metadata": {},
   "source": [
    "#### 2.4.4. Investigate the relation between 'Survived' and 'Fare_each' attributes"
   ]
  },
  {
   "cell_type": "code",
   "execution_count": 37,
   "metadata": {},
   "outputs": [
    {
     "data": {
      "text/plain": [
       "<matplotlib.text.Text at 0xe2bd470>"
      ]
     },
     "execution_count": 37,
     "metadata": {},
     "output_type": "execute_result"
    },
    {
     "data": {
      "image/png": "[encoded data removed]",
      "text/plain": [
       "<matplotlib.figure.Figure at 0xe2ca2e8>"
      ]
     },
     "metadata": {},
     "output_type": "display_data"
    }
   ],
   "source": [
    "Fare_Survived_yes = Titanic['Fare_each'][Titanic['Survived']=='1'].values\n",
    "Fare_Survived_no = Titanic['Fare_each'][Titanic['Survived']=='0'].values\n",
    "\n",
    "Survived_Fare = [Fare_Survived_yes,Fare_Survived_no]\n",
    "\n",
    "plt.boxplot(Survived_Fare)\n",
    "axes = plt.gca()\n",
    "axes.set_ylim([-20,80])\n",
    "plt.xticks([1, 2], ['Survived', 'Not Survived'])\n",
    "plt.xlabel('', size = 15)\n",
    "plt.ylabel('Fare (in pounds)',size = 15)"
   ]
  },
  {
   "cell_type": "code",
   "execution_count": 57,
   "metadata": {},
   "outputs": [
    {
     "data": {
      "text/plain": [
       "Ttest_indResult(statistic=7.9391916608710549, pvalue=6.1201893419241981e-15)"
      ]
     },
     "execution_count": 57,
     "metadata": {},
     "output_type": "execute_result"
    }
   ],
   "source": [
    "stats.ttest_ind(Fare_Survived_yes, Fare_Survived_no)"
   ]
  },
  {
   "cell_type": "markdown",
   "metadata": {},
   "source": [
    "#### Comments: \n",
    "\n",
    "From the box plot, we can see, in general, the people with more expensive tickets had higher chance to survive. \n",
    "\n",
    "For the two-direction t-test, since the p value is very small, we can say the ticket fare of survived and non-survived people were very significantly different. Since the t-statistics is positive, we can say the survivied people held the more expensive ticket."
   ]
  },
  {
   "cell_type": "markdown",
   "metadata": {
    "collapsed": true
   },
   "source": [
    "### 2.5 Investigate the relationships between other attributes\n",
    "\n",
    "In this part, I investigate the relationships between other interested attributes."
   ]
  },
  {
   "cell_type": "markdown",
   "metadata": {
    "collapsed": true
   },
   "source": [
    "#### 2.5.1 Investigate the relationship between 'Pclass' and 'Fare'"
   ]
  },
  {
   "cell_type": "code",
   "execution_count": 65,
   "metadata": {},
   "outputs": [
    {
     "data": {
      "text/plain": [
       "Pclass       \n",
       "1       count    216.000000\n",
       "        mean      84.154687\n",
       "        std       78.380373\n",
       "        min        0.000000\n",
       "        25%       30.923950\n",
       "        50%       60.287500\n",
       "        75%       93.500000\n",
       "        max      512.329200\n",
       "2       count    184.000000\n",
       "        mean      20.662183\n",
       "        std       13.417399\n",
       "        min        0.000000\n",
       "        25%       13.000000\n",
       "        50%       14.250000\n",
       "        75%       26.000000\n",
       "        max       73.500000\n",
       "3       count    491.000000\n",
       "        mean      13.675550\n",
       "        std       11.778142\n",
       "        min        0.000000\n",
       "        25%        7.750000\n",
       "        50%        8.050000\n",
       "        75%       15.500000\n",
       "        max       69.550000\n",
       "dtype: float64"
      ]
     },
     "execution_count": 65,
     "metadata": {},
     "output_type": "execute_result"
    }
   ],
   "source": [
    "Titanic.groupby('Pclass')['Fare'].describe()"
   ]
  },
  {
   "cell_type": "markdown",
   "metadata": {},
   "source": [
    "#### Comments:\n",
    "\n",
    "From the descriptive statistics of 'Fare' under different 'Pclass' condition, we can infer that the higher level class has higher ticket price. "
   ]
  },
  {
   "cell_type": "code",
   "execution_count": 41,
   "metadata": {},
   "outputs": [
    {
     "data": {
      "text/plain": [
       "<matplotlib.text.Text at 0xea86128>"
      ]
     },
     "execution_count": 41,
     "metadata": {},
     "output_type": "execute_result"
    },
    {
     "data": {
      "image/png": "[encoded data removed]",
      "text/plain": [
       "<matplotlib.figure.Figure at 0xe7a4390>"
      ]
     },
     "metadata": {},
     "output_type": "display_data"
    }
   ],
   "source": [
    "Fare_Pclass_1st = Titanic['Fare_each'][Titanic['Pclass']=='1'].values\n",
    "Fare_Pclass_2nd = Titanic['Fare_each'][Titanic['Pclass']=='2'].values\n",
    "Fare_Pclass_3rd = Titanic['Fare_each'][Titanic['Pclass']=='3'].values\n",
    "\n",
    "Fare_Pclass = [Fare_Pclass_1st,Fare_Pclass_2nd,Fare_Pclass_3rd]\n",
    "\n",
    "plt.boxplot(Fare_Pclass)\n",
    "axes = plt.gca()\n",
    "axes.set_ylim([-20,100])\n",
    "plt.xticks([1,2,3], ['1st class', '2nd class', '3rd class'])\n",
    "plt.xlabel('', size = 15)\n",
    "plt.ylabel('Fare (in Pounds)',size = 15)"
   ]
  },
  {
   "cell_type": "markdown",
   "metadata": {},
   "source": [
    "#### Comments:\n",
    "\n",
    "As shown clearly from the box plot that the higher class level tend to have the higher ticket fare, which is not surprising. \n",
    "\n",
    "For the 1st class ticket, the minimum fare is 0. For the 2nd and 3rd class, there were no 0 fare tickets. This means the people who had the 0 fare tickets (probably they were crews) all stayed in the 1st class. "
   ]
  },
  {
   "cell_type": "markdown",
   "metadata": {},
   "source": [
    "#### 2.5.2. Investigate the relationship between 'Pclass' and 'Age'"
   ]
  },
  {
   "cell_type": "code",
   "execution_count": 42,
   "metadata": {},
   "outputs": [
    {
     "data": {
      "text/plain": [
       "<matplotlib.text.Text at 0x1043f1d0>"
      ]
     },
     "execution_count": 42,
     "metadata": {},
     "output_type": "execute_result"
    },
    {
     "data": {
      "image/png": "[encoded data removed]",
      "text/plain": [
       "<matplotlib.figure.Figure at 0x10427dd8>"
      ]
     },
     "metadata": {},
     "output_type": "display_data"
    }
   ],
   "source": [
    "Titanic_Pclass_Age = Titanic [['Pclass', 'Age']]\n",
    "Titanic_Pclass_Age_NoMissingValues = Titanic_Pclass_Age.dropna()\n",
    "\n",
    "Age_Pclass_1st = Titanic_Pclass_Age_NoMissingValues['Age'][Titanic_Pclass_Age_NoMissingValues['Pclass']=='1'].values\n",
    "Age_Pclass_2nd = Titanic_Pclass_Age_NoMissingValues['Age'][Titanic_Pclass_Age_NoMissingValues['Pclass']=='2'].values\n",
    "Age_Pclass_3rd = Titanic_Pclass_Age_NoMissingValues['Age'][Titanic_Pclass_Age_NoMissingValues['Pclass']=='3'].values\n",
    "\n",
    "Age_Pclass = [Age_Pclass_1st,Age_Pclass_2nd,Age_Pclass_3rd]\n",
    "\n",
    "plt.boxplot(Age_Pclass)\n",
    "axes = plt.gca()\n",
    "axes.set_ylim([-20,100])\n",
    "plt.xticks([1,2, 3], ['1st class', '2nd class', '3rd class'])\n",
    "plt.xlabel('', size = 15)\n",
    "plt.ylabel('Age (in years)',size = 15)\n"
   ]
  },
  {
   "cell_type": "markdown",
   "metadata": {},
   "source": [
    "#### Comments:\n",
    "\n",
    "From the box-plot, we can see the older people tend to stay in the higher level class. Since the older people are more likely to be rich, it is reasonable for them to stay in the higer level class."
   ]
  },
  {
   "cell_type": "markdown",
   "metadata": {
    "collapsed": true
   },
   "source": [
    "## 3. Conclusions\n",
    "In this project, I performed a thorough exploration on the Titanic dataset, and I summarize my foundings here.\n",
    "\n",
    "### 3.1. Summary of Data Cleaning \n",
    "a. There are 891 examples and 12 different attributes in the dataset. There are 177, 687 and 2 missing values in 'Age', 'Cabin' and 'Embarked' attributes. When analyzing the relationship between survival rate and age, I just delete the examples with missing values in \"Age\". \n",
    "\n",
    "b. The data types of attributes 'PassengerId', 'Survived' and 'Pclass' are all int64, which are not suitable for further data analysis. I change them from integer type to string type.\n",
    "\n",
    "### 3.2  Summary of Attribute Exploration\n",
    "a. The distribution of 'Age' attribute had more or less the bell shape. 66.9% of the people in the dataset were in the age range from 15 to 55 years old.\n",
    "\n",
    "b. It seems like the passengers in Titanic did not like to travel with many accompanies. More than 75% of the passengers only had at most 1 sibling, spouse, parent or child with them on board. The percentage of people who had less than 3 accompanies on board was 93%.\n",
    "\n",
    "c. The fare of ticket had pretty large standard deviation (49.69 pounds). Due to the very high maximum ticket price, the average ticket price was high -- 32.2 pounds, which was even higher than the 3rd quartile of the ticket fare. The percentage of tickets whose value were smaller than 100 pounds was 94%.\n",
    "\n",
    "### 3.3 Summary of Relation Patterns\n",
    "\n",
    "a. The survivial rate for male was 18.89%, while the survivial rate for female was 74.20%. From this dataset, tentatively speaking, women had more chance to survive.\n",
    "\n",
    "b. People in 1st Class had the highest survival rate, and people in the 3rd class had the lowest survivial rate. This data tentatively shows that the people with higer level class of tickets had higher chance to survive.\n",
    "\n",
    "c. I performed a two-direction t-test on the ages of survived and not survived people. Since the p value is smaller than 5%, I can infer that the ages of survived and non-survived people were significantly different with a risk level of 5%. Since the t statistic here is negative, I can tenatively say that the youger people have more chance to survive.\n",
    "\n",
    "d. I also performed a two-direction t-test on the ticket fares of survived and not survived people. Since the p value I got is very small, we can infer that the ticket fare of survived and non-survived people were very significantly different. Since the t-statistics is positive, we can say the survivied people were more likely to have more expensive tickets.\n",
    "\n",
    "### 3.4 Further Research Directions\n",
    "\n",
    "After the data analysis, I infer that the \"Sex\", \"Pclass\", \"Age\" and \"Fare\" attributes have relations with the survival rate. I can build a machine learning model, like random forest, using these features to make predictions on the survival rate. This machine learning model would be very interesting. Moreover, I can investigate other data cleaning techniques about dealing with missing values, and compare the effects of those techniques wiht my current analysis. "
   ]
  },
  {
   "cell_type": "code",
   "execution_count": null,
   "metadata": {
    "collapsed": true
   },
   "outputs": [],
   "source": []
  }
 ],
 "metadata": {
  "anaconda-cloud": {},
  "kernelspec": {
   "display_name": "Python 3",
   "language": "python",
   "name": "python3"
  },
  "language_info": {
   "codemirror_mode": {
    "name": "ipython",
    "version": 3
   },
   "file_extension": ".py",
   "mimetype": "text/x-python",
   "name": "python",
   "nbconvert_exporter": "python",
   "pygments_lexer": "ipython3",
   "version": "3.7.1"
  }
 },
 "nbformat": 4,
 "nbformat_minor": 1
}
