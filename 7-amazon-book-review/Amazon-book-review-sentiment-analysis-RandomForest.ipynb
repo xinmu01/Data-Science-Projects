{
 "cells": [
  {
   "cell_type": "code",
   "execution_count": 84,
   "metadata": {
    "collapsed": true
   },
   "outputs": [],
   "source": [
    "import pandas as pd\n",
    "import numpy as np\n",
    "import sklearn\n",
    "import sklearn.model_selection\n",
    "import re\n",
    "import nltk\n",
    "import json\n",
    "from bs4 import BeautifulSoup\n",
    "from nltk.corpus import stopwords\n",
    "from sklearn.feature_extraction.text import CountVectorizer\n",
    "from sklearn.feature_extraction.text import TfidfVectorizer\n",
    "from sklearn.ensemble import RandomForestClassifier"
   ]
  },
  {
   "cell_type": "markdown",
   "metadata": {},
   "source": [
    "## Pre-process the dataset"
   ]
  },
  {
   "cell_type": "code",
   "execution_count": 2,
   "metadata": {
    "collapsed": false
   },
   "outputs": [
    {
     "name": "stdout",
     "output_type": "stream",
     "text": [
      "Total number of reviews is 8898041\n"
     ]
    }
   ],
   "source": [
    "# Check the length of dataset\n",
    "count = 0\n",
    "with open (\"Books_5.json\") as Train_json:\n",
    "    for i in Train_json:\n",
    "        count += 1\n",
    "print (\"Total number of reviews is {}\".format(count))"
   ]
  },
  {
   "cell_type": "code",
   "execution_count": 3,
   "metadata": {
    "collapsed": false
   },
   "outputs": [
    {
     "name": "stdout",
     "output_type": "stream",
     "text": [
      "{'reviewerID': 'A10000012B7CGYKOMPQ4L', 'asin': '000100039X', 'reviewerName': 'Adam', 'helpful': [0, 0], 'reviewText': 'Spiritually and mentally inspiring! A book that allows you to question your morals and will help you discover who you really are!', 'overall': 5.0, 'summary': 'Wonderful!', 'unixReviewTime': 1355616000, 'reviewTime': '12 16, 2012'}\n",
      "\n",
      "\n",
      "<class 'dict'>\n"
     ]
    }
   ],
   "source": [
    "## Check the first example in the dataset\n",
    "with open (\"Books_5.json\") as Train_json:\n",
    "    first_review = next(Train_json)\n",
    "    first_review = json.loads(first_review)\n",
    "    print (first_review)\n",
    "    print (\"\\n\")\n",
    "    print (type(first_review))"
   ]
  },
  {
   "cell_type": "code",
   "execution_count": 4,
   "metadata": {
    "collapsed": false
   },
   "outputs": [],
   "source": [
    "## Store the usefull information from this huge dataset\n",
    "dataset = {}\n",
    "dataset[\"review_text\"] = []\n",
    "dataset['rating'] = []\n",
    "count = 0\n",
    "with open ('Books_5.json') as Train_json:\n",
    "    for i in Train_json:\n",
    "        count+=1\n",
    "        if count % 20 == 0:\n",
    "            item = json.loads(i)\n",
    "            dataset[\"review_text\"].append(item[\"reviewText\"])\n",
    "            dataset[\"rating\"].append(item[\"overall\"])                        "
   ]
  },
  {
   "cell_type": "code",
   "execution_count": 5,
   "metadata": {
    "collapsed": false
   },
   "outputs": [
    {
     "name": "stdout",
     "output_type": "stream",
     "text": [
      "444902\n",
      "444902\n"
     ]
    }
   ],
   "source": [
    "## Check the length\n",
    "print(len(dataset[\"review_text\"]))\n",
    "print (len(dataset['rating']))"
   ]
  },
  {
   "cell_type": "code",
   "execution_count": 20,
   "metadata": {
    "collapsed": false
   },
   "outputs": [
    {
     "name": "stdout",
     "output_type": "stream",
     "text": [
      "finish 0 out of 444902\n",
      "finish 1000 out of 444902\n",
      "finish 2000 out of 444902\n",
      "finish 3000 out of 444902\n",
      "finish 4000 out of 444902\n",
      "finish 5000 out of 444902\n",
      "finish 6000 out of 444902\n",
      "finish 7000 out of 444902\n",
      "finish 8000 out of 444902\n",
      "finish 9000 out of 444902\n",
      "finish 10000 out of 444902\n",
      "finish 11000 out of 444902\n",
      "finish 12000 out of 444902\n",
      "finish 13000 out of 444902\n",
      "finish 14000 out of 444902\n",
      "finish 15000 out of 444902\n",
      "finish 16000 out of 444902\n",
      "finish 17000 out of 444902\n",
      "finish 18000 out of 444902\n",
      "finish 19000 out of 444902\n",
      "finish 20000 out of 444902\n",
      "finish 21000 out of 444902\n",
      "finish 22000 out of 444902\n",
      "finish 23000 out of 444902\n",
      "finish 24000 out of 444902\n",
      "finish 25000 out of 444902\n",
      "finish 26000 out of 444902\n",
      "finish 27000 out of 444902\n",
      "finish 28000 out of 444902\n",
      "finish 29000 out of 444902\n",
      "finish 30000 out of 444902\n",
      "finish 31000 out of 444902\n",
      "finish 32000 out of 444902\n",
      "finish 33000 out of 444902\n",
      "finish 34000 out of 444902\n",
      "finish 35000 out of 444902\n",
      "finish 36000 out of 444902\n",
      "finish 37000 out of 444902\n",
      "finish 38000 out of 444902\n",
      "finish 39000 out of 444902\n",
      "finish 40000 out of 444902\n",
      "finish 41000 out of 444902\n",
      "finish 42000 out of 444902\n",
      "finish 43000 out of 444902\n",
      "finish 44000 out of 444902\n",
      "finish 45000 out of 444902\n",
      "finish 46000 out of 444902\n",
      "finish 47000 out of 444902\n",
      "finish 48000 out of 444902\n",
      "finish 49000 out of 444902\n",
      "finish 50000 out of 444902\n",
      "finish 51000 out of 444902\n",
      "finish 52000 out of 444902\n",
      "finish 53000 out of 444902\n",
      "finish 54000 out of 444902\n",
      "finish 55000 out of 444902\n",
      "finish 56000 out of 444902\n",
      "finish 57000 out of 444902\n",
      "finish 58000 out of 444902\n",
      "finish 59000 out of 444902\n",
      "finish 60000 out of 444902\n",
      "finish 61000 out of 444902\n",
      "finish 62000 out of 444902\n",
      "finish 63000 out of 444902\n",
      "finish 64000 out of 444902\n",
      "finish 65000 out of 444902\n",
      "finish 66000 out of 444902\n",
      "finish 67000 out of 444902\n",
      "finish 68000 out of 444902\n",
      "finish 69000 out of 444902\n",
      "finish 70000 out of 444902\n",
      "finish 71000 out of 444902\n",
      "finish 72000 out of 444902\n",
      "finish 73000 out of 444902\n",
      "finish 74000 out of 444902\n",
      "finish 75000 out of 444902\n",
      "finish 76000 out of 444902\n",
      "finish 77000 out of 444902\n",
      "finish 78000 out of 444902\n",
      "finish 79000 out of 444902\n",
      "finish 80000 out of 444902\n",
      "finish 81000 out of 444902\n",
      "finish 82000 out of 444902\n",
      "finish 83000 out of 444902\n",
      "finish 84000 out of 444902\n",
      "finish 85000 out of 444902\n",
      "finish 86000 out of 444902\n",
      "finish 87000 out of 444902\n",
      "finish 88000 out of 444902\n",
      "finish 89000 out of 444902\n",
      "finish 90000 out of 444902\n",
      "finish 91000 out of 444902\n",
      "finish 92000 out of 444902\n",
      "finish 93000 out of 444902\n",
      "finish 94000 out of 444902\n",
      "finish 95000 out of 444902\n",
      "finish 96000 out of 444902\n",
      "finish 97000 out of 444902\n",
      "finish 98000 out of 444902\n",
      "finish 99000 out of 444902\n",
      "finish 100000 out of 444902\n",
      "finish 101000 out of 444902\n",
      "finish 102000 out of 444902\n",
      "finish 103000 out of 444902\n",
      "finish 104000 out of 444902\n",
      "finish 105000 out of 444902\n",
      "finish 106000 out of 444902\n",
      "finish 107000 out of 444902\n",
      "finish 108000 out of 444902\n",
      "finish 109000 out of 444902\n",
      "finish 110000 out of 444902\n",
      "finish 111000 out of 444902\n",
      "finish 112000 out of 444902\n",
      "finish 113000 out of 444902\n",
      "finish 114000 out of 444902\n",
      "finish 115000 out of 444902\n",
      "finish 116000 out of 444902\n",
      "finish 117000 out of 444902\n",
      "finish 118000 out of 444902\n",
      "finish 119000 out of 444902\n",
      "finish 120000 out of 444902\n",
      "finish 121000 out of 444902\n",
      "finish 122000 out of 444902\n",
      "finish 123000 out of 444902\n",
      "finish 124000 out of 444902\n",
      "finish 125000 out of 444902\n",
      "finish 126000 out of 444902\n",
      "finish 127000 out of 444902\n",
      "finish 128000 out of 444902\n",
      "finish 129000 out of 444902\n",
      "finish 130000 out of 444902\n",
      "finish 131000 out of 444902\n",
      "finish 132000 out of 444902\n",
      "finish 133000 out of 444902\n",
      "finish 134000 out of 444902\n",
      "finish 135000 out of 444902\n",
      "finish 136000 out of 444902\n",
      "finish 137000 out of 444902\n",
      "finish 138000 out of 444902\n",
      "finish 139000 out of 444902\n",
      "finish 140000 out of 444902\n",
      "finish 141000 out of 444902\n",
      "finish 142000 out of 444902\n",
      "finish 143000 out of 444902\n",
      "finish 144000 out of 444902\n",
      "finish 145000 out of 444902\n",
      "finish 146000 out of 444902\n",
      "finish 147000 out of 444902\n",
      "finish 148000 out of 444902\n",
      "finish 149000 out of 444902\n",
      "finish 150000 out of 444902\n",
      "finish 151000 out of 444902\n",
      "finish 152000 out of 444902\n",
      "finish 153000 out of 444902\n",
      "finish 154000 out of 444902\n",
      "finish 155000 out of 444902\n",
      "finish 156000 out of 444902\n",
      "finish 157000 out of 444902\n",
      "finish 158000 out of 444902\n",
      "finish 159000 out of 444902\n",
      "finish 160000 out of 444902\n",
      "finish 161000 out of 444902\n",
      "finish 162000 out of 444902\n",
      "finish 163000 out of 444902\n",
      "finish 164000 out of 444902\n",
      "finish 165000 out of 444902\n",
      "finish 166000 out of 444902\n",
      "finish 167000 out of 444902\n",
      "finish 168000 out of 444902\n",
      "finish 169000 out of 444902\n",
      "finish 170000 out of 444902\n",
      "finish 171000 out of 444902\n",
      "finish 172000 out of 444902\n",
      "finish 173000 out of 444902\n",
      "finish 174000 out of 444902\n",
      "finish 175000 out of 444902\n",
      "finish 176000 out of 444902\n",
      "finish 177000 out of 444902\n",
      "finish 178000 out of 444902\n",
      "finish 179000 out of 444902\n",
      "finish 180000 out of 444902\n",
      "finish 181000 out of 444902\n",
      "finish 182000 out of 444902\n",
      "finish 183000 out of 444902\n",
      "finish 184000 out of 444902\n",
      "finish 185000 out of 444902\n",
      "finish 186000 out of 444902\n",
      "finish 187000 out of 444902\n",
      "finish 188000 out of 444902\n",
      "finish 189000 out of 444902\n",
      "finish 190000 out of 444902\n",
      "finish 191000 out of 444902\n",
      "finish 192000 out of 444902\n",
      "finish 193000 out of 444902\n",
      "finish 194000 out of 444902\n",
      "finish 195000 out of 444902\n",
      "finish 196000 out of 444902\n",
      "finish 197000 out of 444902\n",
      "finish 198000 out of 444902\n",
      "finish 199000 out of 444902\n",
      "finish 200000 out of 444902\n",
      "finish 201000 out of 444902\n",
      "finish 202000 out of 444902\n",
      "finish 203000 out of 444902\n",
      "finish 204000 out of 444902\n",
      "finish 205000 out of 444902\n",
      "finish 206000 out of 444902\n",
      "finish 207000 out of 444902\n",
      "finish 208000 out of 444902\n",
      "finish 209000 out of 444902\n",
      "finish 210000 out of 444902\n",
      "finish 211000 out of 444902\n",
      "finish 212000 out of 444902\n",
      "finish 213000 out of 444902\n",
      "finish 214000 out of 444902\n",
      "finish 215000 out of 444902\n",
      "finish 216000 out of 444902\n",
      "finish 217000 out of 444902\n",
      "finish 218000 out of 444902\n",
      "finish 219000 out of 444902\n",
      "finish 220000 out of 444902\n",
      "finish 221000 out of 444902\n",
      "finish 222000 out of 444902\n",
      "finish 223000 out of 444902\n",
      "finish 224000 out of 444902\n",
      "finish 225000 out of 444902\n",
      "finish 226000 out of 444902\n",
      "finish 227000 out of 444902\n",
      "finish 228000 out of 444902\n",
      "finish 229000 out of 444902\n",
      "finish 230000 out of 444902\n",
      "finish 231000 out of 444902\n",
      "finish 232000 out of 444902\n",
      "finish 233000 out of 444902\n",
      "finish 234000 out of 444902\n",
      "finish 235000 out of 444902\n",
      "finish 236000 out of 444902\n",
      "finish 237000 out of 444902\n",
      "finish 238000 out of 444902\n",
      "finish 239000 out of 444902\n",
      "finish 240000 out of 444902\n",
      "finish 241000 out of 444902\n",
      "finish 242000 out of 444902\n",
      "finish 243000 out of 444902\n",
      "finish 244000 out of 444902\n",
      "finish 245000 out of 444902\n",
      "finish 246000 out of 444902\n",
      "finish 247000 out of 444902\n",
      "finish 248000 out of 444902\n",
      "finish 249000 out of 444902\n",
      "finish 250000 out of 444902\n",
      "finish 251000 out of 444902\n",
      "finish 252000 out of 444902\n",
      "finish 253000 out of 444902\n",
      "finish 254000 out of 444902\n",
      "finish 255000 out of 444902\n",
      "finish 256000 out of 444902\n",
      "finish 257000 out of 444902\n",
      "finish 258000 out of 444902\n",
      "finish 259000 out of 444902\n",
      "finish 260000 out of 444902\n",
      "finish 261000 out of 444902\n",
      "finish 262000 out of 444902\n",
      "finish 263000 out of 444902\n",
      "finish 264000 out of 444902\n",
      "finish 265000 out of 444902\n",
      "finish 266000 out of 444902\n",
      "finish 267000 out of 444902\n",
      "finish 268000 out of 444902\n",
      "finish 269000 out of 444902\n",
      "finish 270000 out of 444902\n",
      "finish 271000 out of 444902\n",
      "finish 272000 out of 444902\n",
      "finish 273000 out of 444902\n",
      "finish 274000 out of 444902\n",
      "finish 275000 out of 444902\n",
      "finish 276000 out of 444902\n",
      "finish 277000 out of 444902\n",
      "finish 278000 out of 444902\n",
      "finish 279000 out of 444902\n",
      "finish 280000 out of 444902\n",
      "finish 281000 out of 444902\n",
      "finish 282000 out of 444902\n",
      "finish 283000 out of 444902\n",
      "finish 284000 out of 444902\n",
      "finish 285000 out of 444902\n",
      "finish 286000 out of 444902\n",
      "finish 287000 out of 444902\n",
      "finish 288000 out of 444902\n",
      "finish 289000 out of 444902\n",
      "finish 290000 out of 444902\n",
      "finish 291000 out of 444902\n",
      "finish 292000 out of 444902\n",
      "finish 293000 out of 444902\n",
      "finish 294000 out of 444902\n",
      "finish 295000 out of 444902\n",
      "finish 296000 out of 444902\n",
      "finish 297000 out of 444902\n",
      "finish 298000 out of 444902\n",
      "finish 299000 out of 444902\n",
      "finish 300000 out of 444902\n",
      "finish 301000 out of 444902\n",
      "finish 302000 out of 444902\n",
      "finish 303000 out of 444902\n",
      "finish 304000 out of 444902\n",
      "finish 305000 out of 444902\n",
      "finish 306000 out of 444902\n",
      "finish 307000 out of 444902\n",
      "finish 308000 out of 444902\n",
      "finish 309000 out of 444902\n",
      "finish 310000 out of 444902\n",
      "finish 311000 out of 444902\n",
      "finish 312000 out of 444902\n",
      "finish 313000 out of 444902\n",
      "finish 314000 out of 444902\n",
      "finish 315000 out of 444902\n",
      "finish 316000 out of 444902\n",
      "finish 317000 out of 444902\n",
      "finish 318000 out of 444902\n",
      "finish 319000 out of 444902\n",
      "finish 320000 out of 444902\n",
      "finish 321000 out of 444902\n",
      "finish 322000 out of 444902\n",
      "finish 323000 out of 444902\n",
      "finish 324000 out of 444902\n",
      "finish 325000 out of 444902\n",
      "finish 326000 out of 444902\n",
      "finish 327000 out of 444902\n",
      "finish 328000 out of 444902\n",
      "finish 329000 out of 444902\n",
      "finish 330000 out of 444902\n",
      "finish 331000 out of 444902\n",
      "finish 332000 out of 444902\n",
      "finish 333000 out of 444902\n",
      "finish 334000 out of 444902\n",
      "finish 335000 out of 444902\n",
      "finish 336000 out of 444902\n",
      "finish 337000 out of 444902\n",
      "finish 338000 out of 444902\n",
      "finish 339000 out of 444902\n",
      "finish 340000 out of 444902\n",
      "finish 341000 out of 444902\n",
      "finish 342000 out of 444902\n",
      "finish 343000 out of 444902\n",
      "finish 344000 out of 444902\n",
      "finish 345000 out of 444902\n",
      "finish 346000 out of 444902\n",
      "finish 347000 out of 444902\n",
      "finish 348000 out of 444902\n",
      "finish 349000 out of 444902\n",
      "finish 350000 out of 444902\n",
      "finish 351000 out of 444902\n",
      "finish 352000 out of 444902\n",
      "finish 353000 out of 444902\n",
      "finish 354000 out of 444902\n",
      "finish 355000 out of 444902\n",
      "finish 356000 out of 444902\n",
      "finish 357000 out of 444902\n",
      "finish 358000 out of 444902\n",
      "finish 359000 out of 444902\n",
      "finish 360000 out of 444902\n",
      "finish 361000 out of 444902\n",
      "finish 362000 out of 444902\n",
      "finish 363000 out of 444902\n",
      "finish 364000 out of 444902\n",
      "finish 365000 out of 444902\n",
      "finish 366000 out of 444902\n",
      "finish 367000 out of 444902\n",
      "finish 368000 out of 444902\n",
      "finish 369000 out of 444902\n",
      "finish 370000 out of 444902\n",
      "finish 371000 out of 444902\n",
      "finish 372000 out of 444902\n",
      "finish 373000 out of 444902\n",
      "finish 374000 out of 444902\n",
      "finish 375000 out of 444902\n",
      "finish 376000 out of 444902\n",
      "finish 377000 out of 444902\n",
      "finish 378000 out of 444902\n",
      "finish 379000 out of 444902\n",
      "finish 380000 out of 444902\n",
      "finish 381000 out of 444902\n",
      "finish 382000 out of 444902\n",
      "finish 383000 out of 444902\n",
      "finish 384000 out of 444902\n",
      "finish 385000 out of 444902\n",
      "finish 386000 out of 444902\n",
      "finish 387000 out of 444902\n",
      "finish 388000 out of 444902\n",
      "finish 389000 out of 444902\n",
      "finish 390000 out of 444902\n",
      "finish 391000 out of 444902\n",
      "finish 392000 out of 444902\n",
      "finish 393000 out of 444902\n",
      "finish 394000 out of 444902\n",
      "finish 395000 out of 444902\n",
      "finish 396000 out of 444902\n",
      "finish 397000 out of 444902\n",
      "finish 398000 out of 444902\n",
      "finish 399000 out of 444902\n",
      "finish 400000 out of 444902\n",
      "finish 401000 out of 444902\n",
      "finish 402000 out of 444902\n",
      "finish 403000 out of 444902\n",
      "finish 404000 out of 444902\n",
      "finish 405000 out of 444902\n",
      "finish 406000 out of 444902\n",
      "finish 407000 out of 444902\n",
      "finish 408000 out of 444902\n",
      "finish 409000 out of 444902\n",
      "finish 410000 out of 444902\n",
      "finish 411000 out of 444902\n",
      "finish 412000 out of 444902\n",
      "finish 413000 out of 444902\n",
      "finish 414000 out of 444902\n",
      "finish 415000 out of 444902\n",
      "finish 416000 out of 444902\n",
      "finish 417000 out of 444902\n",
      "finish 418000 out of 444902\n",
      "finish 419000 out of 444902\n",
      "finish 420000 out of 444902\n",
      "finish 421000 out of 444902\n",
      "finish 422000 out of 444902\n",
      "finish 423000 out of 444902\n",
      "finish 424000 out of 444902\n",
      "finish 425000 out of 444902\n",
      "finish 426000 out of 444902\n",
      "finish 427000 out of 444902\n",
      "finish 428000 out of 444902\n",
      "finish 429000 out of 444902\n",
      "finish 430000 out of 444902\n",
      "finish 431000 out of 444902\n",
      "finish 432000 out of 444902\n",
      "finish 433000 out of 444902\n",
      "finish 434000 out of 444902\n",
      "finish 435000 out of 444902\n",
      "finish 436000 out of 444902\n",
      "finish 437000 out of 444902\n",
      "finish 438000 out of 444902\n",
      "finish 439000 out of 444902\n",
      "finish 440000 out of 444902\n",
      "finish 441000 out of 444902\n",
      "finish 442000 out of 444902\n",
      "finish 443000 out of 444902\n",
      "finish 444000 out of 444902\n"
     ]
    }
   ],
   "source": [
    "## Store the review and rating seperately\n",
    "\n",
    "dataset[\"review_text_1\"] = []\n",
    "dataset[\"review_text_2\"] = []\n",
    "dataset[\"review_text_3\"] = []\n",
    "dataset[\"review_text_4\"] = []\n",
    "dataset[\"review_text_5\"] = []\n",
    "for i in range(len(dataset['rating'])):\n",
    "    if i%1000 == 0:\n",
    "        print (\"finish {} out of 444902\".format(i))\n",
    "    if dataset[\"rating\"][i] == 5.0:\n",
    "        dataset[\"review_text_5\"].append(dataset['review_text'][i])\n",
    "    elif dataset[\"rating\"][i] == 4.0:\n",
    "        dataset[\"review_text_4\"].append(dataset['review_text'][i])\n",
    "    elif dataset[\"rating\"][i] == 3.0:\n",
    "        dataset[\"review_text_3\"].append(dataset['review_text'][i])\n",
    "    elif dataset[\"rating\"][i] == 2.0:\n",
    "        dataset[\"review_text_2\"].append(dataset['review_text'][i])\n",
    "    else:\n",
    "        dataset[\"review_text_1\"].append(dataset['review_text'][i])        \n",
    "     "
   ]
  },
  {
   "cell_type": "code",
   "execution_count": 21,
   "metadata": {
    "collapsed": false
   },
   "outputs": [
    {
     "name": "stdout",
     "output_type": "stream",
     "text": [
      "249099\n",
      "111070\n",
      "47619\n",
      "20931\n",
      "16183\n"
     ]
    }
   ],
   "source": [
    "print (len(dataset[\"review_text_5\"]))\n",
    "print (len(dataset[\"review_text_4\"]))\n",
    "print (len(dataset[\"review_text_3\"]))\n",
    "print (len(dataset[\"review_text_2\"]))\n",
    "print (len(dataset[\"review_text_1\"]))"
   ]
  },
  {
   "cell_type": "code",
   "execution_count": 22,
   "metadata": {
    "collapsed": false
   },
   "outputs": [],
   "source": [
    "del(dataset[\"review_text_1\"])\n",
    "del(dataset[\"review_text_2\"])\n",
    "del(dataset[\"review_text_3\"])\n",
    "del(dataset[\"review_text_4\"])\n",
    "del(dataset[\"review_text_5\"])"
   ]
  },
  {
   "cell_type": "code",
   "execution_count": 24,
   "metadata": {
    "collapsed": false
   },
   "outputs": [
    {
     "name": "stdout",
     "output_type": "stream",
     "text": [
      "444902\n"
     ]
    },
    {
     "data": {
      "text/html": [
       "<div>\n",
       "<style>\n",
       "    .dataframe thead tr:only-child th {\n",
       "        text-align: right;\n",
       "    }\n",
       "\n",
       "    .dataframe thead th {\n",
       "        text-align: left;\n",
       "    }\n",
       "\n",
       "    .dataframe tbody tr th {\n",
       "        vertical-align: top;\n",
       "    }\n",
       "</style>\n",
       "<table border=\"1\" class=\"dataframe\">\n",
       "  <thead>\n",
       "    <tr style=\"text-align: right;\">\n",
       "      <th></th>\n",
       "      <th>rating</th>\n",
       "      <th>review_text</th>\n",
       "    </tr>\n",
       "  </thead>\n",
       "  <tbody>\n",
       "    <tr>\n",
       "      <th>0</th>\n",
       "      <td>5.0</td>\n",
       "      <td>This book is everything that is simple, delica...</td>\n",
       "    </tr>\n",
       "    <tr>\n",
       "      <th>1</th>\n",
       "      <td>5.0</td>\n",
       "      <td>When I first started writing poetry at age 12 ...</td>\n",
       "    </tr>\n",
       "    <tr>\n",
       "      <th>2</th>\n",
       "      <td>5.0</td>\n",
       "      <td>Khalil Gibran's book, The Prophet, has the pow...</td>\n",
       "    </tr>\n",
       "    <tr>\n",
       "      <th>3</th>\n",
       "      <td>5.0</td>\n",
       "      <td>I was given this book by a writer friend who c...</td>\n",
       "    </tr>\n",
       "    <tr>\n",
       "      <th>4</th>\n",
       "      <td>5.0</td>\n",
       "      <td>A book to be treasured. A tremendous poet deal...</td>\n",
       "    </tr>\n",
       "    <tr>\n",
       "      <th>5</th>\n",
       "      <td>5.0</td>\n",
       "      <td>Needed to read this and could not find my old ...</td>\n",
       "    </tr>\n",
       "    <tr>\n",
       "      <th>6</th>\n",
       "      <td>5.0</td>\n",
       "      <td>I can't think of a title fitting enough. What ...</td>\n",
       "    </tr>\n",
       "    <tr>\n",
       "      <th>7</th>\n",
       "      <td>1.0</td>\n",
       "      <td>This book was a philosophical touchstone for i...</td>\n",
       "    </tr>\n",
       "    <tr>\n",
       "      <th>8</th>\n",
       "      <td>3.0</td>\n",
       "      <td>This book is tagged as THE PROPHET by KAHLIL G...</td>\n",
       "    </tr>\n",
       "    <tr>\n",
       "      <th>9</th>\n",
       "      <td>5.0</td>\n",
       "      <td>Book offers amazing Philosphy and at the same ...</td>\n",
       "    </tr>\n",
       "  </tbody>\n",
       "</table>\n",
       "</div>"
      ],
      "text/plain": [
       "   rating                                        review_text\n",
       "0     5.0  This book is everything that is simple, delica...\n",
       "1     5.0  When I first started writing poetry at age 12 ...\n",
       "2     5.0  Khalil Gibran's book, The Prophet, has the pow...\n",
       "3     5.0  I was given this book by a writer friend who c...\n",
       "4     5.0  A book to be treasured. A tremendous poet deal...\n",
       "5     5.0  Needed to read this and could not find my old ...\n",
       "6     5.0  I can't think of a title fitting enough. What ...\n",
       "7     1.0  This book was a philosophical touchstone for i...\n",
       "8     3.0  This book is tagged as THE PROPHET by KAHLIL G...\n",
       "9     5.0  Book offers amazing Philosphy and at the same ..."
      ]
     },
     "execution_count": 24,
     "metadata": {},
     "output_type": "execute_result"
    }
   ],
   "source": [
    "## Convert Dataset to dataframe\n",
    "dataset_df = pd.DataFrame(dataset)\n",
    "print(len(dataset_df))\n",
    "dataset_df.head(10)"
   ]
  },
  {
   "cell_type": "code",
   "execution_count": 25,
   "metadata": {
    "collapsed": false
   },
   "outputs": [],
   "source": [
    "dataset_df_5 = dataset_df[dataset_df[\"rating\"]==5.0]\n",
    "dataset_df_4 = dataset_df[dataset_df[\"rating\"]==4.0]\n",
    "dataset_df_3 = dataset_df[dataset_df[\"rating\"]==3.0]\n",
    "dataset_df_2 = dataset_df[dataset_df[\"rating\"]==2.0]\n",
    "dataset_df_1 = dataset_df[dataset_df[\"rating\"]==1.0]"
   ]
  },
  {
   "cell_type": "code",
   "execution_count": 26,
   "metadata": {
    "collapsed": false
   },
   "outputs": [
    {
     "name": "stdout",
     "output_type": "stream",
     "text": [
      "249099\n",
      "111070\n",
      "47619\n",
      "20931\n",
      "16183\n"
     ]
    }
   ],
   "source": [
    "print(len(dataset_df_5))\n",
    "print(len(dataset_df_4))\n",
    "print(len(dataset_df_3))\n",
    "print(len(dataset_df_2))\n",
    "print(len(dataset_df_1))"
   ]
  },
  {
   "cell_type": "code",
   "execution_count": 27,
   "metadata": {
    "collapsed": false
   },
   "outputs": [],
   "source": [
    "dataset_df_1_train = dataset_df_1.iloc[0:5000,]\n",
    "dataset_df_1_test = dataset_df_1.iloc[5000:6000,]"
   ]
  },
  {
   "cell_type": "code",
   "execution_count": 28,
   "metadata": {
    "collapsed": true
   },
   "outputs": [],
   "source": [
    "dataset_df_2_train = dataset_df_2.iloc[0:5000,]\n",
    "dataset_df_2_test = dataset_df_2.iloc[5000:6000,]"
   ]
  },
  {
   "cell_type": "code",
   "execution_count": 29,
   "metadata": {
    "collapsed": true
   },
   "outputs": [],
   "source": [
    "dataset_df_3_train = dataset_df_3.iloc[0:5000,]\n",
    "dataset_df_3_test = dataset_df_3.iloc[5000:6000,]"
   ]
  },
  {
   "cell_type": "code",
   "execution_count": 30,
   "metadata": {
    "collapsed": true
   },
   "outputs": [],
   "source": [
    "dataset_df_4_train = dataset_df_4.iloc[0:5000,]\n",
    "dataset_df_4_test = dataset_df_4.iloc[5000:6000,]"
   ]
  },
  {
   "cell_type": "code",
   "execution_count": 31,
   "metadata": {
    "collapsed": true
   },
   "outputs": [],
   "source": [
    "dataset_df_5_train = dataset_df_5.iloc[0:5000,]\n",
    "dataset_df_5_test = dataset_df_5.iloc[5000:6000,]"
   ]
  },
  {
   "cell_type": "code",
   "execution_count": 32,
   "metadata": {
    "collapsed": true
   },
   "outputs": [],
   "source": [
    "frames_train = [dataset_df_5_train, dataset_df_4_train, dataset_df_3_train,dataset_df_2_train,dataset_df_1_train]\n",
    "frames_test = [dataset_df_5_test, dataset_df_4_test, dataset_df_3_test,dataset_df_2_test,dataset_df_1_test]"
   ]
  },
  {
   "cell_type": "code",
   "execution_count": 34,
   "metadata": {
    "collapsed": true
   },
   "outputs": [],
   "source": [
    "dataset_df_train = pd.concat(frames_train)\n",
    "dataset_df_test = pd.concat(frames_test)"
   ]
  },
  {
   "cell_type": "code",
   "execution_count": 35,
   "metadata": {
    "collapsed": true
   },
   "outputs": [],
   "source": [
    "## Clean the reviews\n",
    "def data_cleaning (raw_review_str):\n",
    "    ## remove potential HTML tag\n",
    "    review_text = BeautifulSoup(raw_review_str).get_text()\n",
    "    ## remove non-letter \n",
    "    review_letter = re.sub(\"[^a-zA-Z]\",\" \",review_text)\n",
    "    ## convert to lower case and split the list\n",
    "    review_lower_list = review_letter.lower().split()\n",
    "    ## remove stop words and stemming\n",
    "    stops_eng = set(stopwords.words(\"english\"))\n",
    "    stemmer = nltk.wordnet.WordNetLemmatizer()\n",
    "    #review_nostopwords_stemmed = [stemmer.lemmatize(w) for w in review_lower_list]\n",
    "    review_nostopwords_stemmed = [stemmer.lemmatize(w) for w in review_lower_list if w not in stops_eng]\n",
    "    ## return \n",
    "    return \" \".join(review_nostopwords_stemmed)"
   ]
  },
  {
   "cell_type": "code",
   "execution_count": 36,
   "metadata": {
    "collapsed": false
   },
   "outputs": [
    {
     "name": "stderr",
     "output_type": "stream",
     "text": [
      "/Users/xinmu/anaconda/envs/py36/lib/python3.6/site-packages/bs4/__init__.py:181: UserWarning: No parser was explicitly specified, so I'm using the best available HTML parser for this system (\"html.parser\"). This usually isn't a problem, but if you run this code on another system, or in a different virtual environment, it may use a different parser and behave differently.\n",
      "\n",
      "The code that caused this warning is on line 193 of the file /Users/xinmu/anaconda/envs/py36/lib/python3.6/runpy.py. To get rid of this warning, change code that looks like this:\n",
      "\n",
      " BeautifulSoup(YOUR_MARKUP})\n",
      "\n",
      "to this:\n",
      "\n",
      " BeautifulSoup(YOUR_MARKUP, \"html.parser\")\n",
      "\n",
      "  markup_type=markup_type))\n"
     ]
    }
   ],
   "source": [
    "dataset_df_train[\"review_cleaned\"] = dataset_df_train[\"review_text\"].apply(data_cleaning)\n",
    "dataset_df_test[\"review_cleaned\"] = dataset_df_test[\"review_text\"].apply(data_cleaning)"
   ]
  },
  {
   "cell_type": "code",
   "execution_count": 39,
   "metadata": {
    "collapsed": false
   },
   "outputs": [
    {
     "data": {
      "text/plain": [
       "'/Users/xinmu/Documents/Xin_Mu/Amazon_book_review'"
      ]
     },
     "execution_count": 39,
     "metadata": {},
     "output_type": "execute_result"
    }
   ],
   "source": [
    "import os\n",
    "os.getcwd()"
   ]
  },
  {
   "cell_type": "code",
   "execution_count": 71,
   "metadata": {
    "collapsed": false
   },
   "outputs": [],
   "source": [
    "dataset_df_train.to_csv(path_or_buf=\"/Users/xinmu/Documents/Xin_Mu/Amazon_book_review/Amazon_book_review_train.csv\",index=True)\n",
    "dataset_df_test.to_csv(path_or_buf=\"/Users/xinmu/Documents/Xin_Mu/Amazon_book_review/Amazon_book_review_test.csv\",index=True)"
   ]
  },
  {
   "cell_type": "code",
   "execution_count": 77,
   "metadata": {
    "collapsed": false
   },
   "outputs": [
    {
     "data": {
      "text/html": [
       "<div>\n",
       "<style>\n",
       "    .dataframe thead tr:only-child th {\n",
       "        text-align: right;\n",
       "    }\n",
       "\n",
       "    .dataframe thead th {\n",
       "        text-align: left;\n",
       "    }\n",
       "\n",
       "    .dataframe tbody tr th {\n",
       "        vertical-align: top;\n",
       "    }\n",
       "</style>\n",
       "<table border=\"1\" class=\"dataframe\">\n",
       "  <thead>\n",
       "    <tr style=\"text-align: right;\">\n",
       "      <th></th>\n",
       "      <th>rating</th>\n",
       "      <th>review_text</th>\n",
       "      <th>review_cleaned</th>\n",
       "    </tr>\n",
       "  </thead>\n",
       "  <tbody>\n",
       "    <tr>\n",
       "      <th>0</th>\n",
       "      <td>5.0</td>\n",
       "      <td>This book is everything that is simple, delica...</td>\n",
       "      <td>book everything simple delicate true beautiful...</td>\n",
       "    </tr>\n",
       "    <tr>\n",
       "      <th>1</th>\n",
       "      <td>5.0</td>\n",
       "      <td>When I first started writing poetry at age 12 ...</td>\n",
       "      <td>first started writing poetry age encouraged re...</td>\n",
       "    </tr>\n",
       "    <tr>\n",
       "      <th>2</th>\n",
       "      <td>5.0</td>\n",
       "      <td>Khalil Gibran's book, The Prophet, has the pow...</td>\n",
       "      <td>khalil gibran book prophet power transform dar...</td>\n",
       "    </tr>\n",
       "    <tr>\n",
       "      <th>3</th>\n",
       "      <td>5.0</td>\n",
       "      <td>I was given this book by a writer friend who c...</td>\n",
       "      <td>given book writer friend called beautiful book...</td>\n",
       "    </tr>\n",
       "    <tr>\n",
       "      <th>4</th>\n",
       "      <td>5.0</td>\n",
       "      <td>A book to be treasured. A tremendous poet deal...</td>\n",
       "      <td>book treasured tremendous poet dealing mostly ...</td>\n",
       "    </tr>\n",
       "  </tbody>\n",
       "</table>\n",
       "</div>"
      ],
      "text/plain": [
       "   rating                                        review_text  \\\n",
       "0     5.0  This book is everything that is simple, delica...   \n",
       "1     5.0  When I first started writing poetry at age 12 ...   \n",
       "2     5.0  Khalil Gibran's book, The Prophet, has the pow...   \n",
       "3     5.0  I was given this book by a writer friend who c...   \n",
       "4     5.0  A book to be treasured. A tremendous poet deal...   \n",
       "\n",
       "                                      review_cleaned  \n",
       "0  book everything simple delicate true beautiful...  \n",
       "1  first started writing poetry age encouraged re...  \n",
       "2  khalil gibran book prophet power transform dar...  \n",
       "3  given book writer friend called beautiful book...  \n",
       "4  book treasured tremendous poet dealing mostly ...  "
      ]
     },
     "execution_count": 77,
     "metadata": {},
     "output_type": "execute_result"
    }
   ],
   "source": [
    "train_from_csv = pd.read_csv('Amazon_book_review_train.csv',index_col = 0)\n",
    "train_from_csv.head()\n",
    "#train_from_csv.isnull().any()"
   ]
  },
  {
   "cell_type": "code",
   "execution_count": 78,
   "metadata": {
    "collapsed": false
   },
   "outputs": [
    {
     "data": {
      "text/html": [
       "<div>\n",
       "<style>\n",
       "    .dataframe thead tr:only-child th {\n",
       "        text-align: right;\n",
       "    }\n",
       "\n",
       "    .dataframe thead th {\n",
       "        text-align: left;\n",
       "    }\n",
       "\n",
       "    .dataframe tbody tr th {\n",
       "        vertical-align: top;\n",
       "    }\n",
       "</style>\n",
       "<table border=\"1\" class=\"dataframe\">\n",
       "  <thead>\n",
       "    <tr style=\"text-align: right;\">\n",
       "      <th></th>\n",
       "      <th>rating</th>\n",
       "      <th>review_text</th>\n",
       "      <th>review_cleaned</th>\n",
       "    </tr>\n",
       "  </thead>\n",
       "  <tbody>\n",
       "    <tr>\n",
       "      <th>20160</th>\n",
       "      <td>3.0</td>\n",
       "      <td>NaN</td>\n",
       "      <td>NaN</td>\n",
       "    </tr>\n",
       "    <tr>\n",
       "      <th>419</th>\n",
       "      <td>2.0</td>\n",
       "      <td>not for me.</td>\n",
       "      <td>NaN</td>\n",
       "    </tr>\n",
       "    <tr>\n",
       "      <th>67063</th>\n",
       "      <td>2.0</td>\n",
       "      <td>NaN</td>\n",
       "      <td>NaN</td>\n",
       "    </tr>\n",
       "  </tbody>\n",
       "</table>\n",
       "</div>"
      ],
      "text/plain": [
       "       rating  review_text review_cleaned\n",
       "20160     3.0          NaN            NaN\n",
       "419       2.0  not for me.            NaN\n",
       "67063     2.0          NaN            NaN"
      ]
     },
     "execution_count": 78,
     "metadata": {},
     "output_type": "execute_result"
    }
   ],
   "source": [
    "train_from_csv[train_from_csv['review_cleaned'].isnull()]"
   ]
  },
  {
   "cell_type": "code",
   "execution_count": 79,
   "metadata": {
    "collapsed": false
   },
   "outputs": [
    {
     "data": {
      "text/plain": [
       "rating            False\n",
       "review_text       False\n",
       "review_cleaned    False\n",
       "dtype: bool"
      ]
     },
     "execution_count": 79,
     "metadata": {},
     "output_type": "execute_result"
    }
   ],
   "source": [
    "dataset_df_train.isnull().any()"
   ]
  },
  {
   "cell_type": "code",
   "execution_count": 80,
   "metadata": {
    "collapsed": false
   },
   "outputs": [
    {
     "data": {
      "text/plain": [
       "rating            float64\n",
       "review_text        object\n",
       "review_cleaned     object\n",
       "dtype: object"
      ]
     },
     "execution_count": 80,
     "metadata": {},
     "output_type": "execute_result"
    }
   ],
   "source": [
    "dataset_df_train.dtypes"
   ]
  },
  {
   "cell_type": "code",
   "execution_count": 83,
   "metadata": {
    "collapsed": false
   },
   "outputs": [
    {
     "data": {
      "text/plain": [
       "(25000, 3)"
      ]
     },
     "execution_count": 83,
     "metadata": {},
     "output_type": "execute_result"
    }
   ],
   "source": [
    "dataset_df_train.shape"
   ]
  },
  {
   "cell_type": "code",
   "execution_count": 82,
   "metadata": {
    "collapsed": false
   },
   "outputs": [
    {
     "data": {
      "text/html": [
       "<div>\n",
       "<style>\n",
       "    .dataframe thead tr:only-child th {\n",
       "        text-align: right;\n",
       "    }\n",
       "\n",
       "    .dataframe thead th {\n",
       "        text-align: left;\n",
       "    }\n",
       "\n",
       "    .dataframe tbody tr th {\n",
       "        vertical-align: top;\n",
       "    }\n",
       "</style>\n",
       "<table border=\"1\" class=\"dataframe\">\n",
       "  <thead>\n",
       "    <tr style=\"text-align: right;\">\n",
       "      <th></th>\n",
       "      <th>rating</th>\n",
       "      <th>review_text</th>\n",
       "      <th>review_cleaned</th>\n",
       "    </tr>\n",
       "  </thead>\n",
       "  <tbody>\n",
       "    <tr>\n",
       "      <th>20160</th>\n",
       "      <td>3.0</td>\n",
       "      <td></td>\n",
       "      <td></td>\n",
       "    </tr>\n",
       "    <tr>\n",
       "      <th>419</th>\n",
       "      <td>2.0</td>\n",
       "      <td>not for me.</td>\n",
       "      <td></td>\n",
       "    </tr>\n",
       "    <tr>\n",
       "      <th>67063</th>\n",
       "      <td>2.0</td>\n",
       "      <td></td>\n",
       "      <td></td>\n",
       "    </tr>\n",
       "  </tbody>\n",
       "</table>\n",
       "</div>"
      ],
      "text/plain": [
       "       rating  review_text review_cleaned\n",
       "20160     3.0                            \n",
       "419       2.0  not for me.               \n",
       "67063     2.0                            "
      ]
     },
     "execution_count": 82,
     "metadata": {},
     "output_type": "execute_result"
    }
   ],
   "source": [
    "dataset_df_train.loc[[20160,419,67063]]"
   ]
  },
  {
   "cell_type": "code",
   "execution_count": 47,
   "metadata": {
    "collapsed": false
   },
   "outputs": [
    {
     "data": {
      "text/plain": [
       "(25000, 3)"
      ]
     },
     "execution_count": 47,
     "metadata": {},
     "output_type": "execute_result"
    }
   ],
   "source": [
    "dataset_df_train.shape"
   ]
  },
  {
   "cell_type": "code",
   "execution_count": 48,
   "metadata": {
    "collapsed": false
   },
   "outputs": [
    {
     "data": {
      "text/plain": [
       "(25000, 3)"
      ]
     },
     "execution_count": 48,
     "metadata": {},
     "output_type": "execute_result"
    }
   ],
   "source": [
    "train_from_csv.shape"
   ]
  },
  {
   "cell_type": "code",
   "execution_count": 55,
   "metadata": {
    "collapsed": false
   },
   "outputs": [
    {
     "name": "stdout",
     "output_type": "stream",
     "text": [
      "(444902, 2)\n"
     ]
    },
    {
     "data": {
      "text/html": [
       "<div>\n",
       "<style>\n",
       "    .dataframe thead tr:only-child th {\n",
       "        text-align: right;\n",
       "    }\n",
       "\n",
       "    .dataframe thead th {\n",
       "        text-align: left;\n",
       "    }\n",
       "\n",
       "    .dataframe tbody tr th {\n",
       "        vertical-align: top;\n",
       "    }\n",
       "</style>\n",
       "<table border=\"1\" class=\"dataframe\">\n",
       "  <thead>\n",
       "    <tr style=\"text-align: right;\">\n",
       "      <th></th>\n",
       "      <th>rating</th>\n",
       "      <th>review_text</th>\n",
       "    </tr>\n",
       "  </thead>\n",
       "  <tbody>\n",
       "    <tr>\n",
       "      <th>0</th>\n",
       "      <td>5.0</td>\n",
       "      <td>This book is everything that is simple, delica...</td>\n",
       "    </tr>\n",
       "    <tr>\n",
       "      <th>1</th>\n",
       "      <td>5.0</td>\n",
       "      <td>When I first started writing poetry at age 12 ...</td>\n",
       "    </tr>\n",
       "    <tr>\n",
       "      <th>2</th>\n",
       "      <td>5.0</td>\n",
       "      <td>Khalil Gibran's book, The Prophet, has the pow...</td>\n",
       "    </tr>\n",
       "    <tr>\n",
       "      <th>3</th>\n",
       "      <td>5.0</td>\n",
       "      <td>I was given this book by a writer friend who c...</td>\n",
       "    </tr>\n",
       "    <tr>\n",
       "      <th>4</th>\n",
       "      <td>5.0</td>\n",
       "      <td>A book to be treasured. A tremendous poet deal...</td>\n",
       "    </tr>\n",
       "    <tr>\n",
       "      <th>5</th>\n",
       "      <td>5.0</td>\n",
       "      <td>Needed to read this and could not find my old ...</td>\n",
       "    </tr>\n",
       "    <tr>\n",
       "      <th>6</th>\n",
       "      <td>5.0</td>\n",
       "      <td>I can't think of a title fitting enough. What ...</td>\n",
       "    </tr>\n",
       "    <tr>\n",
       "      <th>7</th>\n",
       "      <td>1.0</td>\n",
       "      <td>This book was a philosophical touchstone for i...</td>\n",
       "    </tr>\n",
       "    <tr>\n",
       "      <th>8</th>\n",
       "      <td>3.0</td>\n",
       "      <td>This book is tagged as THE PROPHET by KAHLIL G...</td>\n",
       "    </tr>\n",
       "    <tr>\n",
       "      <th>9</th>\n",
       "      <td>5.0</td>\n",
       "      <td>Book offers amazing Philosphy and at the same ...</td>\n",
       "    </tr>\n",
       "  </tbody>\n",
       "</table>\n",
       "</div>"
      ],
      "text/plain": [
       "   rating                                        review_text\n",
       "0     5.0  This book is everything that is simple, delica...\n",
       "1     5.0  When I first started writing poetry at age 12 ...\n",
       "2     5.0  Khalil Gibran's book, The Prophet, has the pow...\n",
       "3     5.0  I was given this book by a writer friend who c...\n",
       "4     5.0  A book to be treasured. A tremendous poet deal...\n",
       "5     5.0  Needed to read this and could not find my old ...\n",
       "6     5.0  I can't think of a title fitting enough. What ...\n",
       "7     1.0  This book was a philosophical touchstone for i...\n",
       "8     3.0  This book is tagged as THE PROPHET by KAHLIL G...\n",
       "9     5.0  Book offers amazing Philosphy and at the same ..."
      ]
     },
     "execution_count": 55,
     "metadata": {},
     "output_type": "execute_result"
    }
   ],
   "source": [
    "print(dataset_df.shape)\n",
    "dataset_df.head(10)"
   ]
  },
  {
   "cell_type": "code",
   "execution_count": 85,
   "metadata": {
    "collapsed": false
   },
   "outputs": [
    {
     "name": "stderr",
     "output_type": "stream",
     "text": [
      "/Users/xinmu/anaconda/envs/py36/lib/python3.6/site-packages/sklearn/model_selection/_split.py:2010: FutureWarning: From version 0.21, test_size will always complement train_size unless both are specified.\n",
      "  FutureWarning)\n"
     ]
    }
   ],
   "source": [
    "## Split the the dataset to training and test data\n",
    "train_set, test_set = sklearn.model_selection.train_test_split(dataset_df,train_size=0.8)"
   ]
  },
  {
   "cell_type": "code",
   "execution_count": 86,
   "metadata": {
    "collapsed": false
   },
   "outputs": [],
   "source": [
    "## Put all the review of train_set in a list to generate the features\n",
    "clean_train_reviews = []\n",
    "for i in dataset_df_train[\"review_cleaned\"]:\n",
    "    clean_train_reviews.append(i)"
   ]
  },
  {
   "cell_type": "code",
   "execution_count": 87,
   "metadata": {
    "collapsed": true
   },
   "outputs": [],
   "source": [
    "## Put all the review of test_set in a list \n",
    "clean_test_reviews = []\n",
    "for i in dataset_df_test[\"review_cleaned\"]:\n",
    "    clean_test_reviews.append(i) "
   ]
  },
  {
   "cell_type": "code",
   "execution_count": 88,
   "metadata": {
    "collapsed": true
   },
   "outputs": [],
   "source": [
    "## Generate Anather set of features\n",
    "vectorizer = TfidfVectorizer(analyzer = \"word\", ngram_range=(1, 2), tokenizer = None, preprocessor = None, stop_words = None, max_features=20000)\n",
    "train_data_features = vectorizer.fit_transform(clean_train_reviews)\n",
    "test_data_features = vectorizer.transform(clean_test_reviews)"
   ]
  },
  {
   "cell_type": "code",
   "execution_count": 89,
   "metadata": {
    "collapsed": false
   },
   "outputs": [
    {
     "data": {
      "text/plain": [
       "(25000, 20000)"
      ]
     },
     "execution_count": 89,
     "metadata": {},
     "output_type": "execute_result"
    }
   ],
   "source": [
    "train_data_features.shape"
   ]
  },
  {
   "cell_type": "code",
   "execution_count": 97,
   "metadata": {
    "collapsed": false
   },
   "outputs": [],
   "source": [
    "train_data_features = train_data_features.toarray() ## train_data_features now is a very sparse matrix\n",
    "test_data_features = test_data_features.toarray()"
   ]
  },
  {
   "cell_type": "code",
   "execution_count": 91,
   "metadata": {
    "collapsed": false
   },
   "outputs": [
    {
     "data": {
      "text/plain": [
       "numpy.ndarray"
      ]
     },
     "execution_count": 91,
     "metadata": {},
     "output_type": "execute_result"
    }
   ],
   "source": [
    "type(train_data_features)"
   ]
  },
  {
   "cell_type": "code",
   "execution_count": 92,
   "metadata": {
    "collapsed": false
   },
   "outputs": [
    {
     "data": {
      "text/plain": [
       "(25000, 20000)"
      ]
     },
     "execution_count": 92,
     "metadata": {},
     "output_type": "execute_result"
    }
   ],
   "source": [
    "train_data_features.shape"
   ]
  },
  {
   "cell_type": "code",
   "execution_count": 95,
   "metadata": {
    "collapsed": false
   },
   "outputs": [],
   "source": [
    "forest = RandomForestClassifier(n_estimators = 200) \n",
    "\n",
    "# Fit the forest to the training set, using the bag of words as \n",
    "# features and the sentiment labels as the response variable\n",
    "#\n",
    "# This may take a few minutes to run\n",
    "forest = forest.fit(train_data_features, dataset_df_train[\"rating\"])"
   ]
  },
  {
   "cell_type": "markdown",
   "metadata": {
    "collapsed": true
   },
   "source": [
    "## Apply the model on test data set"
   ]
  },
  {
   "cell_type": "code",
   "execution_count": 98,
   "metadata": {
    "collapsed": false
   },
   "outputs": [],
   "source": [
    "# Use the random forest to make sentiment label predictions\n",
    "result = forest.predict(test_data_features)"
   ]
  },
  {
   "cell_type": "code",
   "execution_count": 99,
   "metadata": {
    "collapsed": false
   },
   "outputs": [
    {
     "name": "stdout",
     "output_type": "stream",
     "text": [
      "0.4526\n"
     ]
    }
   ],
   "source": [
    "count_correct = 0\n",
    "for i in range(len(result)):\n",
    "    if result[i] == dataset_df_test['rating'].iloc[i]:\n",
    "        count_correct+=1\n",
    "print (count_correct/len(result))\n",
    "    "
   ]
  },
  {
   "cell_type": "code",
   "execution_count": 100,
   "metadata": {
    "collapsed": true
   },
   "outputs": [],
   "source": [
    "c1 = 0\n",
    "c2 = 0\n",
    "c3 = 0\n",
    "c4 = 0\n",
    "c5 = 0\n",
    "for i in range(len(result)):\n",
    "    if dataset_df_test['rating'].iloc[i] == 1.0:\n",
    "        c1 += 1\n",
    "    elif dataset_df_test['rating'].iloc[i] == 2.0:\n",
    "        c2 += 1\n",
    "    elif dataset_df_test['rating'].iloc[i] == 3.0:\n",
    "        c3 += 1\n",
    "    elif dataset_df_test['rating'].iloc[i] == 4.0:\n",
    "        c4 += 1\n",
    "    else:\n",
    "        c5 += 1\n",
    "        "
   ]
  },
  {
   "cell_type": "code",
   "execution_count": 101,
   "metadata": {
    "collapsed": false
   },
   "outputs": [
    {
     "name": "stdout",
     "output_type": "stream",
     "text": [
      "0.2 0.2 0.2 0.2 0.2\n"
     ]
    }
   ],
   "source": [
    "print (c1/len(result), c2/len(result), c3/len(result), c4/len(result), c5/len(result))"
   ]
  },
  {
   "cell_type": "code",
   "execution_count": 102,
   "metadata": {
    "collapsed": true
   },
   "outputs": [],
   "source": [
    "assert(len(result)== len(dataset_df_test))"
   ]
  },
  {
   "cell_type": "code",
   "execution_count": null,
   "metadata": {
    "collapsed": true
   },
   "outputs": [],
   "source": []
  }
 ],
 "metadata": {
  "anaconda-cloud": {},
  "kernelspec": {
   "display_name": "Python [conda env:py36]",
   "language": "python",
   "name": "conda-env-py36-py"
  },
  "language_info": {
   "codemirror_mode": {
    "name": "ipython",
    "version": 3
   },
   "file_extension": ".py",
   "mimetype": "text/x-python",
   "name": "python",
   "nbconvert_exporter": "python",
   "pygments_lexer": "ipython3",
   "version": "3.6.2"
  }
 },
 "nbformat": 4,
 "nbformat_minor": 0
}
