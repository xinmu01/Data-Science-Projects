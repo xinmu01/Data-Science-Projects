{
 "cells": [
  {
   "cell_type": "code",
   "execution_count": 1,
   "metadata": {
    "collapsed": true
   },
   "outputs": [],
   "source": [
    "import pandas as pd\n",
    "import gzip\n",
    "import os\n",
    "from pprint import pprint"
   ]
  },
  {
   "cell_type": "code",
   "execution_count": 2,
   "metadata": {
    "collapsed": false
   },
   "outputs": [
    {
     "data": {
      "text/plain": [
       "'/Users/xinmu/Documents/Xin_Mu/Amazon_book_review'"
      ]
     },
     "execution_count": 2,
     "metadata": {},
     "output_type": "execute_result"
    }
   ],
   "source": [
    "os.getcwd()"
   ]
  },
  {
   "cell_type": "code",
   "execution_count": 8,
   "metadata": {
    "collapsed": false
   },
   "outputs": [
    {
     "name": "stdout",
     "output_type": "stream",
     "text": [
      "(b'{\"reviewerID\": \"A10000012B7CGYKOMPQ4L\", \"asin\": \"000100039X\", \"reviewerName\"'\n",
      " b': \"Adam\", \"helpful\": [0, 0], \"reviewText\": \"Spiritually and mentally inspiri'\n",
      " b'ng! A book that allows you to question your morals and will help you discove'\n",
      " b'r who you really are!\", \"overall\": 5.0, \"summary\": \"Wonderful!\", \"unixReview'\n",
      " b'Time\": 1355616000, \"reviewTime\": \"12 16, 2012\"}\\n')\n",
      "(b'{\"reviewerID\": \"A2S166WSCFIFP5\", \"asin\": \"000100039X\", \"reviewerName\": \"adea'\n",
      " b'd_poet@hotmail.com \\\\\"adead_poet@hotmail.com\\\\\"\", \"helpful\": [0, 2], \"revi'\n",
      " b'ewText\": \"This is one my must have books. It is a masterpiece of spiritualit'\n",
      " b\"y. I'll be the first to admit, its literary quality isn't much. It is rather\"\n",
      " b' simplistically written, but the message behind it is so powerful that you h'\n",
      " b'ave to read it. It will take you to enlightenment.\", \"overall\": 5.0, \"summar'\n",
      " b'y\": \"close to god\", \"unixReviewTime\": 1071100800, \"reviewTime\": \"12 11, 2003'\n",
      " b'\"}\\n')\n"
     ]
    },
    {
     "data": {
      "text/plain": [
       "b'{\"reviewerID\": \"A10000012B7CGYKOMPQ4L\", \"asin\": \"000100039X\", \"reviewerName\": \"Adam\", \"helpful\": [0, 0], \"reviewText\": \"Spiritually and mentally inspiring! A book that allows you to question your morals and will help you discover who you really are!\", \"overall\": 5.0, \"summary\": \"Wonderful!\", \"unixReviewTime\": 1355616000, \"reviewTime\": \"12 16, 2012\"}\\n'"
      ]
     },
     "execution_count": 8,
     "metadata": {},
     "output_type": "execute_result"
    }
   ],
   "source": [
    "with gzip.open(os.getcwd()+\"/\"+\"reviews_Books_5.json.gz\", 'rb') as myfile:\n",
    "    firstline=myfile.readline()\n",
    "    secondline=myfile.readline()\n",
    "pprint (firstline)\n",
    "pprint (secondline)\n",
    "firstline"
   ]
  },
  {
   "cell_type": "code",
   "execution_count": 16,
   "metadata": {
    "collapsed": false
   },
   "outputs": [],
   "source": [
    "def parse(path):\n",
    "    with gzip.open(path, 'rb') as g:\n",
    "        for l in g:\n",
    "            yield (eval(l)) ## Using yield, then can iterate many times"
   ]
  },
  {
   "cell_type": "code",
   "execution_count": 23,
   "metadata": {
    "collapsed": false
   },
   "outputs": [],
   "source": [
    "directory = os.getcwd()\n",
    "file = \"reviews_Books_5.json.gz\"\n",
    "datafile = os.path.join(directory,file)\n",
    "mygenerator = parse(datafile)"
   ]
  },
  {
   "cell_type": "code",
   "execution_count": 24,
   "metadata": {
    "collapsed": false
   },
   "outputs": [
    {
     "name": "stdout",
     "output_type": "stream",
     "text": [
      "{'reviewerID': 'A10000012B7CGYKOMPQ4L', 'asin': '000100039X', 'reviewerName': 'Adam', 'helpful': [0, 0], 'reviewText': 'Spiritually and mentally inspiring! A book that allows you to question your morals and will help you discover who you really are!', 'overall': 5.0, 'summary': 'Wonderful!', 'unixReviewTime': 1355616000, 'reviewTime': '12 16, 2012'}\n",
      "{'reviewerID': 'A10000012B7CGYKOMPQ4L', 'asin': '000100039X', 'reviewerName': 'Adam', 'helpful': [0, 0], 'reviewText': 'Spiritually and mentally inspiring! A book that allows you to question your morals and will help you discover who you really are!', 'overall': 5.0, 'summary': 'Wonderful!', 'unixReviewTime': 1355616000, 'reviewTime': '12 16, 2012'}\n",
      "{'reviewerID': 'A10000012B7CGYKOMPQ4L', 'asin': '000100039X', 'reviewerName': 'Adam', 'helpful': [0, 0], 'reviewText': 'Spiritually and mentally inspiring! A book that allows you to question your morals and will help you discover who you really are!', 'overall': 5.0, 'summary': 'Wonderful!', 'unixReviewTime': 1355616000, 'reviewTime': '12 16, 2012'}\n",
      "{'reviewerID': 'A10000012B7CGYKOMPQ4L', 'asin': '000100039X', 'reviewerName': 'Adam', 'helpful': [0, 0], 'reviewText': 'Spiritually and mentally inspiring! A book that allows you to question your morals and will help you discover who you really are!', 'overall': 5.0, 'summary': 'Wonderful!', 'unixReviewTime': 1355616000, 'reviewTime': '12 16, 2012'}\n",
      "{'reviewerID': 'A10000012B7CGYKOMPQ4L', 'asin': '000100039X', 'reviewerName': 'Adam', 'helpful': [0, 0], 'reviewText': 'Spiritually and mentally inspiring! A book that allows you to question your morals and will help you discover who you really are!', 'overall': 5.0, 'summary': 'Wonderful!', 'unixReviewTime': 1355616000, 'reviewTime': '12 16, 2012'}\n",
      "{'reviewerID': 'A10000012B7CGYKOMPQ4L', 'asin': '000100039X', 'reviewerName': 'Adam', 'helpful': [0, 0], 'reviewText': 'Spiritually and mentally inspiring! A book that allows you to question your morals and will help you discover who you really are!', 'overall': 5.0, 'summary': 'Wonderful!', 'unixReviewTime': 1355616000, 'reviewTime': '12 16, 2012'}\n",
      "{'reviewerID': 'A10000012B7CGYKOMPQ4L', 'asin': '000100039X', 'reviewerName': 'Adam', 'helpful': [0, 0], 'reviewText': 'Spiritually and mentally inspiring! A book that allows you to question your morals and will help you discover who you really are!', 'overall': 5.0, 'summary': 'Wonderful!', 'unixReviewTime': 1355616000, 'reviewTime': '12 16, 2012'}\n"
     ]
    }
   ],
   "source": [
    "counter = 0\n",
    "for i in mygenerator:\n",
    "    while counter < 7:\n",
    "        print (i)\n",
    "        counter += 1\n",
    "    break"
   ]
  },
  {
   "cell_type": "code",
   "execution_count": 40,
   "metadata": {
    "collapsed": false
   },
   "outputs": [],
   "source": [
    "## Convert to pandas dataframe\n",
    "\n",
    "directory = os.getcwd()\n",
    "file = \"reviews_Books_5.json.gz\"\n",
    "datafile = os.path.join(directory,file)\n",
    "\n",
    "def getDF(path):\n",
    "    i = 0\n",
    "    df = {}\n",
    "    for d in parse(path):\n",
    "        while i < 5000000:\n",
    "            df[i] = d\n",
    "            i += 1\n",
    "        break\n",
    "    return pd.DataFrame.from_dict(df, orient='index')\n",
    "\n",
    "df = getDF(datafile)"
   ]
  },
  {
   "cell_type": "code",
   "execution_count": 49,
   "metadata": {
    "collapsed": false
   },
   "outputs": [
    {
     "data": {
      "text/plain": [
       "'000100039X'"
      ]
     },
     "execution_count": 49,
     "metadata": {},
     "output_type": "execute_result"
    }
   ],
   "source": [
    "df.iloc[0]['asin']"
   ]
  },
  {
   "cell_type": "code",
   "execution_count": 51,
   "metadata": {
    "collapsed": false
   },
   "outputs": [
    {
     "data": {
      "text/plain": [
       "5000000"
      ]
     },
     "execution_count": 51,
     "metadata": {},
     "output_type": "execute_result"
    }
   ],
   "source": [
    "df['asin'].count()"
   ]
  },
  {
   "cell_type": "code",
   "execution_count": null,
   "metadata": {
    "collapsed": true
   },
   "outputs": [],
   "source": []
  }
 ],
 "metadata": {
  "anaconda-cloud": {},
  "kernelspec": {
   "display_name": "Python [conda env:py36]",
   "language": "python",
   "name": "conda-env-py36-py"
  },
  "language_info": {
   "codemirror_mode": {
    "name": "ipython",
    "version": 3
   },
   "file_extension": ".py",
   "mimetype": "text/x-python",
   "name": "python",
   "nbconvert_exporter": "python",
   "pygments_lexer": "ipython3",
   "version": "3.6.2"
  }
 },
 "nbformat": 4,
 "nbformat_minor": 0
}
