{
 "cells": [
  {
   "cell_type": "markdown",
   "metadata": {},
   "source": [
    "# Amazon Book Review Sentiment Analysis\n",
    "\n",
    "In this project, I performed the sentiment analysis on the Amazon book review dataset using machinine learning models. "
   ]
  },
  {
   "cell_type": "code",
   "execution_count": 1,
   "metadata": {},
   "outputs": [],
   "source": [
    "import pandas as pd\n",
    "import numpy as np\n",
    "import re\n",
    "import nltk\n",
    "import json\n",
    "from bs4 import BeautifulSoup\n",
    "from nltk.corpus import stopwords\n",
    "from nltk.tokenize import word_tokenize\n",
    "from sklearn.feature_extraction.text import CountVectorizer\n",
    "from sklearn.feature_extraction.text import TfidfVectorizer\n",
    "from sklearn.discriminant_analysis import LinearDiscriminantAnalysis \n",
    "from sklearn.discriminant_analysis import QuadraticDiscriminantAnalysis \n",
    "from sklearn.linear_model import LogisticRegression\n",
    "from sklearn.ensemble import RandomForestClassifier\n",
    "from sklearn.naive_bayes import GaussianNB\n",
    "from sklearn.naive_bayes import MultinomialNB\n",
    "from sklearn.naive_bayes import BernoulliNB\n",
    "from sklearn import svm\n",
    "from gensim.models.doc2vec import Doc2Vec, TaggedDocument"
   ]
  },
  {
   "cell_type": "markdown",
   "metadata": {},
   "source": [
    "### Step 1 Pre-process the Amazon book review dataset"
   ]
  },
  {
   "cell_type": "code",
   "execution_count": 2,
   "metadata": {},
   "outputs": [
    {
     "name": "stdout",
     "output_type": "stream",
     "text": [
      "Total number of reviews is 8898041\n"
     ]
    }
   ],
   "source": [
    "# Check how many records in the dataset\n",
    "count = 0\n",
    "with open (\"data/Books_5.json\") as Train_json:\n",
    "    for i in Train_json:\n",
    "        count += 1\n",
    "print (\"Total number of reviews is {}\".format(count))"
   ]
  },
  {
   "cell_type": "code",
   "execution_count": 3,
   "metadata": {},
   "outputs": [
    {
     "name": "stdout",
     "output_type": "stream",
     "text": [
      "{'reviewerID': 'A10000012B7CGYKOMPQ4L', 'asin': '000100039X', 'reviewerName': 'Adam', 'helpful': [0, 0], 'reviewText': 'Spiritually and mentally inspiring! A book that allows you to question your morals and will help you discover who you really are!', 'overall': 5.0, 'summary': 'Wonderful!', 'unixReviewTime': 1355616000, 'reviewTime': '12 16, 2012'}\n",
      "<class 'dict'>\n"
     ]
    }
   ],
   "source": [
    "## Check the first example in the dataset\n",
    "with open (\"data/Books_5.json\") as Train_json:\n",
    "    first_review = next(Train_json)\n",
    "    first_review = json.loads(first_review)\n",
    "    print (first_review)\n",
    "    print (type(first_review))"
   ]
  },
  {
   "cell_type": "code",
   "execution_count": 4,
   "metadata": {},
   "outputs": [],
   "source": [
    "## Store the usefull information from this huge dataset\n",
    "dataset = {}\n",
    "dataset[\"review_text\"] = []\n",
    "dataset['rating'] = []\n",
    "count = 0\n",
    "with open ('data/Books_5.json') as Train_json:\n",
    "    for i in Train_json:\n",
    "        count+=1\n",
    "        if count % 20 == 0:\n",
    "            item = json.loads(i)\n",
    "            dataset[\"review_text\"].append(item[\"reviewText\"])\n",
    "            dataset[\"rating\"].append(item[\"overall\"])"
   ]
  },
  {
   "cell_type": "code",
   "execution_count": 5,
   "metadata": {},
   "outputs": [
    {
     "name": "stdout",
     "output_type": "stream",
     "text": [
      "There are 444902 records in the dataset.\n"
     ]
    },
    {
     "data": {
      "text/html": [
       "<div>\n",
       "<style scoped>\n",
       "    .dataframe tbody tr th:only-of-type {\n",
       "        vertical-align: middle;\n",
       "    }\n",
       "\n",
       "    .dataframe tbody tr th {\n",
       "        vertical-align: top;\n",
       "    }\n",
       "\n",
       "    .dataframe thead th {\n",
       "        text-align: right;\n",
       "    }\n",
       "</style>\n",
       "<table border=\"1\" class=\"dataframe\">\n",
       "  <thead>\n",
       "    <tr style=\"text-align: right;\">\n",
       "      <th></th>\n",
       "      <th>review_text</th>\n",
       "      <th>rating</th>\n",
       "    </tr>\n",
       "  </thead>\n",
       "  <tbody>\n",
       "    <tr>\n",
       "      <th>0</th>\n",
       "      <td>This book is everything that is simple, delica...</td>\n",
       "      <td>5.0</td>\n",
       "    </tr>\n",
       "    <tr>\n",
       "      <th>1</th>\n",
       "      <td>When I first started writing poetry at age 12 ...</td>\n",
       "      <td>5.0</td>\n",
       "    </tr>\n",
       "    <tr>\n",
       "      <th>2</th>\n",
       "      <td>Khalil Gibran's book, The Prophet, has the pow...</td>\n",
       "      <td>5.0</td>\n",
       "    </tr>\n",
       "    <tr>\n",
       "      <th>3</th>\n",
       "      <td>I was given this book by a writer friend who c...</td>\n",
       "      <td>5.0</td>\n",
       "    </tr>\n",
       "    <tr>\n",
       "      <th>4</th>\n",
       "      <td>A book to be treasured. A tremendous poet deal...</td>\n",
       "      <td>5.0</td>\n",
       "    </tr>\n",
       "  </tbody>\n",
       "</table>\n",
       "</div>"
      ],
      "text/plain": [
       "                                         review_text  rating\n",
       "0  This book is everything that is simple, delica...     5.0\n",
       "1  When I first started writing poetry at age 12 ...     5.0\n",
       "2  Khalil Gibran's book, The Prophet, has the pow...     5.0\n",
       "3  I was given this book by a writer friend who c...     5.0\n",
       "4  A book to be treasured. A tremendous poet deal...     5.0"
      ]
     },
     "execution_count": 5,
     "metadata": {},
     "output_type": "execute_result"
    }
   ],
   "source": [
    "## Convert Dataset to dataframe\n",
    "dataset_df = pd.DataFrame(dataset)\n",
    "print('There are {} records in the dataset.'.format(len(dataset_df)))\n",
    "dataset_df.head()"
   ]
  },
  {
   "cell_type": "code",
   "execution_count": 6,
   "metadata": {},
   "outputs": [],
   "source": [
    "dataset_df_5 = dataset_df[dataset_df[\"rating\"]==5.0]\n",
    "dataset_df_4 = dataset_df[dataset_df[\"rating\"]==4.0]\n",
    "dataset_df_3 = dataset_df[dataset_df[\"rating\"]==3.0]\n",
    "dataset_df_2 = dataset_df[dataset_df[\"rating\"]==2.0]\n",
    "dataset_df_1 = dataset_df[dataset_df[\"rating\"]==1.0]"
   ]
  },
  {
   "cell_type": "code",
   "execution_count": 7,
   "metadata": {},
   "outputs": [],
   "source": [
    "dataset_df_1_train = dataset_df_1.iloc[0:5000,]\n",
    "dataset_df_1_test = dataset_df_1.iloc[5000:6000,]\n",
    "dataset_df_2_train = dataset_df_2.iloc[0:5000,]\n",
    "dataset_df_2_test = dataset_df_2.iloc[5000:6000,]\n",
    "dataset_df_3_train = dataset_df_3.iloc[0:5000,]\n",
    "dataset_df_3_test = dataset_df_3.iloc[5000:6000,]\n",
    "dataset_df_4_train = dataset_df_4.iloc[0:5000,]\n",
    "dataset_df_4_test = dataset_df_4.iloc[5000:6000,]\n",
    "dataset_df_5_train = dataset_df_5.iloc[0:5000,]\n",
    "dataset_df_5_test = dataset_df_5.iloc[5000:6000,]"
   ]
  },
  {
   "cell_type": "code",
   "execution_count": 8,
   "metadata": {},
   "outputs": [],
   "source": [
    "frames_train = [dataset_df_5_train, dataset_df_4_train, dataset_df_3_train,dataset_df_2_train,dataset_df_1_train]\n",
    "frames_test = [dataset_df_5_test, dataset_df_4_test, dataset_df_3_test,dataset_df_2_test,dataset_df_1_test]\n",
    "\n",
    "dataset_df_train = pd.concat(frames_train,ignore_index = True)\n",
    "dataset_df_test = pd.concat(frames_test, ignore_index = True)"
   ]
  },
  {
   "cell_type": "code",
   "execution_count": 9,
   "metadata": {},
   "outputs": [],
   "source": [
    "## Clean the reviews\n",
    "stops_eng = set(stopwords.words(\"english\"))\n",
    "stemmer = nltk.wordnet.WordNetLemmatizer()\n",
    "def data_cleaning (raw_review_str):\n",
    "    ## remove potential HTML tag\n",
    "    review_text = BeautifulSoup(raw_review_str).get_text()\n",
    "    ## remove non-letter \n",
    "    review_letter = re.sub(\"[^a-zA-Z]\",\" \",review_text)\n",
    "    ## convert to lower case and split the list\n",
    "    review_lower_list = review_letter.lower().split()\n",
    "    ## remove stop words and stemming\n",
    "    review_nostopwords_stemmed = [stemmer.lemmatize(w) for w in review_lower_list if w not in stops_eng]\n",
    "    ## return \n",
    "    return \" \".join(review_nostopwords_stemmed)"
   ]
  },
  {
   "cell_type": "code",
   "execution_count": 10,
   "metadata": {},
   "outputs": [],
   "source": [
    "dataset_df_train[\"review_cleaned\"] = dataset_df_train[\"review_text\"].apply(data_cleaning)\n",
    "dataset_df_test[\"review_cleaned\"] = dataset_df_test[\"review_text\"].apply(data_cleaning)\n",
    "#Save the train and test datasets as csv files\n",
    "dataset_df_train.to_csv(path_or_buf=\"data/Amazon_book_review_train.csv\")\n",
    "dataset_df_test.to_csv(path_or_buf=\"data/Amazon_book_review_test.csv\")"
   ]
  },
  {
   "cell_type": "code",
   "execution_count": 18,
   "metadata": {},
   "outputs": [
    {
     "name": "stdout",
     "output_type": "stream",
     "text": [
      "The shape of training sample is (25000, 2000).\n",
      "The shape of test sample is (5000, 2000).\n"
     ]
    }
   ],
   "source": [
    "## Generate Features (bag of words)\n",
    "vectorizer = TfidfVectorizer(analyzer = \"word\", ngram_range=(1, 2), tokenizer = None, preprocessor = None, stop_words = None,max_features=2000)\n",
    "train_data_features = vectorizer.fit_transform(dataset_df_train[\"review_cleaned\"])\n",
    "test_data_features = vectorizer.transform(dataset_df_test[\"review_cleaned\"]) \n",
    "print('The shape of training sample is {}.'.format(train_data_features.shape))\n",
    "print('The shape of test sample is {}.'.format(test_data_features.shape))"
   ]
  },
  {
   "cell_type": "code",
   "execution_count": 19,
   "metadata": {},
   "outputs": [],
   "source": [
    "## Convert to sparse matrix\n",
    "train_data_features = train_data_features.toarray()\n",
    "test_data_features = test_data_features.toarray()"
   ]
  },
  {
   "cell_type": "markdown",
   "metadata": {},
   "source": [
    "### Step 2. Building Machine Learning Models "
   ]
  },
  {
   "cell_type": "markdown",
   "metadata": {},
   "source": [
    "#### 1. LDA Model"
   ]
  },
  {
   "cell_type": "code",
   "execution_count": 20,
   "metadata": {},
   "outputs": [
    {
     "data": {
      "text/plain": [
       "LinearDiscriminantAnalysis(n_components=None, priors=None, shrinkage=None,\n",
       "              solver='svd', store_covariance=False, tol=0.0001)"
      ]
     },
     "execution_count": 20,
     "metadata": {},
     "output_type": "execute_result"
    }
   ],
   "source": [
    "clf = LinearDiscriminantAnalysis()\n",
    "clf.fit(train_data_features, dataset_df_train[\"rating\"])"
   ]
  },
  {
   "cell_type": "code",
   "execution_count": 21,
   "metadata": {},
   "outputs": [],
   "source": [
    "prediction_lda = clf.predict(test_data_features)"
   ]
  },
  {
   "cell_type": "code",
   "execution_count": 22,
   "metadata": {},
   "outputs": [
    {
     "name": "stdout",
     "output_type": "stream",
     "text": [
      "prediction accuracy is 0.452000\n"
     ]
    }
   ],
   "source": [
    "print(\"prediction accuracy is %f\" % ((dataset_df_test['rating'] == prediction_lda).sum()/len(dataset_df_test)))"
   ]
  },
  {
   "cell_type": "markdown",
   "metadata": {},
   "source": [
    "#### 2. QDA Model"
   ]
  },
  {
   "cell_type": "code",
   "execution_count": 23,
   "metadata": {},
   "outputs": [
    {
     "name": "stderr",
     "output_type": "stream",
     "text": [
      "C:\\Users\\Xin\\Anaconda3\\lib\\site-packages\\sklearn\\discriminant_analysis.py:692: UserWarning: Variables are collinear\n",
      "  warnings.warn(\"Variables are collinear\")\n"
     ]
    },
    {
     "data": {
      "text/plain": [
       "QuadraticDiscriminantAnalysis(priors=None, reg_param=0.0,\n",
       "               store_covariance=False, store_covariances=None, tol=0.0001)"
      ]
     },
     "execution_count": 23,
     "metadata": {},
     "output_type": "execute_result"
    }
   ],
   "source": [
    "qda = QuadraticDiscriminantAnalysis()\n",
    "qda.fit(train_data_features, dataset_df_train[\"rating\"])"
   ]
  },
  {
   "cell_type": "code",
   "execution_count": 24,
   "metadata": {},
   "outputs": [],
   "source": [
    "prediction_qda = qda.predict(test_data_features)"
   ]
  },
  {
   "cell_type": "code",
   "execution_count": 25,
   "metadata": {},
   "outputs": [
    {
     "name": "stdout",
     "output_type": "stream",
     "text": [
      "prediction accuracy is 0.388000\n"
     ]
    }
   ],
   "source": [
    "print(\"prediction accuracy is %f\" % ((dataset_df_test['rating'] == prediction_qda).sum()/len(dataset_df_test)))"
   ]
  },
  {
   "cell_type": "markdown",
   "metadata": {},
   "source": [
    "#### 3. Logistic Regression"
   ]
  },
  {
   "cell_type": "code",
   "execution_count": 26,
   "metadata": {},
   "outputs": [
    {
     "name": "stderr",
     "output_type": "stream",
     "text": [
      "C:\\Users\\Xin\\Anaconda3\\lib\\site-packages\\sklearn\\linear_model\\logistic.py:758: ConvergenceWarning: lbfgs failed to converge. Increase the number of iterations.\n",
      "  \"of iterations.\", ConvergenceWarning)\n"
     ]
    },
    {
     "data": {
      "text/plain": [
       "LogisticRegression(C=100000.0, class_weight=None, dual=False,\n",
       "          fit_intercept=True, intercept_scaling=1, max_iter=100,\n",
       "          multi_class='auto', n_jobs=None, penalty='l2', random_state=None,\n",
       "          solver='lbfgs', tol=0.0001, verbose=0, warm_start=False)"
      ]
     },
     "execution_count": 26,
     "metadata": {},
     "output_type": "execute_result"
    }
   ],
   "source": [
    "logreg = LogisticRegression(C=1e5,multi_class = 'auto',solver = 'lbfgs')\n",
    "logreg.fit(train_data_features, dataset_df_train[\"rating\"])"
   ]
  },
  {
   "cell_type": "code",
   "execution_count": 27,
   "metadata": {},
   "outputs": [],
   "source": [
    "prediction_logreg = logreg.predict(test_data_features)"
   ]
  },
  {
   "cell_type": "code",
   "execution_count": 28,
   "metadata": {},
   "outputs": [
    {
     "name": "stdout",
     "output_type": "stream",
     "text": [
      "prediction accuracy is 0.439800\n"
     ]
    }
   ],
   "source": [
    "print(\"prediction accuracy is %f\" % ((dataset_df_test['rating'] == prediction_logreg).sum()/len(dataset_df_test)))"
   ]
  },
  {
   "cell_type": "markdown",
   "metadata": {},
   "source": [
    "#### 4. Random Forest"
   ]
  },
  {
   "cell_type": "code",
   "execution_count": 29,
   "metadata": {},
   "outputs": [],
   "source": [
    "forest = RandomForestClassifier(n_estimators = 200) \n",
    "forest = forest.fit(train_data_features, dataset_df_train[\"rating\"])"
   ]
  },
  {
   "cell_type": "code",
   "execution_count": 30,
   "metadata": {},
   "outputs": [],
   "source": [
    "# Use the random forest to make sentiment label predictions\n",
    "prediction_rm = forest.predict(test_data_features)"
   ]
  },
  {
   "cell_type": "code",
   "execution_count": 31,
   "metadata": {},
   "outputs": [
    {
     "name": "stdout",
     "output_type": "stream",
     "text": [
      "prediction accuracy is 0.445000\n"
     ]
    }
   ],
   "source": [
    "print(\"prediction accuracy is %f\" % ((dataset_df_test['rating'] == prediction_rm).sum()/len(dataset_df_test)))"
   ]
  },
  {
   "cell_type": "markdown",
   "metadata": {},
   "source": [
    "#### 5. Navie Bayes"
   ]
  },
  {
   "cell_type": "code",
   "execution_count": 32,
   "metadata": {},
   "outputs": [],
   "source": [
    "gnb = GaussianNB()\n",
    "prediction_gnb = gnb.fit(train_data_features, dataset_df_train[\"rating\"]).predict(test_data_features)"
   ]
  },
  {
   "cell_type": "code",
   "execution_count": 33,
   "metadata": {},
   "outputs": [
    {
     "name": "stdout",
     "output_type": "stream",
     "text": [
      "Number of mislabeled points out of a total 5000 points : 2990\n",
      "prediction accuracy is 0.402000\n"
     ]
    }
   ],
   "source": [
    "print(\"Number of mislabeled points out of a total %d points : %d\" % (len(dataset_df_test),(dataset_df_test['rating'] != prediction_gnb).sum()))\n",
    "print(\"prediction accuracy is %f\" % ((dataset_df_test['rating'] == prediction_gnb).sum()/len(dataset_df_test)))"
   ]
  },
  {
   "cell_type": "code",
   "execution_count": 34,
   "metadata": {},
   "outputs": [],
   "source": [
    "mnb=MultinomialNB()\n",
    "prediction_mnb = mnb.fit(train_data_features, dataset_df_train[\"rating\"]).predict(test_data_features)"
   ]
  },
  {
   "cell_type": "code",
   "execution_count": 35,
   "metadata": {},
   "outputs": [
    {
     "name": "stdout",
     "output_type": "stream",
     "text": [
      "Number of mislabeled points out of a total 5000 points : 2654\n",
      "prediction accuracy is 0.469200\n"
     ]
    }
   ],
   "source": [
    "print(\"Number of mislabeled points out of a total %d points : %d\" % (len(dataset_df_test),(dataset_df_test['rating'] != prediction_mnb).sum()))\n",
    "print(\"prediction accuracy is %f\" % ((dataset_df_test['rating'] == prediction_mnb).sum()/len(dataset_df_test)))"
   ]
  },
  {
   "cell_type": "code",
   "execution_count": 36,
   "metadata": {},
   "outputs": [],
   "source": [
    "bnb = BernoulliNB()\n",
    "prediction_bnb = bnb.fit(train_data_features, dataset_df_train[\"rating\"]).predict(test_data_features)"
   ]
  },
  {
   "cell_type": "code",
   "execution_count": 37,
   "metadata": {},
   "outputs": [
    {
     "name": "stdout",
     "output_type": "stream",
     "text": [
      "Number of mislabeled points out of a total 5000 points : 3118\n",
      "prediction accuracy is 0.376400\n"
     ]
    }
   ],
   "source": [
    "print(\"Number of mislabeled points out of a total %d points : %d\" % (len(dataset_df_test),(dataset_df_test['rating'] != prediction_bnb).sum()))\n",
    "print(\"prediction accuracy is %f\" % ((dataset_df_test['rating'] == prediction_bnb).sum()/len(dataset_df_test)))"
   ]
  },
  {
   "cell_type": "markdown",
   "metadata": {},
   "source": [
    "#### 5. SVM"
   ]
  },
  {
   "cell_type": "code",
   "execution_count": 38,
   "metadata": {},
   "outputs": [
    {
     "name": "stderr",
     "output_type": "stream",
     "text": [
      "C:\\Users\\Xin\\Anaconda3\\lib\\site-packages\\sklearn\\svm\\base.py:196: FutureWarning: The default value of gamma will change from 'auto' to 'scale' in version 0.22 to account better for unscaled features. Set gamma explicitly to 'auto' or 'scale' to avoid this warning.\n",
      "  \"avoid this warning.\", FutureWarning)\n"
     ]
    },
    {
     "data": {
      "text/plain": [
       "SVC(C=1.0, cache_size=200, class_weight=None, coef0=0.0,\n",
       "  decision_function_shape='ovo', degree=3, gamma='auto_deprecated',\n",
       "  kernel='rbf', max_iter=-1, probability=False, random_state=None,\n",
       "  shrinking=True, tol=0.001, verbose=False)"
      ]
     },
     "execution_count": 38,
     "metadata": {},
     "output_type": "execute_result"
    }
   ],
   "source": [
    "clf = svm.SVC(decision_function_shape='ovo')\n",
    "clf.fit(train_data_features, dataset_df_train[\"rating\"])"
   ]
  },
  {
   "cell_type": "code",
   "execution_count": 39,
   "metadata": {},
   "outputs": [],
   "source": [
    "prediction_svm = clf.predict(test_data_features)"
   ]
  },
  {
   "cell_type": "code",
   "execution_count": 40,
   "metadata": {},
   "outputs": [
    {
     "name": "stdout",
     "output_type": "stream",
     "text": [
      "prediction accuracy is 0.407200\n"
     ]
    }
   ],
   "source": [
    "print(\"prediction accuracy is %f\" % ((dataset_df_test['rating'] == prediction_svm).sum()/len(dataset_df_test)))"
   ]
  },
  {
   "cell_type": "markdown",
   "metadata": {},
   "source": [
    "### Step 3 Deep Learning based Vectorization "
   ]
  },
  {
   "cell_type": "code",
   "execution_count": 41,
   "metadata": {},
   "outputs": [],
   "source": [
    "## Put all the review of train_set in a list to generate the features\n",
    "clean_train_reviews = dataset_df_train[\"review_cleaned\"].tolist()\n",
    "clean_test_reviews = dataset_df_test[\"review_cleaned\"].tolist()\n",
    "clean_total_reviews = clean_train_reviews + clean_test_reviews"
   ]
  },
  {
   "cell_type": "code",
   "execution_count": 42,
   "metadata": {},
   "outputs": [],
   "source": [
    "tagged_data_total = [TaggedDocument(words=word_tokenize(_d), tags=[str(i)]) for i, _d in enumerate(clean_total_reviews)]"
   ]
  },
  {
   "cell_type": "code",
   "execution_count": 43,
   "metadata": {},
   "outputs": [
    {
     "name": "stdout",
     "output_type": "stream",
     "text": [
      "iteration 0\n",
      "iteration 1\n",
      "iteration 2\n",
      "iteration 3\n",
      "iteration 4\n",
      "iteration 5\n",
      "iteration 6\n",
      "iteration 7\n",
      "iteration 8\n",
      "iteration 9\n",
      "iteration 10\n",
      "iteration 11\n",
      "iteration 12\n",
      "iteration 13\n",
      "iteration 14\n",
      "iteration 15\n",
      "iteration 16\n",
      "iteration 17\n",
      "iteration 18\n",
      "iteration 19\n",
      "iteration 20\n",
      "iteration 21\n",
      "iteration 22\n",
      "iteration 23\n",
      "iteration 24\n",
      "iteration 25\n",
      "iteration 26\n",
      "iteration 27\n",
      "iteration 28\n",
      "iteration 29\n",
      "iteration 30\n",
      "iteration 31\n",
      "iteration 32\n",
      "iteration 33\n",
      "iteration 34\n",
      "iteration 35\n",
      "iteration 36\n",
      "iteration 37\n",
      "iteration 38\n",
      "iteration 39\n",
      "iteration 40\n",
      "iteration 41\n",
      "iteration 42\n",
      "iteration 43\n",
      "iteration 44\n",
      "iteration 45\n",
      "iteration 46\n",
      "iteration 47\n",
      "iteration 48\n",
      "iteration 49\n",
      "iteration 50\n",
      "iteration 51\n",
      "iteration 52\n",
      "iteration 53\n",
      "iteration 54\n",
      "iteration 55\n",
      "iteration 56\n",
      "iteration 57\n",
      "iteration 58\n",
      "iteration 59\n",
      "iteration 60\n",
      "iteration 61\n",
      "iteration 62\n",
      "iteration 63\n",
      "iteration 64\n",
      "iteration 65\n",
      "iteration 66\n",
      "iteration 67\n",
      "iteration 68\n",
      "iteration 69\n",
      "iteration 70\n",
      "iteration 71\n",
      "iteration 72\n",
      "iteration 73\n",
      "iteration 74\n",
      "iteration 75\n",
      "iteration 76\n",
      "iteration 77\n",
      "iteration 78\n",
      "iteration 79\n",
      "iteration 80\n",
      "iteration 81\n",
      "iteration 82\n",
      "iteration 83\n",
      "iteration 84\n",
      "iteration 85\n",
      "iteration 86\n",
      "iteration 87\n",
      "iteration 88\n",
      "iteration 89\n",
      "iteration 90\n",
      "iteration 91\n",
      "iteration 92\n",
      "iteration 93\n",
      "iteration 94\n",
      "iteration 95\n",
      "iteration 96\n",
      "iteration 97\n",
      "iteration 98\n",
      "iteration 99\n",
      "Model Saved\n"
     ]
    }
   ],
   "source": [
    "max_epochs = 100\n",
    "vec_size = 20\n",
    "alpha = 0.025\n",
    "\n",
    "model = Doc2Vec(vector_size=vec_size,\n",
    "                alpha=alpha, \n",
    "                min_alpha=0.00025,\n",
    "                min_count=1,\n",
    "                dm =1)\n",
    "\n",
    "'''Note: dm defines the training algorithm. If dm=1 means ‘distributed memory’ (PV-DM) and \n",
    "dm =0 means ‘distributed bag of words’ (PV-DBOW). \n",
    "Distributed Memory model preserves the word order in a document whereas \n",
    "Distributed Bag of words just uses the bag of words approach, \n",
    "which doesn’t preserve any word order.'''\n",
    "  \n",
    "model.build_vocab(tagged_data_total)\n",
    "\n",
    "for epoch in range(max_epochs):\n",
    "    print('iteration {0}'.format(epoch))\n",
    "    model.train(tagged_data_total,\n",
    "                total_examples=model.corpus_count,\n",
    "                epochs=model.epochs)\n",
    "    # decrease the learning rate\n",
    "    model.alpha -= 0.0002\n",
    "    # fix the learning rate, no decay\n",
    "    model.min_alpha = model.alpha\n",
    "\n",
    "model.save(\"data/d2v.model\")\n",
    "print(\"Model Saved\")"
   ]
  },
  {
   "cell_type": "code",
   "execution_count": 44,
   "metadata": {},
   "outputs": [
    {
     "name": "stdout",
     "output_type": "stream",
     "text": [
      "[('1860', 0.839777410030365), ('25027', 0.825043261051178), ('6523', 0.8079653978347778), ('27059', 0.8006597757339478), ('552', 0.7985435724258423), ('13618', 0.7852596044540405), ('25130', 0.7847905158996582), ('25072', 0.7800161838531494), ('1304', 0.7787582874298096), ('5537', 0.7751613855361938)]\n"
     ]
    }
   ],
   "source": [
    "#model= Doc2Vec.load(\"d2v.model\")\n",
    "# to find most similar doc using tags\n",
    "similar_doc = model.docvecs.most_similar('1')\n",
    "print(similar_doc)"
   ]
  },
  {
   "cell_type": "code",
   "execution_count": 45,
   "metadata": {},
   "outputs": [
    {
     "name": "stdout",
     "output_type": "stream",
     "text": [
      "[ -1.1123402    3.2690628   -0.08276898   2.590324     3.652088\n",
      "  -3.1616101   -0.8301031  -14.866494     2.1729636   -9.439779\n",
      "  -2.44938      3.7817602   -2.142102    -2.9509847    6.4941072\n",
      "  -0.49279016  -6.75984     -0.12138461  -1.5224811    1.3682069 ]\n",
      "<class 'numpy.ndarray'>\n",
      "(20,)\n"
     ]
    }
   ],
   "source": [
    "# to find vector of doc in training data using tags or in other words, printing the vector of document at index 1 in training data\n",
    "print(model.docvecs['0'])\n",
    "print(type(model.docvecs['0']))\n",
    "print(model.docvecs['0'].shape)"
   ]
  },
  {
   "cell_type": "code",
   "execution_count": 46,
   "metadata": {},
   "outputs": [],
   "source": [
    "clean_train_reviews_vec = []\n",
    "for sen in clean_train_reviews:\n",
    "    train_data = word_tokenize(sen)\n",
    "    clean_train_reviews_vec.append(model.infer_vector(train_data))"
   ]
  },
  {
   "cell_type": "code",
   "execution_count": 47,
   "metadata": {},
   "outputs": [
    {
     "name": "stdout",
     "output_type": "stream",
     "text": [
      "25000\n",
      "[-0.07696462 -0.0739723   0.07602923 -0.12349915 -0.05102457  0.07629477\n",
      "  0.03056202 -0.59252876  0.10122231 -0.24336916 -0.38375524  0.18210688\n",
      "  0.29690853 -0.03024114  0.02419298  0.19032781  0.11945209 -0.00609656\n",
      "  0.19144987 -0.24580282]\n"
     ]
    }
   ],
   "source": [
    "print(len(clean_train_reviews_vec))\n",
    "print(clean_train_reviews_vec[0])"
   ]
  },
  {
   "cell_type": "code",
   "execution_count": 48,
   "metadata": {},
   "outputs": [],
   "source": [
    "clean_test_reviews_vec = []\n",
    "for sen in clean_test_reviews:\n",
    "    test_data = word_tokenize(sen)\n",
    "    clean_test_reviews_vec.append(model.infer_vector(test_data))"
   ]
  },
  {
   "cell_type": "code",
   "execution_count": 49,
   "metadata": {},
   "outputs": [
    {
     "name": "stdout",
     "output_type": "stream",
     "text": [
      "5000\n",
      "[-0.07914875 -0.06068993  0.14605258 -0.13449569 -0.03347416 -0.01190743\n",
      "  0.00775984 -0.44641715  0.07136312 -0.16189079 -0.26087117  0.10519265\n",
      "  0.2719514  -0.02194577 -0.01086485  0.21809791  0.12636918 -0.07747196\n",
      "  0.13089037 -0.34770945]\n"
     ]
    }
   ],
   "source": [
    "print(len(clean_test_reviews_vec))\n",
    "print(clean_test_reviews_vec[0])"
   ]
  },
  {
   "cell_type": "code",
   "execution_count": 50,
   "metadata": {},
   "outputs": [
    {
     "data": {
      "text/plain": [
       "LinearDiscriminantAnalysis(n_components=None, priors=None, shrinkage=None,\n",
       "              solver='svd', store_covariance=False, tol=0.0001)"
      ]
     },
     "execution_count": 50,
     "metadata": {},
     "output_type": "execute_result"
    }
   ],
   "source": [
    "clf = LinearDiscriminantAnalysis()\n",
    "clf.fit(np.array(clean_train_reviews_vec), dataset_df_train[\"rating\"])"
   ]
  },
  {
   "cell_type": "code",
   "execution_count": 51,
   "metadata": {},
   "outputs": [],
   "source": [
    "prediction_lda = clf.predict(clean_test_reviews_vec)"
   ]
  },
  {
   "cell_type": "code",
   "execution_count": 52,
   "metadata": {},
   "outputs": [
    {
     "name": "stdout",
     "output_type": "stream",
     "text": [
      "prediction accuracy is 0.335600\n"
     ]
    }
   ],
   "source": [
    "print(\"prediction accuracy is %f\" % ((dataset_df_test['rating'] == prediction_lda).sum()/len(dataset_df_test)))"
   ]
  },
  {
   "cell_type": "code",
   "execution_count": null,
   "metadata": {},
   "outputs": [],
   "source": []
  }
 ],
 "metadata": {
  "anaconda-cloud": {},
  "kernelspec": {
   "display_name": "Python 3",
   "language": "python",
   "name": "python3"
  },
  "language_info": {
   "codemirror_mode": {
    "name": "ipython",
    "version": 3
   },
   "file_extension": ".py",
   "mimetype": "text/x-python",
   "name": "python",
   "nbconvert_exporter": "python",
   "pygments_lexer": "ipython3",
   "version": "3.7.1"
  }
 },
 "nbformat": 4,
 "nbformat_minor": 1
}
