{
 "cells": [
  {
   "cell_type": "markdown",
   "metadata": {
    "collapsed": true
   },
   "source": [
    "### In this short notebook, I practice some code to parse json data using Python"
   ]
  },
  {
   "cell_type": "code",
   "execution_count": 1,
   "metadata": {},
   "outputs": [],
   "source": [
    "import pandas as pd\n",
    "import gzip\n",
    "import os\n",
    "from pprint import pprint"
   ]
  },
  {
   "cell_type": "code",
   "execution_count": 19,
   "metadata": {},
   "outputs": [
    {
     "name": "stdout",
     "output_type": "stream",
     "text": [
      "(b'{\"reviewerID\": \"A10000012B7CGYKOMPQ4L\", \"asin\": \"000100039X\", \"reviewerName\"'\n",
      " b': \"Adam\", \"helpful\": [0, 0], \"reviewText\": \"Spiritually and mentally inspiri'\n",
      " b'ng! A book that allows you to question your morals and will help you discove'\n",
      " b'r who you really are!\", \"overall\": 5.0, \"summary\": \"Wonderful!\", \"unixReview'\n",
      " b'Time\": 1355616000, \"reviewTime\": \"12 16, 2012\"}\\n')\n",
      "{'reviewerID': 'A2S166WSCFIFP5', 'asin': '000100039X', 'reviewerName': 'adead_poet@hotmail.com \"adead_poet@hotmail.com\"', 'helpful': [0, 2], 'reviewText': \"This is one my must have books. It is a masterpiece of spirituality. I'll be the first to admit, its literary quality isn't much. It is rather simplistically written, but the message behind it is so powerful that you have to read it. It will take you to enlightenment.\", 'overall': 5.0, 'summary': 'close to god', 'unixReviewTime': 1071100800, 'reviewTime': '12 11, 2003'}\n",
      "{'asin': '000100039X',\n",
      " 'helpful': [0, 0],\n",
      " 'overall': 5.0,\n",
      " 'reviewText': 'This book provides a reflection that you can apply to your own '\n",
      "               'life.And, a way for you to try and assess whether you are '\n",
      "               'truly doing the right thing and making the most of your short '\n",
      "               'time on this plane.',\n",
      " 'reviewTime': '01 18, 2014',\n",
      " 'reviewerID': 'A1BM81XB4QHOA3',\n",
      " 'reviewerName': 'Ahoro Blethends \"Seriously\"',\n",
      " 'summary': 'Must Read for Life Afficianados',\n",
      " 'unixReviewTime': 1390003200}\n"
     ]
    }
   ],
   "source": [
    "#Read first two lines to check \n",
    "with gzip.open(os.getcwd()+\"/\"+\"data/reviews_Books_5.json.gz\", 'rb') as myfile:\n",
    "    firstline=myfile.readline()\n",
    "    secondline=myfile.readline()\n",
    "    thirdline=myfile.readline()\n",
    "pprint (firstline)\n",
    "print (eval(secondline))\n",
    "pprint(eval(thirdline))\n",
    "#Bytes literals are always prefixed with 'b' or 'B'; \n",
    "#they produce an instance of the bytes type instead of the str type. \n",
    "#They may only contain ASCII characters; bytes with a numeric value of 128 or greater must be expressed with escapes."
   ]
  },
  {
   "cell_type": "code",
   "execution_count": 5,
   "metadata": {},
   "outputs": [],
   "source": [
    "## Using yield to define a generator\n",
    "def parse(path):\n",
    "    with gzip.open(path, 'rb') as file:\n",
    "        for line in file:\n",
    "            yield (eval(line)) "
   ]
  },
  {
   "cell_type": "code",
   "execution_count": 9,
   "metadata": {},
   "outputs": [],
   "source": [
    "## Using parse generator to define a iterator\n",
    "directory = os.getcwd()\n",
    "file = \"data/reviews_Books_5.json.gz\"\n",
    "datafile = os.path.join(directory,file)\n",
    "mygenerator = parse(datafile)"
   ]
  },
  {
   "cell_type": "code",
   "execution_count": 10,
   "metadata": {},
   "outputs": [
    {
     "name": "stdout",
     "output_type": "stream",
     "text": [
      "{'asin': '000100039X',\n",
      " 'helpful': [0, 0],\n",
      " 'overall': 5.0,\n",
      " 'reviewText': 'Spiritually and mentally inspiring! A book that allows you to '\n",
      "               'question your morals and will help you discover who you really '\n",
      "               'are!',\n",
      " 'reviewTime': '12 16, 2012',\n",
      " 'reviewerID': 'A10000012B7CGYKOMPQ4L',\n",
      " 'reviewerName': 'Adam',\n",
      " 'summary': 'Wonderful!',\n",
      " 'unixReviewTime': 1355616000}\n",
      "{'asin': '000100039X',\n",
      " 'helpful': [0, 0],\n",
      " 'overall': 5.0,\n",
      " 'reviewText': 'Spiritually and mentally inspiring! A book that allows you to '\n",
      "               'question your morals and will help you discover who you really '\n",
      "               'are!',\n",
      " 'reviewTime': '12 16, 2012',\n",
      " 'reviewerID': 'A10000012B7CGYKOMPQ4L',\n",
      " 'reviewerName': 'Adam',\n",
      " 'summary': 'Wonderful!',\n",
      " 'unixReviewTime': 1355616000}\n",
      "{'asin': '000100039X',\n",
      " 'helpful': [0, 0],\n",
      " 'overall': 5.0,\n",
      " 'reviewText': 'Spiritually and mentally inspiring! A book that allows you to '\n",
      "               'question your morals and will help you discover who you really '\n",
      "               'are!',\n",
      " 'reviewTime': '12 16, 2012',\n",
      " 'reviewerID': 'A10000012B7CGYKOMPQ4L',\n",
      " 'reviewerName': 'Adam',\n",
      " 'summary': 'Wonderful!',\n",
      " 'unixReviewTime': 1355616000}\n",
      "{'asin': '000100039X',\n",
      " 'helpful': [0, 0],\n",
      " 'overall': 5.0,\n",
      " 'reviewText': 'Spiritually and mentally inspiring! A book that allows you to '\n",
      "               'question your morals and will help you discover who you really '\n",
      "               'are!',\n",
      " 'reviewTime': '12 16, 2012',\n",
      " 'reviewerID': 'A10000012B7CGYKOMPQ4L',\n",
      " 'reviewerName': 'Adam',\n",
      " 'summary': 'Wonderful!',\n",
      " 'unixReviewTime': 1355616000}\n",
      "{'asin': '000100039X',\n",
      " 'helpful': [0, 0],\n",
      " 'overall': 5.0,\n",
      " 'reviewText': 'Spiritually and mentally inspiring! A book that allows you to '\n",
      "               'question your morals and will help you discover who you really '\n",
      "               'are!',\n",
      " 'reviewTime': '12 16, 2012',\n",
      " 'reviewerID': 'A10000012B7CGYKOMPQ4L',\n",
      " 'reviewerName': 'Adam',\n",
      " 'summary': 'Wonderful!',\n",
      " 'unixReviewTime': 1355616000}\n"
     ]
    }
   ],
   "source": [
    "counter = 0\n",
    "for line in mygenerator:\n",
    "    while counter < 5:\n",
    "        pprint(line)\n",
    "        counter += 1\n",
    "    break"
   ]
  },
  {
   "cell_type": "code",
   "execution_count": 11,
   "metadata": {},
   "outputs": [],
   "source": [
    "## Convert json to pandas dataframe\n",
    "def getDF(path):\n",
    "    i = 0\n",
    "    df = {}\n",
    "    for d in parse(path):\n",
    "        while i < 5000000:\n",
    "            df[i] = d\n",
    "            i += 1\n",
    "        break\n",
    "    return pd.DataFrame.from_dict(df, orient='index')\n",
    "\n",
    "df = getDF(datafile)\n",
    "#classmethod DataFrame.from_dict(data, orient='columns', dtype=None, columns=None) → 'DataFrame'\n",
    "#Construct DataFrame from dict of array-like or dicts."
   ]
  },
  {
   "cell_type": "code",
   "execution_count": 12,
   "metadata": {},
   "outputs": [
    {
     "data": {
      "text/plain": [
       "(5000000, 9)"
      ]
     },
     "execution_count": 12,
     "metadata": {},
     "output_type": "execute_result"
    }
   ],
   "source": [
    "df.shape"
   ]
  },
  {
   "cell_type": "code",
   "execution_count": 13,
   "metadata": {},
   "outputs": [
    {
     "data": {
      "text/html": [
       "<div>\n",
       "<style scoped>\n",
       "    .dataframe tbody tr th:only-of-type {\n",
       "        vertical-align: middle;\n",
       "    }\n",
       "\n",
       "    .dataframe tbody tr th {\n",
       "        vertical-align: top;\n",
       "    }\n",
       "\n",
       "    .dataframe thead th {\n",
       "        text-align: right;\n",
       "    }\n",
       "</style>\n",
       "<table border=\"1\" class=\"dataframe\">\n",
       "  <thead>\n",
       "    <tr style=\"text-align: right;\">\n",
       "      <th></th>\n",
       "      <th>reviewerID</th>\n",
       "      <th>asin</th>\n",
       "      <th>reviewerName</th>\n",
       "      <th>helpful</th>\n",
       "      <th>reviewText</th>\n",
       "      <th>overall</th>\n",
       "      <th>summary</th>\n",
       "      <th>unixReviewTime</th>\n",
       "      <th>reviewTime</th>\n",
       "    </tr>\n",
       "  </thead>\n",
       "  <tbody>\n",
       "    <tr>\n",
       "      <th>0</th>\n",
       "      <td>A10000012B7CGYKOMPQ4L</td>\n",
       "      <td>000100039X</td>\n",
       "      <td>Adam</td>\n",
       "      <td>[0, 0]</td>\n",
       "      <td>Spiritually and mentally inspiring! A book tha...</td>\n",
       "      <td>5.0</td>\n",
       "      <td>Wonderful!</td>\n",
       "      <td>1355616000</td>\n",
       "      <td>12 16, 2012</td>\n",
       "    </tr>\n",
       "    <tr>\n",
       "      <th>1</th>\n",
       "      <td>A10000012B7CGYKOMPQ4L</td>\n",
       "      <td>000100039X</td>\n",
       "      <td>Adam</td>\n",
       "      <td>[0, 0]</td>\n",
       "      <td>Spiritually and mentally inspiring! A book tha...</td>\n",
       "      <td>5.0</td>\n",
       "      <td>Wonderful!</td>\n",
       "      <td>1355616000</td>\n",
       "      <td>12 16, 2012</td>\n",
       "    </tr>\n",
       "    <tr>\n",
       "      <th>2</th>\n",
       "      <td>A10000012B7CGYKOMPQ4L</td>\n",
       "      <td>000100039X</td>\n",
       "      <td>Adam</td>\n",
       "      <td>[0, 0]</td>\n",
       "      <td>Spiritually and mentally inspiring! A book tha...</td>\n",
       "      <td>5.0</td>\n",
       "      <td>Wonderful!</td>\n",
       "      <td>1355616000</td>\n",
       "      <td>12 16, 2012</td>\n",
       "    </tr>\n",
       "    <tr>\n",
       "      <th>3</th>\n",
       "      <td>A10000012B7CGYKOMPQ4L</td>\n",
       "      <td>000100039X</td>\n",
       "      <td>Adam</td>\n",
       "      <td>[0, 0]</td>\n",
       "      <td>Spiritually and mentally inspiring! A book tha...</td>\n",
       "      <td>5.0</td>\n",
       "      <td>Wonderful!</td>\n",
       "      <td>1355616000</td>\n",
       "      <td>12 16, 2012</td>\n",
       "    </tr>\n",
       "    <tr>\n",
       "      <th>4</th>\n",
       "      <td>A10000012B7CGYKOMPQ4L</td>\n",
       "      <td>000100039X</td>\n",
       "      <td>Adam</td>\n",
       "      <td>[0, 0]</td>\n",
       "      <td>Spiritually and mentally inspiring! A book tha...</td>\n",
       "      <td>5.0</td>\n",
       "      <td>Wonderful!</td>\n",
       "      <td>1355616000</td>\n",
       "      <td>12 16, 2012</td>\n",
       "    </tr>\n",
       "  </tbody>\n",
       "</table>\n",
       "</div>"
      ],
      "text/plain": [
       "              reviewerID        asin reviewerName helpful  \\\n",
       "0  A10000012B7CGYKOMPQ4L  000100039X         Adam  [0, 0]   \n",
       "1  A10000012B7CGYKOMPQ4L  000100039X         Adam  [0, 0]   \n",
       "2  A10000012B7CGYKOMPQ4L  000100039X         Adam  [0, 0]   \n",
       "3  A10000012B7CGYKOMPQ4L  000100039X         Adam  [0, 0]   \n",
       "4  A10000012B7CGYKOMPQ4L  000100039X         Adam  [0, 0]   \n",
       "\n",
       "                                          reviewText  overall     summary  \\\n",
       "0  Spiritually and mentally inspiring! A book tha...      5.0  Wonderful!   \n",
       "1  Spiritually and mentally inspiring! A book tha...      5.0  Wonderful!   \n",
       "2  Spiritually and mentally inspiring! A book tha...      5.0  Wonderful!   \n",
       "3  Spiritually and mentally inspiring! A book tha...      5.0  Wonderful!   \n",
       "4  Spiritually and mentally inspiring! A book tha...      5.0  Wonderful!   \n",
       "\n",
       "   unixReviewTime   reviewTime  \n",
       "0      1355616000  12 16, 2012  \n",
       "1      1355616000  12 16, 2012  \n",
       "2      1355616000  12 16, 2012  \n",
       "3      1355616000  12 16, 2012  \n",
       "4      1355616000  12 16, 2012  "
      ]
     },
     "execution_count": 13,
     "metadata": {},
     "output_type": "execute_result"
    }
   ],
   "source": [
    "df.head()"
   ]
  },
  {
   "cell_type": "code",
   "execution_count": 14,
   "metadata": {},
   "outputs": [
    {
     "data": {
      "text/plain": [
       "reviewerID        False\n",
       "asin              False\n",
       "reviewerName      False\n",
       "helpful           False\n",
       "reviewText        False\n",
       "overall           False\n",
       "summary           False\n",
       "unixReviewTime    False\n",
       "reviewTime        False\n",
       "dtype: bool"
      ]
     },
     "execution_count": 14,
     "metadata": {},
     "output_type": "execute_result"
    }
   ],
   "source": [
    "df.isna().any()"
   ]
  },
  {
   "cell_type": "code",
   "execution_count": 20,
   "metadata": {},
   "outputs": [
    {
     "data": {
      "text/plain": [
       "reviewerID         object\n",
       "asin               object\n",
       "reviewerName       object\n",
       "helpful            object\n",
       "reviewText         object\n",
       "overall           float64\n",
       "summary            object\n",
       "unixReviewTime      int64\n",
       "reviewTime         object\n",
       "dtype: object"
      ]
     },
     "execution_count": 20,
     "metadata": {},
     "output_type": "execute_result"
    }
   ],
   "source": [
    "df.dtypes"
   ]
  },
  {
   "cell_type": "code",
   "execution_count": null,
   "metadata": {},
   "outputs": [],
   "source": []
  }
 ],
 "metadata": {
  "anaconda-cloud": {},
  "kernelspec": {
   "display_name": "Python 3",
   "language": "python",
   "name": "python3"
  },
  "language_info": {
   "codemirror_mode": {
    "name": "ipython",
    "version": 3
   },
   "file_extension": ".py",
   "mimetype": "text/x-python",
   "name": "python",
   "nbconvert_exporter": "python",
   "pygments_lexer": "ipython3",
   "version": "3.7.1"
  }
 },
 "nbformat": 4,
 "nbformat_minor": 1
}
