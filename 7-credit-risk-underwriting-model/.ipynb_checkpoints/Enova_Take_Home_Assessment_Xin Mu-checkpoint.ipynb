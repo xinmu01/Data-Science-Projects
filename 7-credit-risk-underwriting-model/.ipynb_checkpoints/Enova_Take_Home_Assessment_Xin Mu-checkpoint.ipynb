{
 "cells": [
  {
   "cell_type": "markdown",
   "metadata": {},
   "source": [
    "# Enova Take Home Assessment -- Diamond Offers\n",
    "## Instructions\n",
    "You own a diamond business and you have to replenish your inventory. You have $5,000,000 budgeted towards the purchase of new diamonds. You have a historical list of diamonds that were purchased from various distributor vendors and the prices they retailed for. You also have a list of diamonds that are currently on the market, but this list does not include any set prices. Instead, you will place an offer for a diamond and the distributor will make a single yes-or-no decision to sell you the diamond at that price. If your offer is accepted then you receive the diamond and you will be awarded the difference between the retail price your company can eventually sell the diamond for and the price that you offered as profit. If you fail to make a purchase, you simply do not get anything for profit."
   ]
  },
  {
   "cell_type": "markdown",
   "metadata": {},
   "source": [
    "### Load all the Required Package for my Analysis"
   ]
  },
  {
   "cell_type": "code",
   "execution_count": 85,
   "metadata": {
    "collapsed": true
   },
   "outputs": [],
   "source": [
    "import numpy as np\n",
    "import pandas as pd\n",
    "import matplotlib.pyplot as plt\n",
    "from sklearn import preprocessing\n",
    "from sklearn import ensemble\n",
    "from sklearn.utils import shuffle\n",
    "from sklearn.metrics import mean_squared_error"
   ]
  },
  {
   "cell_type": "markdown",
   "metadata": {},
   "source": [
    "### Step1 Load and Explore Dataset"
   ]
  },
  {
   "cell_type": "code",
   "execution_count": 153,
   "metadata": {
    "collapsed": true
   },
   "outputs": [],
   "source": [
    "train_set = pd.read_csv(\"training.csv\")\n",
    "offer_set = pd.read_csv(\"offers.csv\")"
   ]
  },
  {
   "cell_type": "code",
   "execution_count": 3,
   "metadata": {
    "collapsed": false
   },
   "outputs": [
    {
     "data": {
      "text/html": [
       "<div>\n",
       "<style scoped>\n",
       "    .dataframe tbody tr th:only-of-type {\n",
       "        vertical-align: middle;\n",
       "    }\n",
       "\n",
       "    .dataframe tbody tr th {\n",
       "        vertical-align: top;\n",
       "    }\n",
       "\n",
       "    .dataframe thead th {\n",
       "        text-align: right;\n",
       "    }\n",
       "</style>\n",
       "<table border=\"1\" class=\"dataframe\">\n",
       "  <thead>\n",
       "    <tr style=\"text-align: right;\">\n",
       "      <th></th>\n",
       "      <th>id</th>\n",
       "      <th>Carats</th>\n",
       "      <th>Cert</th>\n",
       "      <th>Clarity</th>\n",
       "      <th>Color</th>\n",
       "      <th>Cut</th>\n",
       "      <th>Depth</th>\n",
       "      <th>Fluroescence</th>\n",
       "      <th>Known_Conflict_Diamond</th>\n",
       "      <th>Measurements</th>\n",
       "      <th>Polish</th>\n",
       "      <th>Regions</th>\n",
       "      <th>Shape</th>\n",
       "      <th>Symmetry</th>\n",
       "      <th>Table</th>\n",
       "      <th>Vendor</th>\n",
       "      <th>Price</th>\n",
       "      <th>Retail</th>\n",
       "      <th>LogPrice</th>\n",
       "      <th>LogRetail</th>\n",
       "    </tr>\n",
       "  </thead>\n",
       "  <tbody>\n",
       "    <tr>\n",
       "      <th>0</th>\n",
       "      <td>1</td>\n",
       "      <td>0.41</td>\n",
       "      <td>NaN</td>\n",
       "      <td>SI1</td>\n",
       "      <td>L</td>\n",
       "      <td></td>\n",
       "      <td>65.4</td>\n",
       "      <td>None</td>\n",
       "      <td>False</td>\n",
       "      <td>4.65x4.62x3.03</td>\n",
       "      <td>Very good</td>\n",
       "      <td>Other/Unknown</td>\n",
       "      <td>Princess</td>\n",
       "      <td>Good</td>\n",
       "      <td>NaN</td>\n",
       "      <td>1</td>\n",
       "      <td>$ 430</td>\n",
       "      <td>$ 850</td>\n",
       "      <td>6.063785</td>\n",
       "      <td>6.745236</td>\n",
       "    </tr>\n",
       "    <tr>\n",
       "      <th>1</th>\n",
       "      <td>2</td>\n",
       "      <td>0.42</td>\n",
       "      <td>AGSL</td>\n",
       "      <td>SI2</td>\n",
       "      <td>L</td>\n",
       "      <td></td>\n",
       "      <td>61.7</td>\n",
       "      <td>Strong Bl..</td>\n",
       "      <td>False</td>\n",
       "      <td>4.85x4.79x2.98</td>\n",
       "      <td>Excellent</td>\n",
       "      <td>Russia</td>\n",
       "      <td>Marquise</td>\n",
       "      <td>Very good</td>\n",
       "      <td>NaN</td>\n",
       "      <td>1</td>\n",
       "      <td>$ 560</td>\n",
       "      <td>$ 920</td>\n",
       "      <td>6.327937</td>\n",
       "      <td>6.824374</td>\n",
       "    </tr>\n",
       "    <tr>\n",
       "      <th>2</th>\n",
       "      <td>3</td>\n",
       "      <td>0.40</td>\n",
       "      <td>AGSL</td>\n",
       "      <td>SI1</td>\n",
       "      <td>L</td>\n",
       "      <td></td>\n",
       "      <td>64.0</td>\n",
       "      <td>None</td>\n",
       "      <td>False</td>\n",
       "      <td>4.66x4.63x2.97</td>\n",
       "      <td>Excellent</td>\n",
       "      <td>South Africa</td>\n",
       "      <td>Round</td>\n",
       "      <td>Excellent</td>\n",
       "      <td>57.0</td>\n",
       "      <td>1</td>\n",
       "      <td>$ 560</td>\n",
       "      <td>$ 575</td>\n",
       "      <td>6.327937</td>\n",
       "      <td>6.354370</td>\n",
       "    </tr>\n",
       "    <tr>\n",
       "      <th>3</th>\n",
       "      <td>4</td>\n",
       "      <td>0.41</td>\n",
       "      <td>AGSL</td>\n",
       "      <td>SI2</td>\n",
       "      <td>L</td>\n",
       "      <td></td>\n",
       "      <td>62.7</td>\n",
       "      <td>Strong Bl..</td>\n",
       "      <td>False</td>\n",
       "      <td>4.71x4.69x2.95</td>\n",
       "      <td>Very good</td>\n",
       "      <td>Botswana</td>\n",
       "      <td>Round</td>\n",
       "      <td>Very good</td>\n",
       "      <td>58.0</td>\n",
       "      <td>1</td>\n",
       "      <td>$ 560</td>\n",
       "      <td>$ 825</td>\n",
       "      <td>6.327937</td>\n",
       "      <td>6.715383</td>\n",
       "    </tr>\n",
       "    <tr>\n",
       "      <th>4</th>\n",
       "      <td>5</td>\n",
       "      <td>0.40</td>\n",
       "      <td>AGSL</td>\n",
       "      <td>SI1</td>\n",
       "      <td>L</td>\n",
       "      <td></td>\n",
       "      <td>63.0</td>\n",
       "      <td>NaN</td>\n",
       "      <td>False</td>\n",
       "      <td>4.71x4.68x2.96</td>\n",
       "      <td>Excellent</td>\n",
       "      <td>Botswana</td>\n",
       "      <td>Round</td>\n",
       "      <td>Very good</td>\n",
       "      <td>58.0</td>\n",
       "      <td>1</td>\n",
       "      <td>$ 580</td>\n",
       "      <td>$ 890</td>\n",
       "      <td>6.363028</td>\n",
       "      <td>6.791221</td>\n",
       "    </tr>\n",
       "  </tbody>\n",
       "</table>\n",
       "</div>"
      ],
      "text/plain": [
       "   id  Carats  Cert Clarity Color Cut  Depth Fluroescence  \\\n",
       "0   1    0.41   NaN     SI1     L       65.4         None   \n",
       "1   2    0.42  AGSL     SI2     L       61.7  Strong Bl..   \n",
       "2   3    0.40  AGSL     SI1     L       64.0         None   \n",
       "3   4    0.41  AGSL     SI2     L       62.7  Strong Bl..   \n",
       "4   5    0.40  AGSL     SI1     L       63.0          NaN   \n",
       "\n",
       "   Known_Conflict_Diamond    Measurements     Polish        Regions     Shape  \\\n",
       "0                   False  4.65x4.62x3.03  Very good  Other/Unknown  Princess   \n",
       "1                   False  4.85x4.79x2.98  Excellent         Russia  Marquise   \n",
       "2                   False  4.66x4.63x2.97  Excellent   South Africa     Round   \n",
       "3                   False  4.71x4.69x2.95  Very good       Botswana     Round   \n",
       "4                   False  4.71x4.68x2.96  Excellent       Botswana     Round   \n",
       "\n",
       "    Symmetry  Table  Vendor  Price Retail  LogPrice  LogRetail  \n",
       "0       Good    NaN       1  $ 430  $ 850  6.063785   6.745236  \n",
       "1  Very good    NaN       1  $ 560  $ 920  6.327937   6.824374  \n",
       "2  Excellent   57.0       1  $ 560  $ 575  6.327937   6.354370  \n",
       "3  Very good   58.0       1  $ 560  $ 825  6.327937   6.715383  \n",
       "4  Very good   58.0       1  $ 580  $ 890  6.363028   6.791221  "
      ]
     },
     "execution_count": 3,
     "metadata": {},
     "output_type": "execute_result"
    }
   ],
   "source": [
    "#Explore the first 5 records;\n",
    "train_set.head(5)"
   ]
  },
  {
   "cell_type": "code",
   "execution_count": 5,
   "metadata": {
    "collapsed": false
   },
   "outputs": [
    {
     "name": "stdout",
     "output_type": "stream",
     "text": [
      "8050\n"
     ]
    },
    {
     "data": {
      "text/plain": [
       "id                          int64\n",
       "Carats                    float64\n",
       "Cert                       object\n",
       "Clarity                    object\n",
       "Color                      object\n",
       "Cut                        object\n",
       "Depth                     float64\n",
       "Fluroescence               object\n",
       "Known_Conflict_Diamond       bool\n",
       "Measurements               object\n",
       "Polish                     object\n",
       "Regions                    object\n",
       "Shape                      object\n",
       "Symmetry                   object\n",
       "Table                     float64\n",
       "Vendor                      int64\n",
       "Price                      object\n",
       "Retail                     object\n",
       "LogPrice                  float64\n",
       "LogRetail                 float64\n",
       "dtype: object"
      ]
     },
     "execution_count": 5,
     "metadata": {},
     "output_type": "execute_result"
    }
   ],
   "source": [
    "#Check the data type\n",
    "print(len(train_set))\n",
    "train_set.dtypes"
   ]
  },
  {
   "cell_type": "code",
   "execution_count": 154,
   "metadata": {
    "collapsed": false
   },
   "outputs": [
    {
     "name": "stdout",
     "output_type": "stream",
     "text": [
      "2683\n"
     ]
    },
    {
     "data": {
      "text/plain": [
       "id                          int64\n",
       "Carats                    float64\n",
       "Cert                       object\n",
       "Clarity                    object\n",
       "Color                      object\n",
       "Cut                        object\n",
       "Depth                     float64\n",
       "Fluroescence               object\n",
       "Known_Conflict_Diamond     object\n",
       "Measurements               object\n",
       "Polish                     object\n",
       "Regions                    object\n",
       "Shape                      object\n",
       "Symmetry                   object\n",
       "Table                     float64\n",
       "Vendor                      int64\n",
       "Offers                    float64\n",
       "dtype: object"
      ]
     },
     "execution_count": 154,
     "metadata": {},
     "output_type": "execute_result"
    }
   ],
   "source": [
    "#Check the data type\n",
    "print(len(offer_set))\n",
    "offer_set.dtypes"
   ]
  },
  {
   "cell_type": "markdown",
   "metadata": {},
   "source": [
    "**Summary:** \n",
    "There are 8050 records in the training dataset, and 20 attributes. Among these 20 attributes, the measurements, Price and Retail are String data type. I will change them to float type. "
   ]
  },
  {
   "cell_type": "code",
   "execution_count": 155,
   "metadata": {
    "collapsed": true
   },
   "outputs": [],
   "source": [
    "#Clean Measurements attribute by making it consistently have 'x' as the multiply operator \n",
    "train_set[['Measurements']] = train_set[['Measurements']].applymap(lambda x : x.replace('+','x').replace('*','x').replace('X','x').replace('-','x'))\n",
    "offer_set[['Measurements']] = offer_set[['Measurements']].applymap(lambda x : x.replace('+','x').replace('*','x').replace('X','x').replace('-','x'))"
   ]
  },
  {
   "cell_type": "code",
   "execution_count": 156,
   "metadata": {
    "collapsed": true
   },
   "outputs": [],
   "source": [
    "def find_length(measure):\n",
    "    measure = measure.strip()\n",
    "    for i in range(len(measure)):\n",
    "        if measure[i] == 'x':\n",
    "            return float(measure[0:i])   "
   ]
  },
  {
   "cell_type": "code",
   "execution_count": 157,
   "metadata": {
    "collapsed": true
   },
   "outputs": [],
   "source": [
    "train_set[['Length']] = train_set[['Measurements']].applymap(find_length)\n",
    "offer_set[['Length']] = offer_set[['Measurements']].applymap(find_length)"
   ]
  },
  {
   "cell_type": "code",
   "execution_count": 158,
   "metadata": {
    "collapsed": true
   },
   "outputs": [],
   "source": [
    "def find_width(measure):\n",
    "    measure = measure.strip()\n",
    "    cnt = 0\n",
    "    for i in range(len(measure)):\n",
    "        if measure[i] == 'x':\n",
    "            cnt += 1\n",
    "            if cnt == 1:\n",
    "                start = i+1\n",
    "            if cnt == 2:\n",
    "                end = i \n",
    "                return float(measure[start:end]) "
   ]
  },
  {
   "cell_type": "code",
   "execution_count": 159,
   "metadata": {
    "collapsed": true
   },
   "outputs": [],
   "source": [
    "train_set[['Width']] = train_set[['Measurements']].applymap(find_width)\n",
    "offer_set[['Width']] = offer_set[['Measurements']].applymap(find_width)"
   ]
  },
  {
   "cell_type": "code",
   "execution_count": 160,
   "metadata": {
    "collapsed": true
   },
   "outputs": [],
   "source": [
    "def find_depth(measure):\n",
    "    measure = measure.strip()\n",
    "    cnt = 0\n",
    "    for i in range(len(measure)):\n",
    "        if measure[i] == 'x':\n",
    "            cnt += 1\n",
    "            if cnt == 2:\n",
    "                start = i+1 \n",
    "                return float(measure[start:]) "
   ]
  },
  {
   "cell_type": "code",
   "execution_count": 161,
   "metadata": {
    "collapsed": true
   },
   "outputs": [],
   "source": [
    "train_set[['DiamondDepth']] = train_set[['Measurements']].applymap(find_depth)\n",
    "offer_set[['DiamondDepth']] = train_set[['Measurements']].applymap(find_depth)"
   ]
  },
  {
   "cell_type": "markdown",
   "metadata": {},
   "source": [
    "**Summary:**\n",
    "Generated Length, Width and Depth from Measurement attribute. "
   ]
  },
  {
   "cell_type": "code",
   "execution_count": 13,
   "metadata": {
    "collapsed": false
   },
   "outputs": [
    {
     "name": "stdout",
     "output_type": "stream",
     "text": [
      "4.65x4.62x3.03\n",
      "4.65\n",
      "4.62\n",
      "3.03\n"
     ]
    }
   ],
   "source": [
    "print(train_set['Measurements'][0])\n",
    "print(train_set['Length'][0])\n",
    "print(train_set['Width'][0])\n",
    "print(train_set['DiamondDepth'][0])"
   ]
  },
  {
   "cell_type": "markdown",
   "metadata": {},
   "source": [
    "**To do:**The Price and Retail are strings. Change it to float."
   ]
  },
  {
   "cell_type": "code",
   "execution_count": 286,
   "metadata": {
    "collapsed": true
   },
   "outputs": [],
   "source": [
    "train_set[['Price_num','Retail_num']] = train_set[['Price','Retail']].applymap(lambda x : float(x.replace('$','').replace(',','').strip()))"
   ]
  },
  {
   "cell_type": "code",
   "execution_count": 163,
   "metadata": {
    "collapsed": true
   },
   "outputs": [],
   "source": [
    "# Generate Profit\n",
    "train_set[['Profit']]=pd.DataFrame(train_set['Retail_num'] - train_set['Price_num'])"
   ]
  },
  {
   "cell_type": "code",
   "execution_count": 164,
   "metadata": {
    "collapsed": true
   },
   "outputs": [],
   "source": [
    "train_set[['Profit_flag']] = (train_set[['Profit']] > 0).applymap(lambda x: int(x))\n"
   ]
  },
  {
   "cell_type": "code",
   "execution_count": 165,
   "metadata": {
    "collapsed": false
   },
   "outputs": [
    {
     "data": {
      "text/plain": [
       "Profit_flag    7566\n",
       "dtype: int64"
      ]
     },
     "execution_count": 165,
     "metadata": {},
     "output_type": "execute_result"
    }
   ],
   "source": [
    "train_set[['Profit_flag']].sum()\n",
    "#Out of 8050 training examples, there are 7566 deal makes money, and there are 484 does not."
   ]
  },
  {
   "cell_type": "markdown",
   "metadata": {},
   "source": [
    "**Discussion:**\n",
    "Out of 8050 training examples, there are 7566 deal makes money, and there are 484 does not."
   ]
  },
  {
   "cell_type": "code",
   "execution_count": 166,
   "metadata": {
    "collapsed": false
   },
   "outputs": [
    {
     "data": {
      "text/html": [
       "<div>\n",
       "<style scoped>\n",
       "    .dataframe tbody tr th:only-of-type {\n",
       "        vertical-align: middle;\n",
       "    }\n",
       "\n",
       "    .dataframe tbody tr th {\n",
       "        vertical-align: top;\n",
       "    }\n",
       "\n",
       "    .dataframe thead th {\n",
       "        text-align: right;\n",
       "    }\n",
       "</style>\n",
       "<table border=\"1\" class=\"dataframe\">\n",
       "  <thead>\n",
       "    <tr style=\"text-align: right;\">\n",
       "      <th></th>\n",
       "      <th>id</th>\n",
       "      <th>Carats</th>\n",
       "      <th>Depth</th>\n",
       "      <th>Table</th>\n",
       "      <th>Vendor</th>\n",
       "      <th>LogPrice</th>\n",
       "      <th>LogRetail</th>\n",
       "      <th>Length</th>\n",
       "      <th>Width</th>\n",
       "      <th>DiamondDepth</th>\n",
       "      <th>Price_num</th>\n",
       "      <th>Retail_num</th>\n",
       "      <th>Profit</th>\n",
       "      <th>Profit_flag</th>\n",
       "    </tr>\n",
       "  </thead>\n",
       "  <tbody>\n",
       "    <tr>\n",
       "      <th>count</th>\n",
       "      <td>8050.000000</td>\n",
       "      <td>8050.000000</td>\n",
       "      <td>6610.000000</td>\n",
       "      <td>5519.000000</td>\n",
       "      <td>8050.000000</td>\n",
       "      <td>8050.000000</td>\n",
       "      <td>8050.000000</td>\n",
       "      <td>8050.000000</td>\n",
       "      <td>8050.000000</td>\n",
       "      <td>8050.000000</td>\n",
       "      <td>8.050000e+03</td>\n",
       "      <td>8.050000e+03</td>\n",
       "      <td>8050.000000</td>\n",
       "      <td>8050.000000</td>\n",
       "    </tr>\n",
       "    <tr>\n",
       "      <th>mean</th>\n",
       "      <td>4025.500000</td>\n",
       "      <td>1.265807</td>\n",
       "      <td>61.723374</td>\n",
       "      <td>57.951984</td>\n",
       "      <td>2.050435</td>\n",
       "      <td>8.803274</td>\n",
       "      <td>9.127529</td>\n",
       "      <td>6.647999</td>\n",
       "      <td>6.662850</td>\n",
       "      <td>4.109539</td>\n",
       "      <td>1.508101e+04</td>\n",
       "      <td>2.149478e+04</td>\n",
       "      <td>6413.768944</td>\n",
       "      <td>0.939876</td>\n",
       "    </tr>\n",
       "    <tr>\n",
       "      <th>std</th>\n",
       "      <td>2323.979167</td>\n",
       "      <td>0.894574</td>\n",
       "      <td>2.192793</td>\n",
       "      <td>3.051339</td>\n",
       "      <td>0.983876</td>\n",
       "      <td>1.225854</td>\n",
       "      <td>1.282771</td>\n",
       "      <td>1.350471</td>\n",
       "      <td>1.364308</td>\n",
       "      <td>0.827112</td>\n",
       "      <td>3.564261e+04</td>\n",
       "      <td>5.146239e+04</td>\n",
       "      <td>20326.028963</td>\n",
       "      <td>0.237732</td>\n",
       "    </tr>\n",
       "    <tr>\n",
       "      <th>min</th>\n",
       "      <td>1.000000</td>\n",
       "      <td>0.400000</td>\n",
       "      <td>0.000000</td>\n",
       "      <td>0.000000</td>\n",
       "      <td>1.000000</td>\n",
       "      <td>5.978886</td>\n",
       "      <td>3.806662</td>\n",
       "      <td>4.550000</td>\n",
       "      <td>4.550000</td>\n",
       "      <td>2.650000</td>\n",
       "      <td>3.950000e+02</td>\n",
       "      <td>4.500000e+01</td>\n",
       "      <td>-673680.000000</td>\n",
       "      <td>0.000000</td>\n",
       "    </tr>\n",
       "    <tr>\n",
       "      <th>25%</th>\n",
       "      <td>2013.250000</td>\n",
       "      <td>0.700000</td>\n",
       "      <td>61.000000</td>\n",
       "      <td>57.000000</td>\n",
       "      <td>1.000000</td>\n",
       "      <td>7.897296</td>\n",
       "      <td>8.180671</td>\n",
       "      <td>5.622500</td>\n",
       "      <td>5.620000</td>\n",
       "      <td>3.480000</td>\n",
       "      <td>2.690000e+03</td>\n",
       "      <td>3.571250e+03</td>\n",
       "      <td>1090.000000</td>\n",
       "      <td>1.000000</td>\n",
       "    </tr>\n",
       "    <tr>\n",
       "      <th>50%</th>\n",
       "      <td>4025.500000</td>\n",
       "      <td>1.040000</td>\n",
       "      <td>62.000000</td>\n",
       "      <td>58.000000</td>\n",
       "      <td>2.000000</td>\n",
       "      <td>8.860783</td>\n",
       "      <td>9.243291</td>\n",
       "      <td>6.530000</td>\n",
       "      <td>6.550000</td>\n",
       "      <td>4.030000</td>\n",
       "      <td>7.050000e+03</td>\n",
       "      <td>1.033500e+04</td>\n",
       "      <td>3480.000000</td>\n",
       "      <td>1.000000</td>\n",
       "    </tr>\n",
       "    <tr>\n",
       "      <th>75%</th>\n",
       "      <td>6037.750000</td>\n",
       "      <td>1.510000</td>\n",
       "      <td>62.600000</td>\n",
       "      <td>59.000000</td>\n",
       "      <td>3.000000</td>\n",
       "      <td>9.592878</td>\n",
       "      <td>9.929155</td>\n",
       "      <td>7.350000</td>\n",
       "      <td>7.370000</td>\n",
       "      <td>4.550000</td>\n",
       "      <td>1.466000e+04</td>\n",
       "      <td>2.052000e+04</td>\n",
       "      <td>6593.750000</td>\n",
       "      <td>1.000000</td>\n",
       "    </tr>\n",
       "    <tr>\n",
       "      <th>max</th>\n",
       "      <td>8050.000000</td>\n",
       "      <td>11.920000</td>\n",
       "      <td>69.700000</td>\n",
       "      <td>69.000000</td>\n",
       "      <td>4.000000</td>\n",
       "      <td>13.899654</td>\n",
       "      <td>14.331437</td>\n",
       "      <td>15.880000</td>\n",
       "      <td>15.800000</td>\n",
       "      <td>8.610000</td>\n",
       "      <td>1.087785e+06</td>\n",
       "      <td>1.675190e+06</td>\n",
       "      <td>587405.000000</td>\n",
       "      <td>1.000000</td>\n",
       "    </tr>\n",
       "  </tbody>\n",
       "</table>\n",
       "</div>"
      ],
      "text/plain": [
       "                id       Carats        Depth        Table       Vendor  \\\n",
       "count  8050.000000  8050.000000  6610.000000  5519.000000  8050.000000   \n",
       "mean   4025.500000     1.265807    61.723374    57.951984     2.050435   \n",
       "std    2323.979167     0.894574     2.192793     3.051339     0.983876   \n",
       "min       1.000000     0.400000     0.000000     0.000000     1.000000   \n",
       "25%    2013.250000     0.700000    61.000000    57.000000     1.000000   \n",
       "50%    4025.500000     1.040000    62.000000    58.000000     2.000000   \n",
       "75%    6037.750000     1.510000    62.600000    59.000000     3.000000   \n",
       "max    8050.000000    11.920000    69.700000    69.000000     4.000000   \n",
       "\n",
       "          LogPrice    LogRetail       Length        Width  DiamondDepth  \\\n",
       "count  8050.000000  8050.000000  8050.000000  8050.000000   8050.000000   \n",
       "mean      8.803274     9.127529     6.647999     6.662850      4.109539   \n",
       "std       1.225854     1.282771     1.350471     1.364308      0.827112   \n",
       "min       5.978886     3.806662     4.550000     4.550000      2.650000   \n",
       "25%       7.897296     8.180671     5.622500     5.620000      3.480000   \n",
       "50%       8.860783     9.243291     6.530000     6.550000      4.030000   \n",
       "75%       9.592878     9.929155     7.350000     7.370000      4.550000   \n",
       "max      13.899654    14.331437    15.880000    15.800000      8.610000   \n",
       "\n",
       "          Price_num    Retail_num         Profit  Profit_flag  \n",
       "count  8.050000e+03  8.050000e+03    8050.000000  8050.000000  \n",
       "mean   1.508101e+04  2.149478e+04    6413.768944     0.939876  \n",
       "std    3.564261e+04  5.146239e+04   20326.028963     0.237732  \n",
       "min    3.950000e+02  4.500000e+01 -673680.000000     0.000000  \n",
       "25%    2.690000e+03  3.571250e+03    1090.000000     1.000000  \n",
       "50%    7.050000e+03  1.033500e+04    3480.000000     1.000000  \n",
       "75%    1.466000e+04  2.052000e+04    6593.750000     1.000000  \n",
       "max    1.087785e+06  1.675190e+06  587405.000000     1.000000  "
      ]
     },
     "execution_count": 166,
     "metadata": {},
     "output_type": "execute_result"
    }
   ],
   "source": [
    "train_set.describe()"
   ]
  },
  {
   "cell_type": "markdown",
   "metadata": {},
   "source": [
    "**To do:**\n",
    "Now we have generated and modified all the training dataset, we need to check the data quality, such as missing values. "
   ]
  },
  {
   "cell_type": "code",
   "execution_count": 167,
   "metadata": {
    "collapsed": false
   },
   "outputs": [
    {
     "data": {
      "text/plain": [
       "id                           Number of missing values: 0\n",
       "Carats                       Number of missing values: 0\n",
       "Cert                       Number of missing values: 552\n",
       "Clarity                      Number of missing values: 0\n",
       "Color                        Number of missing values: 0\n",
       "Cut                          Number of missing values: 0\n",
       "Depth                     Number of missing values: 1440\n",
       "Fluroescence              Number of missing values: 1150\n",
       "Known_Conflict_Diamond       Number of missing values: 0\n",
       "Measurements                 Number of missing values: 0\n",
       "Polish                       Number of missing values: 0\n",
       "Regions                      Number of missing values: 0\n",
       "Shape                        Number of missing values: 0\n",
       "Symmetry                     Number of missing values: 0\n",
       "Table                     Number of missing values: 2531\n",
       "Vendor                       Number of missing values: 0\n",
       "Price                        Number of missing values: 0\n",
       "Retail                       Number of missing values: 0\n",
       "LogPrice                     Number of missing values: 0\n",
       "LogRetail                    Number of missing values: 0\n",
       "Length                       Number of missing values: 0\n",
       "Width                        Number of missing values: 0\n",
       "DiamondDepth                 Number of missing values: 0\n",
       "Price_num                    Number of missing values: 0\n",
       "Retail_num                   Number of missing values: 0\n",
       "Profit                       Number of missing values: 0\n",
       "Profit_flag                  Number of missing values: 0\n",
       "dtype: object"
      ]
     },
     "execution_count": 167,
     "metadata": {},
     "output_type": "execute_result"
    }
   ],
   "source": [
    "train_set.apply(lambda col : 'Number of missing values: {}'.format(col.isnull().sum()))"
   ]
  },
  {
   "cell_type": "markdown",
   "metadata": {},
   "source": [
    "**Summary**\n",
    "\n",
    "There are 4 columns contains missing value:\n",
    "\n",
    "1. Cert(String type): The organization that certified the diamond. \n",
    "\n",
    "2. Depth(Float type): The depth percentage of the diamond. \n",
    "\n",
    "3. Fluroescence(String type): The level of fluroescence of the diamond. \n",
    "\n",
    "4. Table(Float type): The table percentage of the diamond. "
   ]
  },
  {
   "cell_type": "markdown",
   "metadata": {},
   "source": [
    "### Using Plot to Check the Relationship between Indpendent Variables(Price) and Dependent variables"
   ]
  },
  {
   "cell_type": "markdown",
   "metadata": {},
   "source": [
    "#### Carats vs Price and Carats vs Retail"
   ]
  },
  {
   "cell_type": "code",
   "execution_count": 25,
   "metadata": {
    "collapsed": false
   },
   "outputs": [
    {
     "data": {
      "text/plain": [
       "Text(0, 0.5, 'Price')"
      ]
     },
     "execution_count": 25,
     "metadata": {},
     "output_type": "execute_result"
    },
    {
     "data": {
      "image/png": "[encoded data removed]",
      "text/plain": [
       "<Figure size 432x288 with 1 Axes>"
      ]
     },
     "metadata": {
      "needs_background": "light"
     },
     "output_type": "display_data"
    }
   ],
   "source": [
    "plt.scatter(train_set['Carats'],train_set['Price_num'])\n",
    "plt.xlabel('Carats')\n",
    "plt.ylabel('Price')"
   ]
  },
  {
   "cell_type": "code",
   "execution_count": 26,
   "metadata": {
    "collapsed": false
   },
   "outputs": [
    {
     "data": {
      "text/plain": [
       "Text(0, 0.5, 'LogPrice')"
      ]
     },
     "execution_count": 26,
     "metadata": {},
     "output_type": "execute_result"
    },
    {
     "data": {
      "image/png": "[encoded data removed]",
      "text/plain": [
       "<Figure size 432x288 with 1 Axes>"
      ]
     },
     "metadata": {
      "needs_background": "light"
     },
     "output_type": "display_data"
    }
   ],
   "source": [
    "plt.scatter(np.log(train_set['Carats']),train_set['LogPrice'])\n",
    "plt.xlabel('LogCarats')\n",
    "plt.ylabel('LogPrice')"
   ]
  },
  {
   "cell_type": "code",
   "execution_count": 64,
   "metadata": {
    "collapsed": false
   },
   "outputs": [
    {
     "data": {
      "image/png": "[encoded data removed]",
      "text/plain": [
       "<Figure size 432x288 with 1 Axes>"
      ]
     },
     "metadata": {
      "needs_background": "light"
     },
     "output_type": "display_data"
    }
   ],
   "source": [
    "plt.scatter(train_set['Carats'],train_set['Retail_num'])\n",
    "plt.xlabel('Carats')\n",
    "plt.ylabel('Retail')\n",
    "plt.savefig('Retail.jpg',bbox_inches='tight')"
   ]
  },
  {
   "cell_type": "code",
   "execution_count": 67,
   "metadata": {
    "collapsed": false
   },
   "outputs": [
    {
     "data": {
      "text/html": [
       "<div>\n",
       "<style scoped>\n",
       "    .dataframe tbody tr th:only-of-type {\n",
       "        vertical-align: middle;\n",
       "    }\n",
       "\n",
       "    .dataframe tbody tr th {\n",
       "        vertical-align: top;\n",
       "    }\n",
       "\n",
       "    .dataframe thead th {\n",
       "        text-align: right;\n",
       "    }\n",
       "</style>\n",
       "<table border=\"1\" class=\"dataframe\">\n",
       "  <thead>\n",
       "    <tr style=\"text-align: right;\">\n",
       "      <th></th>\n",
       "      <th>Carats</th>\n",
       "      <th>Retail_num</th>\n",
       "    </tr>\n",
       "  </thead>\n",
       "  <tbody>\n",
       "    <tr>\n",
       "      <th>Carats</th>\n",
       "      <td>1.000000</td>\n",
       "      <td>0.716293</td>\n",
       "    </tr>\n",
       "    <tr>\n",
       "      <th>Retail_num</th>\n",
       "      <td>0.716293</td>\n",
       "      <td>1.000000</td>\n",
       "    </tr>\n",
       "  </tbody>\n",
       "</table>\n",
       "</div>"
      ],
      "text/plain": [
       "              Carats  Retail_num\n",
       "Carats      1.000000    0.716293\n",
       "Retail_num  0.716293    1.000000"
      ]
     },
     "execution_count": 67,
     "metadata": {},
     "output_type": "execute_result"
    }
   ],
   "source": [
    "train_set[['Carats','Retail_num']].corr()"
   ]
  },
  {
   "cell_type": "code",
   "execution_count": 68,
   "metadata": {
    "collapsed": false
   },
   "outputs": [
    {
     "data": {
      "text/html": [
       "<div>\n",
       "<style scoped>\n",
       "    .dataframe tbody tr th:only-of-type {\n",
       "        vertical-align: middle;\n",
       "    }\n",
       "\n",
       "    .dataframe tbody tr th {\n",
       "        vertical-align: top;\n",
       "    }\n",
       "\n",
       "    .dataframe thead th {\n",
       "        text-align: right;\n",
       "    }\n",
       "</style>\n",
       "<table border=\"1\" class=\"dataframe\">\n",
       "  <thead>\n",
       "    <tr style=\"text-align: right;\">\n",
       "      <th></th>\n",
       "      <th>Carats</th>\n",
       "      <th>Retail_num</th>\n",
       "    </tr>\n",
       "  </thead>\n",
       "  <tbody>\n",
       "    <tr>\n",
       "      <th>Carats</th>\n",
       "      <td>0.800263</td>\n",
       "      <td>3.297593e+04</td>\n",
       "    </tr>\n",
       "    <tr>\n",
       "      <th>Retail_num</th>\n",
       "      <td>32975.932480</td>\n",
       "      <td>2.648378e+09</td>\n",
       "    </tr>\n",
       "  </tbody>\n",
       "</table>\n",
       "</div>"
      ],
      "text/plain": [
       "                  Carats    Retail_num\n",
       "Carats          0.800263  3.297593e+04\n",
       "Retail_num  32975.932480  2.648378e+09"
      ]
     },
     "execution_count": 68,
     "metadata": {},
     "output_type": "execute_result"
    }
   ],
   "source": [
    "train_set[['Carats','Retail_num']].cov()"
   ]
  },
  {
   "cell_type": "code",
   "execution_count": 65,
   "metadata": {
    "collapsed": false
   },
   "outputs": [
    {
     "data": {
      "image/png": "[encoded data removed]",
      "text/plain": [
       "<Figure size 432x288 with 1 Axes>"
      ]
     },
     "metadata": {
      "needs_background": "light"
     },
     "output_type": "display_data"
    }
   ],
   "source": [
    "plt.scatter(np.log(train_set['Carats']),train_set['LogRetail'])\n",
    "plt.xlabel('LogCarats')\n",
    "plt.ylabel('LogRetail')\n",
    "plt.savefig('LogRetail.jpg',bbox_inches='tight')"
   ]
  },
  {
   "cell_type": "markdown",
   "metadata": {},
   "source": [
    "**Summary:**\n",
    "The Carats has positive correlation with Price and Retail pice."
   ]
  },
  {
   "cell_type": "markdown",
   "metadata": {},
   "source": [
    "#### Depth vs Price and Depth vs Retail"
   ]
  },
  {
   "cell_type": "code",
   "execution_count": 29,
   "metadata": {
    "collapsed": false
   },
   "outputs": [
    {
     "data": {
      "text/plain": [
       "Text(0, 0.5, 'Price')"
      ]
     },
     "execution_count": 29,
     "metadata": {},
     "output_type": "execute_result"
    },
    {
     "data": {
      "image/png": "[encoded data removed]",
      "text/plain": [
       "<Figure size 432x288 with 1 Axes>"
      ]
     },
     "metadata": {
      "needs_background": "light"
     },
     "output_type": "display_data"
    }
   ],
   "source": [
    "plt.scatter(train_set['Depth'],train_set['Price_num'])\n",
    "plt.xlabel('Depth')\n",
    "plt.ylabel('Price')"
   ]
  },
  {
   "cell_type": "code",
   "execution_count": 30,
   "metadata": {
    "collapsed": false
   },
   "outputs": [
    {
     "name": "stderr",
     "output_type": "stream",
     "text": [
      "C:\\Users\\Xin\\Anaconda3\\lib\\site-packages\\ipykernel_launcher.py:1: RuntimeWarning: divide by zero encountered in log\n",
      "  \"\"\"Entry point for launching an IPython kernel.\n"
     ]
    },
    {
     "data": {
      "text/plain": [
       "Text(0, 0.5, 'LogPrice')"
      ]
     },
     "execution_count": 30,
     "metadata": {},
     "output_type": "execute_result"
    },
    {
     "data": {
      "image/png": "[encoded data removed]",
      "text/plain": [
       "<Figure size 432x288 with 1 Axes>"
      ]
     },
     "metadata": {
      "needs_background": "light"
     },
     "output_type": "display_data"
    }
   ],
   "source": [
    "plt.scatter(np.log(train_set['Depth']),train_set['LogPrice'])\n",
    "plt.xlabel('LogDepth')\n",
    "plt.ylabel('LogPrice')"
   ]
  },
  {
   "cell_type": "code",
   "execution_count": 31,
   "metadata": {
    "collapsed": false
   },
   "outputs": [
    {
     "data": {
      "text/plain": [
       "Text(0, 0.5, 'Retail')"
      ]
     },
     "execution_count": 31,
     "metadata": {},
     "output_type": "execute_result"
    },
    {
     "data": {
      "image/png": "[encoded data removed]",
      "text/plain": [
       "<Figure size 432x288 with 1 Axes>"
      ]
     },
     "metadata": {
      "needs_background": "light"
     },
     "output_type": "display_data"
    }
   ],
   "source": [
    "plt.scatter(train_set['Depth'],train_set['Retail_num'])\n",
    "plt.xlabel('Depth')\n",
    "plt.ylabel('Retail')"
   ]
  },
  {
   "cell_type": "code",
   "execution_count": 32,
   "metadata": {
    "collapsed": false
   },
   "outputs": [
    {
     "name": "stderr",
     "output_type": "stream",
     "text": [
      "C:\\Users\\Xin\\Anaconda3\\lib\\site-packages\\ipykernel_launcher.py:1: RuntimeWarning: divide by zero encountered in log\n",
      "  \"\"\"Entry point for launching an IPython kernel.\n"
     ]
    },
    {
     "data": {
      "text/plain": [
       "Text(0, 0.5, 'LogPrice')"
      ]
     },
     "execution_count": 32,
     "metadata": {},
     "output_type": "execute_result"
    },
    {
     "data": {
      "image/png": "[encoded data removed]",
      "text/plain": [
       "<Figure size 432x288 with 1 Axes>"
      ]
     },
     "metadata": {
      "needs_background": "light"
     },
     "output_type": "display_data"
    }
   ],
   "source": [
    "plt.scatter(np.log(train_set['Depth']),train_set['LogRetail'])\n",
    "plt.xlabel('LogDepth')\n",
    "plt.ylabel('LogPrice')"
   ]
  },
  {
   "cell_type": "markdown",
   "metadata": {},
   "source": [
    "**Summary:**\n",
    "Most of the Depth are around 60%."
   ]
  },
  {
   "cell_type": "markdown",
   "metadata": {},
   "source": [
    "#### Table vs Price and Table vs Retail"
   ]
  },
  {
   "cell_type": "code",
   "execution_count": 33,
   "metadata": {
    "collapsed": false
   },
   "outputs": [
    {
     "data": {
      "text/plain": [
       "Text(0, 0.5, 'Price')"
      ]
     },
     "execution_count": 33,
     "metadata": {},
     "output_type": "execute_result"
    },
    {
     "data": {
      "image/png": "[encoded data removed]",
      "text/plain": [
       "<Figure size 432x288 with 1 Axes>"
      ]
     },
     "metadata": {
      "needs_background": "light"
     },
     "output_type": "display_data"
    }
   ],
   "source": [
    "plt.scatter(train_set['Table'],train_set['Price_num'])\n",
    "plt.xlabel('Table')\n",
    "plt.ylabel('Price')"
   ]
  },
  {
   "cell_type": "code",
   "execution_count": 34,
   "metadata": {
    "collapsed": false
   },
   "outputs": [
    {
     "name": "stderr",
     "output_type": "stream",
     "text": [
      "C:\\Users\\Xin\\Anaconda3\\lib\\site-packages\\ipykernel_launcher.py:1: RuntimeWarning: divide by zero encountered in log\n",
      "  \"\"\"Entry point for launching an IPython kernel.\n"
     ]
    },
    {
     "data": {
      "text/plain": [
       "Text(0, 0.5, 'LogPrice')"
      ]
     },
     "execution_count": 34,
     "metadata": {},
     "output_type": "execute_result"
    },
    {
     "data": {
      "image/png": "[encoded data removed]",
      "text/plain": [
       "<Figure size 432x288 with 1 Axes>"
      ]
     },
     "metadata": {
      "needs_background": "light"
     },
     "output_type": "display_data"
    }
   ],
   "source": [
    "plt.scatter(np.log(train_set['Table']),train_set['LogPrice'])\n",
    "plt.xlabel('LogTable')\n",
    "plt.ylabel('LogPrice')"
   ]
  },
  {
   "cell_type": "code",
   "execution_count": 35,
   "metadata": {
    "collapsed": false
   },
   "outputs": [
    {
     "data": {
      "text/plain": [
       "Text(0, 0.5, 'Retail')"
      ]
     },
     "execution_count": 35,
     "metadata": {},
     "output_type": "execute_result"
    },
    {
     "data": {
      "image/png": "[encoded data removed]",
      "text/plain": [
       "<Figure size 432x288 with 1 Axes>"
      ]
     },
     "metadata": {
      "needs_background": "light"
     },
     "output_type": "display_data"
    }
   ],
   "source": [
    "plt.scatter(train_set['Table'],train_set['Retail_num'])\n",
    "plt.xlabel('Table')\n",
    "plt.ylabel('Retail')"
   ]
  },
  {
   "cell_type": "code",
   "execution_count": 36,
   "metadata": {
    "collapsed": false
   },
   "outputs": [
    {
     "name": "stderr",
     "output_type": "stream",
     "text": [
      "C:\\Users\\Xin\\Anaconda3\\lib\\site-packages\\ipykernel_launcher.py:1: RuntimeWarning: divide by zero encountered in log\n",
      "  \"\"\"Entry point for launching an IPython kernel.\n"
     ]
    },
    {
     "data": {
      "text/plain": [
       "Text(0, 0.5, 'LogRetail')"
      ]
     },
     "execution_count": 36,
     "metadata": {},
     "output_type": "execute_result"
    },
    {
     "data": {
      "image/png": "[encoded data removed]",
      "text/plain": [
       "<Figure size 432x288 with 1 Axes>"
      ]
     },
     "metadata": {
      "needs_background": "light"
     },
     "output_type": "display_data"
    }
   ],
   "source": [
    "plt.scatter(np.log(train_set['Table']),train_set['LogRetail'])\n",
    "plt.xlabel('LogTable')\n",
    "plt.ylabel('LogRetail')"
   ]
  },
  {
   "cell_type": "markdown",
   "metadata": {},
   "source": [
    "**Summary:**\n",
    "Most of the Table are around 60%."
   ]
  },
  {
   "cell_type": "markdown",
   "metadata": {},
   "source": [
    "### Since many attributes are Category, we need to check the distribution of each category and the averaged price of each category."
   ]
  },
  {
   "cell_type": "code",
   "execution_count": 41,
   "metadata": {
    "collapsed": false
   },
   "outputs": [
    {
     "data": {
      "text/html": [
       "<div>\n",
       "<style scoped>\n",
       "    .dataframe tbody tr th:only-of-type {\n",
       "        vertical-align: middle;\n",
       "    }\n",
       "\n",
       "    .dataframe tbody tr th {\n",
       "        vertical-align: top;\n",
       "    }\n",
       "\n",
       "    .dataframe thead th {\n",
       "        text-align: right;\n",
       "    }\n",
       "</style>\n",
       "<table border=\"1\" class=\"dataframe\">\n",
       "  <thead>\n",
       "    <tr style=\"text-align: right;\">\n",
       "      <th></th>\n",
       "      <th>Price_num</th>\n",
       "      <th>Retail_num</th>\n",
       "    </tr>\n",
       "    <tr>\n",
       "      <th>Cert</th>\n",
       "      <th></th>\n",
       "      <th></th>\n",
       "    </tr>\n",
       "  </thead>\n",
       "  <tbody>\n",
       "    <tr>\n",
       "      <th>AGSL</th>\n",
       "      <td>6973</td>\n",
       "      <td>6973</td>\n",
       "    </tr>\n",
       "    <tr>\n",
       "      <th>GemEx</th>\n",
       "      <td>525</td>\n",
       "      <td>525</td>\n",
       "    </tr>\n",
       "  </tbody>\n",
       "</table>\n",
       "</div>"
      ],
      "text/plain": [
       "       Price_num  Retail_num\n",
       "Cert                        \n",
       "AGSL        6973        6973\n",
       "GemEx        525         525"
      ]
     },
     "metadata": {},
     "output_type": "display_data"
    },
    {
     "data": {
      "text/html": [
       "<div>\n",
       "<style scoped>\n",
       "    .dataframe tbody tr th:only-of-type {\n",
       "        vertical-align: middle;\n",
       "    }\n",
       "\n",
       "    .dataframe tbody tr th {\n",
       "        vertical-align: top;\n",
       "    }\n",
       "\n",
       "    .dataframe thead th {\n",
       "        text-align: right;\n",
       "    }\n",
       "</style>\n",
       "<table border=\"1\" class=\"dataframe\">\n",
       "  <thead>\n",
       "    <tr style=\"text-align: right;\">\n",
       "      <th></th>\n",
       "      <th>Price_num</th>\n",
       "      <th>Retail_num</th>\n",
       "    </tr>\n",
       "    <tr>\n",
       "      <th>Cert</th>\n",
       "      <th></th>\n",
       "      <th></th>\n",
       "    </tr>\n",
       "  </thead>\n",
       "  <tbody>\n",
       "    <tr>\n",
       "      <th>AGSL</th>\n",
       "      <td>15219.116593</td>\n",
       "      <td>21752.096659</td>\n",
       "    </tr>\n",
       "    <tr>\n",
       "      <th>GemEx</th>\n",
       "      <td>13041.085714</td>\n",
       "      <td>18889.076190</td>\n",
       "    </tr>\n",
       "  </tbody>\n",
       "</table>\n",
       "</div>"
      ],
      "text/plain": [
       "          Price_num    Retail_num\n",
       "Cert                             \n",
       "AGSL   15219.116593  21752.096659\n",
       "GemEx  13041.085714  18889.076190"
      ]
     },
     "metadata": {},
     "output_type": "display_data"
    }
   ],
   "source": [
    "display(train_set[['Cert','Price_num','Retail_num']].groupby('Cert').count())\n",
    "display(train_set[['Cert','Price_num','Retail_num']].groupby('Cert').mean())"
   ]
  },
  {
   "cell_type": "code",
   "execution_count": 42,
   "metadata": {
    "collapsed": false
   },
   "outputs": [
    {
     "data": {
      "text/html": [
       "<div>\n",
       "<style scoped>\n",
       "    .dataframe tbody tr th:only-of-type {\n",
       "        vertical-align: middle;\n",
       "    }\n",
       "\n",
       "    .dataframe tbody tr th {\n",
       "        vertical-align: top;\n",
       "    }\n",
       "\n",
       "    .dataframe thead th {\n",
       "        text-align: right;\n",
       "    }\n",
       "</style>\n",
       "<table border=\"1\" class=\"dataframe\">\n",
       "  <thead>\n",
       "    <tr style=\"text-align: right;\">\n",
       "      <th></th>\n",
       "      <th>Price_num</th>\n",
       "      <th>Retail_num</th>\n",
       "    </tr>\n",
       "    <tr>\n",
       "      <th>Clarity</th>\n",
       "      <th></th>\n",
       "      <th></th>\n",
       "    </tr>\n",
       "  </thead>\n",
       "  <tbody>\n",
       "    <tr>\n",
       "      <th>FL</th>\n",
       "      <td>2</td>\n",
       "      <td>2</td>\n",
       "    </tr>\n",
       "    <tr>\n",
       "      <th>I1</th>\n",
       "      <td>132</td>\n",
       "      <td>132</td>\n",
       "    </tr>\n",
       "    <tr>\n",
       "      <th>I2</th>\n",
       "      <td>13</td>\n",
       "      <td>13</td>\n",
       "    </tr>\n",
       "    <tr>\n",
       "      <th>I3</th>\n",
       "      <td>1</td>\n",
       "      <td>1</td>\n",
       "    </tr>\n",
       "    <tr>\n",
       "      <th>IF</th>\n",
       "      <td>137</td>\n",
       "      <td>137</td>\n",
       "    </tr>\n",
       "    <tr>\n",
       "      <th>N</th>\n",
       "      <td>2</td>\n",
       "      <td>2</td>\n",
       "    </tr>\n",
       "    <tr>\n",
       "      <th>None</th>\n",
       "      <td>1</td>\n",
       "      <td>1</td>\n",
       "    </tr>\n",
       "    <tr>\n",
       "      <th>SI1</th>\n",
       "      <td>2168</td>\n",
       "      <td>2168</td>\n",
       "    </tr>\n",
       "    <tr>\n",
       "      <th>SI2</th>\n",
       "      <td>2208</td>\n",
       "      <td>2208</td>\n",
       "    </tr>\n",
       "    <tr>\n",
       "      <th>VS1</th>\n",
       "      <td>1130</td>\n",
       "      <td>1130</td>\n",
       "    </tr>\n",
       "    <tr>\n",
       "      <th>VS2</th>\n",
       "      <td>1569</td>\n",
       "      <td>1569</td>\n",
       "    </tr>\n",
       "    <tr>\n",
       "      <th>VVS1</th>\n",
       "      <td>239</td>\n",
       "      <td>239</td>\n",
       "    </tr>\n",
       "    <tr>\n",
       "      <th>VVS2</th>\n",
       "      <td>448</td>\n",
       "      <td>448</td>\n",
       "    </tr>\n",
       "  </tbody>\n",
       "</table>\n",
       "</div>"
      ],
      "text/plain": [
       "         Price_num  Retail_num\n",
       "Clarity                       \n",
       "FL               2           2\n",
       "I1             132         132\n",
       "I2              13          13\n",
       "I3               1           1\n",
       "IF             137         137\n",
       "N                2           2\n",
       "None             1           1\n",
       "SI1           2168        2168\n",
       "SI2           2208        2208\n",
       "VS1           1130        1130\n",
       "VS2           1569        1569\n",
       "VVS1           239         239\n",
       "VVS2           448         448"
      ]
     },
     "metadata": {},
     "output_type": "display_data"
    },
    {
     "data": {
      "text/html": [
       "<div>\n",
       "<style scoped>\n",
       "    .dataframe tbody tr th:only-of-type {\n",
       "        vertical-align: middle;\n",
       "    }\n",
       "\n",
       "    .dataframe tbody tr th {\n",
       "        vertical-align: top;\n",
       "    }\n",
       "\n",
       "    .dataframe thead th {\n",
       "        text-align: right;\n",
       "    }\n",
       "</style>\n",
       "<table border=\"1\" class=\"dataframe\">\n",
       "  <thead>\n",
       "    <tr style=\"text-align: right;\">\n",
       "      <th></th>\n",
       "      <th>Price_num</th>\n",
       "      <th>Retail_num</th>\n",
       "    </tr>\n",
       "    <tr>\n",
       "      <th>Clarity</th>\n",
       "      <th></th>\n",
       "      <th></th>\n",
       "    </tr>\n",
       "  </thead>\n",
       "  <tbody>\n",
       "    <tr>\n",
       "      <th>FL</th>\n",
       "      <td>290750.000000</td>\n",
       "      <td>447307.500000</td>\n",
       "    </tr>\n",
       "    <tr>\n",
       "      <th>I1</th>\n",
       "      <td>4331.439394</td>\n",
       "      <td>6545.037879</td>\n",
       "    </tr>\n",
       "    <tr>\n",
       "      <th>I2</th>\n",
       "      <td>3421.923077</td>\n",
       "      <td>5024.615385</td>\n",
       "    </tr>\n",
       "    <tr>\n",
       "      <th>I3</th>\n",
       "      <td>4195.000000</td>\n",
       "      <td>6190.000000</td>\n",
       "    </tr>\n",
       "    <tr>\n",
       "      <th>IF</th>\n",
       "      <td>60433.065693</td>\n",
       "      <td>83908.394161</td>\n",
       "    </tr>\n",
       "    <tr>\n",
       "      <th>N</th>\n",
       "      <td>1205.000000</td>\n",
       "      <td>2390.000000</td>\n",
       "    </tr>\n",
       "    <tr>\n",
       "      <th>None</th>\n",
       "      <td>10010.000000</td>\n",
       "      <td>15400.000000</td>\n",
       "    </tr>\n",
       "    <tr>\n",
       "      <th>SI1</th>\n",
       "      <td>12181.529059</td>\n",
       "      <td>17257.022601</td>\n",
       "    </tr>\n",
       "    <tr>\n",
       "      <th>SI2</th>\n",
       "      <td>10363.453351</td>\n",
       "      <td>14638.992301</td>\n",
       "    </tr>\n",
       "    <tr>\n",
       "      <th>VS1</th>\n",
       "      <td>19038.721239</td>\n",
       "      <td>27469.699115</td>\n",
       "    </tr>\n",
       "    <tr>\n",
       "      <th>VS2</th>\n",
       "      <td>16977.966858</td>\n",
       "      <td>24151.440408</td>\n",
       "    </tr>\n",
       "    <tr>\n",
       "      <th>VVS1</th>\n",
       "      <td>17588.933054</td>\n",
       "      <td>24682.280335</td>\n",
       "    </tr>\n",
       "    <tr>\n",
       "      <th>VVS2</th>\n",
       "      <td>22902.812500</td>\n",
       "      <td>33744.921875</td>\n",
       "    </tr>\n",
       "  </tbody>\n",
       "</table>\n",
       "</div>"
      ],
      "text/plain": [
       "             Price_num     Retail_num\n",
       "Clarity                              \n",
       "FL       290750.000000  447307.500000\n",
       "I1         4331.439394    6545.037879\n",
       "I2         3421.923077    5024.615385\n",
       "I3         4195.000000    6190.000000\n",
       "IF        60433.065693   83908.394161\n",
       "N          1205.000000    2390.000000\n",
       "None      10010.000000   15400.000000\n",
       "SI1       12181.529059   17257.022601\n",
       "SI2       10363.453351   14638.992301\n",
       "VS1       19038.721239   27469.699115\n",
       "VS2       16977.966858   24151.440408\n",
       "VVS1      17588.933054   24682.280335\n",
       "VVS2      22902.812500   33744.921875"
      ]
     },
     "metadata": {},
     "output_type": "display_data"
    }
   ],
   "source": [
    "display(train_set[['Clarity','Price_num','Retail_num']].groupby('Clarity').count())\n",
    "display(train_set[['Clarity','Price_num','Retail_num']].groupby('Clarity').mean())"
   ]
  },
  {
   "cell_type": "markdown",
   "metadata": {},
   "source": [
    "There is 1 category as None. Will be treated as 1 special category."
   ]
  },
  {
   "cell_type": "code",
   "execution_count": 43,
   "metadata": {
    "collapsed": false
   },
   "outputs": [
    {
     "data": {
      "text/html": [
       "<div>\n",
       "<style scoped>\n",
       "    .dataframe tbody tr th:only-of-type {\n",
       "        vertical-align: middle;\n",
       "    }\n",
       "\n",
       "    .dataframe tbody tr th {\n",
       "        vertical-align: top;\n",
       "    }\n",
       "\n",
       "    .dataframe thead th {\n",
       "        text-align: right;\n",
       "    }\n",
       "</style>\n",
       "<table border=\"1\" class=\"dataframe\">\n",
       "  <thead>\n",
       "    <tr style=\"text-align: right;\">\n",
       "      <th></th>\n",
       "      <th>Price_num</th>\n",
       "      <th>Retail_num</th>\n",
       "    </tr>\n",
       "    <tr>\n",
       "      <th>Color</th>\n",
       "      <th></th>\n",
       "      <th></th>\n",
       "    </tr>\n",
       "  </thead>\n",
       "  <tbody>\n",
       "    <tr>\n",
       "      <th>D</th>\n",
       "      <td>816</td>\n",
       "      <td>816</td>\n",
       "    </tr>\n",
       "    <tr>\n",
       "      <th>E</th>\n",
       "      <td>1042</td>\n",
       "      <td>1042</td>\n",
       "    </tr>\n",
       "    <tr>\n",
       "      <th>F</th>\n",
       "      <td>1000</td>\n",
       "      <td>1000</td>\n",
       "    </tr>\n",
       "    <tr>\n",
       "      <th>Fdpink</th>\n",
       "      <td>1</td>\n",
       "      <td>1</td>\n",
       "    </tr>\n",
       "    <tr>\n",
       "      <th>Fdy</th>\n",
       "      <td>2</td>\n",
       "      <td>2</td>\n",
       "    </tr>\n",
       "    <tr>\n",
       "      <th>Ffcdbrown</th>\n",
       "      <td>2</td>\n",
       "      <td>2</td>\n",
       "    </tr>\n",
       "    <tr>\n",
       "      <th>Ffcg</th>\n",
       "      <td>1</td>\n",
       "      <td>1</td>\n",
       "    </tr>\n",
       "    <tr>\n",
       "      <th>Ffcly</th>\n",
       "      <td>1</td>\n",
       "      <td>1</td>\n",
       "    </tr>\n",
       "    <tr>\n",
       "      <th>Ffcy</th>\n",
       "      <td>1</td>\n",
       "      <td>1</td>\n",
       "    </tr>\n",
       "    <tr>\n",
       "      <th>Ffg</th>\n",
       "      <td>2</td>\n",
       "      <td>2</td>\n",
       "    </tr>\n",
       "    <tr>\n",
       "      <th>Fiy</th>\n",
       "      <td>1</td>\n",
       "      <td>1</td>\n",
       "    </tr>\n",
       "    <tr>\n",
       "      <th>Fiyellow</th>\n",
       "      <td>1</td>\n",
       "      <td>1</td>\n",
       "    </tr>\n",
       "    <tr>\n",
       "      <th>Fly</th>\n",
       "      <td>1</td>\n",
       "      <td>1</td>\n",
       "    </tr>\n",
       "    <tr>\n",
       "      <th>Flyellow</th>\n",
       "      <td>1</td>\n",
       "      <td>1</td>\n",
       "    </tr>\n",
       "    <tr>\n",
       "      <th>Fvyellow</th>\n",
       "      <td>2</td>\n",
       "      <td>2</td>\n",
       "    </tr>\n",
       "    <tr>\n",
       "      <th>Fyellow</th>\n",
       "      <td>1</td>\n",
       "      <td>1</td>\n",
       "    </tr>\n",
       "    <tr>\n",
       "      <th>G</th>\n",
       "      <td>1188</td>\n",
       "      <td>1188</td>\n",
       "    </tr>\n",
       "    <tr>\n",
       "      <th>Gy</th>\n",
       "      <td>1</td>\n",
       "      <td>1</td>\n",
       "    </tr>\n",
       "    <tr>\n",
       "      <th>H</th>\n",
       "      <td>1092</td>\n",
       "      <td>1092</td>\n",
       "    </tr>\n",
       "    <tr>\n",
       "      <th>I</th>\n",
       "      <td>1158</td>\n",
       "      <td>1158</td>\n",
       "    </tr>\n",
       "    <tr>\n",
       "      <th>J</th>\n",
       "      <td>843</td>\n",
       "      <td>843</td>\n",
       "    </tr>\n",
       "    <tr>\n",
       "      <th>K</th>\n",
       "      <td>540</td>\n",
       "      <td>540</td>\n",
       "    </tr>\n",
       "    <tr>\n",
       "      <th>L</th>\n",
       "      <td>259</td>\n",
       "      <td>259</td>\n",
       "    </tr>\n",
       "    <tr>\n",
       "      <th>Lb</th>\n",
       "      <td>1</td>\n",
       "      <td>1</td>\n",
       "    </tr>\n",
       "    <tr>\n",
       "      <th>M</th>\n",
       "      <td>85</td>\n",
       "      <td>85</td>\n",
       "    </tr>\n",
       "    <tr>\n",
       "      <th>N</th>\n",
       "      <td>2</td>\n",
       "      <td>2</td>\n",
       "    </tr>\n",
       "    <tr>\n",
       "      <th>O-p</th>\n",
       "      <td>1</td>\n",
       "      <td>1</td>\n",
       "    </tr>\n",
       "    <tr>\n",
       "      <th>P</th>\n",
       "      <td>1</td>\n",
       "      <td>1</td>\n",
       "    </tr>\n",
       "    <tr>\n",
       "      <th>Q-r</th>\n",
       "      <td>1</td>\n",
       "      <td>1</td>\n",
       "    </tr>\n",
       "    <tr>\n",
       "      <th>S</th>\n",
       "      <td>1</td>\n",
       "      <td>1</td>\n",
       "    </tr>\n",
       "    <tr>\n",
       "      <th>U</th>\n",
       "      <td>1</td>\n",
       "      <td>1</td>\n",
       "    </tr>\n",
       "    <tr>\n",
       "      <th>W</th>\n",
       "      <td>1</td>\n",
       "      <td>1</td>\n",
       "    </tr>\n",
       "  </tbody>\n",
       "</table>\n",
       "</div>"
      ],
      "text/plain": [
       "           Price_num  Retail_num\n",
       "Color                           \n",
       "D                816         816\n",
       "E               1042        1042\n",
       "F               1000        1000\n",
       "Fdpink             1           1\n",
       "Fdy                2           2\n",
       "Ffcdbrown          2           2\n",
       "Ffcg               1           1\n",
       "Ffcly              1           1\n",
       "Ffcy               1           1\n",
       "Ffg                2           2\n",
       "Fiy                1           1\n",
       "Fiyellow           1           1\n",
       "Fly                1           1\n",
       "Flyellow           1           1\n",
       "Fvyellow           2           2\n",
       "Fyellow            1           1\n",
       "G               1188        1188\n",
       "Gy                 1           1\n",
       "H               1092        1092\n",
       "I               1158        1158\n",
       "J                843         843\n",
       "K                540         540\n",
       "L                259         259\n",
       "Lb                 1           1\n",
       "M                 85          85\n",
       "N                  2           2\n",
       "O-p                1           1\n",
       "P                  1           1\n",
       "Q-r                1           1\n",
       "S                  1           1\n",
       "U                  1           1\n",
       "W                  1           1"
      ]
     },
     "metadata": {},
     "output_type": "display_data"
    },
    {
     "data": {
      "text/html": [
       "<div>\n",
       "<style scoped>\n",
       "    .dataframe tbody tr th:only-of-type {\n",
       "        vertical-align: middle;\n",
       "    }\n",
       "\n",
       "    .dataframe tbody tr th {\n",
       "        vertical-align: top;\n",
       "    }\n",
       "\n",
       "    .dataframe thead th {\n",
       "        text-align: right;\n",
       "    }\n",
       "</style>\n",
       "<table border=\"1\" class=\"dataframe\">\n",
       "  <thead>\n",
       "    <tr style=\"text-align: right;\">\n",
       "      <th></th>\n",
       "      <th>Price_num</th>\n",
       "      <th>Retail_num</th>\n",
       "    </tr>\n",
       "    <tr>\n",
       "      <th>Color</th>\n",
       "      <th></th>\n",
       "      <th></th>\n",
       "    </tr>\n",
       "  </thead>\n",
       "  <tbody>\n",
       "    <tr>\n",
       "      <th>D</th>\n",
       "      <td>22273.529412</td>\n",
       "      <td>33025.104167</td>\n",
       "    </tr>\n",
       "    <tr>\n",
       "      <th>E</th>\n",
       "      <td>15325.724568</td>\n",
       "      <td>21485.686180</td>\n",
       "    </tr>\n",
       "    <tr>\n",
       "      <th>F</th>\n",
       "      <td>15387.440000</td>\n",
       "      <td>22601.420000</td>\n",
       "    </tr>\n",
       "    <tr>\n",
       "      <th>Fdpink</th>\n",
       "      <td>9445.000000</td>\n",
       "      <td>15510.000000</td>\n",
       "    </tr>\n",
       "    <tr>\n",
       "      <th>Fdy</th>\n",
       "      <td>1205.000000</td>\n",
       "      <td>2390.000000</td>\n",
       "    </tr>\n",
       "    <tr>\n",
       "      <th>Ffcdbrown</th>\n",
       "      <td>2037.500000</td>\n",
       "      <td>3647.500000</td>\n",
       "    </tr>\n",
       "    <tr>\n",
       "      <th>Ffcg</th>\n",
       "      <td>77415.000000</td>\n",
       "      <td>83320.000000</td>\n",
       "    </tr>\n",
       "    <tr>\n",
       "      <th>Ffcly</th>\n",
       "      <td>1530.000000</td>\n",
       "      <td>2655.000000</td>\n",
       "    </tr>\n",
       "    <tr>\n",
       "      <th>Ffcy</th>\n",
       "      <td>11150.000000</td>\n",
       "      <td>17840.000000</td>\n",
       "    </tr>\n",
       "    <tr>\n",
       "      <th>Ffg</th>\n",
       "      <td>2065.000000</td>\n",
       "      <td>3725.000000</td>\n",
       "    </tr>\n",
       "    <tr>\n",
       "      <th>Fiy</th>\n",
       "      <td>3415.000000</td>\n",
       "      <td>3460.000000</td>\n",
       "    </tr>\n",
       "    <tr>\n",
       "      <th>Fiyellow</th>\n",
       "      <td>23020.000000</td>\n",
       "      <td>28520.000000</td>\n",
       "    </tr>\n",
       "    <tr>\n",
       "      <th>Fly</th>\n",
       "      <td>10010.000000</td>\n",
       "      <td>15400.000000</td>\n",
       "    </tr>\n",
       "    <tr>\n",
       "      <th>Flyellow</th>\n",
       "      <td>2715.000000</td>\n",
       "      <td>3790.000000</td>\n",
       "    </tr>\n",
       "    <tr>\n",
       "      <th>Fvyellow</th>\n",
       "      <td>34645.000000</td>\n",
       "      <td>11565.000000</td>\n",
       "    </tr>\n",
       "    <tr>\n",
       "      <th>Fyellow</th>\n",
       "      <td>4040.000000</td>\n",
       "      <td>6865.000000</td>\n",
       "    </tr>\n",
       "    <tr>\n",
       "      <th>G</th>\n",
       "      <td>14704.234007</td>\n",
       "      <td>19865.277778</td>\n",
       "    </tr>\n",
       "    <tr>\n",
       "      <th>Gy</th>\n",
       "      <td>5005.000000</td>\n",
       "      <td>8470.000000</td>\n",
       "    </tr>\n",
       "    <tr>\n",
       "      <th>H</th>\n",
       "      <td>15497.399267</td>\n",
       "      <td>22212.550366</td>\n",
       "    </tr>\n",
       "    <tr>\n",
       "      <th>I</th>\n",
       "      <td>14810.384283</td>\n",
       "      <td>20940.267703</td>\n",
       "    </tr>\n",
       "    <tr>\n",
       "      <th>J</th>\n",
       "      <td>11989.762752</td>\n",
       "      <td>17133.914591</td>\n",
       "    </tr>\n",
       "    <tr>\n",
       "      <th>K</th>\n",
       "      <td>11245.268519</td>\n",
       "      <td>15988.083333</td>\n",
       "    </tr>\n",
       "    <tr>\n",
       "      <th>L</th>\n",
       "      <td>9084.961390</td>\n",
       "      <td>13179.613900</td>\n",
       "    </tr>\n",
       "    <tr>\n",
       "      <th>Lb</th>\n",
       "      <td>13260.000000</td>\n",
       "      <td>22140.000000</td>\n",
       "    </tr>\n",
       "    <tr>\n",
       "      <th>M</th>\n",
       "      <td>15943.294118</td>\n",
       "      <td>23049.352941</td>\n",
       "    </tr>\n",
       "    <tr>\n",
       "      <th>N</th>\n",
       "      <td>7787.500000</td>\n",
       "      <td>11002.500000</td>\n",
       "    </tr>\n",
       "    <tr>\n",
       "      <th>O-p</th>\n",
       "      <td>18150.000000</td>\n",
       "      <td>19990.000000</td>\n",
       "    </tr>\n",
       "    <tr>\n",
       "      <th>P</th>\n",
       "      <td>3000.000000</td>\n",
       "      <td>4320.000000</td>\n",
       "    </tr>\n",
       "    <tr>\n",
       "      <th>Q-r</th>\n",
       "      <td>745.000000</td>\n",
       "      <td>1100.000000</td>\n",
       "    </tr>\n",
       "    <tr>\n",
       "      <th>S</th>\n",
       "      <td>154960.000000</td>\n",
       "      <td>231695.000000</td>\n",
       "    </tr>\n",
       "    <tr>\n",
       "      <th>U</th>\n",
       "      <td>1340.000000</td>\n",
       "      <td>2200.000000</td>\n",
       "    </tr>\n",
       "    <tr>\n",
       "      <th>W</th>\n",
       "      <td>5200.000000</td>\n",
       "      <td>8000.000000</td>\n",
       "    </tr>\n",
       "  </tbody>\n",
       "</table>\n",
       "</div>"
      ],
      "text/plain": [
       "               Price_num     Retail_num\n",
       "Color                                  \n",
       "D           22273.529412   33025.104167\n",
       "E           15325.724568   21485.686180\n",
       "F           15387.440000   22601.420000\n",
       "Fdpink       9445.000000   15510.000000\n",
       "Fdy          1205.000000    2390.000000\n",
       "Ffcdbrown    2037.500000    3647.500000\n",
       "Ffcg        77415.000000   83320.000000\n",
       "Ffcly        1530.000000    2655.000000\n",
       "Ffcy        11150.000000   17840.000000\n",
       "Ffg          2065.000000    3725.000000\n",
       "Fiy          3415.000000    3460.000000\n",
       "Fiyellow    23020.000000   28520.000000\n",
       "Fly         10010.000000   15400.000000\n",
       "Flyellow     2715.000000    3790.000000\n",
       "Fvyellow    34645.000000   11565.000000\n",
       "Fyellow      4040.000000    6865.000000\n",
       "G           14704.234007   19865.277778\n",
       "Gy           5005.000000    8470.000000\n",
       "H           15497.399267   22212.550366\n",
       "I           14810.384283   20940.267703\n",
       "J           11989.762752   17133.914591\n",
       "K           11245.268519   15988.083333\n",
       "L            9084.961390   13179.613900\n",
       "Lb          13260.000000   22140.000000\n",
       "M           15943.294118   23049.352941\n",
       "N            7787.500000   11002.500000\n",
       "O-p         18150.000000   19990.000000\n",
       "P            3000.000000    4320.000000\n",
       "Q-r           745.000000    1100.000000\n",
       "S          154960.000000  231695.000000\n",
       "U            1340.000000    2200.000000\n",
       "W            5200.000000    8000.000000"
      ]
     },
     "metadata": {},
     "output_type": "display_data"
    }
   ],
   "source": [
    "display(train_set[['Color','Price_num','Retail_num']].groupby('Color').count())\n",
    "display(train_set[['Color','Price_num','Retail_num']].groupby('Color').mean())"
   ]
  },
  {
   "cell_type": "code",
   "execution_count": 44,
   "metadata": {
    "collapsed": false
   },
   "outputs": [
    {
     "data": {
      "text/html": [
       "<div>\n",
       "<style scoped>\n",
       "    .dataframe tbody tr th:only-of-type {\n",
       "        vertical-align: middle;\n",
       "    }\n",
       "\n",
       "    .dataframe tbody tr th {\n",
       "        vertical-align: top;\n",
       "    }\n",
       "\n",
       "    .dataframe thead th {\n",
       "        text-align: right;\n",
       "    }\n",
       "</style>\n",
       "<table border=\"1\" class=\"dataframe\">\n",
       "  <thead>\n",
       "    <tr style=\"text-align: right;\">\n",
       "      <th></th>\n",
       "      <th>Price_num</th>\n",
       "      <th>Retail_num</th>\n",
       "    </tr>\n",
       "    <tr>\n",
       "      <th>Cut</th>\n",
       "      <th></th>\n",
       "      <th></th>\n",
       "    </tr>\n",
       "  </thead>\n",
       "  <tbody>\n",
       "    <tr>\n",
       "      <th></th>\n",
       "      <td>3922</td>\n",
       "      <td>3922</td>\n",
       "    </tr>\n",
       "    <tr>\n",
       "      <th>Excellent</th>\n",
       "      <td>2811</td>\n",
       "      <td>2811</td>\n",
       "    </tr>\n",
       "    <tr>\n",
       "      <th>Fair</th>\n",
       "      <td>15</td>\n",
       "      <td>15</td>\n",
       "    </tr>\n",
       "    <tr>\n",
       "      <th>Good</th>\n",
       "      <td>178</td>\n",
       "      <td>178</td>\n",
       "    </tr>\n",
       "    <tr>\n",
       "      <th>Ideal</th>\n",
       "      <td>1</td>\n",
       "      <td>1</td>\n",
       "    </tr>\n",
       "    <tr>\n",
       "      <th>Very good</th>\n",
       "      <td>1123</td>\n",
       "      <td>1123</td>\n",
       "    </tr>\n",
       "  </tbody>\n",
       "</table>\n",
       "</div>"
      ],
      "text/plain": [
       "           Price_num  Retail_num\n",
       "Cut                             \n",
       "                3922        3922\n",
       "Excellent       2811        2811\n",
       "Fair              15          15\n",
       "Good             178         178\n",
       "Ideal              1           1\n",
       "Very good       1123        1123"
      ]
     },
     "metadata": {},
     "output_type": "display_data"
    },
    {
     "data": {
      "text/html": [
       "<div>\n",
       "<style scoped>\n",
       "    .dataframe tbody tr th:only-of-type {\n",
       "        vertical-align: middle;\n",
       "    }\n",
       "\n",
       "    .dataframe tbody tr th {\n",
       "        vertical-align: top;\n",
       "    }\n",
       "\n",
       "    .dataframe thead th {\n",
       "        text-align: right;\n",
       "    }\n",
       "</style>\n",
       "<table border=\"1\" class=\"dataframe\">\n",
       "  <thead>\n",
       "    <tr style=\"text-align: right;\">\n",
       "      <th></th>\n",
       "      <th>Price_num</th>\n",
       "      <th>Retail_num</th>\n",
       "    </tr>\n",
       "    <tr>\n",
       "      <th>Cut</th>\n",
       "      <th></th>\n",
       "      <th></th>\n",
       "    </tr>\n",
       "  </thead>\n",
       "  <tbody>\n",
       "    <tr>\n",
       "      <th></th>\n",
       "      <td>11707.322794</td>\n",
       "      <td>16759.295003</td>\n",
       "    </tr>\n",
       "    <tr>\n",
       "      <th>Excellent</th>\n",
       "      <td>21762.340804</td>\n",
       "      <td>30849.548203</td>\n",
       "    </tr>\n",
       "    <tr>\n",
       "      <th>Fair</th>\n",
       "      <td>51291.000000</td>\n",
       "      <td>76339.333333</td>\n",
       "    </tr>\n",
       "    <tr>\n",
       "      <th>Good</th>\n",
       "      <td>7419.831461</td>\n",
       "      <td>10583.876404</td>\n",
       "    </tr>\n",
       "    <tr>\n",
       "      <th>Ideal</th>\n",
       "      <td>103195.000000</td>\n",
       "      <td>151305.000000</td>\n",
       "    </tr>\n",
       "    <tr>\n",
       "      <th>Very good</th>\n",
       "      <td>10791.442565</td>\n",
       "      <td>15498.325913</td>\n",
       "    </tr>\n",
       "  </tbody>\n",
       "</table>\n",
       "</div>"
      ],
      "text/plain": [
       "               Price_num     Retail_num\n",
       "Cut                                    \n",
       "            11707.322794   16759.295003\n",
       "Excellent   21762.340804   30849.548203\n",
       "Fair        51291.000000   76339.333333\n",
       "Good         7419.831461   10583.876404\n",
       "Ideal      103195.000000  151305.000000\n",
       "Very good   10791.442565   15498.325913"
      ]
     },
     "metadata": {},
     "output_type": "display_data"
    }
   ],
   "source": [
    "display(train_set[['Cut','Price_num','Retail_num']].groupby('Cut').count())\n",
    "display(train_set[['Cut','Price_num','Retail_num']].groupby('Cut').mean())"
   ]
  },
  {
   "cell_type": "markdown",
   "metadata": {},
   "source": [
    "There is 3922 records as empty string. Will be treated as 1 special category."
   ]
  },
  {
   "cell_type": "code",
   "execution_count": 45,
   "metadata": {
    "collapsed": false
   },
   "outputs": [
    {
     "data": {
      "text/html": [
       "<div>\n",
       "<style scoped>\n",
       "    .dataframe tbody tr th:only-of-type {\n",
       "        vertical-align: middle;\n",
       "    }\n",
       "\n",
       "    .dataframe tbody tr th {\n",
       "        vertical-align: top;\n",
       "    }\n",
       "\n",
       "    .dataframe thead th {\n",
       "        text-align: right;\n",
       "    }\n",
       "</style>\n",
       "<table border=\"1\" class=\"dataframe\">\n",
       "  <thead>\n",
       "    <tr style=\"text-align: right;\">\n",
       "      <th></th>\n",
       "      <th>Price_num</th>\n",
       "      <th>Retail_num</th>\n",
       "    </tr>\n",
       "    <tr>\n",
       "      <th>Fluroescence</th>\n",
       "      <th></th>\n",
       "      <th></th>\n",
       "    </tr>\n",
       "  </thead>\n",
       "  <tbody>\n",
       "    <tr>\n",
       "      <th></th>\n",
       "      <td>295</td>\n",
       "      <td>295</td>\n",
       "    </tr>\n",
       "    <tr>\n",
       "      <th>Faint</th>\n",
       "      <td>1280</td>\n",
       "      <td>1280</td>\n",
       "    </tr>\n",
       "    <tr>\n",
       "      <th>Faint Y</th>\n",
       "      <td>1</td>\n",
       "      <td>1</td>\n",
       "    </tr>\n",
       "    <tr>\n",
       "      <th>Medium</th>\n",
       "      <td>400</td>\n",
       "      <td>400</td>\n",
       "    </tr>\n",
       "    <tr>\n",
       "      <th>Medium B</th>\n",
       "      <td>6</td>\n",
       "      <td>6</td>\n",
       "    </tr>\n",
       "    <tr>\n",
       "      <th>Medium Bl..</th>\n",
       "      <td>320</td>\n",
       "      <td>320</td>\n",
       "    </tr>\n",
       "    <tr>\n",
       "      <th>Medium Ye..</th>\n",
       "      <td>3</td>\n",
       "      <td>3</td>\n",
       "    </tr>\n",
       "    <tr>\n",
       "      <th>None</th>\n",
       "      <td>4178</td>\n",
       "      <td>4178</td>\n",
       "    </tr>\n",
       "    <tr>\n",
       "      <th>Strong</th>\n",
       "      <td>208</td>\n",
       "      <td>208</td>\n",
       "    </tr>\n",
       "    <tr>\n",
       "      <th>Strong B</th>\n",
       "      <td>1</td>\n",
       "      <td>1</td>\n",
       "    </tr>\n",
       "    <tr>\n",
       "      <th>Strong Bl..</th>\n",
       "      <td>196</td>\n",
       "      <td>196</td>\n",
       "    </tr>\n",
       "    <tr>\n",
       "      <th>Very Smal..</th>\n",
       "      <td>6</td>\n",
       "      <td>6</td>\n",
       "    </tr>\n",
       "    <tr>\n",
       "      <th>Very Stro..</th>\n",
       "      <td>6</td>\n",
       "      <td>6</td>\n",
       "    </tr>\n",
       "  </tbody>\n",
       "</table>\n",
       "</div>"
      ],
      "text/plain": [
       "              Price_num  Retail_num\n",
       "Fluroescence                       \n",
       "                    295         295\n",
       "Faint              1280        1280\n",
       "Faint Y               1           1\n",
       "Medium              400         400\n",
       "Medium B              6           6\n",
       "Medium Bl..         320         320\n",
       "Medium Ye..           3           3\n",
       "None               4178        4178\n",
       "Strong              208         208\n",
       "Strong B              1           1\n",
       "Strong Bl..         196         196\n",
       "Very Smal..           6           6\n",
       "Very Stro..           6           6"
      ]
     },
     "metadata": {},
     "output_type": "display_data"
    },
    {
     "data": {
      "text/html": [
       "<div>\n",
       "<style scoped>\n",
       "    .dataframe tbody tr th:only-of-type {\n",
       "        vertical-align: middle;\n",
       "    }\n",
       "\n",
       "    .dataframe tbody tr th {\n",
       "        vertical-align: top;\n",
       "    }\n",
       "\n",
       "    .dataframe thead th {\n",
       "        text-align: right;\n",
       "    }\n",
       "</style>\n",
       "<table border=\"1\" class=\"dataframe\">\n",
       "  <thead>\n",
       "    <tr style=\"text-align: right;\">\n",
       "      <th></th>\n",
       "      <th>Price_num</th>\n",
       "      <th>Retail_num</th>\n",
       "    </tr>\n",
       "    <tr>\n",
       "      <th>Fluroescence</th>\n",
       "      <th></th>\n",
       "      <th></th>\n",
       "    </tr>\n",
       "  </thead>\n",
       "  <tbody>\n",
       "    <tr>\n",
       "      <th></th>\n",
       "      <td>25386.661017</td>\n",
       "      <td>37770.271186</td>\n",
       "    </tr>\n",
       "    <tr>\n",
       "      <th>Faint</th>\n",
       "      <td>15601.355469</td>\n",
       "      <td>22779.281250</td>\n",
       "    </tr>\n",
       "    <tr>\n",
       "      <th>Faint Y</th>\n",
       "      <td>13095.000000</td>\n",
       "      <td>17175.000000</td>\n",
       "    </tr>\n",
       "    <tr>\n",
       "      <th>Medium</th>\n",
       "      <td>17022.087500</td>\n",
       "      <td>24792.412500</td>\n",
       "    </tr>\n",
       "    <tr>\n",
       "      <th>Medium B</th>\n",
       "      <td>43868.333333</td>\n",
       "      <td>68660.000000</td>\n",
       "    </tr>\n",
       "    <tr>\n",
       "      <th>Medium Bl..</th>\n",
       "      <td>11755.625000</td>\n",
       "      <td>17315.406250</td>\n",
       "    </tr>\n",
       "    <tr>\n",
       "      <th>Medium Ye..</th>\n",
       "      <td>7685.000000</td>\n",
       "      <td>10546.666667</td>\n",
       "    </tr>\n",
       "    <tr>\n",
       "      <th>None</th>\n",
       "      <td>14661.032791</td>\n",
       "      <td>21216.994974</td>\n",
       "    </tr>\n",
       "    <tr>\n",
       "      <th>Strong</th>\n",
       "      <td>15671.850962</td>\n",
       "      <td>23479.687500</td>\n",
       "    </tr>\n",
       "    <tr>\n",
       "      <th>Strong B</th>\n",
       "      <td>24190.000000</td>\n",
       "      <td>33865.000000</td>\n",
       "    </tr>\n",
       "    <tr>\n",
       "      <th>Strong Bl..</th>\n",
       "      <td>10917.117347</td>\n",
       "      <td>16064.362245</td>\n",
       "    </tr>\n",
       "    <tr>\n",
       "      <th>Very Smal..</th>\n",
       "      <td>16404.166667</td>\n",
       "      <td>23908.333333</td>\n",
       "    </tr>\n",
       "    <tr>\n",
       "      <th>Very Stro..</th>\n",
       "      <td>16001.666667</td>\n",
       "      <td>23468.333333</td>\n",
       "    </tr>\n",
       "  </tbody>\n",
       "</table>\n",
       "</div>"
      ],
      "text/plain": [
       "                 Price_num    Retail_num\n",
       "Fluroescence                            \n",
       "              25386.661017  37770.271186\n",
       "Faint         15601.355469  22779.281250\n",
       "Faint Y       13095.000000  17175.000000\n",
       "Medium        17022.087500  24792.412500\n",
       "Medium B      43868.333333  68660.000000\n",
       "Medium Bl..   11755.625000  17315.406250\n",
       "Medium Ye..    7685.000000  10546.666667\n",
       "None          14661.032791  21216.994974\n",
       "Strong        15671.850962  23479.687500\n",
       "Strong B      24190.000000  33865.000000\n",
       "Strong Bl..   10917.117347  16064.362245\n",
       "Very Smal..   16404.166667  23908.333333\n",
       "Very Stro..   16001.666667  23468.333333"
      ]
     },
     "metadata": {},
     "output_type": "display_data"
    }
   ],
   "source": [
    "display(train_set[['Fluroescence','Price_num','Retail_num']].groupby('Fluroescence').count())\n",
    "display(train_set[['Fluroescence','Price_num','Retail_num']].groupby('Fluroescence').mean())"
   ]
  },
  {
   "cell_type": "markdown",
   "metadata": {},
   "source": [
    "There are 295 records as empty string. Will be treated as 1 special category."
   ]
  },
  {
   "cell_type": "code",
   "execution_count": 47,
   "metadata": {
    "collapsed": false
   },
   "outputs": [
    {
     "data": {
      "text/html": [
       "<div>\n",
       "<style scoped>\n",
       "    .dataframe tbody tr th:only-of-type {\n",
       "        vertical-align: middle;\n",
       "    }\n",
       "\n",
       "    .dataframe tbody tr th {\n",
       "        vertical-align: top;\n",
       "    }\n",
       "\n",
       "    .dataframe thead th {\n",
       "        text-align: right;\n",
       "    }\n",
       "</style>\n",
       "<table border=\"1\" class=\"dataframe\">\n",
       "  <thead>\n",
       "    <tr style=\"text-align: right;\">\n",
       "      <th></th>\n",
       "      <th>Price_num</th>\n",
       "      <th>Retail_num</th>\n",
       "      <th>Profit_flag</th>\n",
       "    </tr>\n",
       "    <tr>\n",
       "      <th>Known_Conflict_Diamond</th>\n",
       "      <th></th>\n",
       "      <th></th>\n",
       "      <th></th>\n",
       "    </tr>\n",
       "  </thead>\n",
       "  <tbody>\n",
       "    <tr>\n",
       "      <th>False</th>\n",
       "      <td>7741</td>\n",
       "      <td>7741</td>\n",
       "      <td>7741</td>\n",
       "    </tr>\n",
       "    <tr>\n",
       "      <th>True</th>\n",
       "      <td>309</td>\n",
       "      <td>309</td>\n",
       "      <td>309</td>\n",
       "    </tr>\n",
       "  </tbody>\n",
       "</table>\n",
       "</div>"
      ],
      "text/plain": [
       "                        Price_num  Retail_num  Profit_flag\n",
       "Known_Conflict_Diamond                                    \n",
       "False                        7741        7741         7741\n",
       "True                          309         309          309"
      ]
     },
     "metadata": {},
     "output_type": "display_data"
    },
    {
     "data": {
      "text/html": [
       "<div>\n",
       "<style scoped>\n",
       "    .dataframe tbody tr th:only-of-type {\n",
       "        vertical-align: middle;\n",
       "    }\n",
       "\n",
       "    .dataframe tbody tr th {\n",
       "        vertical-align: top;\n",
       "    }\n",
       "\n",
       "    .dataframe thead th {\n",
       "        text-align: right;\n",
       "    }\n",
       "</style>\n",
       "<table border=\"1\" class=\"dataframe\">\n",
       "  <thead>\n",
       "    <tr style=\"text-align: right;\">\n",
       "      <th></th>\n",
       "      <th>Price_num</th>\n",
       "      <th>Retail_num</th>\n",
       "      <th>Profit_flag</th>\n",
       "    </tr>\n",
       "    <tr>\n",
       "      <th>Known_Conflict_Diamond</th>\n",
       "      <th></th>\n",
       "      <th></th>\n",
       "      <th></th>\n",
       "    </tr>\n",
       "  </thead>\n",
       "  <tbody>\n",
       "    <tr>\n",
       "      <th>False</th>\n",
       "      <td>15025.439866</td>\n",
       "      <td>22257.513241</td>\n",
       "      <td>0.977393</td>\n",
       "    </tr>\n",
       "    <tr>\n",
       "      <th>True</th>\n",
       "      <td>16473.171521</td>\n",
       "      <td>2386.957929</td>\n",
       "      <td>0.000000</td>\n",
       "    </tr>\n",
       "  </tbody>\n",
       "</table>\n",
       "</div>"
      ],
      "text/plain": [
       "                           Price_num    Retail_num  Profit_flag\n",
       "Known_Conflict_Diamond                                         \n",
       "False                   15025.439866  22257.513241     0.977393\n",
       "True                    16473.171521   2386.957929     0.000000"
      ]
     },
     "metadata": {},
     "output_type": "display_data"
    }
   ],
   "source": [
    "display(train_set[['Known_Conflict_Diamond','Price_num','Retail_num','Profit_flag']].groupby('Known_Conflict_Diamond').count())\n",
    "display(train_set[['Known_Conflict_Diamond','Price_num','Retail_num','Profit_flag']].groupby('Known_Conflict_Diamond').mean())"
   ]
  },
  {
   "cell_type": "markdown",
   "metadata": {},
   "source": [
    "### Take away insights: \n",
    "If the Known_Conflict_Diamond is True, then we cannot make any profit. This is also aligned with Business Sense. So when making offer, if the Known_Conflict_Diamond is True, we do not make offers."
   ]
  },
  {
   "cell_type": "code",
   "execution_count": 49,
   "metadata": {
    "collapsed": false
   },
   "outputs": [
    {
     "data": {
      "text/html": [
       "<div>\n",
       "<style scoped>\n",
       "    .dataframe tbody tr th:only-of-type {\n",
       "        vertical-align: middle;\n",
       "    }\n",
       "\n",
       "    .dataframe tbody tr th {\n",
       "        vertical-align: top;\n",
       "    }\n",
       "\n",
       "    .dataframe thead th {\n",
       "        text-align: right;\n",
       "    }\n",
       "</style>\n",
       "<table border=\"1\" class=\"dataframe\">\n",
       "  <thead>\n",
       "    <tr style=\"text-align: right;\">\n",
       "      <th></th>\n",
       "      <th>Price_num</th>\n",
       "      <th>Retail_num</th>\n",
       "      <th>Profit_flag</th>\n",
       "    </tr>\n",
       "    <tr>\n",
       "      <th>Polish</th>\n",
       "      <th></th>\n",
       "      <th></th>\n",
       "      <th></th>\n",
       "    </tr>\n",
       "  </thead>\n",
       "  <tbody>\n",
       "    <tr>\n",
       "      <th></th>\n",
       "      <td>899</td>\n",
       "      <td>899</td>\n",
       "      <td>899</td>\n",
       "    </tr>\n",
       "    <tr>\n",
       "      <th>Excellent</th>\n",
       "      <td>5383</td>\n",
       "      <td>5383</td>\n",
       "      <td>5383</td>\n",
       "    </tr>\n",
       "    <tr>\n",
       "      <th>Good</th>\n",
       "      <td>179</td>\n",
       "      <td>179</td>\n",
       "      <td>179</td>\n",
       "    </tr>\n",
       "    <tr>\n",
       "      <th>Very good</th>\n",
       "      <td>1589</td>\n",
       "      <td>1589</td>\n",
       "      <td>1589</td>\n",
       "    </tr>\n",
       "  </tbody>\n",
       "</table>\n",
       "</div>"
      ],
      "text/plain": [
       "           Price_num  Retail_num  Profit_flag\n",
       "Polish                                       \n",
       "                 899         899          899\n",
       "Excellent       5383        5383         5383\n",
       "Good             179         179          179\n",
       "Very good       1589        1589         1589"
      ]
     },
     "metadata": {},
     "output_type": "display_data"
    },
    {
     "data": {
      "text/html": [
       "<div>\n",
       "<style scoped>\n",
       "    .dataframe tbody tr th:only-of-type {\n",
       "        vertical-align: middle;\n",
       "    }\n",
       "\n",
       "    .dataframe tbody tr th {\n",
       "        vertical-align: top;\n",
       "    }\n",
       "\n",
       "    .dataframe thead th {\n",
       "        text-align: right;\n",
       "    }\n",
       "</style>\n",
       "<table border=\"1\" class=\"dataframe\">\n",
       "  <thead>\n",
       "    <tr style=\"text-align: right;\">\n",
       "      <th></th>\n",
       "      <th>Price_num</th>\n",
       "      <th>Retail_num</th>\n",
       "      <th>Profit_flag</th>\n",
       "    </tr>\n",
       "    <tr>\n",
       "      <th>Polish</th>\n",
       "      <th></th>\n",
       "      <th></th>\n",
       "      <th></th>\n",
       "    </tr>\n",
       "  </thead>\n",
       "  <tbody>\n",
       "    <tr>\n",
       "      <th></th>\n",
       "      <td>9443.726363</td>\n",
       "      <td>13785.289210</td>\n",
       "      <td>0.952169</td>\n",
       "    </tr>\n",
       "    <tr>\n",
       "      <th>Excellent</th>\n",
       "      <td>18356.310607</td>\n",
       "      <td>26070.014862</td>\n",
       "      <td>0.938510</td>\n",
       "    </tr>\n",
       "    <tr>\n",
       "      <th>Good</th>\n",
       "      <td>7429.217877</td>\n",
       "      <td>10584.301676</td>\n",
       "      <td>0.932961</td>\n",
       "    </tr>\n",
       "    <tr>\n",
       "      <th>Very good</th>\n",
       "      <td>8036.740088</td>\n",
       "      <td>11586.233480</td>\n",
       "      <td>0.938326</td>\n",
       "    </tr>\n",
       "  </tbody>\n",
       "</table>\n",
       "</div>"
      ],
      "text/plain": [
       "              Price_num    Retail_num  Profit_flag\n",
       "Polish                                            \n",
       "            9443.726363  13785.289210     0.952169\n",
       "Excellent  18356.310607  26070.014862     0.938510\n",
       "Good        7429.217877  10584.301676     0.932961\n",
       "Very good   8036.740088  11586.233480     0.938326"
      ]
     },
     "metadata": {},
     "output_type": "display_data"
    }
   ],
   "source": [
    "display(train_set[['Polish','Price_num','Retail_num','Profit_flag']].groupby('Polish').count())\n",
    "display(train_set[['Polish','Price_num','Retail_num','Profit_flag']].groupby('Polish').mean())"
   ]
  },
  {
   "cell_type": "markdown",
   "metadata": {},
   "source": [
    "There are 899 records as empty string. Will be treated as 1 special category."
   ]
  },
  {
   "cell_type": "code",
   "execution_count": 50,
   "metadata": {
    "collapsed": false
   },
   "outputs": [
    {
     "data": {
      "text/html": [
       "<div>\n",
       "<style scoped>\n",
       "    .dataframe tbody tr th:only-of-type {\n",
       "        vertical-align: middle;\n",
       "    }\n",
       "\n",
       "    .dataframe tbody tr th {\n",
       "        vertical-align: top;\n",
       "    }\n",
       "\n",
       "    .dataframe thead th {\n",
       "        text-align: right;\n",
       "    }\n",
       "</style>\n",
       "<table border=\"1\" class=\"dataframe\">\n",
       "  <thead>\n",
       "    <tr style=\"text-align: right;\">\n",
       "      <th></th>\n",
       "      <th>Price_num</th>\n",
       "      <th>Retail_num</th>\n",
       "      <th>Profit_flag</th>\n",
       "    </tr>\n",
       "    <tr>\n",
       "      <th>Regions</th>\n",
       "      <th></th>\n",
       "      <th></th>\n",
       "      <th></th>\n",
       "    </tr>\n",
       "  </thead>\n",
       "  <tbody>\n",
       "    <tr>\n",
       "      <th>Angola</th>\n",
       "      <td>586</td>\n",
       "      <td>586</td>\n",
       "      <td>586</td>\n",
       "    </tr>\n",
       "    <tr>\n",
       "      <th>Australia</th>\n",
       "      <td>887</td>\n",
       "      <td>887</td>\n",
       "      <td>887</td>\n",
       "    </tr>\n",
       "    <tr>\n",
       "      <th>Botswana</th>\n",
       "      <td>1438</td>\n",
       "      <td>1438</td>\n",
       "      <td>1438</td>\n",
       "    </tr>\n",
       "    <tr>\n",
       "      <th>Canada</th>\n",
       "      <td>745</td>\n",
       "      <td>745</td>\n",
       "      <td>745</td>\n",
       "    </tr>\n",
       "    <tr>\n",
       "      <th>DR Congo</th>\n",
       "      <td>796</td>\n",
       "      <td>796</td>\n",
       "      <td>796</td>\n",
       "    </tr>\n",
       "    <tr>\n",
       "      <th>Other/Unknown</th>\n",
       "      <td>303</td>\n",
       "      <td>303</td>\n",
       "      <td>303</td>\n",
       "    </tr>\n",
       "    <tr>\n",
       "      <th>Russia</th>\n",
       "      <td>2599</td>\n",
       "      <td>2599</td>\n",
       "      <td>2599</td>\n",
       "    </tr>\n",
       "    <tr>\n",
       "      <th>South Africa</th>\n",
       "      <td>556</td>\n",
       "      <td>556</td>\n",
       "      <td>556</td>\n",
       "    </tr>\n",
       "    <tr>\n",
       "      <th>Zimbabwe</th>\n",
       "      <td>140</td>\n",
       "      <td>140</td>\n",
       "      <td>140</td>\n",
       "    </tr>\n",
       "  </tbody>\n",
       "</table>\n",
       "</div>"
      ],
      "text/plain": [
       "               Price_num  Retail_num  Profit_flag\n",
       "Regions                                          \n",
       "Angola               586         586          586\n",
       "Australia            887         887          887\n",
       "Botswana            1438        1438         1438\n",
       "Canada               745         745          745\n",
       "DR Congo             796         796          796\n",
       "Other/Unknown        303         303          303\n",
       "Russia              2599        2599         2599\n",
       "South Africa         556         556          556\n",
       "Zimbabwe             140         140          140"
      ]
     },
     "metadata": {},
     "output_type": "display_data"
    },
    {
     "data": {
      "text/html": [
       "<div>\n",
       "<style scoped>\n",
       "    .dataframe tbody tr th:only-of-type {\n",
       "        vertical-align: middle;\n",
       "    }\n",
       "\n",
       "    .dataframe tbody tr th {\n",
       "        vertical-align: top;\n",
       "    }\n",
       "\n",
       "    .dataframe thead th {\n",
       "        text-align: right;\n",
       "    }\n",
       "</style>\n",
       "<table border=\"1\" class=\"dataframe\">\n",
       "  <thead>\n",
       "    <tr style=\"text-align: right;\">\n",
       "      <th></th>\n",
       "      <th>Price_num</th>\n",
       "      <th>Retail_num</th>\n",
       "      <th>Profit_flag</th>\n",
       "    </tr>\n",
       "    <tr>\n",
       "      <th>Regions</th>\n",
       "      <th></th>\n",
       "      <th></th>\n",
       "      <th></th>\n",
       "    </tr>\n",
       "  </thead>\n",
       "  <tbody>\n",
       "    <tr>\n",
       "      <th>Angola</th>\n",
       "      <td>15095.682594</td>\n",
       "      <td>19160.767918</td>\n",
       "      <td>0.776451</td>\n",
       "    </tr>\n",
       "    <tr>\n",
       "      <th>Australia</th>\n",
       "      <td>13390.434047</td>\n",
       "      <td>20339.808343</td>\n",
       "      <td>0.981962</td>\n",
       "    </tr>\n",
       "    <tr>\n",
       "      <th>Botswana</th>\n",
       "      <td>14885.761474</td>\n",
       "      <td>21210.462448</td>\n",
       "      <td>0.972879</td>\n",
       "    </tr>\n",
       "    <tr>\n",
       "      <th>Canada</th>\n",
       "      <td>16307.046980</td>\n",
       "      <td>25142.114094</td>\n",
       "      <td>0.978523</td>\n",
       "    </tr>\n",
       "    <tr>\n",
       "      <th>DR Congo</th>\n",
       "      <td>16163.473618</td>\n",
       "      <td>17887.305276</td>\n",
       "      <td>0.782663</td>\n",
       "    </tr>\n",
       "    <tr>\n",
       "      <th>Other/Unknown</th>\n",
       "      <td>16643.613861</td>\n",
       "      <td>25473.234323</td>\n",
       "      <td>0.980198</td>\n",
       "    </tr>\n",
       "    <tr>\n",
       "      <th>Russia</th>\n",
       "      <td>15215.182763</td>\n",
       "      <td>22927.751058</td>\n",
       "      <td>0.980762</td>\n",
       "    </tr>\n",
       "    <tr>\n",
       "      <th>South Africa</th>\n",
       "      <td>14319.253597</td>\n",
       "      <td>20079.640288</td>\n",
       "      <td>0.974820</td>\n",
       "    </tr>\n",
       "    <tr>\n",
       "      <th>Zimbabwe</th>\n",
       "      <td>12209.821429</td>\n",
       "      <td>13011.785714</td>\n",
       "      <td>0.721429</td>\n",
       "    </tr>\n",
       "  </tbody>\n",
       "</table>\n",
       "</div>"
      ],
      "text/plain": [
       "                  Price_num    Retail_num  Profit_flag\n",
       "Regions                                               \n",
       "Angola         15095.682594  19160.767918     0.776451\n",
       "Australia      13390.434047  20339.808343     0.981962\n",
       "Botswana       14885.761474  21210.462448     0.972879\n",
       "Canada         16307.046980  25142.114094     0.978523\n",
       "DR Congo       16163.473618  17887.305276     0.782663\n",
       "Other/Unknown  16643.613861  25473.234323     0.980198\n",
       "Russia         15215.182763  22927.751058     0.980762\n",
       "South Africa   14319.253597  20079.640288     0.974820\n",
       "Zimbabwe       12209.821429  13011.785714     0.721429"
      ]
     },
     "metadata": {},
     "output_type": "display_data"
    }
   ],
   "source": [
    "display(train_set[['Regions','Price_num','Retail_num','Profit_flag']].groupby('Regions').count())\n",
    "display(train_set[['Regions','Price_num','Retail_num','Profit_flag']].groupby('Regions').mean())"
   ]
  },
  {
   "cell_type": "code",
   "execution_count": 51,
   "metadata": {
    "collapsed": false
   },
   "outputs": [
    {
     "data": {
      "text/html": [
       "<div>\n",
       "<style scoped>\n",
       "    .dataframe tbody tr th:only-of-type {\n",
       "        vertical-align: middle;\n",
       "    }\n",
       "\n",
       "    .dataframe tbody tr th {\n",
       "        vertical-align: top;\n",
       "    }\n",
       "\n",
       "    .dataframe thead th {\n",
       "        text-align: right;\n",
       "    }\n",
       "</style>\n",
       "<table border=\"1\" class=\"dataframe\">\n",
       "  <thead>\n",
       "    <tr style=\"text-align: right;\">\n",
       "      <th></th>\n",
       "      <th>Price_num</th>\n",
       "      <th>Retail_num</th>\n",
       "      <th>Profit_flag</th>\n",
       "    </tr>\n",
       "    <tr>\n",
       "      <th>Shape</th>\n",
       "      <th></th>\n",
       "      <th></th>\n",
       "      <th></th>\n",
       "    </tr>\n",
       "  </thead>\n",
       "  <tbody>\n",
       "    <tr>\n",
       "      <th>Asscher</th>\n",
       "      <td>194</td>\n",
       "      <td>194</td>\n",
       "      <td>194</td>\n",
       "    </tr>\n",
       "    <tr>\n",
       "      <th>Cushion</th>\n",
       "      <td>87</td>\n",
       "      <td>87</td>\n",
       "      <td>87</td>\n",
       "    </tr>\n",
       "    <tr>\n",
       "      <th>Emerald</th>\n",
       "      <td>554</td>\n",
       "      <td>554</td>\n",
       "      <td>554</td>\n",
       "    </tr>\n",
       "    <tr>\n",
       "      <th>Marquis</th>\n",
       "      <td>29</td>\n",
       "      <td>29</td>\n",
       "      <td>29</td>\n",
       "    </tr>\n",
       "    <tr>\n",
       "      <th>Marquise</th>\n",
       "      <td>241</td>\n",
       "      <td>241</td>\n",
       "      <td>241</td>\n",
       "    </tr>\n",
       "    <tr>\n",
       "      <th>Marwuise</th>\n",
       "      <td>43</td>\n",
       "      <td>43</td>\n",
       "      <td>43</td>\n",
       "    </tr>\n",
       "    <tr>\n",
       "      <th>Oval</th>\n",
       "      <td>560</td>\n",
       "      <td>560</td>\n",
       "      <td>560</td>\n",
       "    </tr>\n",
       "    <tr>\n",
       "      <th>Oval</th>\n",
       "      <td>105</td>\n",
       "      <td>105</td>\n",
       "      <td>105</td>\n",
       "    </tr>\n",
       "    <tr>\n",
       "      <th>Pear</th>\n",
       "      <td>336</td>\n",
       "      <td>336</td>\n",
       "      <td>336</td>\n",
       "    </tr>\n",
       "    <tr>\n",
       "      <th>Princess</th>\n",
       "      <td>754</td>\n",
       "      <td>754</td>\n",
       "      <td>754</td>\n",
       "    </tr>\n",
       "    <tr>\n",
       "      <th>ROUND</th>\n",
       "      <td>123</td>\n",
       "      <td>123</td>\n",
       "      <td>123</td>\n",
       "    </tr>\n",
       "    <tr>\n",
       "      <th>Radiant</th>\n",
       "      <td>481</td>\n",
       "      <td>481</td>\n",
       "      <td>481</td>\n",
       "    </tr>\n",
       "    <tr>\n",
       "      <th>Round</th>\n",
       "      <td>4505</td>\n",
       "      <td>4505</td>\n",
       "      <td>4505</td>\n",
       "    </tr>\n",
       "    <tr>\n",
       "      <th>Uncut</th>\n",
       "      <td>38</td>\n",
       "      <td>38</td>\n",
       "      <td>38</td>\n",
       "    </tr>\n",
       "  </tbody>\n",
       "</table>\n",
       "</div>"
      ],
      "text/plain": [
       "          Price_num  Retail_num  Profit_flag\n",
       "Shape                                       \n",
       "Asscher         194         194          194\n",
       "Cushion          87          87           87\n",
       "Emerald         554         554          554\n",
       "Marquis          29          29           29\n",
       "Marquise        241         241          241\n",
       "Marwuise         43          43           43\n",
       "Oval            560         560          560\n",
       "Oval            105         105          105\n",
       "Pear            336         336          336\n",
       "Princess        754         754          754\n",
       "ROUND           123         123          123\n",
       "Radiant         481         481          481\n",
       "Round          4505        4505         4505\n",
       "Uncut            38          38           38"
      ]
     },
     "metadata": {},
     "output_type": "display_data"
    },
    {
     "data": {
      "text/html": [
       "<div>\n",
       "<style scoped>\n",
       "    .dataframe tbody tr th:only-of-type {\n",
       "        vertical-align: middle;\n",
       "    }\n",
       "\n",
       "    .dataframe tbody tr th {\n",
       "        vertical-align: top;\n",
       "    }\n",
       "\n",
       "    .dataframe thead th {\n",
       "        text-align: right;\n",
       "    }\n",
       "</style>\n",
       "<table border=\"1\" class=\"dataframe\">\n",
       "  <thead>\n",
       "    <tr style=\"text-align: right;\">\n",
       "      <th></th>\n",
       "      <th>Price_num</th>\n",
       "      <th>Retail_num</th>\n",
       "      <th>Profit_flag</th>\n",
       "    </tr>\n",
       "    <tr>\n",
       "      <th>Shape</th>\n",
       "      <th></th>\n",
       "      <th></th>\n",
       "      <th></th>\n",
       "    </tr>\n",
       "  </thead>\n",
       "  <tbody>\n",
       "    <tr>\n",
       "      <th>Asscher</th>\n",
       "      <td>19542.912371</td>\n",
       "      <td>22019.484536</td>\n",
       "      <td>0.917526</td>\n",
       "    </tr>\n",
       "    <tr>\n",
       "      <th>Cushion</th>\n",
       "      <td>13269.022989</td>\n",
       "      <td>15322.471264</td>\n",
       "      <td>0.942529</td>\n",
       "    </tr>\n",
       "    <tr>\n",
       "      <th>Emerald</th>\n",
       "      <td>15483.691336</td>\n",
       "      <td>22324.945848</td>\n",
       "      <td>0.951264</td>\n",
       "    </tr>\n",
       "    <tr>\n",
       "      <th>Marquis</th>\n",
       "      <td>15939.310345</td>\n",
       "      <td>25895.000000</td>\n",
       "      <td>0.965517</td>\n",
       "    </tr>\n",
       "    <tr>\n",
       "      <th>Marquise</th>\n",
       "      <td>17030.124481</td>\n",
       "      <td>24054.709544</td>\n",
       "      <td>0.933610</td>\n",
       "    </tr>\n",
       "    <tr>\n",
       "      <th>Marwuise</th>\n",
       "      <td>11978.953488</td>\n",
       "      <td>22110.232558</td>\n",
       "      <td>0.953488</td>\n",
       "    </tr>\n",
       "    <tr>\n",
       "      <th>Oval</th>\n",
       "      <td>15058.741071</td>\n",
       "      <td>22012.125000</td>\n",
       "      <td>0.957143</td>\n",
       "    </tr>\n",
       "    <tr>\n",
       "      <th>Oval</th>\n",
       "      <td>17283.428571</td>\n",
       "      <td>30945.238095</td>\n",
       "      <td>0.914286</td>\n",
       "    </tr>\n",
       "    <tr>\n",
       "      <th>Pear</th>\n",
       "      <td>17361.175595</td>\n",
       "      <td>25010.357143</td>\n",
       "      <td>0.949405</td>\n",
       "    </tr>\n",
       "    <tr>\n",
       "      <th>Princess</th>\n",
       "      <td>14004.051724</td>\n",
       "      <td>19777.294430</td>\n",
       "      <td>0.929708</td>\n",
       "    </tr>\n",
       "    <tr>\n",
       "      <th>ROUND</th>\n",
       "      <td>15283.495935</td>\n",
       "      <td>19706.422764</td>\n",
       "      <td>0.959350</td>\n",
       "    </tr>\n",
       "    <tr>\n",
       "      <th>Radiant</th>\n",
       "      <td>13568.700624</td>\n",
       "      <td>19318.232848</td>\n",
       "      <td>0.941788</td>\n",
       "    </tr>\n",
       "    <tr>\n",
       "      <th>Round</th>\n",
       "      <td>14980.990011</td>\n",
       "      <td>21464.206437</td>\n",
       "      <td>0.945616</td>\n",
       "    </tr>\n",
       "    <tr>\n",
       "      <th>Uncut</th>\n",
       "      <td>6868.684211</td>\n",
       "      <td>6774.605263</td>\n",
       "      <td>0.052632</td>\n",
       "    </tr>\n",
       "  </tbody>\n",
       "</table>\n",
       "</div>"
      ],
      "text/plain": [
       "             Price_num    Retail_num  Profit_flag\n",
       "Shape                                            \n",
       "Asscher   19542.912371  22019.484536     0.917526\n",
       "Cushion   13269.022989  15322.471264     0.942529\n",
       "Emerald   15483.691336  22324.945848     0.951264\n",
       "Marquis   15939.310345  25895.000000     0.965517\n",
       "Marquise  17030.124481  24054.709544     0.933610\n",
       "Marwuise  11978.953488  22110.232558     0.953488\n",
       "Oval      15058.741071  22012.125000     0.957143\n",
       "Oval      17283.428571  30945.238095     0.914286\n",
       "Pear      17361.175595  25010.357143     0.949405\n",
       "Princess  14004.051724  19777.294430     0.929708\n",
       "ROUND     15283.495935  19706.422764     0.959350\n",
       "Radiant   13568.700624  19318.232848     0.941788\n",
       "Round     14980.990011  21464.206437     0.945616\n",
       "Uncut      6868.684211   6774.605263     0.052632"
      ]
     },
     "metadata": {},
     "output_type": "display_data"
    }
   ],
   "source": [
    "display(train_set[['Shape','Price_num','Retail_num','Profit_flag']].groupby('Shape').count())\n",
    "display(train_set[['Shape','Price_num','Retail_num','Profit_flag']].groupby('Shape').mean())"
   ]
  },
  {
   "cell_type": "code",
   "execution_count": 52,
   "metadata": {
    "collapsed": true
   },
   "outputs": [],
   "source": [
    "#There is a small data error in Symmetry attribute. To fix it:\n",
    "train_set[['Symmetry']]=train_set[['Symmetry']].applymap(lambda x : x.replace('Execllent','Excellent'))"
   ]
  },
  {
   "cell_type": "code",
   "execution_count": 54,
   "metadata": {
    "collapsed": false
   },
   "outputs": [
    {
     "data": {
      "text/html": [
       "<div>\n",
       "<style scoped>\n",
       "    .dataframe tbody tr th:only-of-type {\n",
       "        vertical-align: middle;\n",
       "    }\n",
       "\n",
       "    .dataframe tbody tr th {\n",
       "        vertical-align: top;\n",
       "    }\n",
       "\n",
       "    .dataframe thead th {\n",
       "        text-align: right;\n",
       "    }\n",
       "</style>\n",
       "<table border=\"1\" class=\"dataframe\">\n",
       "  <thead>\n",
       "    <tr style=\"text-align: right;\">\n",
       "      <th></th>\n",
       "      <th>Price_num</th>\n",
       "      <th>Retail_num</th>\n",
       "      <th>Profit_flag</th>\n",
       "    </tr>\n",
       "    <tr>\n",
       "      <th>Symmetry</th>\n",
       "      <th></th>\n",
       "      <th></th>\n",
       "      <th></th>\n",
       "    </tr>\n",
       "  </thead>\n",
       "  <tbody>\n",
       "    <tr>\n",
       "      <th></th>\n",
       "      <td>9443.726363</td>\n",
       "      <td>13785.289210</td>\n",
       "      <td>0.952169</td>\n",
       "    </tr>\n",
       "    <tr>\n",
       "      <th>Excellent</th>\n",
       "      <td>19443.930672</td>\n",
       "      <td>27562.922269</td>\n",
       "      <td>0.936345</td>\n",
       "    </tr>\n",
       "    <tr>\n",
       "      <th>Faint</th>\n",
       "      <td>1221.666667</td>\n",
       "      <td>1941.666667</td>\n",
       "      <td>1.000000</td>\n",
       "    </tr>\n",
       "    <tr>\n",
       "      <th>Fair</th>\n",
       "      <td>5874.375000</td>\n",
       "      <td>8768.437500</td>\n",
       "      <td>0.937500</td>\n",
       "    </tr>\n",
       "    <tr>\n",
       "      <th>Good</th>\n",
       "      <td>8529.056122</td>\n",
       "      <td>12217.206633</td>\n",
       "      <td>0.948980</td>\n",
       "    </tr>\n",
       "    <tr>\n",
       "      <th>Very good</th>\n",
       "      <td>8544.482323</td>\n",
       "      <td>12376.378788</td>\n",
       "      <td>0.940909</td>\n",
       "    </tr>\n",
       "  </tbody>\n",
       "</table>\n",
       "</div>"
      ],
      "text/plain": [
       "              Price_num    Retail_num  Profit_flag\n",
       "Symmetry                                          \n",
       "            9443.726363  13785.289210     0.952169\n",
       "Excellent  19443.930672  27562.922269     0.936345\n",
       "Faint       1221.666667   1941.666667     1.000000\n",
       "Fair        5874.375000   8768.437500     0.937500\n",
       "Good        8529.056122  12217.206633     0.948980\n",
       "Very good   8544.482323  12376.378788     0.940909"
      ]
     },
     "metadata": {},
     "output_type": "display_data"
    },
    {
     "data": {
      "text/html": [
       "<div>\n",
       "<style scoped>\n",
       "    .dataframe tbody tr th:only-of-type {\n",
       "        vertical-align: middle;\n",
       "    }\n",
       "\n",
       "    .dataframe tbody tr th {\n",
       "        vertical-align: top;\n",
       "    }\n",
       "\n",
       "    .dataframe thead th {\n",
       "        text-align: right;\n",
       "    }\n",
       "</style>\n",
       "<table border=\"1\" class=\"dataframe\">\n",
       "  <thead>\n",
       "    <tr style=\"text-align: right;\">\n",
       "      <th></th>\n",
       "      <th>Price_num</th>\n",
       "      <th>Retail_num</th>\n",
       "      <th>Profit_flag</th>\n",
       "    </tr>\n",
       "    <tr>\n",
       "      <th>Symmetry</th>\n",
       "      <th></th>\n",
       "      <th></th>\n",
       "      <th></th>\n",
       "    </tr>\n",
       "  </thead>\n",
       "  <tbody>\n",
       "    <tr>\n",
       "      <th></th>\n",
       "      <td>899</td>\n",
       "      <td>899</td>\n",
       "      <td>899</td>\n",
       "    </tr>\n",
       "    <tr>\n",
       "      <th>Excellent</th>\n",
       "      <td>4760</td>\n",
       "      <td>4760</td>\n",
       "      <td>4760</td>\n",
       "    </tr>\n",
       "    <tr>\n",
       "      <th>Faint</th>\n",
       "      <td>3</td>\n",
       "      <td>3</td>\n",
       "      <td>3</td>\n",
       "    </tr>\n",
       "    <tr>\n",
       "      <th>Fair</th>\n",
       "      <td>16</td>\n",
       "      <td>16</td>\n",
       "      <td>16</td>\n",
       "    </tr>\n",
       "    <tr>\n",
       "      <th>Good</th>\n",
       "      <td>392</td>\n",
       "      <td>392</td>\n",
       "      <td>392</td>\n",
       "    </tr>\n",
       "    <tr>\n",
       "      <th>Very good</th>\n",
       "      <td>1980</td>\n",
       "      <td>1980</td>\n",
       "      <td>1980</td>\n",
       "    </tr>\n",
       "  </tbody>\n",
       "</table>\n",
       "</div>"
      ],
      "text/plain": [
       "           Price_num  Retail_num  Profit_flag\n",
       "Symmetry                                     \n",
       "                 899         899          899\n",
       "Excellent       4760        4760         4760\n",
       "Faint              3           3            3\n",
       "Fair              16          16           16\n",
       "Good             392         392          392\n",
       "Very good       1980        1980         1980"
      ]
     },
     "metadata": {},
     "output_type": "display_data"
    }
   ],
   "source": [
    "display(train_set[['Symmetry','Price_num','Retail_num','Profit_flag']].groupby('Symmetry').mean())\n",
    "display(train_set[['Symmetry','Price_num','Retail_num','Profit_flag']].groupby('Symmetry').count())"
   ]
  },
  {
   "cell_type": "markdown",
   "metadata": {},
   "source": [
    "There are 899 records as empty string. Will be treated as 1 special category"
   ]
  },
  {
   "cell_type": "code",
   "execution_count": 61,
   "metadata": {
    "collapsed": false
   },
   "outputs": [
    {
     "data": {
      "text/html": [
       "<div>\n",
       "<style scoped>\n",
       "    .dataframe tbody tr th:only-of-type {\n",
       "        vertical-align: middle;\n",
       "    }\n",
       "\n",
       "    .dataframe tbody tr th {\n",
       "        vertical-align: top;\n",
       "    }\n",
       "\n",
       "    .dataframe thead th {\n",
       "        text-align: right;\n",
       "    }\n",
       "</style>\n",
       "<table border=\"1\" class=\"dataframe\">\n",
       "  <thead>\n",
       "    <tr style=\"text-align: right;\">\n",
       "      <th></th>\n",
       "      <th></th>\n",
       "      <th>Carats</th>\n",
       "      <th>Price_num</th>\n",
       "      <th>Retail_num</th>\n",
       "      <th>Profit</th>\n",
       "    </tr>\n",
       "    <tr>\n",
       "      <th>Vendor</th>\n",
       "      <th>Known_Conflict_Diamond</th>\n",
       "      <th></th>\n",
       "      <th></th>\n",
       "      <th></th>\n",
       "      <th></th>\n",
       "    </tr>\n",
       "  </thead>\n",
       "  <tbody>\n",
       "    <tr>\n",
       "      <th rowspan=\"2\" valign=\"top\">1</th>\n",
       "      <th>False</th>\n",
       "      <td>0.622315</td>\n",
       "      <td>2357.554702</td>\n",
       "      <td>3723.124760</td>\n",
       "      <td>1365.570058</td>\n",
       "    </tr>\n",
       "    <tr>\n",
       "      <th>True</th>\n",
       "      <td>0.641546</td>\n",
       "      <td>2522.628866</td>\n",
       "      <td>405.103093</td>\n",
       "      <td>-2117.525773</td>\n",
       "    </tr>\n",
       "    <tr>\n",
       "      <th rowspan=\"2\" valign=\"top\">2</th>\n",
       "      <th>False</th>\n",
       "      <td>1.736933</td>\n",
       "      <td>27048.126005</td>\n",
       "      <td>40582.005786</td>\n",
       "      <td>13533.879781</td>\n",
       "    </tr>\n",
       "    <tr>\n",
       "      <th>True</th>\n",
       "      <td>1.725692</td>\n",
       "      <td>28926.538462</td>\n",
       "      <td>4256.730769</td>\n",
       "      <td>-24669.807692</td>\n",
       "    </tr>\n",
       "    <tr>\n",
       "      <th rowspan=\"2\" valign=\"top\">3</th>\n",
       "      <th>False</th>\n",
       "      <td>1.294380</td>\n",
       "      <td>10267.705771</td>\n",
       "      <td>15928.921476</td>\n",
       "      <td>5661.215705</td>\n",
       "    </tr>\n",
       "    <tr>\n",
       "      <th>True</th>\n",
       "      <td>1.242041</td>\n",
       "      <td>10502.244898</td>\n",
       "      <td>1561.734694</td>\n",
       "      <td>-8940.510204</td>\n",
       "    </tr>\n",
       "    <tr>\n",
       "      <th rowspan=\"2\" valign=\"top\">4</th>\n",
       "      <th>False</th>\n",
       "      <td>1.444597</td>\n",
       "      <td>15672.329545</td>\n",
       "      <td>20154.111570</td>\n",
       "      <td>4481.782025</td>\n",
       "    </tr>\n",
       "    <tr>\n",
       "      <th>True</th>\n",
       "      <td>1.547273</td>\n",
       "      <td>17286.515152</td>\n",
       "      <td>2071.969697</td>\n",
       "      <td>-15214.545455</td>\n",
       "    </tr>\n",
       "  </tbody>\n",
       "</table>\n",
       "</div>"
      ],
      "text/plain": [
       "                                 Carats     Price_num    Retail_num  \\\n",
       "Vendor Known_Conflict_Diamond                                         \n",
       "1      False                   0.622315   2357.554702   3723.124760   \n",
       "       True                    0.641546   2522.628866    405.103093   \n",
       "2      False                   1.736933  27048.126005  40582.005786   \n",
       "       True                    1.725692  28926.538462   4256.730769   \n",
       "3      False                   1.294380  10267.705771  15928.921476   \n",
       "       True                    1.242041  10502.244898   1561.734694   \n",
       "4      False                   1.444597  15672.329545  20154.111570   \n",
       "       True                    1.547273  17286.515152   2071.969697   \n",
       "\n",
       "                                     Profit  \n",
       "Vendor Known_Conflict_Diamond                \n",
       "1      False                    1365.570058  \n",
       "       True                    -2117.525773  \n",
       "2      False                   13533.879781  \n",
       "       True                   -24669.807692  \n",
       "3      False                    5661.215705  \n",
       "       True                    -8940.510204  \n",
       "4      False                    4481.782025  \n",
       "       True                   -15214.545455  "
      ]
     },
     "metadata": {},
     "output_type": "display_data"
    },
    {
     "data": {
      "text/html": [
       "<div>\n",
       "<style scoped>\n",
       "    .dataframe tbody tr th:only-of-type {\n",
       "        vertical-align: middle;\n",
       "    }\n",
       "\n",
       "    .dataframe tbody tr th {\n",
       "        vertical-align: top;\n",
       "    }\n",
       "\n",
       "    .dataframe thead th {\n",
       "        text-align: right;\n",
       "    }\n",
       "</style>\n",
       "<table border=\"1\" class=\"dataframe\">\n",
       "  <thead>\n",
       "    <tr style=\"text-align: right;\">\n",
       "      <th></th>\n",
       "      <th></th>\n",
       "      <th>Carats</th>\n",
       "      <th>Price_num</th>\n",
       "      <th>Retail_num</th>\n",
       "      <th>Profit</th>\n",
       "    </tr>\n",
       "    <tr>\n",
       "      <th>Vendor</th>\n",
       "      <th>Known_Conflict_Diamond</th>\n",
       "      <th></th>\n",
       "      <th></th>\n",
       "      <th></th>\n",
       "      <th></th>\n",
       "    </tr>\n",
       "  </thead>\n",
       "  <tbody>\n",
       "    <tr>\n",
       "      <th rowspan=\"2\" valign=\"top\">1</th>\n",
       "      <th>False</th>\n",
       "      <td>2605</td>\n",
       "      <td>2605</td>\n",
       "      <td>2605</td>\n",
       "      <td>2605</td>\n",
       "    </tr>\n",
       "    <tr>\n",
       "      <th>True</th>\n",
       "      <td>97</td>\n",
       "      <td>97</td>\n",
       "      <td>97</td>\n",
       "      <td>97</td>\n",
       "    </tr>\n",
       "    <tr>\n",
       "      <th rowspan=\"2\" valign=\"top\">2</th>\n",
       "      <th>False</th>\n",
       "      <td>3111</td>\n",
       "      <td>3111</td>\n",
       "      <td>3111</td>\n",
       "      <td>3111</td>\n",
       "    </tr>\n",
       "    <tr>\n",
       "      <th>True</th>\n",
       "      <td>130</td>\n",
       "      <td>130</td>\n",
       "      <td>130</td>\n",
       "      <td>130</td>\n",
       "    </tr>\n",
       "    <tr>\n",
       "      <th rowspan=\"2\" valign=\"top\">3</th>\n",
       "      <th>False</th>\n",
       "      <td>1057</td>\n",
       "      <td>1057</td>\n",
       "      <td>1057</td>\n",
       "      <td>1057</td>\n",
       "    </tr>\n",
       "    <tr>\n",
       "      <th>True</th>\n",
       "      <td>49</td>\n",
       "      <td>49</td>\n",
       "      <td>49</td>\n",
       "      <td>49</td>\n",
       "    </tr>\n",
       "    <tr>\n",
       "      <th rowspan=\"2\" valign=\"top\">4</th>\n",
       "      <th>False</th>\n",
       "      <td>968</td>\n",
       "      <td>968</td>\n",
       "      <td>968</td>\n",
       "      <td>968</td>\n",
       "    </tr>\n",
       "    <tr>\n",
       "      <th>True</th>\n",
       "      <td>33</td>\n",
       "      <td>33</td>\n",
       "      <td>33</td>\n",
       "      <td>33</td>\n",
       "    </tr>\n",
       "  </tbody>\n",
       "</table>\n",
       "</div>"
      ],
      "text/plain": [
       "                               Carats  Price_num  Retail_num  Profit\n",
       "Vendor Known_Conflict_Diamond                                       \n",
       "1      False                     2605       2605        2605    2605\n",
       "       True                        97         97          97      97\n",
       "2      False                     3111       3111        3111    3111\n",
       "       True                       130        130         130     130\n",
       "3      False                     1057       1057        1057    1057\n",
       "       True                        49         49          49      49\n",
       "4      False                      968        968         968     968\n",
       "       True                        33         33          33      33"
      ]
     },
     "metadata": {},
     "output_type": "display_data"
    }
   ],
   "source": [
    "display(train_set[['Vendor','Known_Conflict_Diamond','Carats','Price_num','Retail_num','Profit']].groupby(['Vendor','Known_Conflict_Diamond']).mean())\n",
    "display(train_set[['Vendor','Known_Conflict_Diamond','Carats','Price_num','Retail_num','Profit']].groupby(['Vendor','Known_Conflict_Diamond']).count())"
   ]
  },
  {
   "cell_type": "markdown",
   "metadata": {},
   "source": [
    "#### Using boxplot to check the independent variables range."
   ]
  },
  {
   "cell_type": "code",
   "execution_count": 56,
   "metadata": {
    "collapsed": false
   },
   "outputs": [
    {
     "data": {
      "text/plain": [
       "{'whiskers': [<matplotlib.lines.Line2D at 0xe512bffeb8>,\n",
       "  <matplotlib.lines.Line2D at 0xe512bfff98>],\n",
       " 'caps': [<matplotlib.lines.Line2D at 0xe512c0c588>,\n",
       "  <matplotlib.lines.Line2D at 0xe512c0c8d0>],\n",
       " 'boxes': [<matplotlib.lines.Line2D at 0xe512bffac8>],\n",
       " 'medians': [<matplotlib.lines.Line2D at 0xe512c0cc18>],\n",
       " 'fliers': [<matplotlib.lines.Line2D at 0xe512c0cf60>],\n",
       " 'means': []}"
      ]
     },
     "metadata": {},
     "output_type": "display_data"
    },
    {
     "data": {
      "image/png": "[encoded data removed]",
      "text/plain": [
       "<Figure size 432x288 with 1 Axes>"
      ]
     },
     "metadata": {
      "needs_background": "light"
     },
     "output_type": "display_data"
    }
   ],
   "source": [
    "display(plt.boxplot(train_set['Price_num']))"
   ]
  },
  {
   "cell_type": "code",
   "execution_count": 57,
   "metadata": {
    "collapsed": false
   },
   "outputs": [
    {
     "data": {
      "text/plain": [
       "{'whiskers': [<matplotlib.lines.Line2D at 0xe512f3dfd0>,\n",
       "  <matplotlib.lines.Line2D at 0xe512f4d588>],\n",
       " 'caps': [<matplotlib.lines.Line2D at 0xe512f4d8d0>,\n",
       "  <matplotlib.lines.Line2D at 0xe512f4dc18>],\n",
       " 'boxes': [<matplotlib.lines.Line2D at 0xe512f3de80>],\n",
       " 'medians': [<matplotlib.lines.Line2D at 0xe512f4df60>],\n",
       " 'fliers': [<matplotlib.lines.Line2D at 0xe512f4df28>],\n",
       " 'means': []}"
      ]
     },
     "metadata": {},
     "output_type": "display_data"
    },
    {
     "data": {
      "image/png": "[encoded data removed]",
      "text/plain": [
       "<Figure size 432x288 with 1 Axes>"
      ]
     },
     "metadata": {
      "needs_background": "light"
     },
     "output_type": "display_data"
    }
   ],
   "source": [
    "display(plt.boxplot(train_set['Retail_num']))"
   ]
  },
  {
   "cell_type": "markdown",
   "metadata": {},
   "source": [
    "### Step 2 Build Model to Predict Price\n",
    "\n",
    "To make offers, we need to predict the vendor price for each diamond. This is regression predictive model. Since there are only 8050 records in the training dataset, the model cannot be very complex. So I will not adopt the Deep Neural Network. I select Gradient Boosting as my model, which is very powerfull tool for small dataset.  "
   ]
  },
  {
   "cell_type": "code",
   "execution_count": 168,
   "metadata": {
    "collapsed": false
   },
   "outputs": [
    {
     "name": "stdout",
     "output_type": "stream",
     "text": [
      "7741\n"
     ]
    }
   ],
   "source": [
    "#Only use the records those have been legally traded to build the model\n",
    "train_set_final = train_set[train_set['Known_Conflict_Diamond']==False].reset_index(drop = True)\n",
    "train_set_final[['Cert','Clarity','Color','Cut','Fluroescence','Polish','Regions','Shape','Symmetry','Vendor']]=train_set_final[['Cert','Clarity','Color','Cut','Fluroescence','Polish','Regions','Shape','Symmetry','Vendor']].astype('str')\n",
    "print(len(train_set_final))"
   ]
  },
  {
   "cell_type": "code",
   "execution_count": 175,
   "metadata": {
    "collapsed": false
   },
   "outputs": [
    {
     "data": {
      "text/html": [
       "<div>\n",
       "<style scoped>\n",
       "    .dataframe tbody tr th:only-of-type {\n",
       "        vertical-align: middle;\n",
       "    }\n",
       "\n",
       "    .dataframe tbody tr th {\n",
       "        vertical-align: top;\n",
       "    }\n",
       "\n",
       "    .dataframe thead th {\n",
       "        text-align: right;\n",
       "    }\n",
       "</style>\n",
       "<table border=\"1\" class=\"dataframe\">\n",
       "  <thead>\n",
       "    <tr style=\"text-align: right;\">\n",
       "      <th></th>\n",
       "      <th>id</th>\n",
       "      <th>Carats</th>\n",
       "      <th>Cert</th>\n",
       "      <th>Clarity</th>\n",
       "      <th>Color</th>\n",
       "      <th>Cut</th>\n",
       "      <th>Depth</th>\n",
       "      <th>Fluroescence</th>\n",
       "      <th>Measurements</th>\n",
       "      <th>Polish</th>\n",
       "      <th>Regions</th>\n",
       "      <th>Shape</th>\n",
       "      <th>Symmetry</th>\n",
       "      <th>Table</th>\n",
       "      <th>Vendor</th>\n",
       "      <th>Offers</th>\n",
       "      <th>Length</th>\n",
       "      <th>Width</th>\n",
       "      <th>DiamondDepth</th>\n",
       "    </tr>\n",
       "    <tr>\n",
       "      <th>Known_Conflict_Diamond</th>\n",
       "      <th></th>\n",
       "      <th></th>\n",
       "      <th></th>\n",
       "      <th></th>\n",
       "      <th></th>\n",
       "      <th></th>\n",
       "      <th></th>\n",
       "      <th></th>\n",
       "      <th></th>\n",
       "      <th></th>\n",
       "      <th></th>\n",
       "      <th></th>\n",
       "      <th></th>\n",
       "      <th></th>\n",
       "      <th></th>\n",
       "      <th></th>\n",
       "      <th></th>\n",
       "      <th></th>\n",
       "      <th></th>\n",
       "    </tr>\n",
       "  </thead>\n",
       "  <tbody>\n",
       "    <tr>\n",
       "      <th>False</th>\n",
       "      <td>2637</td>\n",
       "      <td>2637</td>\n",
       "      <td>2637</td>\n",
       "      <td>2637</td>\n",
       "      <td>2637</td>\n",
       "      <td>2637</td>\n",
       "      <td>2637</td>\n",
       "      <td>2637</td>\n",
       "      <td>2637</td>\n",
       "      <td>2637</td>\n",
       "      <td>2637</td>\n",
       "      <td>2637</td>\n",
       "      <td>2637</td>\n",
       "      <td>2637</td>\n",
       "      <td>2637</td>\n",
       "      <td>2637</td>\n",
       "      <td>2637</td>\n",
       "      <td>2637</td>\n",
       "      <td>2637</td>\n",
       "    </tr>\n",
       "    <tr>\n",
       "      <th>True</th>\n",
       "      <td>46</td>\n",
       "      <td>46</td>\n",
       "      <td>46</td>\n",
       "      <td>46</td>\n",
       "      <td>46</td>\n",
       "      <td>46</td>\n",
       "      <td>46</td>\n",
       "      <td>46</td>\n",
       "      <td>46</td>\n",
       "      <td>46</td>\n",
       "      <td>46</td>\n",
       "      <td>46</td>\n",
       "      <td>46</td>\n",
       "      <td>46</td>\n",
       "      <td>46</td>\n",
       "      <td>46</td>\n",
       "      <td>46</td>\n",
       "      <td>46</td>\n",
       "      <td>46</td>\n",
       "    </tr>\n",
       "  </tbody>\n",
       "</table>\n",
       "</div>"
      ],
      "text/plain": [
       "                          id  Carats  Cert  Clarity  Color   Cut  Depth  \\\n",
       "Known_Conflict_Diamond                                                    \n",
       "False                   2637    2637  2637     2637   2637  2637   2637   \n",
       "True                      46      46    46       46     46    46     46   \n",
       "\n",
       "                        Fluroescence  Measurements  Polish  Regions  Shape  \\\n",
       "Known_Conflict_Diamond                                                       \n",
       "False                           2637          2637    2637     2637   2637   \n",
       "True                              46            46      46       46     46   \n",
       "\n",
       "                        Symmetry  Table  Vendor  Offers  Length  Width  \\\n",
       "Known_Conflict_Diamond                                                   \n",
       "False                       2637   2637    2637    2637    2637   2637   \n",
       "True                          46     46      46      46      46     46   \n",
       "\n",
       "                        DiamondDepth  \n",
       "Known_Conflict_Diamond                \n",
       "False                           2637  \n",
       "True                              46  "
      ]
     },
     "execution_count": 175,
     "metadata": {},
     "output_type": "execute_result"
    }
   ],
   "source": [
    "offer_set.fillna(False,inplace = True)\n",
    "offer_set.groupby(['Known_Conflict_Diamond']).count()"
   ]
  },
  {
   "cell_type": "code",
   "execution_count": 176,
   "metadata": {
    "collapsed": false
   },
   "outputs": [
    {
     "name": "stdout",
     "output_type": "stream",
     "text": [
      "2637\n"
     ]
    }
   ],
   "source": [
    "offer_set_final = offer_set[offer_set['Known_Conflict_Diamond']==False].reset_index(drop = True)\n",
    "offer_set_final[['Cert','Clarity','Color','Cut','Fluroescence','Polish','Regions','Shape','Symmetry','Vendor']]=offer_set_final[['Cert','Clarity','Color','Cut','Fluroescence','Polish','Regions','Shape','Symmetry','Vendor']].astype('str')\n",
    "print(len(offer_set_final))"
   ]
  },
  {
   "cell_type": "code",
   "execution_count": 177,
   "metadata": {
    "collapsed": false
   },
   "outputs": [
    {
     "name": "stdout",
     "output_type": "stream",
     "text": [
      "46\n"
     ]
    }
   ],
   "source": [
    "offer_set_final_notoffer = offer_set[offer_set['Known_Conflict_Diamond']==True].reset_index(drop = True)\n",
    "offer_set_final_notoffer[['Cert','Clarity','Color','Cut','Fluroescence','Polish','Regions','Shape','Symmetry','Vendor']]=offer_set_final_notoffer[['Cert','Clarity','Color','Cut','Fluroescence','Polish','Regions','Shape','Symmetry','Vendor']].astype('str')\n",
    "print(len(offer_set_final_notoffer))"
   ]
  },
  {
   "cell_type": "code",
   "execution_count": 178,
   "metadata": {
    "collapsed": false
   },
   "outputs": [
    {
     "data": {
      "text/plain": [
       "id                          int64\n",
       "Carats                    float64\n",
       "Cert                       object\n",
       "Clarity                    object\n",
       "Color                      object\n",
       "Cut                        object\n",
       "Depth                     float64\n",
       "Fluroescence               object\n",
       "Known_Conflict_Diamond       bool\n",
       "Measurements               object\n",
       "Polish                     object\n",
       "Regions                    object\n",
       "Shape                      object\n",
       "Symmetry                   object\n",
       "Table                     float64\n",
       "Vendor                     object\n",
       "Price                      object\n",
       "Retail                     object\n",
       "LogPrice                  float64\n",
       "LogRetail                 float64\n",
       "Length                    float64\n",
       "Width                     float64\n",
       "DiamondDepth              float64\n",
       "Price_num                 float64\n",
       "Retail_num                float64\n",
       "Profit                    float64\n",
       "Profit_flag                 int64\n",
       "dtype: object"
      ]
     },
     "execution_count": 178,
     "metadata": {},
     "output_type": "execute_result"
    }
   ],
   "source": [
    "train_set_final.dtypes"
   ]
  },
  {
   "cell_type": "markdown",
   "metadata": {},
   "source": [
    "#### Since there are many String type attributes, I use one-hot coding to deal with."
   ]
  },
  {
   "cell_type": "code",
   "execution_count": 180,
   "metadata": {
    "collapsed": true
   },
   "outputs": [],
   "source": [
    "le = preprocessing.LabelEncoder()"
   ]
  },
  {
   "cell_type": "code",
   "execution_count": 181,
   "metadata": {
    "collapsed": true
   },
   "outputs": [],
   "source": [
    "train_label=train_set_final[['Cert','Clarity','Color','Cut','Fluroescence','Polish','Regions','Shape','Symmetry','Vendor']].apply(le.fit_transform)\n",
    "offer_label=offer_set_final[['Cert','Clarity','Color','Cut','Fluroescence','Polish','Regions','Shape','Symmetry','Vendor']].apply(le.fit_transform)"
   ]
  },
  {
   "cell_type": "code",
   "execution_count": 226,
   "metadata": {
    "collapsed": true
   },
   "outputs": [],
   "source": [
    "total_df = pd.concat([train_set_final[['Cert','Clarity','Color','Cut','Fluroescence','Polish','Regions','Shape','Symmetry','Vendor']],offer_set_final[['Cert','Clarity','Color','Cut','Fluroescence','Polish','Regions','Shape','Symmetry','Vendor']]],sort=False)\n",
    "total_label=total_df.apply(le.fit_transform)"
   ]
  },
  {
   "cell_type": "code",
   "execution_count": 235,
   "metadata": {
    "collapsed": false
   },
   "outputs": [
    {
     "name": "stderr",
     "output_type": "stream",
     "text": [
      "C:\\Users\\Xin\\Anaconda3\\lib\\site-packages\\sklearn\\preprocessing\\_encoders.py:368: FutureWarning: The handling of integer data will change in version 0.22. Currently, the categories are determined based on the range [0, max(values)], while in the future they will be determined based on the unique values.\n",
      "If you want the future behaviour and silence this warning, you can specify \"categories='auto'\".\n",
      "In case you used a LabelEncoder before this OneHotEncoder to convert the categories to integers, then you can now use the OneHotEncoder directly.\n",
      "  warnings.warn(msg, FutureWarning)\n"
     ]
    }
   ],
   "source": [
    "enc = preprocessing.OneHotEncoder()\n",
    "enc.fit(total_label)\n",
    "total_onehotlabels = enc.transform(total_label)\n",
    "total_onehot = total_onehotlabels.toarray()\n",
    "train_onehot = total_onehot[0:len(train_set_final),]\n",
    "offer_onehot = total_onehot[len(train_set_final):,]"
   ]
  },
  {
   "cell_type": "code",
   "execution_count": 236,
   "metadata": {
    "collapsed": true
   },
   "outputs": [],
   "source": [
    "train_onehot_dataframe = pd.DataFrame(train_onehot)\n",
    "train_set_final_t = pd.concat([train_set_final[['Carats','Depth','Table','Length','Width','DiamondDepth']], train_onehot_dataframe], axis=1, sort=False)"
   ]
  },
  {
   "cell_type": "code",
   "execution_count": 237,
   "metadata": {
    "collapsed": false
   },
   "outputs": [
    {
     "data": {
      "text/plain": [
       "(7741, 119)"
      ]
     },
     "execution_count": 237,
     "metadata": {},
     "output_type": "execute_result"
    }
   ],
   "source": [
    "train_set_final_t.shape"
   ]
  },
  {
   "cell_type": "code",
   "execution_count": 238,
   "metadata": {
    "collapsed": false
   },
   "outputs": [
    {
     "data": {
      "text/html": [
       "<div>\n",
       "<style scoped>\n",
       "    .dataframe tbody tr th:only-of-type {\n",
       "        vertical-align: middle;\n",
       "    }\n",
       "\n",
       "    .dataframe tbody tr th {\n",
       "        vertical-align: top;\n",
       "    }\n",
       "\n",
       "    .dataframe thead th {\n",
       "        text-align: right;\n",
       "    }\n",
       "</style>\n",
       "<table border=\"1\" class=\"dataframe\">\n",
       "  <thead>\n",
       "    <tr style=\"text-align: right;\">\n",
       "      <th></th>\n",
       "      <th>Carats</th>\n",
       "      <th>Depth</th>\n",
       "      <th>Table</th>\n",
       "      <th>Length</th>\n",
       "      <th>Width</th>\n",
       "      <th>DiamondDepth</th>\n",
       "      <th>0</th>\n",
       "      <th>1</th>\n",
       "      <th>2</th>\n",
       "      <th>3</th>\n",
       "      <th>...</th>\n",
       "      <th>103</th>\n",
       "      <th>104</th>\n",
       "      <th>105</th>\n",
       "      <th>106</th>\n",
       "      <th>107</th>\n",
       "      <th>108</th>\n",
       "      <th>109</th>\n",
       "      <th>110</th>\n",
       "      <th>111</th>\n",
       "      <th>112</th>\n",
       "    </tr>\n",
       "  </thead>\n",
       "  <tbody>\n",
       "    <tr>\n",
       "      <th>7736</th>\n",
       "      <td>3.51</td>\n",
       "      <td>61.3</td>\n",
       "      <td>56.0</td>\n",
       "      <td>9.75</td>\n",
       "      <td>9.82</td>\n",
       "      <td>6.03</td>\n",
       "      <td>1.0</td>\n",
       "      <td>0.0</td>\n",
       "      <td>0.0</td>\n",
       "      <td>0.0</td>\n",
       "      <td>...</td>\n",
       "      <td>1.0</td>\n",
       "      <td>0.0</td>\n",
       "      <td>0.0</td>\n",
       "      <td>0.0</td>\n",
       "      <td>0.0</td>\n",
       "      <td>0.0</td>\n",
       "      <td>0.0</td>\n",
       "      <td>1.0</td>\n",
       "      <td>0.0</td>\n",
       "      <td>0.0</td>\n",
       "    </tr>\n",
       "    <tr>\n",
       "      <th>7737</th>\n",
       "      <td>3.51</td>\n",
       "      <td>62.3</td>\n",
       "      <td>56.0</td>\n",
       "      <td>9.72</td>\n",
       "      <td>9.78</td>\n",
       "      <td>6.07</td>\n",
       "      <td>0.0</td>\n",
       "      <td>0.0</td>\n",
       "      <td>0.0</td>\n",
       "      <td>1.0</td>\n",
       "      <td>...</td>\n",
       "      <td>1.0</td>\n",
       "      <td>0.0</td>\n",
       "      <td>0.0</td>\n",
       "      <td>0.0</td>\n",
       "      <td>0.0</td>\n",
       "      <td>0.0</td>\n",
       "      <td>0.0</td>\n",
       "      <td>1.0</td>\n",
       "      <td>0.0</td>\n",
       "      <td>0.0</td>\n",
       "    </tr>\n",
       "    <tr>\n",
       "      <th>7738</th>\n",
       "      <td>7.62</td>\n",
       "      <td>NaN</td>\n",
       "      <td>NaN</td>\n",
       "      <td>12.60</td>\n",
       "      <td>12.68</td>\n",
       "      <td>7.74</td>\n",
       "      <td>1.0</td>\n",
       "      <td>0.0</td>\n",
       "      <td>0.0</td>\n",
       "      <td>0.0</td>\n",
       "      <td>...</td>\n",
       "      <td>1.0</td>\n",
       "      <td>0.0</td>\n",
       "      <td>0.0</td>\n",
       "      <td>0.0</td>\n",
       "      <td>0.0</td>\n",
       "      <td>0.0</td>\n",
       "      <td>0.0</td>\n",
       "      <td>1.0</td>\n",
       "      <td>0.0</td>\n",
       "      <td>0.0</td>\n",
       "    </tr>\n",
       "    <tr>\n",
       "      <th>7739</th>\n",
       "      <td>1.49</td>\n",
       "      <td>NaN</td>\n",
       "      <td>57.0</td>\n",
       "      <td>7.22</td>\n",
       "      <td>7.34</td>\n",
       "      <td>4.53</td>\n",
       "      <td>1.0</td>\n",
       "      <td>0.0</td>\n",
       "      <td>0.0</td>\n",
       "      <td>0.0</td>\n",
       "      <td>...</td>\n",
       "      <td>0.0</td>\n",
       "      <td>0.0</td>\n",
       "      <td>0.0</td>\n",
       "      <td>0.0</td>\n",
       "      <td>1.0</td>\n",
       "      <td>0.0</td>\n",
       "      <td>0.0</td>\n",
       "      <td>0.0</td>\n",
       "      <td>1.0</td>\n",
       "      <td>0.0</td>\n",
       "    </tr>\n",
       "    <tr>\n",
       "      <th>7740</th>\n",
       "      <td>1.49</td>\n",
       "      <td>61.8</td>\n",
       "      <td>58.0</td>\n",
       "      <td>7.28</td>\n",
       "      <td>7.31</td>\n",
       "      <td>4.51</td>\n",
       "      <td>1.0</td>\n",
       "      <td>0.0</td>\n",
       "      <td>0.0</td>\n",
       "      <td>0.0</td>\n",
       "      <td>...</td>\n",
       "      <td>1.0</td>\n",
       "      <td>0.0</td>\n",
       "      <td>0.0</td>\n",
       "      <td>0.0</td>\n",
       "      <td>0.0</td>\n",
       "      <td>0.0</td>\n",
       "      <td>0.0</td>\n",
       "      <td>0.0</td>\n",
       "      <td>0.0</td>\n",
       "      <td>1.0</td>\n",
       "    </tr>\n",
       "  </tbody>\n",
       "</table>\n",
       "<p>5 rows × 119 columns</p>\n",
       "</div>"
      ],
      "text/plain": [
       "      Carats  Depth  Table  Length  Width  DiamondDepth    0    1    2    3  \\\n",
       "7736    3.51   61.3   56.0    9.75   9.82          6.03  1.0  0.0  0.0  0.0   \n",
       "7737    3.51   62.3   56.0    9.72   9.78          6.07  0.0  0.0  0.0  1.0   \n",
       "7738    7.62    NaN    NaN   12.60  12.68          7.74  1.0  0.0  0.0  0.0   \n",
       "7739    1.49    NaN   57.0    7.22   7.34          4.53  1.0  0.0  0.0  0.0   \n",
       "7740    1.49   61.8   58.0    7.28   7.31          4.51  1.0  0.0  0.0  0.0   \n",
       "\n",
       "     ...   103  104  105  106  107  108  109  110  111  112  \n",
       "7736 ...   1.0  0.0  0.0  0.0  0.0  0.0  0.0  1.0  0.0  0.0  \n",
       "7737 ...   1.0  0.0  0.0  0.0  0.0  0.0  0.0  1.0  0.0  0.0  \n",
       "7738 ...   1.0  0.0  0.0  0.0  0.0  0.0  0.0  1.0  0.0  0.0  \n",
       "7739 ...   0.0  0.0  0.0  0.0  1.0  0.0  0.0  0.0  1.0  0.0  \n",
       "7740 ...   1.0  0.0  0.0  0.0  0.0  0.0  0.0  0.0  0.0  1.0  \n",
       "\n",
       "[5 rows x 119 columns]"
      ]
     },
     "execution_count": 238,
     "metadata": {},
     "output_type": "execute_result"
    }
   ],
   "source": [
    "train_set_final_t.tail()"
   ]
  },
  {
   "cell_type": "code",
   "execution_count": 239,
   "metadata": {
    "collapsed": true
   },
   "outputs": [],
   "source": [
    "offer_onehot_dataframe = pd.DataFrame(offer_onehot)\n",
    "offer_set_final_t = pd.concat([offer_set_final[['Carats','Depth','Table','Length','Width','DiamondDepth']], offer_onehot_dataframe], axis=1, sort=False)"
   ]
  },
  {
   "cell_type": "code",
   "execution_count": 240,
   "metadata": {
    "collapsed": false
   },
   "outputs": [
    {
     "data": {
      "text/plain": [
       "(2637, 119)"
      ]
     },
     "execution_count": 240,
     "metadata": {},
     "output_type": "execute_result"
    }
   ],
   "source": [
    "offer_set_final_t.shape"
   ]
  },
  {
   "cell_type": "markdown",
   "metadata": {},
   "source": [
    "#### Split the training data to trainning and validation (0.8:0.2)"
   ]
  },
  {
   "cell_type": "code",
   "execution_count": 241,
   "metadata": {
    "collapsed": false
   },
   "outputs": [
    {
     "name": "stderr",
     "output_type": "stream",
     "text": [
      "C:\\Users\\Xin\\Anaconda3\\lib\\site-packages\\pandas\\core\\generic.py:5434: SettingWithCopyWarning: \n",
      "A value is trying to be set on a copy of a slice from a DataFrame\n",
      "\n",
      "See the caveats in the documentation: http://pandas.pydata.org/pandas-docs/stable/indexing.html#indexing-view-versus-copy\n",
      "  self._update_inplace(new_data)\n"
     ]
    }
   ],
   "source": [
    "X, y = shuffle(train_set_final_t, \n",
    "               train_set_final['Price_num'], random_state=13)\n",
    "X.fillna(X.mean(),inplace = True)\n",
    "offset = int(X.shape[0] * 0.8)\n",
    "X_train, y_train = X[:offset], y[:offset]\n",
    "X_val, y_val = X[offset:], y[offset:]"
   ]
  },
  {
   "cell_type": "code",
   "execution_count": 242,
   "metadata": {
    "collapsed": false
   },
   "outputs": [
    {
     "data": {
      "text/plain": [
       "GradientBoostingRegressor(alpha=0.9, criterion='friedman_mse', init=None,\n",
       "             learning_rate=0.01, loss='ls', max_depth=4, max_features=None,\n",
       "             max_leaf_nodes=None, min_impurity_decrease=0.0,\n",
       "             min_impurity_split=None, min_samples_leaf=1,\n",
       "             min_samples_split=2, min_weight_fraction_leaf=0.0,\n",
       "             n_estimators=3000, n_iter_no_change=None, presort='auto',\n",
       "             random_state=None, subsample=1.0, tol=0.0001,\n",
       "             validation_fraction=0.1, verbose=0, warm_start=False)"
      ]
     },
     "execution_count": 242,
     "metadata": {},
     "output_type": "execute_result"
    }
   ],
   "source": [
    "params = {'n_estimators': 3000, 'max_depth': 4, 'min_samples_split': 2,\n",
    "          'learning_rate': 0.01, 'loss': 'ls'}\n",
    "clf = ensemble.GradientBoostingRegressor(**params)\n",
    "clf.fit(X_train, y_train)"
   ]
  },
  {
   "cell_type": "code",
   "execution_count": 243,
   "metadata": {
    "collapsed": false
   },
   "outputs": [
    {
     "name": "stdout",
     "output_type": "stream",
     "text": [
      "Training MSE: 4387433.7992\n",
      "Validation MSE: 212128425.1832\n"
     ]
    }
   ],
   "source": [
    "mse_train = mean_squared_error(y_train, clf.predict(X_train))\n",
    "mse_val = mean_squared_error(y_val, clf.predict(X_val))\n",
    "print(\"Training MSE: %.4f\" % mse_train)\n",
    "print('Validation MSE: %.4f' % mse_val)"
   ]
  },
  {
   "cell_type": "code",
   "execution_count": 244,
   "metadata": {
    "collapsed": false
   },
   "outputs": [
    {
     "data": {
      "text/plain": [
       "Text(0, 0.5, 'Deviance')"
      ]
     },
     "execution_count": 244,
     "metadata": {},
     "output_type": "execute_result"
    },
    {
     "data": {
      "image/png": "[encoded data removed]",
      "text/plain": [
       "<Figure size 864x432 with 1 Axes>"
      ]
     },
     "metadata": {
      "needs_background": "light"
     },
     "output_type": "display_data"
    }
   ],
   "source": [
    "# compute test set deviance\n",
    "vali_score = np.zeros((params['n_estimators'],), dtype=np.float64)\n",
    "\n",
    "for i, y_pred in enumerate(clf.staged_predict(X_val)):\n",
    "    vali_score[i] = clf.loss_(y_val, y_pred)\n",
    "\n",
    "plt.figure(figsize=(12, 6))\n",
    "plt.subplot(1, 2, 1)\n",
    "plt.title('Deviance')\n",
    "plt.plot(np.arange(params['n_estimators']) + 1, clf.train_score_, 'b-',\n",
    "         label='Training Set Deviance')\n",
    "plt.plot(np.arange(params['n_estimators']) + 1, vali_score, 'r-',\n",
    "         label='Test Set Deviance')\n",
    "plt.legend(loc='upper right')\n",
    "plt.xlabel('Boosting Iterations')\n",
    "plt.ylabel('Deviance')"
   ]
  },
  {
   "cell_type": "markdown",
   "metadata": {},
   "source": [
    "#### Discussion: \n",
    "Gradient Boosting model includes 3000 small tree regressors. Based on the validation deviance, the deviance has been converged and no overfitting observed."
   ]
  },
  {
   "cell_type": "markdown",
   "metadata": {},
   "source": [
    "#### Training the model using full training dataset:"
   ]
  },
  {
   "cell_type": "code",
   "execution_count": 245,
   "metadata": {
    "collapsed": false
   },
   "outputs": [
    {
     "name": "stderr",
     "output_type": "stream",
     "text": [
      "C:\\Users\\Xin\\Anaconda3\\lib\\site-packages\\pandas\\core\\generic.py:5434: SettingWithCopyWarning: \n",
      "A value is trying to be set on a copy of a slice from a DataFrame\n",
      "\n",
      "See the caveats in the documentation: http://pandas.pydata.org/pandas-docs/stable/indexing.html#indexing-view-versus-copy\n",
      "  self._update_inplace(new_data)\n"
     ]
    }
   ],
   "source": [
    "X, y = shuffle(train_set_final_t, \n",
    "               train_set_final['Price_num'], random_state=13)\n",
    "X.fillna(X.mean(),inplace = True)"
   ]
  },
  {
   "cell_type": "code",
   "execution_count": 246,
   "metadata": {
    "collapsed": false
   },
   "outputs": [
    {
     "data": {
      "text/plain": [
       "GradientBoostingRegressor(alpha=0.9, criterion='friedman_mse', init=None,\n",
       "             learning_rate=0.01, loss='ls', max_depth=4, max_features=None,\n",
       "             max_leaf_nodes=None, min_impurity_decrease=0.0,\n",
       "             min_impurity_split=None, min_samples_leaf=1,\n",
       "             min_samples_split=2, min_weight_fraction_leaf=0.0,\n",
       "             n_estimators=3000, n_iter_no_change=None, presort='auto',\n",
       "             random_state=None, subsample=1.0, tol=0.0001,\n",
       "             validation_fraction=0.1, verbose=0, warm_start=False)"
      ]
     },
     "execution_count": 246,
     "metadata": {},
     "output_type": "execute_result"
    }
   ],
   "source": [
    "params = {'n_estimators': 3000, 'max_depth': 4, 'min_samples_split': 2,\n",
    "          'learning_rate': 0.01, 'loss': 'ls'}\n",
    "clf = ensemble.GradientBoostingRegressor(**params)\n",
    "clf.fit(X, y)"
   ]
  },
  {
   "cell_type": "markdown",
   "metadata": {},
   "source": [
    "#### Make prediction on Offers set"
   ]
  },
  {
   "cell_type": "code",
   "execution_count": 257,
   "metadata": {
    "collapsed": true
   },
   "outputs": [],
   "source": [
    "Offers = pd.DataFrame({'Offer_value':clf.predict(offer_set_final_t)})"
   ]
  },
  {
   "cell_type": "code",
   "execution_count": 261,
   "metadata": {
    "collapsed": true
   },
   "outputs": [],
   "source": [
    "def cleaning (x):\n",
    "    if x < 0:\n",
    "        return 0\n",
    "    if x > 0:\n",
    "        return x\n",
    "Offers = Offers.applymap(cleaning)"
   ]
  },
  {
   "cell_type": "code",
   "execution_count": 264,
   "metadata": {
    "collapsed": true
   },
   "outputs": [],
   "source": [
    "offer_set_final_pred = pd.concat([offer_set_final,Offers],axis = 1)"
   ]
  },
  {
   "cell_type": "code",
   "execution_count": 270,
   "metadata": {
    "collapsed": true
   },
   "outputs": [],
   "source": [
    "Offers_noOffer = pd.DataFrame({'Offer_value':np.zeros(len(offer_set_final_notoffer))})"
   ]
  },
  {
   "cell_type": "code",
   "execution_count": 271,
   "metadata": {
    "collapsed": true
   },
   "outputs": [],
   "source": [
    "offer_set_final_pred_noOffer = pd.concat([offer_set_final_notoffer,Offers_noOffer],axis = 1)"
   ]
  },
  {
   "cell_type": "code",
   "execution_count": 272,
   "metadata": {
    "collapsed": true
   },
   "outputs": [],
   "source": [
    "offers_Xin = pd.concat([offer_set_final_pred,offer_set_final_pred_noOffer],axis = 0)"
   ]
  },
  {
   "cell_type": "code",
   "execution_count": 276,
   "metadata": {
    "collapsed": false
   },
   "outputs": [
    {
     "name": "stderr",
     "output_type": "stream",
     "text": [
      "C:\\Users\\Xin\\Anaconda3\\lib\\site-packages\\ipykernel_launcher.py:1: SettingWithCopyWarning: \n",
      "A value is trying to be set on a copy of a slice from a DataFrame\n",
      "\n",
      "See the caveats in the documentation: http://pandas.pydata.org/pandas-docs/stable/indexing.html#indexing-view-versus-copy\n",
      "  \"\"\"Entry point for launching an IPython kernel.\n"
     ]
    }
   ],
   "source": [
    "offers_Xin['Offers'][offers_Xin['Offer_value']>0]=True"
   ]
  },
  {
   "cell_type": "code",
   "execution_count": 285,
   "metadata": {
    "collapsed": true
   },
   "outputs": [],
   "source": [
    "offers_Xin.to_csv(r'C:\\Users\\Xin\\Desktop\\Enova\\Assessment_Files\\Participant Files\\offers_Xin.csv',index=False)"
   ]
  },
  {
   "cell_type": "markdown",
   "metadata": {},
   "source": [
    "### Step 3 Summary\n",
    "The final dataset is offers_Xin, and it has been saved as csv file \"offers_Xin.csv\". In the file,if attribute 'Offers' is equal to True, it means we should make the offer for that diamond. The offer value is the attraibut 'Offer_value'.   "
   ]
  },
  {
   "cell_type": "code",
   "execution_count": null,
   "metadata": {
    "collapsed": true
   },
   "outputs": [],
   "source": []
  }
 ],
 "metadata": {
  "anaconda-cloud": {},
  "kernelspec": {
   "display_name": "Python [conda env:py36]",
   "language": "python",
   "name": "conda-env-py36-py"
  },
  "language_info": {
   "codemirror_mode": {
    "name": "ipython",
    "version": 3
   },
   "file_extension": ".py",
   "mimetype": "text/x-python",
   "name": "python",
   "nbconvert_exporter": "python",
   "pygments_lexer": "ipython3",
   "version": "3.6.2"
  }
 },
 "nbformat": 4,
 "nbformat_minor": 2
}
