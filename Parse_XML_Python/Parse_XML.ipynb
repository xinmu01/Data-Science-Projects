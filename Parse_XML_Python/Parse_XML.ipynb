{
 "cells": [
  {
   "cell_type": "markdown",
   "metadata": {},
   "source": [
    "# Part 1. Parse XML as element tree \n",
    "In this method, we read the whole xml file into the memory as a tree"
   ]
  },
  {
   "cell_type": "code",
   "execution_count": 1,
   "metadata": {
    "collapsed": true
   },
   "outputs": [],
   "source": [
    "import xml.etree.cElementTree as ET\n",
    "import pprint"
   ]
  },
  {
   "cell_type": "code",
   "execution_count": 7,
   "metadata": {
    "collapsed": false
   },
   "outputs": [
    {
     "name": "stdout",
     "output_type": "stream",
     "text": [
      "Children of root:\n",
      "ui\n",
      "ji\n",
      "fm\n",
      "bdy\n",
      "bm\n"
     ]
    }
   ],
   "source": [
    "tree = ET.parse(\"exampleResearchArticle.xml\") ## This is document oriented xml file. This means the tag has specific name, and not many open tag.\n",
    "root = tree.getroot()\n",
    "\n",
    "print \"Children of root:\"\n",
    "for child in root:\n",
    "    print child.tag  ## tag is an attribute"
   ]
  },
  {
   "cell_type": "code",
   "execution_count": 19,
   "metadata": {
    "collapsed": false
   },
   "outputs": [
    {
     "name": "stdout",
     "output_type": "stream",
     "text": [
      "Tile:\n",
      "\n",
      "            \n",
      "Standardization of the functional syndesmosis widening by dynamic U.S examination\n",
      "1\n"
     ]
    }
   ],
   "source": [
    "print \"Tile:\"\n",
    "title = root.find(\"./fm/bibl/title\") ## This is xpath expression. Find something mathches this expression\n",
    "print title.text\n",
    "title_text = \"\"\n",
    "count = 0\n",
    "for p in title:\n",
    "    count+=1\n",
    "    title_text += p.text\n",
    "print title_text\n",
    "print count"
   ]
  },
  {
   "cell_type": "code",
   "execution_count": 17,
   "metadata": {
    "collapsed": false
   },
   "outputs": [
    {
     "name": "stdout",
     "output_type": "stream",
     "text": [
      "omer@extremegate.com\n",
      "mcarmont@hotmail.com\n",
      "laver17@gmail.com\n",
      "nyska@internet-zahav.net\n",
      "kammarh@gmail.com\n",
      "gideon.mann.md@gmail.com\n",
      "barns.nz@gmail.com\n",
      "eukots@gmail.com\n"
     ]
    }
   ],
   "source": [
    "email = root.findall(\"./fm/bibl/aug/au/email\")\n",
    "for i in email:\n",
    "    print i.text"
   ]
  },
  {
   "cell_type": "code",
   "execution_count": null,
   "metadata": {
    "collapsed": true
   },
   "outputs": [],
   "source": []
  }
 ],
 "metadata": {
  "kernelspec": {
   "display_name": "Python [ipykernel_py2]",
   "language": "python",
   "name": "Python [ipykernel_py2]"
  },
  "language_info": {
   "codemirror_mode": {
    "name": "ipython",
    "version": 2
   },
   "file_extension": ".py",
   "mimetype": "text/x-python",
   "name": "python",
   "nbconvert_exporter": "python",
   "pygments_lexer": "ipython2",
   "version": "2.7.12"
  }
 },
 "nbformat": 4,
 "nbformat_minor": 0
}
