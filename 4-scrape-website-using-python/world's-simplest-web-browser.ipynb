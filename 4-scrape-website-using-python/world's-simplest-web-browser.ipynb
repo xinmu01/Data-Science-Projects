{
 "cells": [
  {
   "cell_type": "code",
   "execution_count": 2,
   "metadata": {
    "collapsed": false
   },
   "outputs": [
    {
     "name": "stdout",
     "output_type": "stream",
     "text": [
      "HTTP/1.1 200 OK\r\n",
      "Content-Type: text/plain\r\n",
      "Content-Length: 167\r\n",
      "Connection: close\r\n",
      "Date: Fri, 11 Nov 2016 04:32:52 GMT\r\n",
      "Server: Apache\r\n",
      "Last-Modified: Fri, 04 Dec 2015 19:05:04 GMT\r\n",
      "ETag: \"a7-526172f5b5d89\"\r\n",
      "Accept-Ranges: bytes\r\n",
      "Cache-Control: max-age=604800, public\r\n",
      "Access-Control-Allow-Origin: *\r\n",
      "Access-Control-Allow-Headers: origin, x-requested-with, content-type\r\n",
      "Access-Control-Allow-Methods: GET\r\n",
      "\r\n",
      "But soft what light through yonder window breaks\n",
      "It is the east and Juliet is the sun\n",
      "Arise fair sun and\n",
      " kill the envious moon\n",
      "Who is already sick and pale with grief\n",
      "\n"
     ]
    }
   ],
   "source": [
    "## This is a low-level to get file or image of the web server\n",
    "import socket\n",
    "\n",
    "mysock = socket.socket(socket.AF_INET, socket.SOCK_STREAM)\n",
    "mysock.connect(('www.py4inf.com', 80))\n",
    "mysock.send('GET http://www.py4inf.com/code/romeo.txt HTTP/1.0\\n\\n')\n",
    "while True:\n",
    "    data = mysock.recv(512)\n",
    "    if ( len(data) < 1 ) :\n",
    "        break\n",
    "    print data\n",
    "mysock.close()"
   ]
  },
  {
   "cell_type": "markdown",
   "metadata": {},
   "source": [
    "### Using urllib \n",
    "Using urllib, I can treat a web page much like a file. You simply indicate which web page you would like to retrieve and urllib handles all of the HTTP protocol and header details."
   ]
  },
  {
   "cell_type": "code",
   "execution_count": 3,
   "metadata": {
    "collapsed": true
   },
   "outputs": [],
   "source": [
    "import urllib"
   ]
  },
  {
   "cell_type": "code",
   "execution_count": 6,
   "metadata": {
    "collapsed": false
   },
   "outputs": [
    {
     "name": "stdout",
     "output_type": "stream",
     "text": [
      "But soft what light through yonder window breaks\n",
      "It is the east and Juliet is the sun\n",
      "Arise fair sun and kill the envious moon\n",
      "Who is already sick and pale with grief\n"
     ]
    }
   ],
   "source": [
    "fhand = urllib.urlopen('http://www.py4inf.com/code/romeo.txt')\n",
    "for line in fhand:\n",
    "    print line.strip()"
   ]
  },
  {
   "cell_type": "markdown",
   "metadata": {},
   "source": [
    "### Parsing HTML using regular expressions\n",
    "One of the common uses of the urllib capability in Python is to scrape the web.\n",
    "Web scraping is when we write a program that pretends to be a web browser and\n",
    "retrieves pages, then examines the data in those pages looking for patterns."
   ]
  },
  {
   "cell_type": "code",
   "execution_count": 9,
   "metadata": {
    "collapsed": false
   },
   "outputs": [
    {
     "name": "stdout",
     "output_type": "stream",
     "text": [
      "Enter - http://www.py4inf.com/book.htm\n",
      "http://amzn.to/1KkULF3\n",
      "http://amzn.to/1KkULF3\n",
      "http://amzn.to/1hLcoBy\n",
      "http://amzn.to/1KkV42z\n",
      "http://amzn.to/1fNOnbd\n",
      "http://amzn.to/1N74xLt\n",
      "http://do1.dr-chuck.net/py4inf/EN-us/book.pdf\n",
      "http://do1.dr-chuck.net/py4inf/ES-es/book.pdf\n",
      "http://www.xwmooc.net/python/\n",
      "http://fanwscu.gitbooks.io/py4inf-zh-cn/\n",
      "http://itunes.apple.com/us/book/python-for-informatics/id554638579?mt=13\n",
      "http://www-personal.umich.edu/~csev/books/py4inf/ibooks//python_for_informatics.ibooks\n",
      "http://www.py4inf.com/code\n",
      "http://www.greenteapress.com/thinkpython/thinkCSpy/\n",
      "http://allendowney.com/\n"
     ]
    }
   ],
   "source": [
    "import re\n",
    "url = raw_input('Enter - ')\n",
    "html = urllib.urlopen(url).read()\n",
    "#print html\n",
    "links = re.findall('href=\"(http://.*?)\"', html)\n",
    "for link in links:\n",
    "    print link"
   ]
  },
  {
   "cell_type": "markdown",
   "metadata": {},
   "source": [
    "### Obtain binary file : pictures and video using urllib"
   ]
  },
  {
   "cell_type": "code",
   "execution_count": 6,
   "metadata": {
    "collapsed": true
   },
   "outputs": [],
   "source": [
    "## Deal with small size file\n",
    "img = urllib.urlopen('http://www.py4inf.com/cover.jpg').read()\n",
    "fhand = open('cover.jpg', 'w')\n",
    "fhand.write(img)\n",
    "fhand.close()\n",
    "##This program reads all of the data in at once across the network and stores it in the\n",
    "#variable img in the main memory of your computer, then opens the file cover.jpg\n",
    "#and writes the data out to your disk. This will work if the size of the file is less\n",
    "#than the size of the memory of your computer."
   ]
  },
  {
   "cell_type": "markdown",
   "metadata": {},
   "source": [
    "However if this is a large audio or video file, this program may crash or at least\n",
    "run extremely slowly when your computer runs out of memory. In order to avoid\n",
    "running out of memory, we retrieve the data in blocks (or buffers) and then write\n",
    "each block to your disk before retrieving the next block. This way the program can\n",
    "read any size file without using up all of the memory you have in your computer."
   ]
  },
  {
   "cell_type": "code",
   "execution_count": 8,
   "metadata": {
    "collapsed": false
   },
   "outputs": [
    {
     "name": "stdout",
     "output_type": "stream",
     "text": [
      "70057 characters copied.\n"
     ]
    }
   ],
   "source": [
    "img = urllib.urlopen('http://www.py4inf.com/cover.jpg')\n",
    "fhand = open('cover1.jpg', 'w')\n",
    "size = 0\n",
    "while True:\n",
    "    info = img.read(100000) ## 100000 bytes is read in one time \n",
    "    if len(info) < 1 : break\n",
    "    size = size + len(info)\n",
    "    fhand.write(info)\n",
    "print size,'characters copied.'\n",
    "fhand.close()"
   ]
  },
  {
   "cell_type": "markdown",
   "metadata": {},
   "source": [
    "## Using Beatifulsoup"
   ]
  },
  {
   "cell_type": "code",
   "execution_count": 2,
   "metadata": {
    "collapsed": false
   },
   "outputs": [],
   "source": [
    "import urllib\n",
    "from bs4 import BeautifulSoup "
   ]
  },
  {
   "cell_type": "code",
   "execution_count": 4,
   "metadata": {
    "collapsed": false
   },
   "outputs": [
    {
     "name": "stdout",
     "output_type": "stream",
     "text": [
      "Enter - http://www.py4inf.com/book.htm\n",
      "http://amzn.to/1KkULF3\n",
      "http://amzn.to/1KkULF3\n",
      "http://amzn.to/1hLcoBy\n",
      "http://amzn.to/1KkV42z\n",
      "http://amzn.to/1fNOnbd\n",
      "http://amzn.to/1N74xLt\n",
      "http://do1.dr-chuck.net/py4inf/EN-us/book.pdf\n",
      "http://do1.dr-chuck.net/py4inf/ES-es/book.pdf\n",
      "https://twitter.com/fertardio\n",
      "translations/KO/book_009_ko.pdf\n",
      "http://www.xwmooc.net/python/\n",
      "http://fanwscu.gitbooks.io/py4inf-zh-cn/\n",
      "book_270.epub\n",
      "translations/ES/book_272_es4.epub\n",
      "https://www.gitbook.com/download/epub/book/fanwscu/py4inf-zh-cn\n",
      "html-270/\n",
      "html_270.zip\n",
      "http://itunes.apple.com/us/book/python-for-informatics/id554638579?mt=13\n",
      "http://www-personal.umich.edu/~csev/books/py4inf/ibooks//python_for_informatics.ibooks\n",
      "http://www.py4inf.com/code\n",
      "http://www.greenteapress.com/thinkpython/thinkCSpy/\n",
      "http://allendowney.com/\n"
     ]
    }
   ],
   "source": [
    "url = raw_input('Enter - ')\n",
    "html = urllib.urlopen(url).read()\n",
    "soup = BeautifulSoup(html)\n",
    "# Retrieve all of the anchor tags\n",
    "tags = soup('a')\n",
    "for tag in tags:\n",
    "    print tag.get('href', None)"
   ]
  },
  {
   "cell_type": "code",
   "execution_count": 5,
   "metadata": {
    "collapsed": false
   },
   "outputs": [
    {
     "name": "stdout",
     "output_type": "stream",
     "text": [
      "Enter - http://www.py4inf.com/book.htm\n",
      "TAG: <a href=\"http://amzn.to/1KkULF3\" target=\"_blank\">\n",
      "<img alt=\"A picture of the book cover art\" border=\"2\" height=\"245\" src=\"BookCoverPreviewFront.jpg\" style=\"padding:5px; border-color: black\" width=\"175\"/>\n",
      "</a>\n",
      "URL: http://amzn.to/1KkULF3\n",
      "Content: \n",
      "\n",
      "Attrs: {u'href': u'http://amzn.to/1KkULF3', u'target': u'_blank'}\n",
      "TAG: <a href=\"http://amzn.to/1KkULF3\" target=\"_blank\">Amazon</a>\n",
      "URL: http://amzn.to/1KkULF3\n",
      "Content: Amazon\n",
      "Attrs: {u'href': u'http://amzn.to/1KkULF3', u'target': u'_blank'}\n",
      "TAG: <a href=\"http://amzn.to/1hLcoBy\" target=\"_blank\">Kindle Store</a>\n",
      "URL: http://amzn.to/1hLcoBy\n",
      "Content: Kindle Store\n",
      "Attrs: {u'href': u'http://amzn.to/1hLcoBy', u'target': u'_blank'}\n",
      "TAG: <a href=\"http://amzn.to/1KkV42z\" target=\"_blank\">Amazon</a>\n",
      "URL: http://amzn.to/1KkV42z\n",
      "Content: Amazon\n",
      "Attrs: {u'href': u'http://amzn.to/1KkV42z', u'target': u'_blank'}\n",
      "TAG: <a href=\"http://amzn.to/1fNOnbd\" target=\"_blank\">Kindle Store</a>\n",
      "URL: http://amzn.to/1fNOnbd\n",
      "Content: Kindle Store\n",
      "Attrs: {u'href': u'http://amzn.to/1fNOnbd', u'target': u'_blank'}\n",
      "TAG: <a href=\"http://amzn.to/1N74xLt\" target=\"_blank\">Amazon</a>\n",
      "URL: http://amzn.to/1N74xLt\n",
      "Content: Amazon\n",
      "Attrs: {u'href': u'http://amzn.to/1N74xLt', u'target': u'_blank'}\n",
      "TAG: <a href=\"http://do1.dr-chuck.net/py4inf/EN-us/book.pdf\" target=\"_blank\">English</a>\n",
      "URL: http://do1.dr-chuck.net/py4inf/EN-us/book.pdf\n",
      "Content: English\n",
      "Attrs: {u'href': u'http://do1.dr-chuck.net/py4inf/EN-us/book.pdf', u'target': u'_blank'}\n",
      "TAG: <a href=\"http://do1.dr-chuck.net/py4inf/ES-es/book.pdf\" target=\"_blank\">Spanish</a>\n",
      "URL: http://do1.dr-chuck.net/py4inf/ES-es/book.pdf\n",
      "Content: Spanish\n",
      "Attrs: {u'href': u'http://do1.dr-chuck.net/py4inf/ES-es/book.pdf', u'target': u'_blank'}\n",
      "TAG: <a href=\"https://twitter.com/fertardio\" target=\"_blank\">Fernando Tardío.</a>\n",
      "URL: https://twitter.com/fertardio\n",
      "Content: Fernando Tardío.\n",
      "Attrs: {u'href': u'https://twitter.com/fertardio', u'target': u'_blank'}\n",
      "TAG: <a href=\"translations/KO/book_009_ko.pdf\" target=\"_blank\">Korean</a>\n",
      "URL: translations/KO/book_009_ko.pdf\n",
      "Content: Korean\n",
      "Attrs: {u'href': u'translations/KO/book_009_ko.pdf', u'target': u'_blank'}\n",
      "TAG: <a href=\"http://www.xwmooc.net/python/\" target=\"_new\">Victor KC. Lee</a>\n",
      "URL: http://www.xwmooc.net/python/\n",
      "Content: Victor KC. Lee\n",
      "Attrs: {u'href': u'http://www.xwmooc.net/python/', u'target': u'_new'}\n",
      "TAG: <a href=\"http://fanwscu.gitbooks.io/py4inf-zh-cn/\" target=\"_blank\">Chinese (Simplified)</a>\n",
      "URL: http://fanwscu.gitbooks.io/py4inf-zh-cn/\n",
      "Content: Chinese (Simplified)\n",
      "Attrs: {u'href': u'http://fanwscu.gitbooks.io/py4inf-zh-cn/', u'target': u'_blank'}\n",
      "TAG: <a href=\"book_270.epub\" target=\"_blank\">English</a>\n",
      "URL: book_270.epub\n",
      "Content: English\n",
      "Attrs: {u'href': u'book_270.epub', u'target': u'_blank'}\n",
      "TAG: <a href=\"translations/ES/book_272_es4.epub\" target=\"_blank\">Spanish</a>\n",
      "URL: translations/ES/book_272_es4.epub\n",
      "Content: Spanish\n",
      "Attrs: {u'href': u'translations/ES/book_272_es4.epub', u'target': u'_blank'}\n",
      "TAG: <a href=\"https://www.gitbook.com/download/epub/book/fanwscu/py4inf-zh-cn\" target=\"_blank\">Chinese</a>\n",
      "URL: https://www.gitbook.com/download/epub/book/fanwscu/py4inf-zh-cn\n",
      "Content: Chinese\n",
      "Attrs: {u'href': u'https://www.gitbook.com/download/epub/book/fanwscu/py4inf-zh-cn', u'target': u'_blank'}\n",
      "TAG: <a href=\"html-270/\" target=\"_blank\">HTML</a>\n",
      "URL: html-270/\n",
      "Content: HTML\n",
      "Attrs: {u'href': u'html-270/', u'target': u'_blank'}\n",
      "TAG: <a href=\"html_270.zip\" target=\"_blank\">Download HTML in a ZIP</a>\n",
      "URL: html_270.zip\n",
      "Content: Download HTML in a ZIP\n",
      "Attrs: {u'href': u'html_270.zip', u'target': u'_blank'}\n",
      "TAG: <a href=\"http://itunes.apple.com/us/book/python-for-informatics/id554638579?mt=13\" target=\"_blank\">Apple iBooks at iBookstore</a>\n",
      "URL: http://itunes.apple.com/us/book/python-for-informatics/id554638579?mt=13\n",
      "Content: Apple iBooks at iBookstore\n",
      "Attrs: {u'href': u'http://itunes.apple.com/us/book/python-for-informatics/id554638579?mt=13', u'target': u'_blank'}\n",
      "TAG: <a href=\"http://www-personal.umich.edu/~csev/books/py4inf/ibooks//python_for_informatics.ibooks\" target=\"_blank\">Apple iBooks direct Download</a>\n",
      "URL: http://www-personal.umich.edu/~csev/books/py4inf/ibooks//python_for_informatics.ibooks\n",
      "Content: Apple iBooks direct Download\n",
      "Attrs: {u'href': u'http://www-personal.umich.edu/~csev/books/py4inf/ibooks//python_for_informatics.ibooks', u'target': u'_blank'}\n",
      "TAG: <a href=\"http://www.py4inf.com/code\" target=\"_blank\">Py4Inf Code Samples</a>\n",
      "URL: http://www.py4inf.com/code\n",
      "Content: Py4Inf Code Samples\n",
      "Attrs: {u'href': u'http://www.py4inf.com/code', u'target': u'_blank'}\n",
      "TAG: <a href=\"http://www.greenteapress.com/thinkpython/thinkCSpy/\" target=\"_blank\">Think Python: \n",
      "How to Think like a Computer Scientist</a>\n",
      "URL: http://www.greenteapress.com/thinkpython/thinkCSpy/\n",
      "Content: Think Python: \n",
      "How to Think like a Computer Scientist\n",
      "Attrs: {u'href': u'http://www.greenteapress.com/thinkpython/thinkCSpy/', u'target': u'_blank'}\n",
      "TAG: <a href=\"http://allendowney.com/\" target=\"_blank\">\n",
      "Allen B. Downey</a>\n",
      "URL: http://allendowney.com/\n",
      "Content: \n",
      "Allen B. Downey\n",
      "Attrs: {u'href': u'http://allendowney.com/', u'target': u'_blank'}\n"
     ]
    }
   ],
   "source": [
    "url = raw_input('Enter - ')\n",
    "html = urllib.urlopen(url).read()\n",
    "soup = BeautifulSoup(html)\n",
    "# Retrieve all of the anchor tags\n",
    "tags = soup('a')\n",
    "for tag in tags:\n",
    "# Look at the parts of a tag\n",
    "    print 'TAG:',tag\n",
    "    print 'URL:',tag.get('href', None)\n",
    "    print 'Content:',tag.contents[0]\n",
    "    print 'Attrs:',tag.attrs"
   ]
  },
  {
   "cell_type": "code",
   "execution_count": null,
   "metadata": {
    "collapsed": true
   },
   "outputs": [],
   "source": []
  }
 ],
 "metadata": {
  "anaconda-cloud": {},
  "kernelspec": {
   "display_name": "Python [ipykernel_py2]",
   "language": "python",
   "name": "Python [ipykernel_py2]"
  },
  "language_info": {
   "codemirror_mode": {
    "name": "ipython",
    "version": 2
   },
   "file_extension": ".py",
   "mimetype": "text/x-python",
   "name": "python",
   "nbconvert_exporter": "python",
   "pygments_lexer": "ipython2",
   "version": "2.7.12"
  }
 },
 "nbformat": 4,
 "nbformat_minor": 0
}
